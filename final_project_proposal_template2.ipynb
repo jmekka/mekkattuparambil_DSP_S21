{
 "cells": [
  {
   "cell_type": "markdown",
   "id": "raised-ready",
   "metadata": {},
   "source": [
    "## Final Project Proposal"
   ]
  },
  {
   "cell_type": "markdown",
   "id": "superb-parking",
   "metadata": {},
   "source": [
    "#### Name: What contributes to world happiness?"
   ]
  },
  {
   "cell_type": "markdown",
   "id": "worldwide-mainland",
   "metadata": {},
   "source": [
    "#### Brief description of the dataset:\n",
    "\n",
    "> The dataset contains reports from 2015 to 2019 from 155-158 countries."
   ]
  },
  {
   "cell_type": "markdown",
   "id": "loaded-vacation",
   "metadata": {},
   "source": [
    "#### Dataset questions:\n",
    "-\tWhere did you obtain the dataset from?\n",
    "\n",
    ">The dataset was obtained from kaggle.com (https://www.kaggle.com/unsdsn/world-happiness).\n",
    "\n",
    "-\tHow many observations are there?\n",
    "\n",
    "> For each country which participated (155-158) there are five data collections (for every year).\n",
    "\n",
    "-\tHow many variables are there?\n",
    "\n",
    ">There are 9 to 12 variables in total. \n",
    "\n",
    "-\tAre there multiple observations for the same units (e.g. multiple measurements of RTs per participant? Multiple evaluations per employee? etc)\n",
    "\n",
    ">For each country which participated all five years, there are multiple (five) measurements."
   ]
  },
  {
   "cell_type": "markdown",
   "id": "decimal-cosmetic",
   "metadata": {},
   "source": [
    "#### Project goals:\n",
    "\n",
    "> I would like to address the questions which of the six factors contributes most to the world happiness score or which of the factor has the strongest influence. If it is possible I would like to group the countries to see how many countries have high/middle/low scores on world happiness. And maybe it would be interesting to see if the factors are correlated to each other. The dependent variable is world happiness ('score') and the independent variables would be economic production, social support, life expectancy, freedom, absence of corruption, and generosity. "
   ]
  },
  {
   "cell_type": "markdown",
   "id": "better-retention",
   "metadata": {},
   "source": [
    "#### Project methods:\n",
    "> I would like to test these questions with multiple linear regression model (first check if the relationship is linear) and test the collinearity with the correlation matrix or with VIF (variance inflation factor). The grouping of the countries would be done with the cluster analysis. \n"
   ]
  }
 ],
 "metadata": {
  "kernelspec": {
   "display_name": "R",
   "language": "R",
   "name": "ir"
  },
  "language_info": {
   "codemirror_mode": "r",
   "file_extension": ".r",
   "mimetype": "text/x-r-source",
   "name": "R",
   "pygments_lexer": "r",
   "version": "3.6.1"
  }
 },
 "nbformat": 4,
 "nbformat_minor": 5
}
