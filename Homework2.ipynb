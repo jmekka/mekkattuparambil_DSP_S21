{
 "cells": [
  {
   "cell_type": "code",
   "execution_count": 1,
   "id": "addressed-oasis",
   "metadata": {},
   "outputs": [
    {
     "name": "stderr",
     "output_type": "stream",
     "text": [
      "Installing package into 'C:/Users/Jini/Documents/R/win-library/3.6'\n",
      "(as 'lib' is unspecified)\n",
      "\n"
     ]
    },
    {
     "name": "stdout",
     "output_type": "stream",
     "text": [
      "package 'tidyverse' successfully unpacked and MD5 sums checked\n",
      "\n",
      "The downloaded binary packages are in\n",
      "\tC:\\Users\\Jini\\AppData\\Local\\Temp\\Rtmp2RQORi\\downloaded_packages\n"
     ]
    },
    {
     "name": "stderr",
     "output_type": "stream",
     "text": [
      "Warning message:\n",
      "\"package 'tidyverse' was built under R version 3.6.3\"\n",
      "-- \u001b[1mAttaching packages\u001b[22m ------------------------------------------------------------------------------- tidyverse 1.3.0 --\n",
      "\n",
      "\u001b[32mv\u001b[39m \u001b[34mggplot2\u001b[39m 3.2.1     \u001b[32mv\u001b[39m \u001b[34mpurrr  \u001b[39m 0.3.3\n",
      "\u001b[32mv\u001b[39m \u001b[34mtibble \u001b[39m 2.1.3     \u001b[32mv\u001b[39m \u001b[34mdplyr  \u001b[39m 1.0.4\n",
      "\u001b[32mv\u001b[39m \u001b[34mtidyr  \u001b[39m 1.0.0     \u001b[32mv\u001b[39m \u001b[34mstringr\u001b[39m 1.4.0\n",
      "\u001b[32mv\u001b[39m \u001b[34mreadr  \u001b[39m 1.3.1     \u001b[32mv\u001b[39m \u001b[34mforcats\u001b[39m 0.5.0\n",
      "\n",
      "Warning message:\n",
      "\"package 'readr' was built under R version 3.6.3\"\n",
      "Warning message:\n",
      "\"package 'dplyr' was built under R version 3.6.3\"\n",
      "Warning message:\n",
      "\"package 'forcats' was built under R version 3.6.3\"\n",
      "-- \u001b[1mConflicts\u001b[22m ---------------------------------------------------------------------------------- tidyverse_conflicts() --\n",
      "\u001b[31mx\u001b[39m \u001b[34mdplyr\u001b[39m::\u001b[32mfilter()\u001b[39m masks \u001b[34mstats\u001b[39m::filter()\n",
      "\u001b[31mx\u001b[39m \u001b[34mdplyr\u001b[39m::\u001b[32mlag()\u001b[39m    masks \u001b[34mstats\u001b[39m::lag()\n",
      "\n"
     ]
    }
   ],
   "source": [
    "install.packages('tidyverse')\n",
    "library(tidyverse)"
   ]
  },
  {
   "cell_type": "code",
   "execution_count": 2,
   "id": "smart-immunology",
   "metadata": {},
   "outputs": [],
   "source": [
    "setwd(\"C:/Users/Jini/Documents/GitHub/mekkattuparambil_DSP_S21/mekkattuparambil_DSP_S21/DataSciencePsychUZH-main/Homeworks\")"
   ]
  },
  {
   "cell_type": "markdown",
   "id": "speaking-smile",
   "metadata": {},
   "source": [
    "1.1 Problem 1"
   ]
  },
  {
   "cell_type": "code",
   "execution_count": 3,
   "id": "suspended-electric",
   "metadata": {},
   "outputs": [
    {
     "data": {
      "text/html": [
       "<table class=\"dataframe\">\n",
       "<caption>A data.frame: 6 × 4</caption>\n",
       "<thead>\n",
       "\t<tr><th scope=col>subject_id</th><th scope=col>demographic_info</th><th scope=col>verbal_IQ</th><th scope=col>GPA</th></tr>\n",
       "\t<tr><th scope=col>&lt;int&gt;</th><th scope=col>&lt;fct&gt;</th><th scope=col>&lt;int&gt;</th><th scope=col>&lt;dbl&gt;</th></tr>\n",
       "</thead>\n",
       "<tbody>\n",
       "\t<tr><td>101</td><td>male, 23  </td><td>105</td><td>3.9</td></tr>\n",
       "\t<tr><td>102</td><td>male, 19  </td><td>121</td><td>3.2</td></tr>\n",
       "\t<tr><td>103</td><td>female, 27</td><td>123</td><td>3.4</td></tr>\n",
       "\t<tr><td>104</td><td>male, 21  </td><td> 97</td><td>2.8</td></tr>\n",
       "\t<tr><td>105</td><td>female, 21</td><td> 93</td><td>2.9</td></tr>\n",
       "\t<tr><td>106</td><td>female, 25</td><td>135</td><td>3.8</td></tr>\n",
       "</tbody>\n",
       "</table>\n"
      ],
      "text/latex": [
       "A data.frame: 6 × 4\n",
       "\\begin{tabular}{llll}\n",
       " subject\\_id & demographic\\_info & verbal\\_IQ & GPA\\\\\n",
       " <int> & <fct> & <int> & <dbl>\\\\\n",
       "\\hline\n",
       "\t 101 & male, 23   & 105 & 3.9\\\\\n",
       "\t 102 & male, 19   & 121 & 3.2\\\\\n",
       "\t 103 & female, 27 & 123 & 3.4\\\\\n",
       "\t 104 & male, 21   &  97 & 2.8\\\\\n",
       "\t 105 & female, 21 &  93 & 2.9\\\\\n",
       "\t 106 & female, 25 & 135 & 3.8\\\\\n",
       "\\end{tabular}\n"
      ],
      "text/markdown": [
       "\n",
       "A data.frame: 6 × 4\n",
       "\n",
       "| subject_id &lt;int&gt; | demographic_info &lt;fct&gt; | verbal_IQ &lt;int&gt; | GPA &lt;dbl&gt; |\n",
       "|---|---|---|---|\n",
       "| 101 | male, 23   | 105 | 3.9 |\n",
       "| 102 | male, 19   | 121 | 3.2 |\n",
       "| 103 | female, 27 | 123 | 3.4 |\n",
       "| 104 | male, 21   |  97 | 2.8 |\n",
       "| 105 | female, 21 |  93 | 2.9 |\n",
       "| 106 | female, 25 | 135 | 3.8 |\n",
       "\n"
      ],
      "text/plain": [
       "  subject_id demographic_info verbal_IQ GPA\n",
       "1 101        male, 23         105       3.9\n",
       "2 102        male, 19         121       3.2\n",
       "3 103        female, 27       123       3.4\n",
       "4 104        male, 21          97       2.8\n",
       "5 105        female, 21        93       2.9\n",
       "6 106        female, 25       135       3.8"
      ]
     },
     "metadata": {},
     "output_type": "display_data"
    }
   ],
   "source": [
    "iq_grade <-read.csv('data/iq_grade.csv')\n",
    "iq_grade"
   ]
  },
  {
   "cell_type": "markdown",
   "id": "confidential-particular",
   "metadata": {},
   "source": [
    "The column \"demographic_info\" contains more than one information, respectively tow variables (sex, age). Wickham (2014) describes this problem as \"multiple varibales stored in one column\"."
   ]
  },
  {
   "cell_type": "markdown",
   "id": "fluid-class",
   "metadata": {},
   "source": [
    "To make this dataset in tidy format I would split the column \"demographic_info\" into two columns, respectively into two variables: sex and age."
   ]
  },
  {
   "cell_type": "code",
   "execution_count": 4,
   "id": "western-compiler",
   "metadata": {},
   "outputs": [
    {
     "data": {
      "text/html": [
       "<table class=\"dataframe\">\n",
       "<caption>A data.frame: 6 × 5</caption>\n",
       "<thead>\n",
       "\t<tr><th></th><th scope=col>subject_id</th><th scope=col>sex</th><th scope=col>age</th><th scope=col>verbal_IQ</th><th scope=col>GPA</th></tr>\n",
       "\t<tr><th></th><th scope=col>&lt;int&gt;</th><th scope=col>&lt;chr&gt;</th><th scope=col>&lt;chr&gt;</th><th scope=col>&lt;int&gt;</th><th scope=col>&lt;dbl&gt;</th></tr>\n",
       "</thead>\n",
       "<tbody>\n",
       "\t<tr><th scope=row>1</th><td>101</td><td>male  </td><td> 23</td><td>105</td><td>3.9</td></tr>\n",
       "\t<tr><th scope=row>2</th><td>102</td><td>male  </td><td> 19</td><td>121</td><td>3.2</td></tr>\n",
       "\t<tr><th scope=row>3</th><td>103</td><td>female</td><td> 27</td><td>123</td><td>3.4</td></tr>\n",
       "\t<tr><th scope=row>4</th><td>104</td><td>male  </td><td> 21</td><td> 97</td><td>2.8</td></tr>\n",
       "\t<tr><th scope=row>5</th><td>105</td><td>female</td><td> 21</td><td> 93</td><td>2.9</td></tr>\n",
       "\t<tr><th scope=row>6</th><td>106</td><td>female</td><td> 25</td><td>135</td><td>3.8</td></tr>\n",
       "</tbody>\n",
       "</table>\n"
      ],
      "text/latex": [
       "A data.frame: 6 × 5\n",
       "\\begin{tabular}{r|lllll}\n",
       "  & subject\\_id & sex & age & verbal\\_IQ & GPA\\\\\n",
       "  & <int> & <chr> & <chr> & <int> & <dbl>\\\\\n",
       "\\hline\n",
       "\t1 & 101 & male   &  23 & 105 & 3.9\\\\\n",
       "\t2 & 102 & male   &  19 & 121 & 3.2\\\\\n",
       "\t3 & 103 & female &  27 & 123 & 3.4\\\\\n",
       "\t4 & 104 & male   &  21 &  97 & 2.8\\\\\n",
       "\t5 & 105 & female &  21 &  93 & 2.9\\\\\n",
       "\t6 & 106 & female &  25 & 135 & 3.8\\\\\n",
       "\\end{tabular}\n"
      ],
      "text/markdown": [
       "\n",
       "A data.frame: 6 × 5\n",
       "\n",
       "| <!--/--> | subject_id &lt;int&gt; | sex &lt;chr&gt; | age &lt;chr&gt; | verbal_IQ &lt;int&gt; | GPA &lt;dbl&gt; |\n",
       "|---|---|---|---|---|---|\n",
       "| 1 | 101 | male   |  23 | 105 | 3.9 |\n",
       "| 2 | 102 | male   |  19 | 121 | 3.2 |\n",
       "| 3 | 103 | female |  27 | 123 | 3.4 |\n",
       "| 4 | 104 | male   |  21 |  97 | 2.8 |\n",
       "| 5 | 105 | female |  21 |  93 | 2.9 |\n",
       "| 6 | 106 | female |  25 | 135 | 3.8 |\n",
       "\n"
      ],
      "text/plain": [
       "  subject_id sex    age verbal_IQ GPA\n",
       "1 101        male    23 105       3.9\n",
       "2 102        male    19 121       3.2\n",
       "3 103        female  27 123       3.4\n",
       "4 104        male    21  97       2.8\n",
       "5 105        female  21  93       2.9\n",
       "6 106        female  25 135       3.8"
      ]
     },
     "metadata": {},
     "output_type": "display_data"
    }
   ],
   "source": [
    "dat <- iq_grade %>%\n",
    "separate(demographic_info, into=c('sex', 'age'), sep = \",\")\n",
    "head(dat)"
   ]
  },
  {
   "cell_type": "markdown",
   "id": "inner-supervision",
   "metadata": {},
   "source": [
    "1.2 Problem 2"
   ]
  },
  {
   "cell_type": "code",
   "execution_count": 5,
   "id": "portable-enzyme",
   "metadata": {},
   "outputs": [
    {
     "data": {
      "text/html": [
       "<table class=\"dataframe\">\n",
       "<caption>A data.frame: 6 × 3</caption>\n",
       "<thead>\n",
       "\t<tr><th></th><th scope=col>Murder</th><th scope=col>Assault</th><th scope=col>Rape</th></tr>\n",
       "\t<tr><th></th><th scope=col>&lt;dbl&gt;</th><th scope=col>&lt;int&gt;</th><th scope=col>&lt;dbl&gt;</th></tr>\n",
       "</thead>\n",
       "<tbody>\n",
       "\t<tr><th scope=row>Alabama</th><td>13.2</td><td>236</td><td>21.2</td></tr>\n",
       "\t<tr><th scope=row>Alaska</th><td>10.0</td><td>263</td><td>44.5</td></tr>\n",
       "\t<tr><th scope=row>Arizona</th><td> 8.1</td><td>294</td><td>31.0</td></tr>\n",
       "\t<tr><th scope=row>Arkansas</th><td> 8.8</td><td>190</td><td>19.5</td></tr>\n",
       "\t<tr><th scope=row>California</th><td> 9.0</td><td>276</td><td>40.6</td></tr>\n",
       "\t<tr><th scope=row>Colorado</th><td> 7.9</td><td>204</td><td>38.7</td></tr>\n",
       "</tbody>\n",
       "</table>\n"
      ],
      "text/latex": [
       "A data.frame: 6 × 3\n",
       "\\begin{tabular}{r|lll}\n",
       "  & Murder & Assault & Rape\\\\\n",
       "  & <dbl> & <int> & <dbl>\\\\\n",
       "\\hline\n",
       "\tAlabama & 13.2 & 236 & 21.2\\\\\n",
       "\tAlaska & 10.0 & 263 & 44.5\\\\\n",
       "\tArizona &  8.1 & 294 & 31.0\\\\\n",
       "\tArkansas &  8.8 & 190 & 19.5\\\\\n",
       "\tCalifornia &  9.0 & 276 & 40.6\\\\\n",
       "\tColorado &  7.9 & 204 & 38.7\\\\\n",
       "\\end{tabular}\n"
      ],
      "text/markdown": [
       "\n",
       "A data.frame: 6 × 3\n",
       "\n",
       "| <!--/--> | Murder &lt;dbl&gt; | Assault &lt;int&gt; | Rape &lt;dbl&gt; |\n",
       "|---|---|---|---|\n",
       "| Alabama | 13.2 | 236 | 21.2 |\n",
       "| Alaska | 10.0 | 263 | 44.5 |\n",
       "| Arizona |  8.1 | 294 | 31.0 |\n",
       "| Arkansas |  8.8 | 190 | 19.5 |\n",
       "| California |  9.0 | 276 | 40.6 |\n",
       "| Colorado |  7.9 | 204 | 38.7 |\n",
       "\n"
      ],
      "text/plain": [
       "           Murder Assault Rape\n",
       "Alabama    13.2   236     21.2\n",
       "Alaska     10.0   263     44.5\n",
       "Arizona     8.1   294     31.0\n",
       "Arkansas    8.8   190     19.5\n",
       "California  9.0   276     40.6\n",
       "Colorado    7.9   204     38.7"
      ]
     },
     "metadata": {},
     "output_type": "display_data"
    }
   ],
   "source": [
    "suppressMessages(library(tidyverse))\n",
    "\n",
    "data(\"USArrests\")\n",
    "USArrests <- select(USArrests, -UrbanPop)\n",
    "head(USArrests)"
   ]
  },
  {
   "cell_type": "markdown",
   "id": "public-lebanon",
   "metadata": {},
   "source": [
    "According to Wichkham (2014) this is an example of the problem \"column headers are values, not variable names\". Because the columns headers: murder, assault and rape are values and not variable names. "
   ]
  },
  {
   "cell_type": "markdown",
   "id": "local-tucson",
   "metadata": {},
   "source": [
    "To make this dataset tidy, I would melt it, which means to turn the columns into rows. The columns: murder, assault and rape would be taken together under the variable \"crime\" and add another column for \"frequency\". "
   ]
  },
  {
   "cell_type": "code",
   "execution_count": 6,
   "id": "atlantic-rating",
   "metadata": {
    "collapsed": true,
    "jupyter": {
     "outputs_hidden": true
    },
    "tags": []
   },
   "outputs": [
    {
     "data": {
      "text/html": [
       "<table class=\"dataframe\">\n",
       "<caption>A data.frame: 50 × 4</caption>\n",
       "<thead>\n",
       "\t<tr><th scope=col>US States</th><th scope=col>Murder</th><th scope=col>Assault</th><th scope=col>Rape</th></tr>\n",
       "\t<tr><th scope=col>&lt;chr&gt;</th><th scope=col>&lt;dbl&gt;</th><th scope=col>&lt;int&gt;</th><th scope=col>&lt;dbl&gt;</th></tr>\n",
       "</thead>\n",
       "<tbody>\n",
       "\t<tr><td>Alabama       </td><td>13.2</td><td>236</td><td>21.2</td></tr>\n",
       "\t<tr><td>Alaska        </td><td>10.0</td><td>263</td><td>44.5</td></tr>\n",
       "\t<tr><td>Arizona       </td><td> 8.1</td><td>294</td><td>31.0</td></tr>\n",
       "\t<tr><td>Arkansas      </td><td> 8.8</td><td>190</td><td>19.5</td></tr>\n",
       "\t<tr><td>California    </td><td> 9.0</td><td>276</td><td>40.6</td></tr>\n",
       "\t<tr><td>Colorado      </td><td> 7.9</td><td>204</td><td>38.7</td></tr>\n",
       "\t<tr><td>Connecticut   </td><td> 3.3</td><td>110</td><td>11.1</td></tr>\n",
       "\t<tr><td>Delaware      </td><td> 5.9</td><td>238</td><td>15.8</td></tr>\n",
       "\t<tr><td>Florida       </td><td>15.4</td><td>335</td><td>31.9</td></tr>\n",
       "\t<tr><td>Georgia       </td><td>17.4</td><td>211</td><td>25.8</td></tr>\n",
       "\t<tr><td>Hawaii        </td><td> 5.3</td><td> 46</td><td>20.2</td></tr>\n",
       "\t<tr><td>Idaho         </td><td> 2.6</td><td>120</td><td>14.2</td></tr>\n",
       "\t<tr><td>Illinois      </td><td>10.4</td><td>249</td><td>24.0</td></tr>\n",
       "\t<tr><td>Indiana       </td><td> 7.2</td><td>113</td><td>21.0</td></tr>\n",
       "\t<tr><td>Iowa          </td><td> 2.2</td><td> 56</td><td>11.3</td></tr>\n",
       "\t<tr><td>Kansas        </td><td> 6.0</td><td>115</td><td>18.0</td></tr>\n",
       "\t<tr><td>Kentucky      </td><td> 9.7</td><td>109</td><td>16.3</td></tr>\n",
       "\t<tr><td>Louisiana     </td><td>15.4</td><td>249</td><td>22.2</td></tr>\n",
       "\t<tr><td>Maine         </td><td> 2.1</td><td> 83</td><td> 7.8</td></tr>\n",
       "\t<tr><td>Maryland      </td><td>11.3</td><td>300</td><td>27.8</td></tr>\n",
       "\t<tr><td>Massachusetts </td><td> 4.4</td><td>149</td><td>16.3</td></tr>\n",
       "\t<tr><td>Michigan      </td><td>12.1</td><td>255</td><td>35.1</td></tr>\n",
       "\t<tr><td>Minnesota     </td><td> 2.7</td><td> 72</td><td>14.9</td></tr>\n",
       "\t<tr><td>Mississippi   </td><td>16.1</td><td>259</td><td>17.1</td></tr>\n",
       "\t<tr><td>Missouri      </td><td> 9.0</td><td>178</td><td>28.2</td></tr>\n",
       "\t<tr><td>Montana       </td><td> 6.0</td><td>109</td><td>16.4</td></tr>\n",
       "\t<tr><td>Nebraska      </td><td> 4.3</td><td>102</td><td>16.5</td></tr>\n",
       "\t<tr><td>Nevada        </td><td>12.2</td><td>252</td><td>46.0</td></tr>\n",
       "\t<tr><td>New Hampshire </td><td> 2.1</td><td> 57</td><td> 9.5</td></tr>\n",
       "\t<tr><td>New Jersey    </td><td> 7.4</td><td>159</td><td>18.8</td></tr>\n",
       "\t<tr><td>New Mexico    </td><td>11.4</td><td>285</td><td>32.1</td></tr>\n",
       "\t<tr><td>New York      </td><td>11.1</td><td>254</td><td>26.1</td></tr>\n",
       "\t<tr><td>North Carolina</td><td>13.0</td><td>337</td><td>16.1</td></tr>\n",
       "\t<tr><td>North Dakota  </td><td> 0.8</td><td> 45</td><td> 7.3</td></tr>\n",
       "\t<tr><td>Ohio          </td><td> 7.3</td><td>120</td><td>21.4</td></tr>\n",
       "\t<tr><td>Oklahoma      </td><td> 6.6</td><td>151</td><td>20.0</td></tr>\n",
       "\t<tr><td>Oregon        </td><td> 4.9</td><td>159</td><td>29.3</td></tr>\n",
       "\t<tr><td>Pennsylvania  </td><td> 6.3</td><td>106</td><td>14.9</td></tr>\n",
       "\t<tr><td>Rhode Island  </td><td> 3.4</td><td>174</td><td> 8.3</td></tr>\n",
       "\t<tr><td>South Carolina</td><td>14.4</td><td>279</td><td>22.5</td></tr>\n",
       "\t<tr><td>South Dakota  </td><td> 3.8</td><td> 86</td><td>12.8</td></tr>\n",
       "\t<tr><td>Tennessee     </td><td>13.2</td><td>188</td><td>26.9</td></tr>\n",
       "\t<tr><td>Texas         </td><td>12.7</td><td>201</td><td>25.5</td></tr>\n",
       "\t<tr><td>Utah          </td><td> 3.2</td><td>120</td><td>22.9</td></tr>\n",
       "\t<tr><td>Vermont       </td><td> 2.2</td><td> 48</td><td>11.2</td></tr>\n",
       "\t<tr><td>Virginia      </td><td> 8.5</td><td>156</td><td>20.7</td></tr>\n",
       "\t<tr><td>Washington    </td><td> 4.0</td><td>145</td><td>26.2</td></tr>\n",
       "\t<tr><td>West Virginia </td><td> 5.7</td><td> 81</td><td> 9.3</td></tr>\n",
       "\t<tr><td>Wisconsin     </td><td> 2.6</td><td> 53</td><td>10.8</td></tr>\n",
       "\t<tr><td>Wyoming       </td><td> 6.8</td><td>161</td><td>15.6</td></tr>\n",
       "</tbody>\n",
       "</table>\n"
      ],
      "text/latex": [
       "A data.frame: 50 × 4\n",
       "\\begin{tabular}{llll}\n",
       " US States & Murder & Assault & Rape\\\\\n",
       " <chr> & <dbl> & <int> & <dbl>\\\\\n",
       "\\hline\n",
       "\t Alabama        & 13.2 & 236 & 21.2\\\\\n",
       "\t Alaska         & 10.0 & 263 & 44.5\\\\\n",
       "\t Arizona        &  8.1 & 294 & 31.0\\\\\n",
       "\t Arkansas       &  8.8 & 190 & 19.5\\\\\n",
       "\t California     &  9.0 & 276 & 40.6\\\\\n",
       "\t Colorado       &  7.9 & 204 & 38.7\\\\\n",
       "\t Connecticut    &  3.3 & 110 & 11.1\\\\\n",
       "\t Delaware       &  5.9 & 238 & 15.8\\\\\n",
       "\t Florida        & 15.4 & 335 & 31.9\\\\\n",
       "\t Georgia        & 17.4 & 211 & 25.8\\\\\n",
       "\t Hawaii         &  5.3 &  46 & 20.2\\\\\n",
       "\t Idaho          &  2.6 & 120 & 14.2\\\\\n",
       "\t Illinois       & 10.4 & 249 & 24.0\\\\\n",
       "\t Indiana        &  7.2 & 113 & 21.0\\\\\n",
       "\t Iowa           &  2.2 &  56 & 11.3\\\\\n",
       "\t Kansas         &  6.0 & 115 & 18.0\\\\\n",
       "\t Kentucky       &  9.7 & 109 & 16.3\\\\\n",
       "\t Louisiana      & 15.4 & 249 & 22.2\\\\\n",
       "\t Maine          &  2.1 &  83 &  7.8\\\\\n",
       "\t Maryland       & 11.3 & 300 & 27.8\\\\\n",
       "\t Massachusetts  &  4.4 & 149 & 16.3\\\\\n",
       "\t Michigan       & 12.1 & 255 & 35.1\\\\\n",
       "\t Minnesota      &  2.7 &  72 & 14.9\\\\\n",
       "\t Mississippi    & 16.1 & 259 & 17.1\\\\\n",
       "\t Missouri       &  9.0 & 178 & 28.2\\\\\n",
       "\t Montana        &  6.0 & 109 & 16.4\\\\\n",
       "\t Nebraska       &  4.3 & 102 & 16.5\\\\\n",
       "\t Nevada         & 12.2 & 252 & 46.0\\\\\n",
       "\t New Hampshire  &  2.1 &  57 &  9.5\\\\\n",
       "\t New Jersey     &  7.4 & 159 & 18.8\\\\\n",
       "\t New Mexico     & 11.4 & 285 & 32.1\\\\\n",
       "\t New York       & 11.1 & 254 & 26.1\\\\\n",
       "\t North Carolina & 13.0 & 337 & 16.1\\\\\n",
       "\t North Dakota   &  0.8 &  45 &  7.3\\\\\n",
       "\t Ohio           &  7.3 & 120 & 21.4\\\\\n",
       "\t Oklahoma       &  6.6 & 151 & 20.0\\\\\n",
       "\t Oregon         &  4.9 & 159 & 29.3\\\\\n",
       "\t Pennsylvania   &  6.3 & 106 & 14.9\\\\\n",
       "\t Rhode Island   &  3.4 & 174 &  8.3\\\\\n",
       "\t South Carolina & 14.4 & 279 & 22.5\\\\\n",
       "\t South Dakota   &  3.8 &  86 & 12.8\\\\\n",
       "\t Tennessee      & 13.2 & 188 & 26.9\\\\\n",
       "\t Texas          & 12.7 & 201 & 25.5\\\\\n",
       "\t Utah           &  3.2 & 120 & 22.9\\\\\n",
       "\t Vermont        &  2.2 &  48 & 11.2\\\\\n",
       "\t Virginia       &  8.5 & 156 & 20.7\\\\\n",
       "\t Washington     &  4.0 & 145 & 26.2\\\\\n",
       "\t West Virginia  &  5.7 &  81 &  9.3\\\\\n",
       "\t Wisconsin      &  2.6 &  53 & 10.8\\\\\n",
       "\t Wyoming        &  6.8 & 161 & 15.6\\\\\n",
       "\\end{tabular}\n"
      ],
      "text/markdown": [
       "\n",
       "A data.frame: 50 × 4\n",
       "\n",
       "| US States &lt;chr&gt; | Murder &lt;dbl&gt; | Assault &lt;int&gt; | Rape &lt;dbl&gt; |\n",
       "|---|---|---|---|\n",
       "| Alabama        | 13.2 | 236 | 21.2 |\n",
       "| Alaska         | 10.0 | 263 | 44.5 |\n",
       "| Arizona        |  8.1 | 294 | 31.0 |\n",
       "| Arkansas       |  8.8 | 190 | 19.5 |\n",
       "| California     |  9.0 | 276 | 40.6 |\n",
       "| Colorado       |  7.9 | 204 | 38.7 |\n",
       "| Connecticut    |  3.3 | 110 | 11.1 |\n",
       "| Delaware       |  5.9 | 238 | 15.8 |\n",
       "| Florida        | 15.4 | 335 | 31.9 |\n",
       "| Georgia        | 17.4 | 211 | 25.8 |\n",
       "| Hawaii         |  5.3 |  46 | 20.2 |\n",
       "| Idaho          |  2.6 | 120 | 14.2 |\n",
       "| Illinois       | 10.4 | 249 | 24.0 |\n",
       "| Indiana        |  7.2 | 113 | 21.0 |\n",
       "| Iowa           |  2.2 |  56 | 11.3 |\n",
       "| Kansas         |  6.0 | 115 | 18.0 |\n",
       "| Kentucky       |  9.7 | 109 | 16.3 |\n",
       "| Louisiana      | 15.4 | 249 | 22.2 |\n",
       "| Maine          |  2.1 |  83 |  7.8 |\n",
       "| Maryland       | 11.3 | 300 | 27.8 |\n",
       "| Massachusetts  |  4.4 | 149 | 16.3 |\n",
       "| Michigan       | 12.1 | 255 | 35.1 |\n",
       "| Minnesota      |  2.7 |  72 | 14.9 |\n",
       "| Mississippi    | 16.1 | 259 | 17.1 |\n",
       "| Missouri       |  9.0 | 178 | 28.2 |\n",
       "| Montana        |  6.0 | 109 | 16.4 |\n",
       "| Nebraska       |  4.3 | 102 | 16.5 |\n",
       "| Nevada         | 12.2 | 252 | 46.0 |\n",
       "| New Hampshire  |  2.1 |  57 |  9.5 |\n",
       "| New Jersey     |  7.4 | 159 | 18.8 |\n",
       "| New Mexico     | 11.4 | 285 | 32.1 |\n",
       "| New York       | 11.1 | 254 | 26.1 |\n",
       "| North Carolina | 13.0 | 337 | 16.1 |\n",
       "| North Dakota   |  0.8 |  45 |  7.3 |\n",
       "| Ohio           |  7.3 | 120 | 21.4 |\n",
       "| Oklahoma       |  6.6 | 151 | 20.0 |\n",
       "| Oregon         |  4.9 | 159 | 29.3 |\n",
       "| Pennsylvania   |  6.3 | 106 | 14.9 |\n",
       "| Rhode Island   |  3.4 | 174 |  8.3 |\n",
       "| South Carolina | 14.4 | 279 | 22.5 |\n",
       "| South Dakota   |  3.8 |  86 | 12.8 |\n",
       "| Tennessee      | 13.2 | 188 | 26.9 |\n",
       "| Texas          | 12.7 | 201 | 25.5 |\n",
       "| Utah           |  3.2 | 120 | 22.9 |\n",
       "| Vermont        |  2.2 |  48 | 11.2 |\n",
       "| Virginia       |  8.5 | 156 | 20.7 |\n",
       "| Washington     |  4.0 | 145 | 26.2 |\n",
       "| West Virginia  |  5.7 |  81 |  9.3 |\n",
       "| Wisconsin      |  2.6 |  53 | 10.8 |\n",
       "| Wyoming        |  6.8 | 161 | 15.6 |\n",
       "\n"
      ],
      "text/plain": [
       "   US States      Murder Assault Rape\n",
       "1  Alabama        13.2   236     21.2\n",
       "2  Alaska         10.0   263     44.5\n",
       "3  Arizona         8.1   294     31.0\n",
       "4  Arkansas        8.8   190     19.5\n",
       "5  California      9.0   276     40.6\n",
       "6  Colorado        7.9   204     38.7\n",
       "7  Connecticut     3.3   110     11.1\n",
       "8  Delaware        5.9   238     15.8\n",
       "9  Florida        15.4   335     31.9\n",
       "10 Georgia        17.4   211     25.8\n",
       "11 Hawaii          5.3    46     20.2\n",
       "12 Idaho           2.6   120     14.2\n",
       "13 Illinois       10.4   249     24.0\n",
       "14 Indiana         7.2   113     21.0\n",
       "15 Iowa            2.2    56     11.3\n",
       "16 Kansas          6.0   115     18.0\n",
       "17 Kentucky        9.7   109     16.3\n",
       "18 Louisiana      15.4   249     22.2\n",
       "19 Maine           2.1    83      7.8\n",
       "20 Maryland       11.3   300     27.8\n",
       "21 Massachusetts   4.4   149     16.3\n",
       "22 Michigan       12.1   255     35.1\n",
       "23 Minnesota       2.7    72     14.9\n",
       "24 Mississippi    16.1   259     17.1\n",
       "25 Missouri        9.0   178     28.2\n",
       "26 Montana         6.0   109     16.4\n",
       "27 Nebraska        4.3   102     16.5\n",
       "28 Nevada         12.2   252     46.0\n",
       "29 New Hampshire   2.1    57      9.5\n",
       "30 New Jersey      7.4   159     18.8\n",
       "31 New Mexico     11.4   285     32.1\n",
       "32 New York       11.1   254     26.1\n",
       "33 North Carolina 13.0   337     16.1\n",
       "34 North Dakota    0.8    45      7.3\n",
       "35 Ohio            7.3   120     21.4\n",
       "36 Oklahoma        6.6   151     20.0\n",
       "37 Oregon          4.9   159     29.3\n",
       "38 Pennsylvania    6.3   106     14.9\n",
       "39 Rhode Island    3.4   174      8.3\n",
       "40 South Carolina 14.4   279     22.5\n",
       "41 South Dakota    3.8    86     12.8\n",
       "42 Tennessee      13.2   188     26.9\n",
       "43 Texas          12.7   201     25.5\n",
       "44 Utah            3.2   120     22.9\n",
       "45 Vermont         2.2    48     11.2\n",
       "46 Virginia        8.5   156     20.7\n",
       "47 Washington      4.0   145     26.2\n",
       "48 West Virginia   5.7    81      9.3\n",
       "49 Wisconsin       2.6    53     10.8\n",
       "50 Wyoming         6.8   161     15.6"
      ]
     },
     "metadata": {},
     "output_type": "display_data"
    }
   ],
   "source": [
    "rownames_to_column(USArrests, var = \"US States\") -> df\n",
    "df"
   ]
  },
  {
   "cell_type": "code",
   "execution_count": 22,
   "id": "incorporated-daniel",
   "metadata": {},
   "outputs": [
    {
     "data": {
      "text/html": [
       "<table class=\"dataframe\">\n",
       "<caption>A data.frame: 6 × 3</caption>\n",
       "<thead>\n",
       "\t<tr><th></th><th scope=col>US States</th><th scope=col>Crime</th><th scope=col>Frequency</th></tr>\n",
       "\t<tr><th></th><th scope=col>&lt;chr&gt;</th><th scope=col>&lt;chr&gt;</th><th scope=col>&lt;dbl&gt;</th></tr>\n",
       "</thead>\n",
       "<tbody>\n",
       "\t<tr><th scope=row>1</th><td>Alabama   </td><td>Murder</td><td>13.2</td></tr>\n",
       "\t<tr><th scope=row>2</th><td>Alaska    </td><td>Murder</td><td>10.0</td></tr>\n",
       "\t<tr><th scope=row>3</th><td>Arizona   </td><td>Murder</td><td> 8.1</td></tr>\n",
       "\t<tr><th scope=row>4</th><td>Arkansas  </td><td>Murder</td><td> 8.8</td></tr>\n",
       "\t<tr><th scope=row>5</th><td>California</td><td>Murder</td><td> 9.0</td></tr>\n",
       "\t<tr><th scope=row>6</th><td>Colorado  </td><td>Murder</td><td> 7.9</td></tr>\n",
       "</tbody>\n",
       "</table>\n"
      ],
      "text/latex": [
       "A data.frame: 6 × 3\n",
       "\\begin{tabular}{r|lll}\n",
       "  & US States & Crime & Frequency\\\\\n",
       "  & <chr> & <chr> & <dbl>\\\\\n",
       "\\hline\n",
       "\t1 & Alabama    & Murder & 13.2\\\\\n",
       "\t2 & Alaska     & Murder & 10.0\\\\\n",
       "\t3 & Arizona    & Murder &  8.1\\\\\n",
       "\t4 & Arkansas   & Murder &  8.8\\\\\n",
       "\t5 & California & Murder &  9.0\\\\\n",
       "\t6 & Colorado   & Murder &  7.9\\\\\n",
       "\\end{tabular}\n"
      ],
      "text/markdown": [
       "\n",
       "A data.frame: 6 × 3\n",
       "\n",
       "| <!--/--> | US States &lt;chr&gt; | Crime &lt;chr&gt; | Frequency &lt;dbl&gt; |\n",
       "|---|---|---|---|\n",
       "| 1 | Alabama    | Murder | 13.2 |\n",
       "| 2 | Alaska     | Murder | 10.0 |\n",
       "| 3 | Arizona    | Murder |  8.1 |\n",
       "| 4 | Arkansas   | Murder |  8.8 |\n",
       "| 5 | California | Murder |  9.0 |\n",
       "| 6 | Colorado   | Murder |  7.9 |\n",
       "\n"
      ],
      "text/plain": [
       "  US States  Crime  Frequency\n",
       "1 Alabama    Murder 13.2     \n",
       "2 Alaska     Murder 10.0     \n",
       "3 Arizona    Murder  8.1     \n",
       "4 Arkansas   Murder  8.8     \n",
       "5 California Murder  9.0     \n",
       "6 Colorado   Murder  7.9     "
      ]
     },
     "metadata": {},
     "output_type": "display_data"
    }
   ],
   "source": [
    "dat <- df %>%\n",
    "gather(key=\"Crime\", value=\"Frequency\", Murder, Assault, Rape)\n",
    "head(dat)"
   ]
  },
  {
   "cell_type": "markdown",
   "id": "personal-alias",
   "metadata": {},
   "source": [
    "1.3 Problem 3"
   ]
  },
  {
   "cell_type": "code",
   "execution_count": 8,
   "id": "industrial-syndicate",
   "metadata": {},
   "outputs": [
    {
     "data": {
      "text/html": [
       "<table class=\"dataframe\">\n",
       "<caption>A data.frame: 6 × 4</caption>\n",
       "<thead>\n",
       "\t<tr><th></th><th scope=col>Sepal.Length</th><th scope=col>Sepal.Width</th><th scope=col>Petal.Length</th><th scope=col>Petal.Width</th></tr>\n",
       "\t<tr><th></th><th scope=col>&lt;dbl&gt;</th><th scope=col>&lt;dbl&gt;</th><th scope=col>&lt;dbl&gt;</th><th scope=col>&lt;dbl&gt;</th></tr>\n",
       "</thead>\n",
       "<tbody>\n",
       "\t<tr><th scope=row>1</th><td>5.1</td><td>3.5</td><td>1.4</td><td>0.2</td></tr>\n",
       "\t<tr><th scope=row>2</th><td>4.9</td><td>3.0</td><td>1.4</td><td>0.2</td></tr>\n",
       "\t<tr><th scope=row>3</th><td>4.7</td><td>3.2</td><td>1.3</td><td>0.2</td></tr>\n",
       "\t<tr><th scope=row>4</th><td>4.6</td><td>3.1</td><td>1.5</td><td>0.2</td></tr>\n",
       "\t<tr><th scope=row>5</th><td>5.0</td><td>3.6</td><td>1.4</td><td>0.2</td></tr>\n",
       "\t<tr><th scope=row>6</th><td>5.4</td><td>3.9</td><td>1.7</td><td>0.4</td></tr>\n",
       "</tbody>\n",
       "</table>\n"
      ],
      "text/latex": [
       "A data.frame: 6 × 4\n",
       "\\begin{tabular}{r|llll}\n",
       "  & Sepal.Length & Sepal.Width & Petal.Length & Petal.Width\\\\\n",
       "  & <dbl> & <dbl> & <dbl> & <dbl>\\\\\n",
       "\\hline\n",
       "\t1 & 5.1 & 3.5 & 1.4 & 0.2\\\\\n",
       "\t2 & 4.9 & 3.0 & 1.4 & 0.2\\\\\n",
       "\t3 & 4.7 & 3.2 & 1.3 & 0.2\\\\\n",
       "\t4 & 4.6 & 3.1 & 1.5 & 0.2\\\\\n",
       "\t5 & 5.0 & 3.6 & 1.4 & 0.2\\\\\n",
       "\t6 & 5.4 & 3.9 & 1.7 & 0.4\\\\\n",
       "\\end{tabular}\n"
      ],
      "text/markdown": [
       "\n",
       "A data.frame: 6 × 4\n",
       "\n",
       "| <!--/--> | Sepal.Length &lt;dbl&gt; | Sepal.Width &lt;dbl&gt; | Petal.Length &lt;dbl&gt; | Petal.Width &lt;dbl&gt; |\n",
       "|---|---|---|---|---|\n",
       "| 1 | 5.1 | 3.5 | 1.4 | 0.2 |\n",
       "| 2 | 4.9 | 3.0 | 1.4 | 0.2 |\n",
       "| 3 | 4.7 | 3.2 | 1.3 | 0.2 |\n",
       "| 4 | 4.6 | 3.1 | 1.5 | 0.2 |\n",
       "| 5 | 5.0 | 3.6 | 1.4 | 0.2 |\n",
       "| 6 | 5.4 | 3.9 | 1.7 | 0.4 |\n",
       "\n"
      ],
      "text/plain": [
       "  Sepal.Length Sepal.Width Petal.Length Petal.Width\n",
       "1 5.1          3.5         1.4          0.2        \n",
       "2 4.9          3.0         1.4          0.2        \n",
       "3 4.7          3.2         1.3          0.2        \n",
       "4 4.6          3.1         1.5          0.2        \n",
       "5 5.0          3.6         1.4          0.2        \n",
       "6 5.4          3.9         1.7          0.4        "
      ]
     },
     "metadata": {},
     "output_type": "display_data"
    },
    {
     "data": {
      "text/html": [
       "<table class=\"dataframe\">\n",
       "<caption>A data.frame: 6 × 4</caption>\n",
       "<thead>\n",
       "\t<tr><th></th><th scope=col>Sepal.Length</th><th scope=col>Sepal.Width</th><th scope=col>Petal.Length</th><th scope=col>Petal.Width</th></tr>\n",
       "\t<tr><th></th><th scope=col>&lt;dbl&gt;</th><th scope=col>&lt;dbl&gt;</th><th scope=col>&lt;dbl&gt;</th><th scope=col>&lt;dbl&gt;</th></tr>\n",
       "</thead>\n",
       "<tbody>\n",
       "\t<tr><th scope=row>1</th><td>6.3</td><td>3.3</td><td>6.0</td><td>2.5</td></tr>\n",
       "\t<tr><th scope=row>2</th><td>5.8</td><td>2.7</td><td>5.1</td><td>1.9</td></tr>\n",
       "\t<tr><th scope=row>3</th><td>7.1</td><td>3.0</td><td>5.9</td><td>2.1</td></tr>\n",
       "\t<tr><th scope=row>4</th><td>6.3</td><td>2.9</td><td>5.6</td><td>1.8</td></tr>\n",
       "\t<tr><th scope=row>5</th><td>6.5</td><td>3.0</td><td>5.8</td><td>2.2</td></tr>\n",
       "\t<tr><th scope=row>6</th><td>7.6</td><td>3.0</td><td>6.6</td><td>2.1</td></tr>\n",
       "</tbody>\n",
       "</table>\n"
      ],
      "text/latex": [
       "A data.frame: 6 × 4\n",
       "\\begin{tabular}{r|llll}\n",
       "  & Sepal.Length & Sepal.Width & Petal.Length & Petal.Width\\\\\n",
       "  & <dbl> & <dbl> & <dbl> & <dbl>\\\\\n",
       "\\hline\n",
       "\t1 & 6.3 & 3.3 & 6.0 & 2.5\\\\\n",
       "\t2 & 5.8 & 2.7 & 5.1 & 1.9\\\\\n",
       "\t3 & 7.1 & 3.0 & 5.9 & 2.1\\\\\n",
       "\t4 & 6.3 & 2.9 & 5.6 & 1.8\\\\\n",
       "\t5 & 6.5 & 3.0 & 5.8 & 2.2\\\\\n",
       "\t6 & 7.6 & 3.0 & 6.6 & 2.1\\\\\n",
       "\\end{tabular}\n"
      ],
      "text/markdown": [
       "\n",
       "A data.frame: 6 × 4\n",
       "\n",
       "| <!--/--> | Sepal.Length &lt;dbl&gt; | Sepal.Width &lt;dbl&gt; | Petal.Length &lt;dbl&gt; | Petal.Width &lt;dbl&gt; |\n",
       "|---|---|---|---|---|\n",
       "| 1 | 6.3 | 3.3 | 6.0 | 2.5 |\n",
       "| 2 | 5.8 | 2.7 | 5.1 | 1.9 |\n",
       "| 3 | 7.1 | 3.0 | 5.9 | 2.1 |\n",
       "| 4 | 6.3 | 2.9 | 5.6 | 1.8 |\n",
       "| 5 | 6.5 | 3.0 | 5.8 | 2.2 |\n",
       "| 6 | 7.6 | 3.0 | 6.6 | 2.1 |\n",
       "\n"
      ],
      "text/plain": [
       "  Sepal.Length Sepal.Width Petal.Length Petal.Width\n",
       "1 6.3          3.3         6.0          2.5        \n",
       "2 5.8          2.7         5.1          1.9        \n",
       "3 7.1          3.0         5.9          2.1        \n",
       "4 6.3          2.9         5.6          1.8        \n",
       "5 6.5          3.0         5.8          2.2        \n",
       "6 7.6          3.0         6.6          2.1        "
      ]
     },
     "metadata": {},
     "output_type": "display_data"
    },
    {
     "data": {
      "text/html": [
       "<table class=\"dataframe\">\n",
       "<caption>A data.frame: 6 × 4</caption>\n",
       "<thead>\n",
       "\t<tr><th></th><th scope=col>Sepal.Length</th><th scope=col>Sepal.Width</th><th scope=col>Petal.Length</th><th scope=col>Petal.Width</th></tr>\n",
       "\t<tr><th></th><th scope=col>&lt;dbl&gt;</th><th scope=col>&lt;dbl&gt;</th><th scope=col>&lt;dbl&gt;</th><th scope=col>&lt;dbl&gt;</th></tr>\n",
       "</thead>\n",
       "<tbody>\n",
       "\t<tr><th scope=row>1</th><td>7.0</td><td>3.2</td><td>4.7</td><td>1.4</td></tr>\n",
       "\t<tr><th scope=row>2</th><td>6.4</td><td>3.2</td><td>4.5</td><td>1.5</td></tr>\n",
       "\t<tr><th scope=row>3</th><td>6.9</td><td>3.1</td><td>4.9</td><td>1.5</td></tr>\n",
       "\t<tr><th scope=row>4</th><td>5.5</td><td>2.3</td><td>4.0</td><td>1.3</td></tr>\n",
       "\t<tr><th scope=row>5</th><td>6.5</td><td>2.8</td><td>4.6</td><td>1.5</td></tr>\n",
       "\t<tr><th scope=row>6</th><td>5.7</td><td>2.8</td><td>4.5</td><td>1.3</td></tr>\n",
       "</tbody>\n",
       "</table>\n"
      ],
      "text/latex": [
       "A data.frame: 6 × 4\n",
       "\\begin{tabular}{r|llll}\n",
       "  & Sepal.Length & Sepal.Width & Petal.Length & Petal.Width\\\\\n",
       "  & <dbl> & <dbl> & <dbl> & <dbl>\\\\\n",
       "\\hline\n",
       "\t1 & 7.0 & 3.2 & 4.7 & 1.4\\\\\n",
       "\t2 & 6.4 & 3.2 & 4.5 & 1.5\\\\\n",
       "\t3 & 6.9 & 3.1 & 4.9 & 1.5\\\\\n",
       "\t4 & 5.5 & 2.3 & 4.0 & 1.3\\\\\n",
       "\t5 & 6.5 & 2.8 & 4.6 & 1.5\\\\\n",
       "\t6 & 5.7 & 2.8 & 4.5 & 1.3\\\\\n",
       "\\end{tabular}\n"
      ],
      "text/markdown": [
       "\n",
       "A data.frame: 6 × 4\n",
       "\n",
       "| <!--/--> | Sepal.Length &lt;dbl&gt; | Sepal.Width &lt;dbl&gt; | Petal.Length &lt;dbl&gt; | Petal.Width &lt;dbl&gt; |\n",
       "|---|---|---|---|---|\n",
       "| 1 | 7.0 | 3.2 | 4.7 | 1.4 |\n",
       "| 2 | 6.4 | 3.2 | 4.5 | 1.5 |\n",
       "| 3 | 6.9 | 3.1 | 4.9 | 1.5 |\n",
       "| 4 | 5.5 | 2.3 | 4.0 | 1.3 |\n",
       "| 5 | 6.5 | 2.8 | 4.6 | 1.5 |\n",
       "| 6 | 5.7 | 2.8 | 4.5 | 1.3 |\n",
       "\n"
      ],
      "text/plain": [
       "  Sepal.Length Sepal.Width Petal.Length Petal.Width\n",
       "1 7.0          3.2         4.7          1.4        \n",
       "2 6.4          3.2         4.5          1.5        \n",
       "3 6.9          3.1         4.9          1.5        \n",
       "4 5.5          2.3         4.0          1.3        \n",
       "5 6.5          2.8         4.6          1.5        \n",
       "6 5.7          2.8         4.5          1.3        "
      ]
     },
     "metadata": {},
     "output_type": "display_data"
    }
   ],
   "source": [
    "setosa <- read.csv('data/setosa.csv')\n",
    "virginica <- read.csv('data/virginica.csv')\n",
    "versicolor <- read.csv('data/versicolor.csv')\n",
    "\n",
    "head(setosa)\n",
    "head(virginica)\n",
    "head(versicolor)"
   ]
  },
  {
   "cell_type": "markdown",
   "id": "intellectual-excuse",
   "metadata": {},
   "source": [
    "This is an example of the problem \"one type in multiple tables\", where the same type of observations are stored in multiple files."
   ]
  },
  {
   "cell_type": "markdown",
   "id": "improving-universal",
   "metadata": {},
   "source": [
    "To make this datasets tidy, the three datasets can be merged into on single file, resp. combine them into a single table. "
   ]
  },
  {
   "cell_type": "code",
   "execution_count": 10,
   "id": "numerical-association",
   "metadata": {
    "collapsed": true,
    "jupyter": {
     "outputs_hidden": true
    },
    "tags": []
   },
   "outputs": [
    {
     "data": {
      "text/html": [
       "<table class=\"dataframe\">\n",
       "<caption>A data.frame: 150 × 5</caption>\n",
       "<thead>\n",
       "\t<tr><th scope=col>Species</th><th scope=col>Sepal.Length</th><th scope=col>Sepal.Width</th><th scope=col>Petal.Length</th><th scope=col>Petal.Width</th></tr>\n",
       "\t<tr><th scope=col>&lt;chr&gt;</th><th scope=col>&lt;dbl&gt;</th><th scope=col>&lt;dbl&gt;</th><th scope=col>&lt;dbl&gt;</th><th scope=col>&lt;dbl&gt;</th></tr>\n",
       "</thead>\n",
       "<tbody>\n",
       "\t<tr><td>1</td><td>5.1</td><td>3.5</td><td>1.4</td><td>0.2</td></tr>\n",
       "\t<tr><td>1</td><td>4.9</td><td>3.0</td><td>1.4</td><td>0.2</td></tr>\n",
       "\t<tr><td>1</td><td>4.7</td><td>3.2</td><td>1.3</td><td>0.2</td></tr>\n",
       "\t<tr><td>1</td><td>4.6</td><td>3.1</td><td>1.5</td><td>0.2</td></tr>\n",
       "\t<tr><td>1</td><td>5.0</td><td>3.6</td><td>1.4</td><td>0.2</td></tr>\n",
       "\t<tr><td>1</td><td>5.4</td><td>3.9</td><td>1.7</td><td>0.4</td></tr>\n",
       "\t<tr><td>1</td><td>4.6</td><td>3.4</td><td>1.4</td><td>0.3</td></tr>\n",
       "\t<tr><td>1</td><td>5.0</td><td>3.4</td><td>1.5</td><td>0.2</td></tr>\n",
       "\t<tr><td>1</td><td>4.4</td><td>2.9</td><td>1.4</td><td>0.2</td></tr>\n",
       "\t<tr><td>1</td><td>4.9</td><td>3.1</td><td>1.5</td><td>0.1</td></tr>\n",
       "\t<tr><td>1</td><td>5.4</td><td>3.7</td><td>1.5</td><td>0.2</td></tr>\n",
       "\t<tr><td>1</td><td>4.8</td><td>3.4</td><td>1.6</td><td>0.2</td></tr>\n",
       "\t<tr><td>1</td><td>4.8</td><td>3.0</td><td>1.4</td><td>0.1</td></tr>\n",
       "\t<tr><td>1</td><td>4.3</td><td>3.0</td><td>1.1</td><td>0.1</td></tr>\n",
       "\t<tr><td>1</td><td>5.8</td><td>4.0</td><td>1.2</td><td>0.2</td></tr>\n",
       "\t<tr><td>1</td><td>5.7</td><td>4.4</td><td>1.5</td><td>0.4</td></tr>\n",
       "\t<tr><td>1</td><td>5.4</td><td>3.9</td><td>1.3</td><td>0.4</td></tr>\n",
       "\t<tr><td>1</td><td>5.1</td><td>3.5</td><td>1.4</td><td>0.3</td></tr>\n",
       "\t<tr><td>1</td><td>5.7</td><td>3.8</td><td>1.7</td><td>0.3</td></tr>\n",
       "\t<tr><td>1</td><td>5.1</td><td>3.8</td><td>1.5</td><td>0.3</td></tr>\n",
       "\t<tr><td>1</td><td>5.4</td><td>3.4</td><td>1.7</td><td>0.2</td></tr>\n",
       "\t<tr><td>1</td><td>5.1</td><td>3.7</td><td>1.5</td><td>0.4</td></tr>\n",
       "\t<tr><td>1</td><td>4.6</td><td>3.6</td><td>1.0</td><td>0.2</td></tr>\n",
       "\t<tr><td>1</td><td>5.1</td><td>3.3</td><td>1.7</td><td>0.5</td></tr>\n",
       "\t<tr><td>1</td><td>4.8</td><td>3.4</td><td>1.9</td><td>0.2</td></tr>\n",
       "\t<tr><td>1</td><td>5.0</td><td>3.0</td><td>1.6</td><td>0.2</td></tr>\n",
       "\t<tr><td>1</td><td>5.0</td><td>3.4</td><td>1.6</td><td>0.4</td></tr>\n",
       "\t<tr><td>1</td><td>5.2</td><td>3.5</td><td>1.5</td><td>0.2</td></tr>\n",
       "\t<tr><td>1</td><td>5.2</td><td>3.4</td><td>1.4</td><td>0.2</td></tr>\n",
       "\t<tr><td>1</td><td>4.7</td><td>3.2</td><td>1.6</td><td>0.2</td></tr>\n",
       "\t<tr><td>...</td><td>...</td><td>...</td><td>...</td><td>...</td></tr>\n",
       "\t<tr><td>3</td><td>5.9</td><td>3.2</td><td>4.8</td><td>1.8</td></tr>\n",
       "\t<tr><td>3</td><td>6.1</td><td>2.8</td><td>4.0</td><td>1.3</td></tr>\n",
       "\t<tr><td>3</td><td>6.3</td><td>2.5</td><td>4.9</td><td>1.5</td></tr>\n",
       "\t<tr><td>3</td><td>6.1</td><td>2.8</td><td>4.7</td><td>1.2</td></tr>\n",
       "\t<tr><td>3</td><td>6.4</td><td>2.9</td><td>4.3</td><td>1.3</td></tr>\n",
       "\t<tr><td>3</td><td>6.6</td><td>3.0</td><td>4.4</td><td>1.4</td></tr>\n",
       "\t<tr><td>3</td><td>6.8</td><td>2.8</td><td>4.8</td><td>1.4</td></tr>\n",
       "\t<tr><td>3</td><td>6.7</td><td>3.0</td><td>5.0</td><td>1.7</td></tr>\n",
       "\t<tr><td>3</td><td>6.0</td><td>2.9</td><td>4.5</td><td>1.5</td></tr>\n",
       "\t<tr><td>3</td><td>5.7</td><td>2.6</td><td>3.5</td><td>1.0</td></tr>\n",
       "\t<tr><td>3</td><td>5.5</td><td>2.4</td><td>3.8</td><td>1.1</td></tr>\n",
       "\t<tr><td>3</td><td>5.5</td><td>2.4</td><td>3.7</td><td>1.0</td></tr>\n",
       "\t<tr><td>3</td><td>5.8</td><td>2.7</td><td>3.9</td><td>1.2</td></tr>\n",
       "\t<tr><td>3</td><td>6.0</td><td>2.7</td><td>5.1</td><td>1.6</td></tr>\n",
       "\t<tr><td>3</td><td>5.4</td><td>3.0</td><td>4.5</td><td>1.5</td></tr>\n",
       "\t<tr><td>3</td><td>6.0</td><td>3.4</td><td>4.5</td><td>1.6</td></tr>\n",
       "\t<tr><td>3</td><td>6.7</td><td>3.1</td><td>4.7</td><td>1.5</td></tr>\n",
       "\t<tr><td>3</td><td>6.3</td><td>2.3</td><td>4.4</td><td>1.3</td></tr>\n",
       "\t<tr><td>3</td><td>5.6</td><td>3.0</td><td>4.1</td><td>1.3</td></tr>\n",
       "\t<tr><td>3</td><td>5.5</td><td>2.5</td><td>4.0</td><td>1.3</td></tr>\n",
       "\t<tr><td>3</td><td>5.5</td><td>2.6</td><td>4.4</td><td>1.2</td></tr>\n",
       "\t<tr><td>3</td><td>6.1</td><td>3.0</td><td>4.6</td><td>1.4</td></tr>\n",
       "\t<tr><td>3</td><td>5.8</td><td>2.6</td><td>4.0</td><td>1.2</td></tr>\n",
       "\t<tr><td>3</td><td>5.0</td><td>2.3</td><td>3.3</td><td>1.0</td></tr>\n",
       "\t<tr><td>3</td><td>5.6</td><td>2.7</td><td>4.2</td><td>1.3</td></tr>\n",
       "\t<tr><td>3</td><td>5.7</td><td>3.0</td><td>4.2</td><td>1.2</td></tr>\n",
       "\t<tr><td>3</td><td>5.7</td><td>2.9</td><td>4.2</td><td>1.3</td></tr>\n",
       "\t<tr><td>3</td><td>6.2</td><td>2.9</td><td>4.3</td><td>1.3</td></tr>\n",
       "\t<tr><td>3</td><td>5.1</td><td>2.5</td><td>3.0</td><td>1.1</td></tr>\n",
       "\t<tr><td>3</td><td>5.7</td><td>2.8</td><td>4.1</td><td>1.3</td></tr>\n",
       "</tbody>\n",
       "</table>\n"
      ],
      "text/latex": [
       "A data.frame: 150 × 5\n",
       "\\begin{tabular}{lllll}\n",
       " Species & Sepal.Length & Sepal.Width & Petal.Length & Petal.Width\\\\\n",
       " <chr> & <dbl> & <dbl> & <dbl> & <dbl>\\\\\n",
       "\\hline\n",
       "\t 1 & 5.1 & 3.5 & 1.4 & 0.2\\\\\n",
       "\t 1 & 4.9 & 3.0 & 1.4 & 0.2\\\\\n",
       "\t 1 & 4.7 & 3.2 & 1.3 & 0.2\\\\\n",
       "\t 1 & 4.6 & 3.1 & 1.5 & 0.2\\\\\n",
       "\t 1 & 5.0 & 3.6 & 1.4 & 0.2\\\\\n",
       "\t 1 & 5.4 & 3.9 & 1.7 & 0.4\\\\\n",
       "\t 1 & 4.6 & 3.4 & 1.4 & 0.3\\\\\n",
       "\t 1 & 5.0 & 3.4 & 1.5 & 0.2\\\\\n",
       "\t 1 & 4.4 & 2.9 & 1.4 & 0.2\\\\\n",
       "\t 1 & 4.9 & 3.1 & 1.5 & 0.1\\\\\n",
       "\t 1 & 5.4 & 3.7 & 1.5 & 0.2\\\\\n",
       "\t 1 & 4.8 & 3.4 & 1.6 & 0.2\\\\\n",
       "\t 1 & 4.8 & 3.0 & 1.4 & 0.1\\\\\n",
       "\t 1 & 4.3 & 3.0 & 1.1 & 0.1\\\\\n",
       "\t 1 & 5.8 & 4.0 & 1.2 & 0.2\\\\\n",
       "\t 1 & 5.7 & 4.4 & 1.5 & 0.4\\\\\n",
       "\t 1 & 5.4 & 3.9 & 1.3 & 0.4\\\\\n",
       "\t 1 & 5.1 & 3.5 & 1.4 & 0.3\\\\\n",
       "\t 1 & 5.7 & 3.8 & 1.7 & 0.3\\\\\n",
       "\t 1 & 5.1 & 3.8 & 1.5 & 0.3\\\\\n",
       "\t 1 & 5.4 & 3.4 & 1.7 & 0.2\\\\\n",
       "\t 1 & 5.1 & 3.7 & 1.5 & 0.4\\\\\n",
       "\t 1 & 4.6 & 3.6 & 1.0 & 0.2\\\\\n",
       "\t 1 & 5.1 & 3.3 & 1.7 & 0.5\\\\\n",
       "\t 1 & 4.8 & 3.4 & 1.9 & 0.2\\\\\n",
       "\t 1 & 5.0 & 3.0 & 1.6 & 0.2\\\\\n",
       "\t 1 & 5.0 & 3.4 & 1.6 & 0.4\\\\\n",
       "\t 1 & 5.2 & 3.5 & 1.5 & 0.2\\\\\n",
       "\t 1 & 5.2 & 3.4 & 1.4 & 0.2\\\\\n",
       "\t 1 & 4.7 & 3.2 & 1.6 & 0.2\\\\\n",
       "\t ... & ... & ... & ... & ...\\\\\n",
       "\t 3 & 5.9 & 3.2 & 4.8 & 1.8\\\\\n",
       "\t 3 & 6.1 & 2.8 & 4.0 & 1.3\\\\\n",
       "\t 3 & 6.3 & 2.5 & 4.9 & 1.5\\\\\n",
       "\t 3 & 6.1 & 2.8 & 4.7 & 1.2\\\\\n",
       "\t 3 & 6.4 & 2.9 & 4.3 & 1.3\\\\\n",
       "\t 3 & 6.6 & 3.0 & 4.4 & 1.4\\\\\n",
       "\t 3 & 6.8 & 2.8 & 4.8 & 1.4\\\\\n",
       "\t 3 & 6.7 & 3.0 & 5.0 & 1.7\\\\\n",
       "\t 3 & 6.0 & 2.9 & 4.5 & 1.5\\\\\n",
       "\t 3 & 5.7 & 2.6 & 3.5 & 1.0\\\\\n",
       "\t 3 & 5.5 & 2.4 & 3.8 & 1.1\\\\\n",
       "\t 3 & 5.5 & 2.4 & 3.7 & 1.0\\\\\n",
       "\t 3 & 5.8 & 2.7 & 3.9 & 1.2\\\\\n",
       "\t 3 & 6.0 & 2.7 & 5.1 & 1.6\\\\\n",
       "\t 3 & 5.4 & 3.0 & 4.5 & 1.5\\\\\n",
       "\t 3 & 6.0 & 3.4 & 4.5 & 1.6\\\\\n",
       "\t 3 & 6.7 & 3.1 & 4.7 & 1.5\\\\\n",
       "\t 3 & 6.3 & 2.3 & 4.4 & 1.3\\\\\n",
       "\t 3 & 5.6 & 3.0 & 4.1 & 1.3\\\\\n",
       "\t 3 & 5.5 & 2.5 & 4.0 & 1.3\\\\\n",
       "\t 3 & 5.5 & 2.6 & 4.4 & 1.2\\\\\n",
       "\t 3 & 6.1 & 3.0 & 4.6 & 1.4\\\\\n",
       "\t 3 & 5.8 & 2.6 & 4.0 & 1.2\\\\\n",
       "\t 3 & 5.0 & 2.3 & 3.3 & 1.0\\\\\n",
       "\t 3 & 5.6 & 2.7 & 4.2 & 1.3\\\\\n",
       "\t 3 & 5.7 & 3.0 & 4.2 & 1.2\\\\\n",
       "\t 3 & 5.7 & 2.9 & 4.2 & 1.3\\\\\n",
       "\t 3 & 6.2 & 2.9 & 4.3 & 1.3\\\\\n",
       "\t 3 & 5.1 & 2.5 & 3.0 & 1.1\\\\\n",
       "\t 3 & 5.7 & 2.8 & 4.1 & 1.3\\\\\n",
       "\\end{tabular}\n"
      ],
      "text/markdown": [
       "\n",
       "A data.frame: 150 × 5\n",
       "\n",
       "| Species &lt;chr&gt; | Sepal.Length &lt;dbl&gt; | Sepal.Width &lt;dbl&gt; | Petal.Length &lt;dbl&gt; | Petal.Width &lt;dbl&gt; |\n",
       "|---|---|---|---|---|\n",
       "| 1 | 5.1 | 3.5 | 1.4 | 0.2 |\n",
       "| 1 | 4.9 | 3.0 | 1.4 | 0.2 |\n",
       "| 1 | 4.7 | 3.2 | 1.3 | 0.2 |\n",
       "| 1 | 4.6 | 3.1 | 1.5 | 0.2 |\n",
       "| 1 | 5.0 | 3.6 | 1.4 | 0.2 |\n",
       "| 1 | 5.4 | 3.9 | 1.7 | 0.4 |\n",
       "| 1 | 4.6 | 3.4 | 1.4 | 0.3 |\n",
       "| 1 | 5.0 | 3.4 | 1.5 | 0.2 |\n",
       "| 1 | 4.4 | 2.9 | 1.4 | 0.2 |\n",
       "| 1 | 4.9 | 3.1 | 1.5 | 0.1 |\n",
       "| 1 | 5.4 | 3.7 | 1.5 | 0.2 |\n",
       "| 1 | 4.8 | 3.4 | 1.6 | 0.2 |\n",
       "| 1 | 4.8 | 3.0 | 1.4 | 0.1 |\n",
       "| 1 | 4.3 | 3.0 | 1.1 | 0.1 |\n",
       "| 1 | 5.8 | 4.0 | 1.2 | 0.2 |\n",
       "| 1 | 5.7 | 4.4 | 1.5 | 0.4 |\n",
       "| 1 | 5.4 | 3.9 | 1.3 | 0.4 |\n",
       "| 1 | 5.1 | 3.5 | 1.4 | 0.3 |\n",
       "| 1 | 5.7 | 3.8 | 1.7 | 0.3 |\n",
       "| 1 | 5.1 | 3.8 | 1.5 | 0.3 |\n",
       "| 1 | 5.4 | 3.4 | 1.7 | 0.2 |\n",
       "| 1 | 5.1 | 3.7 | 1.5 | 0.4 |\n",
       "| 1 | 4.6 | 3.6 | 1.0 | 0.2 |\n",
       "| 1 | 5.1 | 3.3 | 1.7 | 0.5 |\n",
       "| 1 | 4.8 | 3.4 | 1.9 | 0.2 |\n",
       "| 1 | 5.0 | 3.0 | 1.6 | 0.2 |\n",
       "| 1 | 5.0 | 3.4 | 1.6 | 0.4 |\n",
       "| 1 | 5.2 | 3.5 | 1.5 | 0.2 |\n",
       "| 1 | 5.2 | 3.4 | 1.4 | 0.2 |\n",
       "| 1 | 4.7 | 3.2 | 1.6 | 0.2 |\n",
       "| ... | ... | ... | ... | ... |\n",
       "| 3 | 5.9 | 3.2 | 4.8 | 1.8 |\n",
       "| 3 | 6.1 | 2.8 | 4.0 | 1.3 |\n",
       "| 3 | 6.3 | 2.5 | 4.9 | 1.5 |\n",
       "| 3 | 6.1 | 2.8 | 4.7 | 1.2 |\n",
       "| 3 | 6.4 | 2.9 | 4.3 | 1.3 |\n",
       "| 3 | 6.6 | 3.0 | 4.4 | 1.4 |\n",
       "| 3 | 6.8 | 2.8 | 4.8 | 1.4 |\n",
       "| 3 | 6.7 | 3.0 | 5.0 | 1.7 |\n",
       "| 3 | 6.0 | 2.9 | 4.5 | 1.5 |\n",
       "| 3 | 5.7 | 2.6 | 3.5 | 1.0 |\n",
       "| 3 | 5.5 | 2.4 | 3.8 | 1.1 |\n",
       "| 3 | 5.5 | 2.4 | 3.7 | 1.0 |\n",
       "| 3 | 5.8 | 2.7 | 3.9 | 1.2 |\n",
       "| 3 | 6.0 | 2.7 | 5.1 | 1.6 |\n",
       "| 3 | 5.4 | 3.0 | 4.5 | 1.5 |\n",
       "| 3 | 6.0 | 3.4 | 4.5 | 1.6 |\n",
       "| 3 | 6.7 | 3.1 | 4.7 | 1.5 |\n",
       "| 3 | 6.3 | 2.3 | 4.4 | 1.3 |\n",
       "| 3 | 5.6 | 3.0 | 4.1 | 1.3 |\n",
       "| 3 | 5.5 | 2.5 | 4.0 | 1.3 |\n",
       "| 3 | 5.5 | 2.6 | 4.4 | 1.2 |\n",
       "| 3 | 6.1 | 3.0 | 4.6 | 1.4 |\n",
       "| 3 | 5.8 | 2.6 | 4.0 | 1.2 |\n",
       "| 3 | 5.0 | 2.3 | 3.3 | 1.0 |\n",
       "| 3 | 5.6 | 2.7 | 4.2 | 1.3 |\n",
       "| 3 | 5.7 | 3.0 | 4.2 | 1.2 |\n",
       "| 3 | 5.7 | 2.9 | 4.2 | 1.3 |\n",
       "| 3 | 6.2 | 2.9 | 4.3 | 1.3 |\n",
       "| 3 | 5.1 | 2.5 | 3.0 | 1.1 |\n",
       "| 3 | 5.7 | 2.8 | 4.1 | 1.3 |\n",
       "\n"
      ],
      "text/plain": [
       "    Species Sepal.Length Sepal.Width Petal.Length Petal.Width\n",
       "1   1       5.1          3.5         1.4          0.2        \n",
       "2   1       4.9          3.0         1.4          0.2        \n",
       "3   1       4.7          3.2         1.3          0.2        \n",
       "4   1       4.6          3.1         1.5          0.2        \n",
       "5   1       5.0          3.6         1.4          0.2        \n",
       "6   1       5.4          3.9         1.7          0.4        \n",
       "7   1       4.6          3.4         1.4          0.3        \n",
       "8   1       5.0          3.4         1.5          0.2        \n",
       "9   1       4.4          2.9         1.4          0.2        \n",
       "10  1       4.9          3.1         1.5          0.1        \n",
       "11  1       5.4          3.7         1.5          0.2        \n",
       "12  1       4.8          3.4         1.6          0.2        \n",
       "13  1       4.8          3.0         1.4          0.1        \n",
       "14  1       4.3          3.0         1.1          0.1        \n",
       "15  1       5.8          4.0         1.2          0.2        \n",
       "16  1       5.7          4.4         1.5          0.4        \n",
       "17  1       5.4          3.9         1.3          0.4        \n",
       "18  1       5.1          3.5         1.4          0.3        \n",
       "19  1       5.7          3.8         1.7          0.3        \n",
       "20  1       5.1          3.8         1.5          0.3        \n",
       "21  1       5.4          3.4         1.7          0.2        \n",
       "22  1       5.1          3.7         1.5          0.4        \n",
       "23  1       4.6          3.6         1.0          0.2        \n",
       "24  1       5.1          3.3         1.7          0.5        \n",
       "25  1       4.8          3.4         1.9          0.2        \n",
       "26  1       5.0          3.0         1.6          0.2        \n",
       "27  1       5.0          3.4         1.6          0.4        \n",
       "28  1       5.2          3.5         1.5          0.2        \n",
       "29  1       5.2          3.4         1.4          0.2        \n",
       "30  1       4.7          3.2         1.6          0.2        \n",
       "... ...     ...          ...         ...          ...        \n",
       "121 3       5.9          3.2         4.8          1.8        \n",
       "122 3       6.1          2.8         4.0          1.3        \n",
       "123 3       6.3          2.5         4.9          1.5        \n",
       "124 3       6.1          2.8         4.7          1.2        \n",
       "125 3       6.4          2.9         4.3          1.3        \n",
       "126 3       6.6          3.0         4.4          1.4        \n",
       "127 3       6.8          2.8         4.8          1.4        \n",
       "128 3       6.7          3.0         5.0          1.7        \n",
       "129 3       6.0          2.9         4.5          1.5        \n",
       "130 3       5.7          2.6         3.5          1.0        \n",
       "131 3       5.5          2.4         3.8          1.1        \n",
       "132 3       5.5          2.4         3.7          1.0        \n",
       "133 3       5.8          2.7         3.9          1.2        \n",
       "134 3       6.0          2.7         5.1          1.6        \n",
       "135 3       5.4          3.0         4.5          1.5        \n",
       "136 3       6.0          3.4         4.5          1.6        \n",
       "137 3       6.7          3.1         4.7          1.5        \n",
       "138 3       6.3          2.3         4.4          1.3        \n",
       "139 3       5.6          3.0         4.1          1.3        \n",
       "140 3       5.5          2.5         4.0          1.3        \n",
       "141 3       5.5          2.6         4.4          1.2        \n",
       "142 3       6.1          3.0         4.6          1.4        \n",
       "143 3       5.8          2.6         4.0          1.2        \n",
       "144 3       5.0          2.3         3.3          1.0        \n",
       "145 3       5.6          2.7         4.2          1.3        \n",
       "146 3       5.7          3.0         4.2          1.2        \n",
       "147 3       5.7          2.9         4.2          1.3        \n",
       "148 3       6.2          2.9         4.3          1.3        \n",
       "149 3       5.1          2.5         3.0          1.1        \n",
       "150 3       5.7          2.8         4.1          1.3        "
      ]
     },
     "metadata": {},
     "output_type": "display_data"
    },
    {
     "data": {
      "text/html": [
       "<table class=\"dataframe\">\n",
       "<caption>A tibble: 1 × 3</caption>\n",
       "<thead>\n",
       "\t<tr><th scope=col>setosa</th><th scope=col>virginica</th><th scope=col>versicolor</th></tr>\n",
       "\t<tr><th scope=col>&lt;dbl&gt;</th><th scope=col>&lt;dbl&gt;</th><th scope=col>&lt;dbl&gt;</th></tr>\n",
       "</thead>\n",
       "<tbody>\n",
       "\t<tr><td>1</td><td>2</td><td>3</td></tr>\n",
       "</tbody>\n",
       "</table>\n"
      ],
      "text/latex": [
       "A tibble: 1 × 3\n",
       "\\begin{tabular}{lll}\n",
       " setosa & virginica & versicolor\\\\\n",
       " <dbl> & <dbl> & <dbl>\\\\\n",
       "\\hline\n",
       "\t 1 & 2 & 3\\\\\n",
       "\\end{tabular}\n"
      ],
      "text/markdown": [
       "\n",
       "A tibble: 1 × 3\n",
       "\n",
       "| setosa &lt;dbl&gt; | virginica &lt;dbl&gt; | versicolor &lt;dbl&gt; |\n",
       "|---|---|---|\n",
       "| 1 | 2 | 3 |\n",
       "\n"
      ],
      "text/plain": [
       "  setosa virginica versicolor\n",
       "1 1      2         3         "
      ]
     },
     "metadata": {},
     "output_type": "display_data"
    }
   ],
   "source": [
    "bind_rows(setosa, virginica, versicolor, .id = \"Species\")\n",
    "bind_rows(\"setosa\" = 1, \"virginica\" = 2, \"versicolor\" = 3, .id = \"Species\")"
   ]
  },
  {
   "cell_type": "markdown",
   "id": "confidential-green",
   "metadata": {},
   "source": [
    "2. Putting it all together"
   ]
  },
  {
   "cell_type": "code",
   "execution_count": 11,
   "id": "fifty-reference",
   "metadata": {},
   "outputs": [],
   "source": [
    "basel_weather_2018 <- read.csv('data/basel_weather_2018.csv')\n",
    "basel_weather_2019 <- read.csv('data/basel_weather_2019.csv')\n",
    "basel_weather_2020 <- read.csv('data/basel_weather_2020.csv')"
   ]
  },
  {
   "cell_type": "code",
   "execution_count": 12,
   "id": "assumed-engineer",
   "metadata": {
    "tags": []
   },
   "outputs": [
    {
     "data": {
      "text/html": [
       "<table class=\"dataframe\">\n",
       "<caption>A data.frame: 6 × 3</caption>\n",
       "<thead>\n",
       "\t<tr><th></th><th scope=col>timestamp</th><th scope=col>temperature_type</th><th scope=col>temperature</th></tr>\n",
       "\t<tr><th></th><th scope=col>&lt;fct&gt;</th><th scope=col>&lt;fct&gt;</th><th scope=col>&lt;dbl&gt;</th></tr>\n",
       "</thead>\n",
       "<tbody>\n",
       "\t<tr><th scope=row>1</th><td>20180101T0000</td><td>temperature_mean</td><td>10.500529</td></tr>\n",
       "\t<tr><th scope=row>2</th><td>20180101T0000</td><td>temperature_min </td><td> 7.500529</td></tr>\n",
       "\t<tr><th scope=row>3</th><td>20180101T0000</td><td>temperature_max </td><td>15.500529</td></tr>\n",
       "\t<tr><th scope=row>4</th><td>20180101T0100</td><td>temperature_mean</td><td> 9.790529</td></tr>\n",
       "\t<tr><th scope=row>5</th><td>20180101T0100</td><td>temperature_min </td><td> 5.790529</td></tr>\n",
       "\t<tr><th scope=row>6</th><td>20180101T0100</td><td>temperature_max </td><td>13.790529</td></tr>\n",
       "</tbody>\n",
       "</table>\n"
      ],
      "text/latex": [
       "A data.frame: 6 × 3\n",
       "\\begin{tabular}{r|lll}\n",
       "  & timestamp & temperature\\_type & temperature\\\\\n",
       "  & <fct> & <fct> & <dbl>\\\\\n",
       "\\hline\n",
       "\t1 & 20180101T0000 & temperature\\_mean & 10.500529\\\\\n",
       "\t2 & 20180101T0000 & temperature\\_min  &  7.500529\\\\\n",
       "\t3 & 20180101T0000 & temperature\\_max  & 15.500529\\\\\n",
       "\t4 & 20180101T0100 & temperature\\_mean &  9.790529\\\\\n",
       "\t5 & 20180101T0100 & temperature\\_min  &  5.790529\\\\\n",
       "\t6 & 20180101T0100 & temperature\\_max  & 13.790529\\\\\n",
       "\\end{tabular}\n"
      ],
      "text/markdown": [
       "\n",
       "A data.frame: 6 × 3\n",
       "\n",
       "| <!--/--> | timestamp &lt;fct&gt; | temperature_type &lt;fct&gt; | temperature &lt;dbl&gt; |\n",
       "|---|---|---|---|\n",
       "| 1 | 20180101T0000 | temperature_mean | 10.500529 |\n",
       "| 2 | 20180101T0000 | temperature_min  |  7.500529 |\n",
       "| 3 | 20180101T0000 | temperature_max  | 15.500529 |\n",
       "| 4 | 20180101T0100 | temperature_mean |  9.790529 |\n",
       "| 5 | 20180101T0100 | temperature_min  |  5.790529 |\n",
       "| 6 | 20180101T0100 | temperature_max  | 13.790529 |\n",
       "\n"
      ],
      "text/plain": [
       "  timestamp     temperature_type temperature\n",
       "1 20180101T0000 temperature_mean 10.500529  \n",
       "2 20180101T0000 temperature_min   7.500529  \n",
       "3 20180101T0000 temperature_max  15.500529  \n",
       "4 20180101T0100 temperature_mean  9.790529  \n",
       "5 20180101T0100 temperature_min   5.790529  \n",
       "6 20180101T0100 temperature_max  13.790529  "
      ]
     },
     "metadata": {},
     "output_type": "display_data"
    },
    {
     "data": {
      "text/html": [
       "<table class=\"dataframe\">\n",
       "<caption>A data.frame: 6 × 3</caption>\n",
       "<thead>\n",
       "\t<tr><th></th><th scope=col>timestamp</th><th scope=col>temperature_type</th><th scope=col>temperature</th></tr>\n",
       "\t<tr><th></th><th scope=col>&lt;fct&gt;</th><th scope=col>&lt;fct&gt;</th><th scope=col>&lt;dbl&gt;</th></tr>\n",
       "</thead>\n",
       "<tbody>\n",
       "\t<tr><th scope=row>1</th><td>20190101T0000</td><td>temperature_mean</td><td>5.0505285</td></tr>\n",
       "\t<tr><th scope=row>2</th><td>20190101T0000</td><td>temperature_min </td><td>0.0505285</td></tr>\n",
       "\t<tr><th scope=row>3</th><td>20190101T0000</td><td>temperature_max </td><td>9.0505285</td></tr>\n",
       "\t<tr><th scope=row>4</th><td>20190101T0100</td><td>temperature_mean</td><td>4.9005284</td></tr>\n",
       "\t<tr><th scope=row>5</th><td>20190101T0100</td><td>temperature_min </td><td>2.9005284</td></tr>\n",
       "\t<tr><th scope=row>6</th><td>20190101T0100</td><td>temperature_max </td><td>8.9005284</td></tr>\n",
       "</tbody>\n",
       "</table>\n"
      ],
      "text/latex": [
       "A data.frame: 6 × 3\n",
       "\\begin{tabular}{r|lll}\n",
       "  & timestamp & temperature\\_type & temperature\\\\\n",
       "  & <fct> & <fct> & <dbl>\\\\\n",
       "\\hline\n",
       "\t1 & 20190101T0000 & temperature\\_mean & 5.0505285\\\\\n",
       "\t2 & 20190101T0000 & temperature\\_min  & 0.0505285\\\\\n",
       "\t3 & 20190101T0000 & temperature\\_max  & 9.0505285\\\\\n",
       "\t4 & 20190101T0100 & temperature\\_mean & 4.9005284\\\\\n",
       "\t5 & 20190101T0100 & temperature\\_min  & 2.9005284\\\\\n",
       "\t6 & 20190101T0100 & temperature\\_max  & 8.9005284\\\\\n",
       "\\end{tabular}\n"
      ],
      "text/markdown": [
       "\n",
       "A data.frame: 6 × 3\n",
       "\n",
       "| <!--/--> | timestamp &lt;fct&gt; | temperature_type &lt;fct&gt; | temperature &lt;dbl&gt; |\n",
       "|---|---|---|---|\n",
       "| 1 | 20190101T0000 | temperature_mean | 5.0505285 |\n",
       "| 2 | 20190101T0000 | temperature_min  | 0.0505285 |\n",
       "| 3 | 20190101T0000 | temperature_max  | 9.0505285 |\n",
       "| 4 | 20190101T0100 | temperature_mean | 4.9005284 |\n",
       "| 5 | 20190101T0100 | temperature_min  | 2.9005284 |\n",
       "| 6 | 20190101T0100 | temperature_max  | 8.9005284 |\n",
       "\n"
      ],
      "text/plain": [
       "  timestamp     temperature_type temperature\n",
       "1 20190101T0000 temperature_mean 5.0505285  \n",
       "2 20190101T0000 temperature_min  0.0505285  \n",
       "3 20190101T0000 temperature_max  9.0505285  \n",
       "4 20190101T0100 temperature_mean 4.9005284  \n",
       "5 20190101T0100 temperature_min  2.9005284  \n",
       "6 20190101T0100 temperature_max  8.9005284  "
      ]
     },
     "metadata": {},
     "output_type": "display_data"
    },
    {
     "data": {
      "text/html": [
       "<table class=\"dataframe\">\n",
       "<caption>A data.frame: 6 × 3</caption>\n",
       "<thead>\n",
       "\t<tr><th></th><th scope=col>timestamp</th><th scope=col>temperature_type</th><th scope=col>temperature</th></tr>\n",
       "\t<tr><th></th><th scope=col>&lt;fct&gt;</th><th scope=col>&lt;fct&gt;</th><th scope=col>&lt;dbl&gt;</th></tr>\n",
       "</thead>\n",
       "<tbody>\n",
       "\t<tr><th scope=row>1</th><td>20200101T0000</td><td>temperature_mean</td><td>1.4905287</td></tr>\n",
       "\t<tr><th scope=row>2</th><td>20200101T0000</td><td>temperature_min </td><td>0.4905287</td></tr>\n",
       "\t<tr><th scope=row>3</th><td>20200101T0000</td><td>temperature_max </td><td>3.4905287</td></tr>\n",
       "\t<tr><th scope=row>4</th><td>20200101T0100</td><td>temperature_mean</td><td>1.6905286</td></tr>\n",
       "\t<tr><th scope=row>5</th><td>20200101T0100</td><td>temperature_min </td><td>0.6905286</td></tr>\n",
       "\t<tr><th scope=row>6</th><td>20200101T0100</td><td>temperature_max </td><td>6.6905286</td></tr>\n",
       "</tbody>\n",
       "</table>\n"
      ],
      "text/latex": [
       "A data.frame: 6 × 3\n",
       "\\begin{tabular}{r|lll}\n",
       "  & timestamp & temperature\\_type & temperature\\\\\n",
       "  & <fct> & <fct> & <dbl>\\\\\n",
       "\\hline\n",
       "\t1 & 20200101T0000 & temperature\\_mean & 1.4905287\\\\\n",
       "\t2 & 20200101T0000 & temperature\\_min  & 0.4905287\\\\\n",
       "\t3 & 20200101T0000 & temperature\\_max  & 3.4905287\\\\\n",
       "\t4 & 20200101T0100 & temperature\\_mean & 1.6905286\\\\\n",
       "\t5 & 20200101T0100 & temperature\\_min  & 0.6905286\\\\\n",
       "\t6 & 20200101T0100 & temperature\\_max  & 6.6905286\\\\\n",
       "\\end{tabular}\n"
      ],
      "text/markdown": [
       "\n",
       "A data.frame: 6 × 3\n",
       "\n",
       "| <!--/--> | timestamp &lt;fct&gt; | temperature_type &lt;fct&gt; | temperature &lt;dbl&gt; |\n",
       "|---|---|---|---|\n",
       "| 1 | 20200101T0000 | temperature_mean | 1.4905287 |\n",
       "| 2 | 20200101T0000 | temperature_min  | 0.4905287 |\n",
       "| 3 | 20200101T0000 | temperature_max  | 3.4905287 |\n",
       "| 4 | 20200101T0100 | temperature_mean | 1.6905286 |\n",
       "| 5 | 20200101T0100 | temperature_min  | 0.6905286 |\n",
       "| 6 | 20200101T0100 | temperature_max  | 6.6905286 |\n",
       "\n"
      ],
      "text/plain": [
       "  timestamp     temperature_type temperature\n",
       "1 20200101T0000 temperature_mean 1.4905287  \n",
       "2 20200101T0000 temperature_min  0.4905287  \n",
       "3 20200101T0000 temperature_max  3.4905287  \n",
       "4 20200101T0100 temperature_mean 1.6905286  \n",
       "5 20200101T0100 temperature_min  0.6905286  \n",
       "6 20200101T0100 temperature_max  6.6905286  "
      ]
     },
     "metadata": {},
     "output_type": "display_data"
    }
   ],
   "source": [
    "head(basel_weather_2018)\n",
    "head(basel_weather_2019)\n",
    "head(basel_weather_2020)"
   ]
  },
  {
   "cell_type": "code",
   "execution_count": 13,
   "id": "sweet-worship",
   "metadata": {
    "collapsed": true,
    "jupyter": {
     "outputs_hidden": true
    },
    "tags": []
   },
   "outputs": [
    {
     "data": {
      "text/html": [
       "<table class=\"dataframe\">\n",
       "<caption>A data.frame: 78912 × 4</caption>\n",
       "<thead>\n",
       "\t<tr><th scope=col>years</th><th scope=col>timestamp</th><th scope=col>temperature_type</th><th scope=col>temperature</th></tr>\n",
       "\t<tr><th scope=col>&lt;chr&gt;</th><th scope=col>&lt;fct&gt;</th><th scope=col>&lt;fct&gt;</th><th scope=col>&lt;dbl&gt;</th></tr>\n",
       "</thead>\n",
       "<tbody>\n",
       "\t<tr><td>1</td><td>20180101T0000</td><td>temperature_mean</td><td>10.500529</td></tr>\n",
       "\t<tr><td>1</td><td>20180101T0000</td><td>temperature_min </td><td> 7.500529</td></tr>\n",
       "\t<tr><td>1</td><td>20180101T0000</td><td>temperature_max </td><td>15.500529</td></tr>\n",
       "\t<tr><td>1</td><td>20180101T0100</td><td>temperature_mean</td><td> 9.790529</td></tr>\n",
       "\t<tr><td>1</td><td>20180101T0100</td><td>temperature_min </td><td> 5.790529</td></tr>\n",
       "\t<tr><td>1</td><td>20180101T0100</td><td>temperature_max </td><td>13.790529</td></tr>\n",
       "\t<tr><td>1</td><td>20180101T0200</td><td>temperature_mean</td><td> 8.970529</td></tr>\n",
       "\t<tr><td>1</td><td>20180101T0200</td><td>temperature_min </td><td> 6.970529</td></tr>\n",
       "\t<tr><td>1</td><td>20180101T0200</td><td>temperature_max </td><td> 9.970529</td></tr>\n",
       "\t<tr><td>1</td><td>20180101T0300</td><td>temperature_mean</td><td> 8.690529</td></tr>\n",
       "\t<tr><td>1</td><td>20180101T0300</td><td>temperature_min </td><td> 5.690529</td></tr>\n",
       "\t<tr><td>1</td><td>20180101T0300</td><td>temperature_max </td><td>11.690529</td></tr>\n",
       "\t<tr><td>1</td><td>20180101T0400</td><td>temperature_mean</td><td> 7.960528</td></tr>\n",
       "\t<tr><td>1</td><td>20180101T0400</td><td>temperature_min </td><td> 6.960528</td></tr>\n",
       "\t<tr><td>1</td><td>20180101T0400</td><td>temperature_max </td><td>11.960528</td></tr>\n",
       "\t<tr><td>1</td><td>20180101T0500</td><td>temperature_mean</td><td> 7.360529</td></tr>\n",
       "\t<tr><td>1</td><td>20180101T0500</td><td>temperature_min </td><td> 3.360529</td></tr>\n",
       "\t<tr><td>1</td><td>20180101T0500</td><td>temperature_max </td><td> 9.360528</td></tr>\n",
       "\t<tr><td>1</td><td>20180101T0600</td><td>temperature_mean</td><td> 6.810529</td></tr>\n",
       "\t<tr><td>1</td><td>20180101T0600</td><td>temperature_min </td><td> 1.810529</td></tr>\n",
       "\t<tr><td>1</td><td>20180101T0600</td><td>temperature_max </td><td>11.810529</td></tr>\n",
       "\t<tr><td>1</td><td>20180101T0700</td><td>temperature_mean</td><td> 6.150528</td></tr>\n",
       "\t<tr><td>1</td><td>20180101T0700</td><td>temperature_min </td><td> 4.150528</td></tr>\n",
       "\t<tr><td>1</td><td>20180101T0700</td><td>temperature_max </td><td> 7.150528</td></tr>\n",
       "\t<tr><td>1</td><td>20180101T0800</td><td>temperature_mean</td><td> 5.900528</td></tr>\n",
       "\t<tr><td>1</td><td>20180101T0800</td><td>temperature_min </td><td> 2.900528</td></tr>\n",
       "\t<tr><td>1</td><td>20180101T0800</td><td>temperature_max </td><td> 9.900528</td></tr>\n",
       "\t<tr><td>1</td><td>20180101T0900</td><td>temperature_mean</td><td> 5.930529</td></tr>\n",
       "\t<tr><td>1</td><td>20180101T0900</td><td>temperature_min </td><td> 1.930529</td></tr>\n",
       "\t<tr><td>1</td><td>20180101T0900</td><td>temperature_max </td><td> 8.930529</td></tr>\n",
       "\t<tr><td>...</td><td>...</td><td>...</td><td>...</td></tr>\n",
       "\t<tr><td>3</td><td>20201231T1400</td><td>temperature_mean</td><td> 5.6905284</td></tr>\n",
       "\t<tr><td>3</td><td>20201231T1400</td><td>temperature_min </td><td> 1.6905284</td></tr>\n",
       "\t<tr><td>3</td><td>20201231T1400</td><td>temperature_max </td><td> 9.6905284</td></tr>\n",
       "\t<tr><td>3</td><td>20201231T1500</td><td>temperature_mean</td><td> 5.8605285</td></tr>\n",
       "\t<tr><td>3</td><td>20201231T1500</td><td>temperature_min </td><td> 1.8605285</td></tr>\n",
       "\t<tr><td>3</td><td>20201231T1500</td><td>temperature_max </td><td> 9.8605285</td></tr>\n",
       "\t<tr><td>3</td><td>20201231T1600</td><td>temperature_mean</td><td> 5.2005286</td></tr>\n",
       "\t<tr><td>3</td><td>20201231T1600</td><td>temperature_min </td><td> 3.2005286</td></tr>\n",
       "\t<tr><td>3</td><td>20201231T1600</td><td>temperature_max </td><td>10.2005286</td></tr>\n",
       "\t<tr><td>3</td><td>20201231T1700</td><td>temperature_mean</td><td> 5.1205287</td></tr>\n",
       "\t<tr><td>3</td><td>20201231T1700</td><td>temperature_min </td><td> 3.1205287</td></tr>\n",
       "\t<tr><td>3</td><td>20201231T1700</td><td>temperature_max </td><td> 7.1205287</td></tr>\n",
       "\t<tr><td>3</td><td>20201231T1800</td><td>temperature_mean</td><td> 4.9205284</td></tr>\n",
       "\t<tr><td>3</td><td>20201231T1800</td><td>temperature_min </td><td> 3.9205284</td></tr>\n",
       "\t<tr><td>3</td><td>20201231T1800</td><td>temperature_max </td><td> 7.9205284</td></tr>\n",
       "\t<tr><td>3</td><td>20201231T1900</td><td>temperature_mean</td><td> 4.9905286</td></tr>\n",
       "\t<tr><td>3</td><td>20201231T1900</td><td>temperature_min </td><td> 0.9905286</td></tr>\n",
       "\t<tr><td>3</td><td>20201231T1900</td><td>temperature_max </td><td> 6.9905286</td></tr>\n",
       "\t<tr><td>3</td><td>20201231T2000</td><td>temperature_mean</td><td> 4.3605285</td></tr>\n",
       "\t<tr><td>3</td><td>20201231T2000</td><td>temperature_min </td><td> 0.3605285</td></tr>\n",
       "\t<tr><td>3</td><td>20201231T2000</td><td>temperature_max </td><td> 5.3605285</td></tr>\n",
       "\t<tr><td>3</td><td>20201231T2100</td><td>temperature_mean</td><td> 3.8205285</td></tr>\n",
       "\t<tr><td>3</td><td>20201231T2100</td><td>temperature_min </td><td> 1.8205285</td></tr>\n",
       "\t<tr><td>3</td><td>20201231T2100</td><td>temperature_max </td><td> 6.8205285</td></tr>\n",
       "\t<tr><td>3</td><td>20201231T2200</td><td>temperature_mean</td><td> 3.1705287</td></tr>\n",
       "\t<tr><td>3</td><td>20201231T2200</td><td>temperature_min </td><td> 2.1705287</td></tr>\n",
       "\t<tr><td>3</td><td>20201231T2200</td><td>temperature_max </td><td> 6.1705287</td></tr>\n",
       "\t<tr><td>3</td><td>20201231T2300</td><td>temperature_mean</td><td> 3.2905285</td></tr>\n",
       "\t<tr><td>3</td><td>20201231T2300</td><td>temperature_min </td><td> 0.2905285</td></tr>\n",
       "\t<tr><td>3</td><td>20201231T2300</td><td>temperature_max </td><td> 8.2905285</td></tr>\n",
       "</tbody>\n",
       "</table>\n"
      ],
      "text/latex": [
       "A data.frame: 78912 × 4\n",
       "\\begin{tabular}{llll}\n",
       " years & timestamp & temperature\\_type & temperature\\\\\n",
       " <chr> & <fct> & <fct> & <dbl>\\\\\n",
       "\\hline\n",
       "\t 1 & 20180101T0000 & temperature\\_mean & 10.500529\\\\\n",
       "\t 1 & 20180101T0000 & temperature\\_min  &  7.500529\\\\\n",
       "\t 1 & 20180101T0000 & temperature\\_max  & 15.500529\\\\\n",
       "\t 1 & 20180101T0100 & temperature\\_mean &  9.790529\\\\\n",
       "\t 1 & 20180101T0100 & temperature\\_min  &  5.790529\\\\\n",
       "\t 1 & 20180101T0100 & temperature\\_max  & 13.790529\\\\\n",
       "\t 1 & 20180101T0200 & temperature\\_mean &  8.970529\\\\\n",
       "\t 1 & 20180101T0200 & temperature\\_min  &  6.970529\\\\\n",
       "\t 1 & 20180101T0200 & temperature\\_max  &  9.970529\\\\\n",
       "\t 1 & 20180101T0300 & temperature\\_mean &  8.690529\\\\\n",
       "\t 1 & 20180101T0300 & temperature\\_min  &  5.690529\\\\\n",
       "\t 1 & 20180101T0300 & temperature\\_max  & 11.690529\\\\\n",
       "\t 1 & 20180101T0400 & temperature\\_mean &  7.960528\\\\\n",
       "\t 1 & 20180101T0400 & temperature\\_min  &  6.960528\\\\\n",
       "\t 1 & 20180101T0400 & temperature\\_max  & 11.960528\\\\\n",
       "\t 1 & 20180101T0500 & temperature\\_mean &  7.360529\\\\\n",
       "\t 1 & 20180101T0500 & temperature\\_min  &  3.360529\\\\\n",
       "\t 1 & 20180101T0500 & temperature\\_max  &  9.360528\\\\\n",
       "\t 1 & 20180101T0600 & temperature\\_mean &  6.810529\\\\\n",
       "\t 1 & 20180101T0600 & temperature\\_min  &  1.810529\\\\\n",
       "\t 1 & 20180101T0600 & temperature\\_max  & 11.810529\\\\\n",
       "\t 1 & 20180101T0700 & temperature\\_mean &  6.150528\\\\\n",
       "\t 1 & 20180101T0700 & temperature\\_min  &  4.150528\\\\\n",
       "\t 1 & 20180101T0700 & temperature\\_max  &  7.150528\\\\\n",
       "\t 1 & 20180101T0800 & temperature\\_mean &  5.900528\\\\\n",
       "\t 1 & 20180101T0800 & temperature\\_min  &  2.900528\\\\\n",
       "\t 1 & 20180101T0800 & temperature\\_max  &  9.900528\\\\\n",
       "\t 1 & 20180101T0900 & temperature\\_mean &  5.930529\\\\\n",
       "\t 1 & 20180101T0900 & temperature\\_min  &  1.930529\\\\\n",
       "\t 1 & 20180101T0900 & temperature\\_max  &  8.930529\\\\\n",
       "\t ... & ... & ... & ...\\\\\n",
       "\t 3 & 20201231T1400 & temperature\\_mean &  5.6905284\\\\\n",
       "\t 3 & 20201231T1400 & temperature\\_min  &  1.6905284\\\\\n",
       "\t 3 & 20201231T1400 & temperature\\_max  &  9.6905284\\\\\n",
       "\t 3 & 20201231T1500 & temperature\\_mean &  5.8605285\\\\\n",
       "\t 3 & 20201231T1500 & temperature\\_min  &  1.8605285\\\\\n",
       "\t 3 & 20201231T1500 & temperature\\_max  &  9.8605285\\\\\n",
       "\t 3 & 20201231T1600 & temperature\\_mean &  5.2005286\\\\\n",
       "\t 3 & 20201231T1600 & temperature\\_min  &  3.2005286\\\\\n",
       "\t 3 & 20201231T1600 & temperature\\_max  & 10.2005286\\\\\n",
       "\t 3 & 20201231T1700 & temperature\\_mean &  5.1205287\\\\\n",
       "\t 3 & 20201231T1700 & temperature\\_min  &  3.1205287\\\\\n",
       "\t 3 & 20201231T1700 & temperature\\_max  &  7.1205287\\\\\n",
       "\t 3 & 20201231T1800 & temperature\\_mean &  4.9205284\\\\\n",
       "\t 3 & 20201231T1800 & temperature\\_min  &  3.9205284\\\\\n",
       "\t 3 & 20201231T1800 & temperature\\_max  &  7.9205284\\\\\n",
       "\t 3 & 20201231T1900 & temperature\\_mean &  4.9905286\\\\\n",
       "\t 3 & 20201231T1900 & temperature\\_min  &  0.9905286\\\\\n",
       "\t 3 & 20201231T1900 & temperature\\_max  &  6.9905286\\\\\n",
       "\t 3 & 20201231T2000 & temperature\\_mean &  4.3605285\\\\\n",
       "\t 3 & 20201231T2000 & temperature\\_min  &  0.3605285\\\\\n",
       "\t 3 & 20201231T2000 & temperature\\_max  &  5.3605285\\\\\n",
       "\t 3 & 20201231T2100 & temperature\\_mean &  3.8205285\\\\\n",
       "\t 3 & 20201231T2100 & temperature\\_min  &  1.8205285\\\\\n",
       "\t 3 & 20201231T2100 & temperature\\_max  &  6.8205285\\\\\n",
       "\t 3 & 20201231T2200 & temperature\\_mean &  3.1705287\\\\\n",
       "\t 3 & 20201231T2200 & temperature\\_min  &  2.1705287\\\\\n",
       "\t 3 & 20201231T2200 & temperature\\_max  &  6.1705287\\\\\n",
       "\t 3 & 20201231T2300 & temperature\\_mean &  3.2905285\\\\\n",
       "\t 3 & 20201231T2300 & temperature\\_min  &  0.2905285\\\\\n",
       "\t 3 & 20201231T2300 & temperature\\_max  &  8.2905285\\\\\n",
       "\\end{tabular}\n"
      ],
      "text/markdown": [
       "\n",
       "A data.frame: 78912 × 4\n",
       "\n",
       "| years &lt;chr&gt; | timestamp &lt;fct&gt; | temperature_type &lt;fct&gt; | temperature &lt;dbl&gt; |\n",
       "|---|---|---|---|\n",
       "| 1 | 20180101T0000 | temperature_mean | 10.500529 |\n",
       "| 1 | 20180101T0000 | temperature_min  |  7.500529 |\n",
       "| 1 | 20180101T0000 | temperature_max  | 15.500529 |\n",
       "| 1 | 20180101T0100 | temperature_mean |  9.790529 |\n",
       "| 1 | 20180101T0100 | temperature_min  |  5.790529 |\n",
       "| 1 | 20180101T0100 | temperature_max  | 13.790529 |\n",
       "| 1 | 20180101T0200 | temperature_mean |  8.970529 |\n",
       "| 1 | 20180101T0200 | temperature_min  |  6.970529 |\n",
       "| 1 | 20180101T0200 | temperature_max  |  9.970529 |\n",
       "| 1 | 20180101T0300 | temperature_mean |  8.690529 |\n",
       "| 1 | 20180101T0300 | temperature_min  |  5.690529 |\n",
       "| 1 | 20180101T0300 | temperature_max  | 11.690529 |\n",
       "| 1 | 20180101T0400 | temperature_mean |  7.960528 |\n",
       "| 1 | 20180101T0400 | temperature_min  |  6.960528 |\n",
       "| 1 | 20180101T0400 | temperature_max  | 11.960528 |\n",
       "| 1 | 20180101T0500 | temperature_mean |  7.360529 |\n",
       "| 1 | 20180101T0500 | temperature_min  |  3.360529 |\n",
       "| 1 | 20180101T0500 | temperature_max  |  9.360528 |\n",
       "| 1 | 20180101T0600 | temperature_mean |  6.810529 |\n",
       "| 1 | 20180101T0600 | temperature_min  |  1.810529 |\n",
       "| 1 | 20180101T0600 | temperature_max  | 11.810529 |\n",
       "| 1 | 20180101T0700 | temperature_mean |  6.150528 |\n",
       "| 1 | 20180101T0700 | temperature_min  |  4.150528 |\n",
       "| 1 | 20180101T0700 | temperature_max  |  7.150528 |\n",
       "| 1 | 20180101T0800 | temperature_mean |  5.900528 |\n",
       "| 1 | 20180101T0800 | temperature_min  |  2.900528 |\n",
       "| 1 | 20180101T0800 | temperature_max  |  9.900528 |\n",
       "| 1 | 20180101T0900 | temperature_mean |  5.930529 |\n",
       "| 1 | 20180101T0900 | temperature_min  |  1.930529 |\n",
       "| 1 | 20180101T0900 | temperature_max  |  8.930529 |\n",
       "| ... | ... | ... | ... |\n",
       "| 3 | 20201231T1400 | temperature_mean |  5.6905284 |\n",
       "| 3 | 20201231T1400 | temperature_min  |  1.6905284 |\n",
       "| 3 | 20201231T1400 | temperature_max  |  9.6905284 |\n",
       "| 3 | 20201231T1500 | temperature_mean |  5.8605285 |\n",
       "| 3 | 20201231T1500 | temperature_min  |  1.8605285 |\n",
       "| 3 | 20201231T1500 | temperature_max  |  9.8605285 |\n",
       "| 3 | 20201231T1600 | temperature_mean |  5.2005286 |\n",
       "| 3 | 20201231T1600 | temperature_min  |  3.2005286 |\n",
       "| 3 | 20201231T1600 | temperature_max  | 10.2005286 |\n",
       "| 3 | 20201231T1700 | temperature_mean |  5.1205287 |\n",
       "| 3 | 20201231T1700 | temperature_min  |  3.1205287 |\n",
       "| 3 | 20201231T1700 | temperature_max  |  7.1205287 |\n",
       "| 3 | 20201231T1800 | temperature_mean |  4.9205284 |\n",
       "| 3 | 20201231T1800 | temperature_min  |  3.9205284 |\n",
       "| 3 | 20201231T1800 | temperature_max  |  7.9205284 |\n",
       "| 3 | 20201231T1900 | temperature_mean |  4.9905286 |\n",
       "| 3 | 20201231T1900 | temperature_min  |  0.9905286 |\n",
       "| 3 | 20201231T1900 | temperature_max  |  6.9905286 |\n",
       "| 3 | 20201231T2000 | temperature_mean |  4.3605285 |\n",
       "| 3 | 20201231T2000 | temperature_min  |  0.3605285 |\n",
       "| 3 | 20201231T2000 | temperature_max  |  5.3605285 |\n",
       "| 3 | 20201231T2100 | temperature_mean |  3.8205285 |\n",
       "| 3 | 20201231T2100 | temperature_min  |  1.8205285 |\n",
       "| 3 | 20201231T2100 | temperature_max  |  6.8205285 |\n",
       "| 3 | 20201231T2200 | temperature_mean |  3.1705287 |\n",
       "| 3 | 20201231T2200 | temperature_min  |  2.1705287 |\n",
       "| 3 | 20201231T2200 | temperature_max  |  6.1705287 |\n",
       "| 3 | 20201231T2300 | temperature_mean |  3.2905285 |\n",
       "| 3 | 20201231T2300 | temperature_min  |  0.2905285 |\n",
       "| 3 | 20201231T2300 | temperature_max  |  8.2905285 |\n",
       "\n"
      ],
      "text/plain": [
       "      years timestamp     temperature_type temperature\n",
       "1     1     20180101T0000 temperature_mean 10.500529  \n",
       "2     1     20180101T0000 temperature_min   7.500529  \n",
       "3     1     20180101T0000 temperature_max  15.500529  \n",
       "4     1     20180101T0100 temperature_mean  9.790529  \n",
       "5     1     20180101T0100 temperature_min   5.790529  \n",
       "6     1     20180101T0100 temperature_max  13.790529  \n",
       "7     1     20180101T0200 temperature_mean  8.970529  \n",
       "8     1     20180101T0200 temperature_min   6.970529  \n",
       "9     1     20180101T0200 temperature_max   9.970529  \n",
       "10    1     20180101T0300 temperature_mean  8.690529  \n",
       "11    1     20180101T0300 temperature_min   5.690529  \n",
       "12    1     20180101T0300 temperature_max  11.690529  \n",
       "13    1     20180101T0400 temperature_mean  7.960528  \n",
       "14    1     20180101T0400 temperature_min   6.960528  \n",
       "15    1     20180101T0400 temperature_max  11.960528  \n",
       "16    1     20180101T0500 temperature_mean  7.360529  \n",
       "17    1     20180101T0500 temperature_min   3.360529  \n",
       "18    1     20180101T0500 temperature_max   9.360528  \n",
       "19    1     20180101T0600 temperature_mean  6.810529  \n",
       "20    1     20180101T0600 temperature_min   1.810529  \n",
       "21    1     20180101T0600 temperature_max  11.810529  \n",
       "22    1     20180101T0700 temperature_mean  6.150528  \n",
       "23    1     20180101T0700 temperature_min   4.150528  \n",
       "24    1     20180101T0700 temperature_max   7.150528  \n",
       "25    1     20180101T0800 temperature_mean  5.900528  \n",
       "26    1     20180101T0800 temperature_min   2.900528  \n",
       "27    1     20180101T0800 temperature_max   9.900528  \n",
       "28    1     20180101T0900 temperature_mean  5.930529  \n",
       "29    1     20180101T0900 temperature_min   1.930529  \n",
       "30    1     20180101T0900 temperature_max   8.930529  \n",
       "...   ...   ...           ...              ...        \n",
       "78883 3     20201231T1400 temperature_mean  5.6905284 \n",
       "78884 3     20201231T1400 temperature_min   1.6905284 \n",
       "78885 3     20201231T1400 temperature_max   9.6905284 \n",
       "78886 3     20201231T1500 temperature_mean  5.8605285 \n",
       "78887 3     20201231T1500 temperature_min   1.8605285 \n",
       "78888 3     20201231T1500 temperature_max   9.8605285 \n",
       "78889 3     20201231T1600 temperature_mean  5.2005286 \n",
       "78890 3     20201231T1600 temperature_min   3.2005286 \n",
       "78891 3     20201231T1600 temperature_max  10.2005286 \n",
       "78892 3     20201231T1700 temperature_mean  5.1205287 \n",
       "78893 3     20201231T1700 temperature_min   3.1205287 \n",
       "78894 3     20201231T1700 temperature_max   7.1205287 \n",
       "78895 3     20201231T1800 temperature_mean  4.9205284 \n",
       "78896 3     20201231T1800 temperature_min   3.9205284 \n",
       "78897 3     20201231T1800 temperature_max   7.9205284 \n",
       "78898 3     20201231T1900 temperature_mean  4.9905286 \n",
       "78899 3     20201231T1900 temperature_min   0.9905286 \n",
       "78900 3     20201231T1900 temperature_max   6.9905286 \n",
       "78901 3     20201231T2000 temperature_mean  4.3605285 \n",
       "78902 3     20201231T2000 temperature_min   0.3605285 \n",
       "78903 3     20201231T2000 temperature_max   5.3605285 \n",
       "78904 3     20201231T2100 temperature_mean  3.8205285 \n",
       "78905 3     20201231T2100 temperature_min   1.8205285 \n",
       "78906 3     20201231T2100 temperature_max   6.8205285 \n",
       "78907 3     20201231T2200 temperature_mean  3.1705287 \n",
       "78908 3     20201231T2200 temperature_min   2.1705287 \n",
       "78909 3     20201231T2200 temperature_max   6.1705287 \n",
       "78910 3     20201231T2300 temperature_mean  3.2905285 \n",
       "78911 3     20201231T2300 temperature_min   0.2905285 \n",
       "78912 3     20201231T2300 temperature_max   8.2905285 "
      ]
     },
     "metadata": {},
     "output_type": "display_data"
    },
    {
     "data": {
      "text/html": [
       "<table class=\"dataframe\">\n",
       "<caption>A tibble: 1 × 3</caption>\n",
       "<thead>\n",
       "\t<tr><th scope=col>basel_weather_2018</th><th scope=col>basel_weather_2019</th><th scope=col>basel_weather_2020</th></tr>\n",
       "\t<tr><th scope=col>&lt;dbl&gt;</th><th scope=col>&lt;dbl&gt;</th><th scope=col>&lt;dbl&gt;</th></tr>\n",
       "</thead>\n",
       "<tbody>\n",
       "\t<tr><td>1</td><td>2</td><td>3</td></tr>\n",
       "</tbody>\n",
       "</table>\n"
      ],
      "text/latex": [
       "A tibble: 1 × 3\n",
       "\\begin{tabular}{lll}\n",
       " basel\\_weather\\_2018 & basel\\_weather\\_2019 & basel\\_weather\\_2020\\\\\n",
       " <dbl> & <dbl> & <dbl>\\\\\n",
       "\\hline\n",
       "\t 1 & 2 & 3\\\\\n",
       "\\end{tabular}\n"
      ],
      "text/markdown": [
       "\n",
       "A tibble: 1 × 3\n",
       "\n",
       "| basel_weather_2018 &lt;dbl&gt; | basel_weather_2019 &lt;dbl&gt; | basel_weather_2020 &lt;dbl&gt; |\n",
       "|---|---|---|\n",
       "| 1 | 2 | 3 |\n",
       "\n"
      ],
      "text/plain": [
       "  basel_weather_2018 basel_weather_2019 basel_weather_2020\n",
       "1 1                  2                  3                 "
      ]
     },
     "metadata": {},
     "output_type": "display_data"
    }
   ],
   "source": [
    "bind_rows(basel_weather_2018, basel_weather_2019, basel_weather_2020, .id = \"years\")\n",
    "bind_rows(\"basel_weather_2018\" = 1, \"basel_weather_2019\" = 2, \"basel_weather_2020\" = 3, .id = years)"
   ]
  },
  {
   "cell_type": "code",
   "execution_count": 14,
   "id": "olive-sleeve",
   "metadata": {},
   "outputs": [
    {
     "data": {
      "text/html": [
       "<table class=\"dataframe\">\n",
       "<caption>A data.frame: 6 × 5</caption>\n",
       "<thead>\n",
       "\t<tr><th></th><th scope=col>years</th><th scope=col>timestamp</th><th scope=col>temperature_max</th><th scope=col>temperature_mean</th><th scope=col>temperature_min</th></tr>\n",
       "\t<tr><th></th><th scope=col>&lt;chr&gt;</th><th scope=col>&lt;fct&gt;</th><th scope=col>&lt;dbl&gt;</th><th scope=col>&lt;dbl&gt;</th><th scope=col>&lt;dbl&gt;</th></tr>\n",
       "</thead>\n",
       "<tbody>\n",
       "\t<tr><th scope=row>1</th><td>1</td><td>20180101T0000</td><td>15.500529</td><td>10.500529</td><td>7.500529</td></tr>\n",
       "\t<tr><th scope=row>2</th><td>1</td><td>20180101T0100</td><td>13.790529</td><td> 9.790529</td><td>5.790529</td></tr>\n",
       "\t<tr><th scope=row>3</th><td>1</td><td>20180101T0200</td><td> 9.970529</td><td> 8.970529</td><td>6.970529</td></tr>\n",
       "\t<tr><th scope=row>4</th><td>1</td><td>20180101T0300</td><td>11.690529</td><td> 8.690529</td><td>5.690529</td></tr>\n",
       "\t<tr><th scope=row>5</th><td>1</td><td>20180101T0400</td><td>11.960528</td><td> 7.960528</td><td>6.960528</td></tr>\n",
       "\t<tr><th scope=row>6</th><td>1</td><td>20180101T0500</td><td> 9.360528</td><td> 7.360529</td><td>3.360529</td></tr>\n",
       "</tbody>\n",
       "</table>\n"
      ],
      "text/latex": [
       "A data.frame: 6 × 5\n",
       "\\begin{tabular}{r|lllll}\n",
       "  & years & timestamp & temperature\\_max & temperature\\_mean & temperature\\_min\\\\\n",
       "  & <chr> & <fct> & <dbl> & <dbl> & <dbl>\\\\\n",
       "\\hline\n",
       "\t1 & 1 & 20180101T0000 & 15.500529 & 10.500529 & 7.500529\\\\\n",
       "\t2 & 1 & 20180101T0100 & 13.790529 &  9.790529 & 5.790529\\\\\n",
       "\t3 & 1 & 20180101T0200 &  9.970529 &  8.970529 & 6.970529\\\\\n",
       "\t4 & 1 & 20180101T0300 & 11.690529 &  8.690529 & 5.690529\\\\\n",
       "\t5 & 1 & 20180101T0400 & 11.960528 &  7.960528 & 6.960528\\\\\n",
       "\t6 & 1 & 20180101T0500 &  9.360528 &  7.360529 & 3.360529\\\\\n",
       "\\end{tabular}\n"
      ],
      "text/markdown": [
       "\n",
       "A data.frame: 6 × 5\n",
       "\n",
       "| <!--/--> | years &lt;chr&gt; | timestamp &lt;fct&gt; | temperature_max &lt;dbl&gt; | temperature_mean &lt;dbl&gt; | temperature_min &lt;dbl&gt; |\n",
       "|---|---|---|---|---|---|\n",
       "| 1 | 1 | 20180101T0000 | 15.500529 | 10.500529 | 7.500529 |\n",
       "| 2 | 1 | 20180101T0100 | 13.790529 |  9.790529 | 5.790529 |\n",
       "| 3 | 1 | 20180101T0200 |  9.970529 |  8.970529 | 6.970529 |\n",
       "| 4 | 1 | 20180101T0300 | 11.690529 |  8.690529 | 5.690529 |\n",
       "| 5 | 1 | 20180101T0400 | 11.960528 |  7.960528 | 6.960528 |\n",
       "| 6 | 1 | 20180101T0500 |  9.360528 |  7.360529 | 3.360529 |\n",
       "\n"
      ],
      "text/plain": [
       "  years timestamp     temperature_max temperature_mean temperature_min\n",
       "1 1     20180101T0000 15.500529       10.500529        7.500529       \n",
       "2 1     20180101T0100 13.790529        9.790529        5.790529       \n",
       "3 1     20180101T0200  9.970529        8.970529        6.970529       \n",
       "4 1     20180101T0300 11.690529        8.690529        5.690529       \n",
       "5 1     20180101T0400 11.960528        7.960528        6.960528       \n",
       "6 1     20180101T0500  9.360528        7.360529        3.360529       "
      ]
     },
     "metadata": {},
     "output_type": "display_data"
    },
    {
     "data": {
      "text/html": [
       "<table class=\"dataframe\">\n",
       "<caption>A tibble: 1 × 3</caption>\n",
       "<thead>\n",
       "\t<tr><th scope=col>basel_weather_2018</th><th scope=col>basel_weather_2019</th><th scope=col>basel_weather_2020</th></tr>\n",
       "\t<tr><th scope=col>&lt;dbl&gt;</th><th scope=col>&lt;dbl&gt;</th><th scope=col>&lt;dbl&gt;</th></tr>\n",
       "</thead>\n",
       "<tbody>\n",
       "\t<tr><td>1</td><td>2</td><td>3</td></tr>\n",
       "</tbody>\n",
       "</table>\n"
      ],
      "text/latex": [
       "A tibble: 1 × 3\n",
       "\\begin{tabular}{lll}\n",
       " basel\\_weather\\_2018 & basel\\_weather\\_2019 & basel\\_weather\\_2020\\\\\n",
       " <dbl> & <dbl> & <dbl>\\\\\n",
       "\\hline\n",
       "\t 1 & 2 & 3\\\\\n",
       "\\end{tabular}\n"
      ],
      "text/markdown": [
       "\n",
       "A tibble: 1 × 3\n",
       "\n",
       "| basel_weather_2018 &lt;dbl&gt; | basel_weather_2019 &lt;dbl&gt; | basel_weather_2020 &lt;dbl&gt; |\n",
       "|---|---|---|\n",
       "| 1 | 2 | 3 |\n",
       "\n"
      ],
      "text/plain": [
       "  basel_weather_2018 basel_weather_2019 basel_weather_2020\n",
       "1 1                  2                  3                 "
      ]
     },
     "metadata": {},
     "output_type": "display_data"
    }
   ],
   "source": [
    "data <-bind_rows(basel_weather_2018, basel_weather_2019, basel_weather_2020, .id = \"years\")\n",
    "data <- data %>%\n",
    "spread(temperature_type,temperature)\n",
    "head(data)\n",
    "bind_rows(\"basel_weather_2018\" = 1, \"basel_weather_2019\" = 2, \"basel_weather_2020\" = 3, .id = years)"
   ]
  },
  {
   "cell_type": "code",
   "execution_count": 15,
   "id": "forward-rainbow",
   "metadata": {},
   "outputs": [
    {
     "data": {
      "text/html": [
       "<table class=\"dataframe\">\n",
       "<caption>A data.frame: 6 × 9</caption>\n",
       "<thead>\n",
       "\t<tr><th></th><th scope=col>years</th><th scope=col>timestamp</th><th scope=col>temperature_max</th><th scope=col>temperature_mean</th><th scope=col>temperature_min</th><th scope=col>year</th><th scope=col>month</th><th scope=col>day</th><th scope=col>hour</th></tr>\n",
       "\t<tr><th></th><th scope=col>&lt;chr&gt;</th><th scope=col>&lt;fct&gt;</th><th scope=col>&lt;dbl&gt;</th><th scope=col>&lt;dbl&gt;</th><th scope=col>&lt;dbl&gt;</th><th scope=col>&lt;chr&gt;</th><th scope=col>&lt;chr&gt;</th><th scope=col>&lt;chr&gt;</th><th scope=col>&lt;chr&gt;</th></tr>\n",
       "</thead>\n",
       "<tbody>\n",
       "\t<tr><th scope=row>1</th><td>1</td><td>20180101T0000</td><td>15.500529</td><td>10.500529</td><td>7.500529</td><td>2018</td><td>01</td><td>01</td><td>0000</td></tr>\n",
       "\t<tr><th scope=row>2</th><td>1</td><td>20180101T0100</td><td>13.790529</td><td> 9.790529</td><td>5.790529</td><td>2018</td><td>01</td><td>01</td><td>0100</td></tr>\n",
       "\t<tr><th scope=row>3</th><td>1</td><td>20180101T0200</td><td> 9.970529</td><td> 8.970529</td><td>6.970529</td><td>2018</td><td>01</td><td>01</td><td>0200</td></tr>\n",
       "\t<tr><th scope=row>4</th><td>1</td><td>20180101T0300</td><td>11.690529</td><td> 8.690529</td><td>5.690529</td><td>2018</td><td>01</td><td>01</td><td>0300</td></tr>\n",
       "\t<tr><th scope=row>5</th><td>1</td><td>20180101T0400</td><td>11.960528</td><td> 7.960528</td><td>6.960528</td><td>2018</td><td>01</td><td>01</td><td>0400</td></tr>\n",
       "\t<tr><th scope=row>6</th><td>1</td><td>20180101T0500</td><td> 9.360528</td><td> 7.360529</td><td>3.360529</td><td>2018</td><td>01</td><td>01</td><td>0500</td></tr>\n",
       "</tbody>\n",
       "</table>\n"
      ],
      "text/latex": [
       "A data.frame: 6 × 9\n",
       "\\begin{tabular}{r|lllllllll}\n",
       "  & years & timestamp & temperature\\_max & temperature\\_mean & temperature\\_min & year & month & day & hour\\\\\n",
       "  & <chr> & <fct> & <dbl> & <dbl> & <dbl> & <chr> & <chr> & <chr> & <chr>\\\\\n",
       "\\hline\n",
       "\t1 & 1 & 20180101T0000 & 15.500529 & 10.500529 & 7.500529 & 2018 & 01 & 01 & 0000\\\\\n",
       "\t2 & 1 & 20180101T0100 & 13.790529 &  9.790529 & 5.790529 & 2018 & 01 & 01 & 0100\\\\\n",
       "\t3 & 1 & 20180101T0200 &  9.970529 &  8.970529 & 6.970529 & 2018 & 01 & 01 & 0200\\\\\n",
       "\t4 & 1 & 20180101T0300 & 11.690529 &  8.690529 & 5.690529 & 2018 & 01 & 01 & 0300\\\\\n",
       "\t5 & 1 & 20180101T0400 & 11.960528 &  7.960528 & 6.960528 & 2018 & 01 & 01 & 0400\\\\\n",
       "\t6 & 1 & 20180101T0500 &  9.360528 &  7.360529 & 3.360529 & 2018 & 01 & 01 & 0500\\\\\n",
       "\\end{tabular}\n"
      ],
      "text/markdown": [
       "\n",
       "A data.frame: 6 × 9\n",
       "\n",
       "| <!--/--> | years &lt;chr&gt; | timestamp &lt;fct&gt; | temperature_max &lt;dbl&gt; | temperature_mean &lt;dbl&gt; | temperature_min &lt;dbl&gt; | year &lt;chr&gt; | month &lt;chr&gt; | day &lt;chr&gt; | hour &lt;chr&gt; |\n",
       "|---|---|---|---|---|---|---|---|---|---|\n",
       "| 1 | 1 | 20180101T0000 | 15.500529 | 10.500529 | 7.500529 | 2018 | 01 | 01 | 0000 |\n",
       "| 2 | 1 | 20180101T0100 | 13.790529 |  9.790529 | 5.790529 | 2018 | 01 | 01 | 0100 |\n",
       "| 3 | 1 | 20180101T0200 |  9.970529 |  8.970529 | 6.970529 | 2018 | 01 | 01 | 0200 |\n",
       "| 4 | 1 | 20180101T0300 | 11.690529 |  8.690529 | 5.690529 | 2018 | 01 | 01 | 0300 |\n",
       "| 5 | 1 | 20180101T0400 | 11.960528 |  7.960528 | 6.960528 | 2018 | 01 | 01 | 0400 |\n",
       "| 6 | 1 | 20180101T0500 |  9.360528 |  7.360529 | 3.360529 | 2018 | 01 | 01 | 0500 |\n",
       "\n"
      ],
      "text/plain": [
       "  years timestamp     temperature_max temperature_mean temperature_min year\n",
       "1 1     20180101T0000 15.500529       10.500529        7.500529        2018\n",
       "2 1     20180101T0100 13.790529        9.790529        5.790529        2018\n",
       "3 1     20180101T0200  9.970529        8.970529        6.970529        2018\n",
       "4 1     20180101T0300 11.690529        8.690529        5.690529        2018\n",
       "5 1     20180101T0400 11.960528        7.960528        6.960528        2018\n",
       "6 1     20180101T0500  9.360528        7.360529        3.360529        2018\n",
       "  month day hour\n",
       "1 01    01  0000\n",
       "2 01    01  0100\n",
       "3 01    01  0200\n",
       "4 01    01  0300\n",
       "5 01    01  0400\n",
       "6 01    01  0500"
      ]
     },
     "metadata": {},
     "output_type": "display_data"
    }
   ],
   "source": [
    "data <- mutate(data, year = substr(data$timestamp, 1, 4))\n",
    "data <- mutate(data, month = substr(data$timestamp, 5, 6))\n",
    "data <- mutate(data, day = substr(data$timestamp, 7, 8))\n",
    "data <- mutate(data, hour = substr(data$timestamp, 10, 13))\n",
    "head(data)"
   ]
  },
  {
   "cell_type": "code",
   "execution_count": 16,
   "id": "addressed-forwarding",
   "metadata": {},
   "outputs": [
    {
     "name": "stdout",
     "output_type": "stream",
     "text": [
      "\u001b[90m# A tibble: 12 x 2\u001b[39m\n",
      "   month max_temperature\n",
      " \u001b[90m*\u001b[39m \u001b[3m\u001b[90m<chr>\u001b[39m\u001b[23m           \u001b[3m\u001b[90m<dbl>\u001b[39m\u001b[23m\n",
      "\u001b[90m 1\u001b[39m 01               7.89\n",
      "\u001b[90m 2\u001b[39m 02               8.28\n",
      "\u001b[90m 3\u001b[39m 03              10.9 \n",
      "\u001b[90m 4\u001b[39m 04              16.5 \n",
      "\u001b[90m 5\u001b[39m 05              18.2 \n",
      "\u001b[90m 6\u001b[39m 06              22.9 \n",
      "\u001b[90m 7\u001b[39m 07              25.2 \n",
      "\u001b[90m 8\u001b[39m 08              25.1 \n",
      "\u001b[90m 9\u001b[39m 09              21.2 \n",
      "\u001b[90m10\u001b[39m 10              16.3 \n",
      "\u001b[90m11\u001b[39m 11              11.3 \n",
      "\u001b[90m12\u001b[39m 12               8.68\n"
     ]
    }
   ],
   "source": [
    "monthly_temp <- data %>%\n",
    "group_by(month) %>%\n",
    "summarise(max_temperature = mean(temperature_max)) %>%\n",
    "print()"
   ]
  },
  {
   "cell_type": "code",
   "execution_count": 17,
   "id": "helpful-stephen",
   "metadata": {},
   "outputs": [
    {
     "data": {
      "image/png": "[encoded data removed]",
      "text/plain": [
       "plot without title"
      ]
     },
     "metadata": {
      "image/png": {
       "height": 420,
       "width": 420
      }
     },
     "output_type": "display_data"
    }
   ],
   "source": [
    "ggplot(monthly_temp, aes(month, max_temperature, group = 1)) + \n",
    "geom_point() +\n",
    "geom_line()"
   ]
  },
  {
   "cell_type": "code",
   "execution_count": 18,
   "id": "equipped-darwin",
   "metadata": {},
   "outputs": [
    {
     "name": "stdout",
     "output_type": "stream",
     "text": [
      "\u001b[90m# A tibble: 24 x 2\u001b[39m\n",
      "   hour  mean_temperature\n",
      " \u001b[90m*\u001b[39m \u001b[3m\u001b[90m<chr>\u001b[39m\u001b[23m            \u001b[3m\u001b[90m<dbl>\u001b[39m\u001b[23m\n",
      "\u001b[90m 1\u001b[39m 0000             11.3 \n",
      "\u001b[90m 2\u001b[39m 0100             10.9 \n",
      "\u001b[90m 3\u001b[39m 0200             10.5 \n",
      "\u001b[90m 4\u001b[39m 0300             10.1 \n",
      "\u001b[90m 5\u001b[39m 0400              9.81\n",
      "\u001b[90m 6\u001b[39m 0500              9.56\n",
      "\u001b[90m 7\u001b[39m 0600              9.51\n",
      "\u001b[90m 8\u001b[39m 0700              9.85\n",
      "\u001b[90m 9\u001b[39m 0800             10.7 \n",
      "\u001b[90m10\u001b[39m 0900             11.9 \n",
      "\u001b[90m# ... with 14 more rows\u001b[39m\n"
     ]
    }
   ],
   "source": [
    "hourly_temp <- data %>%\n",
    "group_by(hour) %>%\n",
    "summarise(mean_temperature = mean(temperature_mean)) %>%\n",
    "print()"
   ]
  },
  {
   "cell_type": "code",
   "execution_count": 25,
   "id": "stone-print",
   "metadata": {},
   "outputs": [
    {
     "data": {
      "image/png": "[encoded data removed]",
      "text/plain": [
       "plot without title"
      ]
     },
     "metadata": {
      "image/png": {
       "height": 420,
       "width": 420
      }
     },
     "output_type": "display_data"
    }
   ],
   "source": [
    "ggplot(hourly_temp, aes(hour, mean_temperature, group = 1)) + \n",
    "geom_point() +\n",
    "geom_line() "
   ]
  }
 ],
 "metadata": {
  "kernelspec": {
   "display_name": "R",
   "language": "R",
   "name": "ir"
  },
  "language_info": {
   "codemirror_mode": "r",
   "file_extension": ".r",
   "mimetype": "text/x-r-source",
   "name": "R",
   "pygments_lexer": "r",
   "version": "3.6.1"
  }
 },
 "nbformat": 4,
 "nbformat_minor": 5
}
