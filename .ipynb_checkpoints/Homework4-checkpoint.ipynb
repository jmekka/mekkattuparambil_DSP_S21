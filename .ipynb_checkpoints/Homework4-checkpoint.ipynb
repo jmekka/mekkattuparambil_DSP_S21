{
 "cells": [
  {
   "cell_type": "markdown",
   "id": "technical-russell",
   "metadata": {},
   "source": [
    "Homework 4: Linear models\n",
    "\n",
    "> [VP] - 29/32 points. Please see comments denoted by [VP] below. In the future homeworks, please copy paste the homework notebook and fill out your responses there as it is easier for me to follow your code when it is structured well"
   ]
  },
  {
   "cell_type": "markdown",
   "id": "sapphire-elevation",
   "metadata": {},
   "source": [
    "Part 1: Loading and organizing data"
   ]
  },
  {
   "cell_type": "code",
   "execution_count": 1,
   "id": "agreed-large",
   "metadata": {},
   "outputs": [
    {
     "data": {
      "text/html": [
       "'C:/Users/Jini/DSP_homeworks'"
      ],
      "text/latex": [
       "'C:/Users/Jini/DSP\\_homeworks'"
      ],
      "text/markdown": [
       "'C:/Users/Jini/DSP_homeworks'"
      ],
      "text/plain": [
       "[1] \"C:/Users/Jini/DSP_homeworks\""
      ]
     },
     "metadata": {},
     "output_type": "display_data"
    }
   ],
   "source": [
    "getwd()"
   ]
  },
  {
   "cell_type": "code",
   "execution_count": 2,
   "id": "southeast-nevada",
   "metadata": {},
   "outputs": [],
   "source": [
    "setwd('C:/Users/Jini/DataSciencePsychUZH/Homeworks/data')"
   ]
  },
  {
   "cell_type": "code",
   "execution_count": 3,
   "id": "featured-fabric",
   "metadata": {},
   "outputs": [
    {
     "name": "stderr",
     "output_type": "stream",
     "text": [
      "Warning message:\n",
      "\"package 'tidyverse' was built under R version 3.6.3\"\n",
      "-- \u001b[1mAttaching packages\u001b[22m ------------------------------------------------------------------------------- tidyverse 1.3.0 --\n",
      "\n",
      "\u001b[32mv\u001b[39m \u001b[34mggplot2\u001b[39m 3.2.1     \u001b[32mv\u001b[39m \u001b[34mpurrr  \u001b[39m 0.3.3\n",
      "\u001b[32mv\u001b[39m \u001b[34mtibble \u001b[39m 2.1.3     \u001b[32mv\u001b[39m \u001b[34mdplyr  \u001b[39m 1.0.4\n",
      "\u001b[32mv\u001b[39m \u001b[34mtidyr  \u001b[39m 1.0.0     \u001b[32mv\u001b[39m \u001b[34mstringr\u001b[39m 1.4.0\n",
      "\u001b[32mv\u001b[39m \u001b[34mreadr  \u001b[39m 1.3.1     \u001b[32mv\u001b[39m \u001b[34mforcats\u001b[39m 0.5.0\n",
      "\n",
      "Warning message:\n",
      "\"package 'readr' was built under R version 3.6.3\"\n",
      "Warning message:\n",
      "\"package 'dplyr' was built under R version 3.6.3\"\n",
      "Warning message:\n",
      "\"package 'forcats' was built under R version 3.6.3\"\n",
      "-- \u001b[1mConflicts\u001b[22m ---------------------------------------------------------------------------------- tidyverse_conflicts() --\n",
      "\u001b[31mx\u001b[39m \u001b[34mdplyr\u001b[39m::\u001b[32mfilter()\u001b[39m masks \u001b[34mstats\u001b[39m::filter()\n",
      "\u001b[31mx\u001b[39m \u001b[34mdplyr\u001b[39m::\u001b[32mlag()\u001b[39m    masks \u001b[34mstats\u001b[39m::lag()\n",
      "\n"
     ]
    }
   ],
   "source": [
    "library(tidyverse)"
   ]
  },
  {
   "cell_type": "code",
   "execution_count": 4,
   "id": "swedish-bryan",
   "metadata": {
    "collapsed": true,
    "jupyter": {
     "outputs_hidden": true
    },
    "tags": []
   },
   "outputs": [
    {
     "name": "stdout",
     "output_type": "stream",
     "text": [
      "'data.frame':\t333970 obs. of  8 variables:\n",
      " $ Sub_ID    : int  85 85 85 85 85 85 85 85 85 85 ...\n",
      " $ Trial     : int  83 84 85 86 87 88 89 90 91 92 ...\n",
      " $ Type      : int  0 1 1 1 1 1 1 0 0 0 ...\n",
      " $ D_Accuracy: int  1 1 1 1 1 0 1 1 1 0 ...\n",
      " $ D_RT      : int  796 1056 541 1215 587 1072 677 1109 2014 1361 ...\n",
      " $ D_word    : Factor w/ 80962 levels \"a\",\"aah\",\"aal\",..: 54285 34192 33191 43038 63606 321 10135 20126 75562 16441 ...\n",
      " $ Outlier   : int  0 0 0 0 0 0 0 0 1 0 ...\n",
      " $ D_Zscore  : num  0.0531 0.9732 -0.8494 1.5359 -0.6866 ...\n"
     ]
    },
    {
     "data": {
      "text/html": [
       "<table class=\"dataframe\">\n",
       "<caption>A data.frame: 6 × 8</caption>\n",
       "<thead>\n",
       "\t<tr><th></th><th scope=col>Sub_ID</th><th scope=col>Trial</th><th scope=col>Type</th><th scope=col>D_Accuracy</th><th scope=col>D_RT</th><th scope=col>D_word</th><th scope=col>Outlier</th><th scope=col>D_Zscore</th></tr>\n",
       "\t<tr><th></th><th scope=col>&lt;int&gt;</th><th scope=col>&lt;int&gt;</th><th scope=col>&lt;int&gt;</th><th scope=col>&lt;int&gt;</th><th scope=col>&lt;int&gt;</th><th scope=col>&lt;fct&gt;</th><th scope=col>&lt;int&gt;</th><th scope=col>&lt;dbl&gt;</th></tr>\n",
       "</thead>\n",
       "<tbody>\n",
       "\t<tr><th scope=row>1</th><td>85</td><td>83</td><td>0</td><td>1</td><td> 796</td><td>pisect      </td><td>0</td><td> 0.053086</td></tr>\n",
       "\t<tr><th scope=row>2</th><td>85</td><td>84</td><td>1</td><td>1</td><td>1056</td><td>hindquarters</td><td>0</td><td> 0.973239</td></tr>\n",
       "\t<tr><th scope=row>3</th><td>85</td><td>85</td><td>1</td><td>1</td><td> 541</td><td>healthy     </td><td>0</td><td>-0.849372</td></tr>\n",
       "\t<tr><th scope=row>4</th><td>85</td><td>86</td><td>1</td><td>1</td><td>1215</td><td>loony       </td><td>0</td><td> 1.535949</td></tr>\n",
       "\t<tr><th scope=row>5</th><td>85</td><td>87</td><td>1</td><td>1</td><td> 587</td><td>seahorse    </td><td>0</td><td>-0.686576</td></tr>\n",
       "\t<tr><th scope=row>6</th><td>85</td><td>88</td><td>1</td><td>0</td><td>1072</td><td>abysmal     </td><td>0</td><td> 1.029864</td></tr>\n",
       "</tbody>\n",
       "</table>\n"
      ],
      "text/latex": [
       "A data.frame: 6 × 8\n",
       "\\begin{tabular}{r|llllllll}\n",
       "  & Sub\\_ID & Trial & Type & D\\_Accuracy & D\\_RT & D\\_word & Outlier & D\\_Zscore\\\\\n",
       "  & <int> & <int> & <int> & <int> & <int> & <fct> & <int> & <dbl>\\\\\n",
       "\\hline\n",
       "\t1 & 85 & 83 & 0 & 1 &  796 & pisect       & 0 &  0.053086\\\\\n",
       "\t2 & 85 & 84 & 1 & 1 & 1056 & hindquarters & 0 &  0.973239\\\\\n",
       "\t3 & 85 & 85 & 1 & 1 &  541 & healthy      & 0 & -0.849372\\\\\n",
       "\t4 & 85 & 86 & 1 & 1 & 1215 & loony        & 0 &  1.535949\\\\\n",
       "\t5 & 85 & 87 & 1 & 1 &  587 & seahorse     & 0 & -0.686576\\\\\n",
       "\t6 & 85 & 88 & 1 & 0 & 1072 & abysmal      & 0 &  1.029864\\\\\n",
       "\\end{tabular}\n"
      ],
      "text/markdown": [
       "\n",
       "A data.frame: 6 × 8\n",
       "\n",
       "| <!--/--> | Sub_ID &lt;int&gt; | Trial &lt;int&gt; | Type &lt;int&gt; | D_Accuracy &lt;int&gt; | D_RT &lt;int&gt; | D_word &lt;fct&gt; | Outlier &lt;int&gt; | D_Zscore &lt;dbl&gt; |\n",
       "|---|---|---|---|---|---|---|---|---|\n",
       "| 1 | 85 | 83 | 0 | 1 |  796 | pisect       | 0 |  0.053086 |\n",
       "| 2 | 85 | 84 | 1 | 1 | 1056 | hindquarters | 0 |  0.973239 |\n",
       "| 3 | 85 | 85 | 1 | 1 |  541 | healthy      | 0 | -0.849372 |\n",
       "| 4 | 85 | 86 | 1 | 1 | 1215 | loony        | 0 |  1.535949 |\n",
       "| 5 | 85 | 87 | 1 | 1 |  587 | seahorse     | 0 | -0.686576 |\n",
       "| 6 | 85 | 88 | 1 | 0 | 1072 | abysmal      | 0 |  1.029864 |\n",
       "\n"
      ],
      "text/plain": [
       "  Sub_ID Trial Type D_Accuracy D_RT D_word       Outlier D_Zscore \n",
       "1 85     83    0    1           796 pisect       0        0.053086\n",
       "2 85     84    1    1          1056 hindquarters 0        0.973239\n",
       "3 85     85    1    1           541 healthy      0       -0.849372\n",
       "4 85     86    1    1          1215 loony        0        1.535949\n",
       "5 85     87    1    1           587 seahorse     0       -0.686576\n",
       "6 85     88    1    0          1072 abysmal      0        1.029864"
      ]
     },
     "metadata": {},
     "output_type": "display_data"
    },
    {
     "data": {
      "text/plain": [
       "     Sub_ID           Trial           Type       D_Accuracy      \n",
       " Min.   :  1.00   Min.   :   1   Min.   :0.0   Min.   :  0.0000  \n",
       " 1st Qu.: 26.00   1st Qu.: 844   1st Qu.:0.0   1st Qu.:  1.0000  \n",
       " Median : 51.00   Median :1687   Median :0.5   Median :  1.0000  \n",
       " Mean   : 50.91   Mean   :1687   Mean   :0.5   Mean   :  0.8688  \n",
       " 3rd Qu.: 76.00   3rd Qu.:2531   3rd Qu.:1.0   3rd Qu.:  1.0000  \n",
       " Max.   :100.00   Max.   :3374   Max.   :1.0   Max.   :120.0000  \n",
       "                                                                 \n",
       "      D_RT             D_word          Outlier           D_Zscore      \n",
       " Min.   :   1.0   aback   :     5   Min.   :0.00000   Min.   :-4.0400  \n",
       " 1st Qu.: 619.0   abacus  :     5   1st Qu.:0.00000   1st Qu.:-0.5500  \n",
       " Median : 771.0   abards  :     5   Median :0.00000   Median :-0.0793  \n",
       " Mean   : 907.5   abbed   :     5   Mean   :0.03758   Mean   : 0.2139  \n",
       " 3rd Qu.:1045.0   abbede  :     5   3rd Qu.:0.00000   3rd Qu.: 0.6632  \n",
       " Max.   :4000.0   Abbeluia:     5   Max.   :1.00000   Max.   :19.1251  \n",
       "                  (Other) :333940                                      "
      ]
     },
     "metadata": {},
     "output_type": "display_data"
    }
   ],
   "source": [
    "ldt_trials <-read.csv('ldt_trials.csv')\n",
    "    str(ldt_trials)\n",
    "    head(ldt_trials)\n",
    "    summary(ldt_trials)"
   ]
  },
  {
   "cell_type": "code",
   "execution_count": 6,
   "id": "subject-netscape",
   "metadata": {
    "collapsed": true,
    "jupyter": {
     "outputs_hidden": true
    },
    "tags": []
   },
   "outputs": [
    {
     "name": "stdout",
     "output_type": "stream",
     "text": [
      "'data.frame':\t8710 obs. of  5 variables:\n",
      " $ Word               : Factor w/ 8710 levels \"abandon\",\"abdomen\",..: 1 2 3 4 5 6 7 8 9 10 ...\n",
      " $ Length             : int  7 7 9 9 5 7 4 8 5 8 ...\n",
      " $ SUBTLWF            : num  8.1 3.35 3.41 3.63 2.71 ...\n",
      " $ Concreteness_Rating: num  2.54 4.7 4.28 3.07 1.68 1.81 2.38 2.14 2.83 3.41 ...\n",
      " $ Emotional_Valence  : num  2.84 5.43 4.48 2.05 5.52 7 6.64 3.53 3.1 2.58 ...\n"
     ]
    },
    {
     "data": {
      "text/html": [
       "<table class=\"dataframe\">\n",
       "<caption>A data.frame: 6 × 5</caption>\n",
       "<thead>\n",
       "\t<tr><th></th><th scope=col>Word</th><th scope=col>Length</th><th scope=col>SUBTLWF</th><th scope=col>Concreteness_Rating</th><th scope=col>Emotional_Valence</th></tr>\n",
       "\t<tr><th></th><th scope=col>&lt;fct&gt;</th><th scope=col>&lt;int&gt;</th><th scope=col>&lt;dbl&gt;</th><th scope=col>&lt;dbl&gt;</th><th scope=col>&lt;dbl&gt;</th></tr>\n",
       "</thead>\n",
       "<tbody>\n",
       "\t<tr><th scope=row>1</th><td>abandon  </td><td>7</td><td> 8.10</td><td>2.54</td><td>2.84</td></tr>\n",
       "\t<tr><th scope=row>2</th><td>abdomen  </td><td>7</td><td> 3.35</td><td>4.70</td><td>5.43</td></tr>\n",
       "\t<tr><th scope=row>3</th><td>abdominal</td><td>9</td><td> 3.41</td><td>4.28</td><td>4.48</td></tr>\n",
       "\t<tr><th scope=row>4</th><td>abduction</td><td>9</td><td> 3.63</td><td>3.07</td><td>2.05</td></tr>\n",
       "\t<tr><th scope=row>5</th><td>abide    </td><td>5</td><td> 2.71</td><td>1.68</td><td>5.52</td></tr>\n",
       "\t<tr><th scope=row>6</th><td>ability  </td><td>7</td><td>19.22</td><td>1.81</td><td>7.00</td></tr>\n",
       "</tbody>\n",
       "</table>\n"
      ],
      "text/latex": [
       "A data.frame: 6 × 5\n",
       "\\begin{tabular}{r|lllll}\n",
       "  & Word & Length & SUBTLWF & Concreteness\\_Rating & Emotional\\_Valence\\\\\n",
       "  & <fct> & <int> & <dbl> & <dbl> & <dbl>\\\\\n",
       "\\hline\n",
       "\t1 & abandon   & 7 &  8.10 & 2.54 & 2.84\\\\\n",
       "\t2 & abdomen   & 7 &  3.35 & 4.70 & 5.43\\\\\n",
       "\t3 & abdominal & 9 &  3.41 & 4.28 & 4.48\\\\\n",
       "\t4 & abduction & 9 &  3.63 & 3.07 & 2.05\\\\\n",
       "\t5 & abide     & 5 &  2.71 & 1.68 & 5.52\\\\\n",
       "\t6 & ability   & 7 & 19.22 & 1.81 & 7.00\\\\\n",
       "\\end{tabular}\n"
      ],
      "text/markdown": [
       "\n",
       "A data.frame: 6 × 5\n",
       "\n",
       "| <!--/--> | Word &lt;fct&gt; | Length &lt;int&gt; | SUBTLWF &lt;dbl&gt; | Concreteness_Rating &lt;dbl&gt; | Emotional_Valence &lt;dbl&gt; |\n",
       "|---|---|---|---|---|---|\n",
       "| 1 | abandon   | 7 |  8.10 | 2.54 | 2.84 |\n",
       "| 2 | abdomen   | 7 |  3.35 | 4.70 | 5.43 |\n",
       "| 3 | abdominal | 9 |  3.41 | 4.28 | 4.48 |\n",
       "| 4 | abduction | 9 |  3.63 | 3.07 | 2.05 |\n",
       "| 5 | abide     | 5 |  2.71 | 1.68 | 5.52 |\n",
       "| 6 | ability   | 7 | 19.22 | 1.81 | 7.00 |\n",
       "\n"
      ],
      "text/plain": [
       "  Word      Length SUBTLWF Concreteness_Rating Emotional_Valence\n",
       "1 abandon   7       8.10   2.54                2.84             \n",
       "2 abdomen   7       3.35   4.70                5.43             \n",
       "3 abdominal 9       3.41   4.28                4.48             \n",
       "4 abduction 9       3.63   3.07                2.05             \n",
       "5 abide     5       2.71   1.68                5.52             \n",
       "6 ability   7      19.22   1.81                7.00             "
      ]
     },
     "metadata": {},
     "output_type": "display_data"
    },
    {
     "data": {
      "text/plain": [
       "        Word          Length          SUBTLWF        Concreteness_Rating\n",
       " abandon  :   1   Min.   : 2.000   Min.   :   1.00   Min.   :1.120      \n",
       " abdomen  :   1   1st Qu.: 5.000   1st Qu.:   1.76   1st Qu.:2.410      \n",
       " abdominal:   1   Median : 7.000   Median :   3.86   Median :3.400      \n",
       " abduction:   1   Mean   : 6.854   Mean   :  32.05   Mean   :3.384      \n",
       " abide    :   1   3rd Qu.: 8.000   3rd Qu.:  12.10   3rd Qu.:4.380      \n",
       " ability  :   1   Max.   :14.000   Max.   :6161.41   Max.   :5.000      \n",
       " (Other)  :8704                                                         \n",
       " Emotional_Valence\n",
       " Min.   :1.300    \n",
       " 1st Qu.:4.370    \n",
       " Median :5.320    \n",
       " Mean   :5.165    \n",
       " 3rd Qu.:6.100    \n",
       " Max.   :8.530    \n",
       "                  "
      ]
     },
     "metadata": {},
     "output_type": "display_data"
    }
   ],
   "source": [
    "word_properties <-read.csv('word_properties.csv')\n",
    "    str(word_properties)\n",
    "    head(word_properties)\n",
    "    summary(word_properties)"
   ]
  },
  {
   "cell_type": "code",
   "execution_count": 7,
   "id": "colored-upset",
   "metadata": {
    "collapsed": true,
    "jupyter": {
     "outputs_hidden": true
    },
    "tags": []
   },
   "outputs": [
    {
     "data": {
      "text/html": [
       "<table class=\"dataframe\">\n",
       "<caption>A data.frame: 35978 × 12</caption>\n",
       "<thead>\n",
       "\t<tr><th scope=col>Word</th><th scope=col>Length</th><th scope=col>SUBTLWF</th><th scope=col>Concreteness_Rating</th><th scope=col>Emotional_Valence</th><th scope=col>Sub_ID</th><th scope=col>Trial</th><th scope=col>Type</th><th scope=col>D_Accuracy</th><th scope=col>D_RT</th><th scope=col>Outlier</th><th scope=col>D_Zscore</th></tr>\n",
       "\t<tr><th scope=col>&lt;fct&gt;</th><th scope=col>&lt;int&gt;</th><th scope=col>&lt;dbl&gt;</th><th scope=col>&lt;dbl&gt;</th><th scope=col>&lt;dbl&gt;</th><th scope=col>&lt;int&gt;</th><th scope=col>&lt;int&gt;</th><th scope=col>&lt;int&gt;</th><th scope=col>&lt;int&gt;</th><th scope=col>&lt;int&gt;</th><th scope=col>&lt;int&gt;</th><th scope=col>&lt;dbl&gt;</th></tr>\n",
       "</thead>\n",
       "<tbody>\n",
       "\t<tr><td>abandon  </td><td>7</td><td>  8.10</td><td>2.54</td><td>2.84</td><td>92</td><td>2242</td><td>1</td><td>1</td><td>1049</td><td>0</td><td> 1.194629</td></tr>\n",
       "\t<tr><td>abandon  </td><td>7</td><td>  8.10</td><td>2.54</td><td>2.84</td><td>59</td><td>3222</td><td>1</td><td>0</td><td>2334</td><td>1</td><td> 5.904986</td></tr>\n",
       "\t<tr><td>abandon  </td><td>7</td><td>  8.10</td><td>2.54</td><td>2.84</td><td>22</td><td> 618</td><td>1</td><td>1</td><td> 751</td><td>0</td><td>-0.657156</td></tr>\n",
       "\t<tr><td>abandon  </td><td>7</td><td>  8.10</td><td>2.54</td><td>2.84</td><td>41</td><td>  75</td><td>1</td><td>1</td><td> 568</td><td>0</td><td>-0.132601</td></tr>\n",
       "\t<tr><td>abdomen  </td><td>7</td><td>  3.35</td><td>4.70</td><td>5.43</td><td>57</td><td>3071</td><td>1</td><td>1</td><td> 718</td><td>0</td><td>-0.401426</td></tr>\n",
       "\t<tr><td>abdomen  </td><td>7</td><td>  3.35</td><td>4.70</td><td>5.43</td><td>91</td><td> 421</td><td>1</td><td>0</td><td> 575</td><td>0</td><td>-0.795914</td></tr>\n",
       "\t<tr><td>abdomen  </td><td>7</td><td>  3.35</td><td>4.70</td><td>5.43</td><td>28</td><td> 439</td><td>1</td><td>1</td><td>1043</td><td>0</td><td> 0.816981</td></tr>\n",
       "\t<tr><td>abdominal</td><td>9</td><td>  3.41</td><td>4.28</td><td>4.48</td><td>98</td><td>2648</td><td>1</td><td>1</td><td> 615</td><td>0</td><td>-0.284076</td></tr>\n",
       "\t<tr><td>abdominal</td><td>9</td><td>  3.41</td><td>4.28</td><td>4.48</td><td>81</td><td>1722</td><td>1</td><td>1</td><td>1188</td><td>0</td><td> 0.946606</td></tr>\n",
       "\t<tr><td>abdominal</td><td>9</td><td>  3.41</td><td>4.28</td><td>4.48</td><td>65</td><td> 193</td><td>1</td><td>1</td><td> 752</td><td>0</td><td>-0.507450</td></tr>\n",
       "\t<tr><td>abdominal</td><td>9</td><td>  3.41</td><td>4.28</td><td>4.48</td><td> 9</td><td> 775</td><td>1</td><td>1</td><td> 533</td><td>0</td><td>-0.617617</td></tr>\n",
       "\t<tr><td>abdominal</td><td>9</td><td>  3.41</td><td>4.28</td><td>4.48</td><td>47</td><td>2576</td><td>1</td><td>0</td><td>1079</td><td>0</td><td> 1.688243</td></tr>\n",
       "\t<tr><td>abduction</td><td>9</td><td>  3.63</td><td>3.07</td><td>2.05</td><td>66</td><td> 312</td><td>1</td><td>1</td><td> 595</td><td>0</td><td>-0.182025</td></tr>\n",
       "\t<tr><td>abduction</td><td>9</td><td>  3.63</td><td>3.07</td><td>2.05</td><td>16</td><td>1648</td><td>1</td><td>1</td><td> 619</td><td>0</td><td>-0.511111</td></tr>\n",
       "\t<tr><td>abduction</td><td>9</td><td>  3.63</td><td>3.07</td><td>2.05</td><td>46</td><td> 453</td><td>1</td><td>1</td><td> 839</td><td>0</td><td>-0.075166</td></tr>\n",
       "\t<tr><td>abduction</td><td>9</td><td>  3.63</td><td>3.07</td><td>2.05</td><td>85</td><td>1028</td><td>1</td><td>1</td><td> 779</td><td>0</td><td>-0.007078</td></tr>\n",
       "\t<tr><td>abide    </td><td>5</td><td>  2.71</td><td>1.68</td><td>5.52</td><td>49</td><td> 686</td><td>1</td><td>1</td><td> 679</td><td>0</td><td>-0.125645</td></tr>\n",
       "\t<tr><td>abide    </td><td>5</td><td>  2.71</td><td>1.68</td><td>5.52</td><td>89</td><td>2501</td><td>1</td><td>1</td><td> 483</td><td>0</td><td>-1.203333</td></tr>\n",
       "\t<tr><td>abide    </td><td>5</td><td>  2.71</td><td>1.68</td><td>5.52</td><td>26</td><td>2572</td><td>1</td><td>1</td><td> 697</td><td>0</td><td>-0.325904</td></tr>\n",
       "\t<tr><td>abide    </td><td>5</td><td>  2.71</td><td>1.68</td><td>5.52</td><td>12</td><td>2899</td><td>1</td><td>1</td><td> 550</td><td>0</td><td>-0.772849</td></tr>\n",
       "\t<tr><td>ability  </td><td>7</td><td> 19.22</td><td>1.81</td><td>7.00</td><td>87</td><td>1259</td><td>1</td><td>1</td><td> 957</td><td>0</td><td> 0.831324</td></tr>\n",
       "\t<tr><td>ability  </td><td>7</td><td> 19.22</td><td>1.81</td><td>7.00</td><td>67</td><td> 655</td><td>1</td><td>1</td><td> 645</td><td>0</td><td>-0.551933</td></tr>\n",
       "\t<tr><td>ability  </td><td>7</td><td> 19.22</td><td>1.81</td><td>7.00</td><td> 6</td><td>2617</td><td>1</td><td>1</td><td> 574</td><td>0</td><td>-0.966307</td></tr>\n",
       "\t<tr><td>ability  </td><td>7</td><td> 19.22</td><td>1.81</td><td>7.00</td><td>45</td><td>  60</td><td>1</td><td>1</td><td> 441</td><td>0</td><td>-0.898118</td></tr>\n",
       "\t<tr><td>able     </td><td>4</td><td>159.90</td><td>2.38</td><td>6.64</td><td>98</td><td>3240</td><td>1</td><td>1</td><td> 618</td><td>0</td><td>-0.262771</td></tr>\n",
       "\t<tr><td>able     </td><td>4</td><td>159.90</td><td>2.38</td><td>6.64</td><td>84</td><td> 404</td><td>1</td><td>1</td><td> 573</td><td>0</td><td>-0.444608</td></tr>\n",
       "\t<tr><td>able     </td><td>4</td><td>159.90</td><td>2.38</td><td>6.64</td><td>65</td><td> 700</td><td>1</td><td>1</td><td> 595</td><td>0</td><td>-1.106471</td></tr>\n",
       "\t<tr><td>able     </td><td>4</td><td>159.90</td><td>2.38</td><td>6.64</td><td>15</td><td> 623</td><td>1</td><td>1</td><td> 590</td><td>0</td><td>-0.608373</td></tr>\n",
       "\t<tr><td>able     </td><td>4</td><td>159.90</td><td>2.38</td><td>6.64</td><td>37</td><td>2415</td><td>1</td><td>1</td><td> 540</td><td>0</td><td>-0.850725</td></tr>\n",
       "\t<tr><td>abnormal </td><td>8</td><td>  2.90</td><td>2.14</td><td>3.53</td><td>83</td><td>1177</td><td>1</td><td>1</td><td> 595</td><td>0</td><td>-0.510687</td></tr>\n",
       "\t<tr><td>...</td><td>...</td><td>...</td><td>...</td><td>...</td><td>...</td><td>...</td><td>...</td><td>...</td><td>...</td><td>...</td><td>...</td></tr>\n",
       "\t<tr><td>zip   </td><td>3</td><td> 7.63</td><td>3.50</td><td>5.06</td><td>83</td><td>2625</td><td>1</td><td>1</td><td> 602</td><td>0</td><td>-0.474210</td></tr>\n",
       "\t<tr><td>zip   </td><td>3</td><td> 7.63</td><td>3.50</td><td>5.06</td><td>23</td><td>1982</td><td>1</td><td>0</td><td> 580</td><td>0</td><td>-0.257724</td></tr>\n",
       "\t<tr><td>zip   </td><td>3</td><td> 7.63</td><td>3.50</td><td>5.06</td><td>32</td><td> 813</td><td>1</td><td>1</td><td> 629</td><td>0</td><td>-0.795353</td></tr>\n",
       "\t<tr><td>zip   </td><td>3</td><td> 7.63</td><td>3.50</td><td>5.06</td><td>50</td><td>2422</td><td>1</td><td>1</td><td> 525</td><td>0</td><td>-0.483357</td></tr>\n",
       "\t<tr><td>zipper</td><td>6</td><td> 2.82</td><td>4.83</td><td>5.11</td><td>94</td><td>1821</td><td>1</td><td>1</td><td> 519</td><td>0</td><td>-0.578143</td></tr>\n",
       "\t<tr><td>zipper</td><td>6</td><td> 2.82</td><td>4.83</td><td>5.11</td><td>70</td><td>2113</td><td>1</td><td>1</td><td> 514</td><td>0</td><td>-0.909897</td></tr>\n",
       "\t<tr><td>zipper</td><td>6</td><td> 2.82</td><td>4.83</td><td>5.11</td><td>28</td><td>2421</td><td>1</td><td>1</td><td> 666</td><td>0</td><td>-0.685467</td></tr>\n",
       "\t<tr><td>zipper</td><td>6</td><td> 2.82</td><td>4.83</td><td>5.11</td><td>15</td><td>3249</td><td>1</td><td>1</td><td> 490</td><td>0</td><td>-1.019436</td></tr>\n",
       "\t<tr><td>zombie</td><td>6</td><td> 3.61</td><td>4.16</td><td>3.57</td><td>85</td><td>1885</td><td>1</td><td>1</td><td> 971</td><td>0</td><td> 0.672420</td></tr>\n",
       "\t<tr><td>zombie</td><td>6</td><td> 3.61</td><td>4.16</td><td>3.57</td><td>55</td><td>2825</td><td>1</td><td>1</td><td> 534</td><td>0</td><td>-0.258477</td></tr>\n",
       "\t<tr><td>zombie</td><td>6</td><td> 3.61</td><td>4.16</td><td>3.57</td><td>11</td><td> 136</td><td>1</td><td>0</td><td> 435</td><td>0</td><td>-0.958141</td></tr>\n",
       "\t<tr><td>zombie</td><td>6</td><td> 3.61</td><td>4.16</td><td>3.57</td><td>47</td><td>1775</td><td>1</td><td>1</td><td> 697</td><td>0</td><td>-0.017865</td></tr>\n",
       "\t<tr><td>zone  </td><td>4</td><td>20.12</td><td>3.07</td><td>4.75</td><td>48</td><td>2109</td><td>1</td><td>1</td><td> 569</td><td>0</td><td>-0.778332</td></tr>\n",
       "\t<tr><td>zone  </td><td>4</td><td>20.12</td><td>3.07</td><td>4.75</td><td>78</td><td> 208</td><td>1</td><td>1</td><td> 729</td><td>0</td><td>-1.016574</td></tr>\n",
       "\t<tr><td>zone  </td><td>4</td><td>20.12</td><td>3.07</td><td>4.75</td><td>65</td><td>1994</td><td>1</td><td>1</td><td> 656</td><td>0</td><td>-0.873730</td></tr>\n",
       "\t<tr><td>zone  </td><td>4</td><td>20.12</td><td>3.07</td><td>4.75</td><td> 4</td><td>2538</td><td>1</td><td>1</td><td> 515</td><td>0</td><td>-0.599876</td></tr>\n",
       "\t<tr><td>zoning</td><td>6</td><td> 1.20</td><td>2.45</td><td>4.65</td><td>82</td><td> 270</td><td>1</td><td>1</td><td>1049</td><td>0</td><td>-0.294310</td></tr>\n",
       "\t<tr><td>zoning</td><td>6</td><td> 1.20</td><td>2.45</td><td>4.65</td><td>63</td><td>1017</td><td>1</td><td>0</td><td> 469</td><td>0</td><td>-1.151697</td></tr>\n",
       "\t<tr><td>zoning</td><td>6</td><td> 1.20</td><td>2.45</td><td>4.65</td><td>24</td><td>2828</td><td>1</td><td>1</td><td> 665</td><td>0</td><td> 0.093317</td></tr>\n",
       "\t<tr><td>zoning</td><td>6</td><td> 1.20</td><td>2.45</td><td>4.65</td><td>44</td><td>3224</td><td>1</td><td>1</td><td> 711</td><td>0</td><td>-0.241786</td></tr>\n",
       "\t<tr><td>zoo   </td><td>3</td><td>13.65</td><td>4.81</td><td>7.00</td><td>84</td><td>3018</td><td>1</td><td>1</td><td> 471</td><td>0</td><td>-1.074468</td></tr>\n",
       "\t<tr><td>zoo   </td><td>3</td><td>13.65</td><td>4.81</td><td>7.00</td><td>97</td><td>2143</td><td>1</td><td>1</td><td> 718</td><td>0</td><td>-0.039043</td></tr>\n",
       "\t<tr><td>zoo   </td><td>3</td><td>13.65</td><td>4.81</td><td>7.00</td><td> 1</td><td>2704</td><td>1</td><td>1</td><td> 424</td><td>0</td><td>-1.051395</td></tr>\n",
       "\t<tr><td>zoo   </td><td>3</td><td>13.65</td><td>4.81</td><td>7.00</td><td>62</td><td> 637</td><td>1</td><td>1</td><td> 831</td><td>0</td><td>-1.157154</td></tr>\n",
       "\t<tr><td>zoo   </td><td>3</td><td>13.65</td><td>4.81</td><td>7.00</td><td>36</td><td>1066</td><td>1</td><td>1</td><td> 476</td><td>0</td><td>-1.069121</td></tr>\n",
       "\t<tr><td>zoom  </td><td>4</td><td> 3.55</td><td>3.10</td><td>5.86</td><td>83</td><td> 131</td><td>1</td><td>1</td><td> 576</td><td>0</td><td>-0.609698</td></tr>\n",
       "\t<tr><td>zoom  </td><td>4</td><td> 3.55</td><td>3.10</td><td>5.86</td><td>64</td><td> 569</td><td>1</td><td>1</td><td> 421</td><td>0</td><td>-1.095777</td></tr>\n",
       "\t<tr><td>zoom  </td><td>4</td><td> 3.55</td><td>3.10</td><td>5.86</td><td>99</td><td>3099</td><td>1</td><td>1</td><td> 502</td><td>0</td><td>-0.892704</td></tr>\n",
       "\t<tr><td>zoom  </td><td>4</td><td> 3.55</td><td>3.10</td><td>5.86</td><td>27</td><td>3037</td><td>1</td><td>1</td><td> 548</td><td>0</td><td>-0.973351</td></tr>\n",
       "\t<tr><td>zoom  </td><td>4</td><td> 3.55</td><td>3.10</td><td>5.86</td><td>19</td><td> 294</td><td>1</td><td>1</td><td> 590</td><td>0</td><td>-0.634469</td></tr>\n",
       "</tbody>\n",
       "</table>\n"
      ],
      "text/latex": [
       "A data.frame: 35978 × 12\n",
       "\\begin{tabular}{llllllllllll}\n",
       " Word & Length & SUBTLWF & Concreteness\\_Rating & Emotional\\_Valence & Sub\\_ID & Trial & Type & D\\_Accuracy & D\\_RT & Outlier & D\\_Zscore\\\\\n",
       " <fct> & <int> & <dbl> & <dbl> & <dbl> & <int> & <int> & <int> & <int> & <int> & <int> & <dbl>\\\\\n",
       "\\hline\n",
       "\t abandon   & 7 &   8.10 & 2.54 & 2.84 & 92 & 2242 & 1 & 1 & 1049 & 0 &  1.194629\\\\\n",
       "\t abandon   & 7 &   8.10 & 2.54 & 2.84 & 59 & 3222 & 1 & 0 & 2334 & 1 &  5.904986\\\\\n",
       "\t abandon   & 7 &   8.10 & 2.54 & 2.84 & 22 &  618 & 1 & 1 &  751 & 0 & -0.657156\\\\\n",
       "\t abandon   & 7 &   8.10 & 2.54 & 2.84 & 41 &   75 & 1 & 1 &  568 & 0 & -0.132601\\\\\n",
       "\t abdomen   & 7 &   3.35 & 4.70 & 5.43 & 57 & 3071 & 1 & 1 &  718 & 0 & -0.401426\\\\\n",
       "\t abdomen   & 7 &   3.35 & 4.70 & 5.43 & 91 &  421 & 1 & 0 &  575 & 0 & -0.795914\\\\\n",
       "\t abdomen   & 7 &   3.35 & 4.70 & 5.43 & 28 &  439 & 1 & 1 & 1043 & 0 &  0.816981\\\\\n",
       "\t abdominal & 9 &   3.41 & 4.28 & 4.48 & 98 & 2648 & 1 & 1 &  615 & 0 & -0.284076\\\\\n",
       "\t abdominal & 9 &   3.41 & 4.28 & 4.48 & 81 & 1722 & 1 & 1 & 1188 & 0 &  0.946606\\\\\n",
       "\t abdominal & 9 &   3.41 & 4.28 & 4.48 & 65 &  193 & 1 & 1 &  752 & 0 & -0.507450\\\\\n",
       "\t abdominal & 9 &   3.41 & 4.28 & 4.48 &  9 &  775 & 1 & 1 &  533 & 0 & -0.617617\\\\\n",
       "\t abdominal & 9 &   3.41 & 4.28 & 4.48 & 47 & 2576 & 1 & 0 & 1079 & 0 &  1.688243\\\\\n",
       "\t abduction & 9 &   3.63 & 3.07 & 2.05 & 66 &  312 & 1 & 1 &  595 & 0 & -0.182025\\\\\n",
       "\t abduction & 9 &   3.63 & 3.07 & 2.05 & 16 & 1648 & 1 & 1 &  619 & 0 & -0.511111\\\\\n",
       "\t abduction & 9 &   3.63 & 3.07 & 2.05 & 46 &  453 & 1 & 1 &  839 & 0 & -0.075166\\\\\n",
       "\t abduction & 9 &   3.63 & 3.07 & 2.05 & 85 & 1028 & 1 & 1 &  779 & 0 & -0.007078\\\\\n",
       "\t abide     & 5 &   2.71 & 1.68 & 5.52 & 49 &  686 & 1 & 1 &  679 & 0 & -0.125645\\\\\n",
       "\t abide     & 5 &   2.71 & 1.68 & 5.52 & 89 & 2501 & 1 & 1 &  483 & 0 & -1.203333\\\\\n",
       "\t abide     & 5 &   2.71 & 1.68 & 5.52 & 26 & 2572 & 1 & 1 &  697 & 0 & -0.325904\\\\\n",
       "\t abide     & 5 &   2.71 & 1.68 & 5.52 & 12 & 2899 & 1 & 1 &  550 & 0 & -0.772849\\\\\n",
       "\t ability   & 7 &  19.22 & 1.81 & 7.00 & 87 & 1259 & 1 & 1 &  957 & 0 &  0.831324\\\\\n",
       "\t ability   & 7 &  19.22 & 1.81 & 7.00 & 67 &  655 & 1 & 1 &  645 & 0 & -0.551933\\\\\n",
       "\t ability   & 7 &  19.22 & 1.81 & 7.00 &  6 & 2617 & 1 & 1 &  574 & 0 & -0.966307\\\\\n",
       "\t ability   & 7 &  19.22 & 1.81 & 7.00 & 45 &   60 & 1 & 1 &  441 & 0 & -0.898118\\\\\n",
       "\t able      & 4 & 159.90 & 2.38 & 6.64 & 98 & 3240 & 1 & 1 &  618 & 0 & -0.262771\\\\\n",
       "\t able      & 4 & 159.90 & 2.38 & 6.64 & 84 &  404 & 1 & 1 &  573 & 0 & -0.444608\\\\\n",
       "\t able      & 4 & 159.90 & 2.38 & 6.64 & 65 &  700 & 1 & 1 &  595 & 0 & -1.106471\\\\\n",
       "\t able      & 4 & 159.90 & 2.38 & 6.64 & 15 &  623 & 1 & 1 &  590 & 0 & -0.608373\\\\\n",
       "\t able      & 4 & 159.90 & 2.38 & 6.64 & 37 & 2415 & 1 & 1 &  540 & 0 & -0.850725\\\\\n",
       "\t abnormal  & 8 &   2.90 & 2.14 & 3.53 & 83 & 1177 & 1 & 1 &  595 & 0 & -0.510687\\\\\n",
       "\t ... & ... & ... & ... & ... & ... & ... & ... & ... & ... & ... & ...\\\\\n",
       "\t zip    & 3 &  7.63 & 3.50 & 5.06 & 83 & 2625 & 1 & 1 &  602 & 0 & -0.474210\\\\\n",
       "\t zip    & 3 &  7.63 & 3.50 & 5.06 & 23 & 1982 & 1 & 0 &  580 & 0 & -0.257724\\\\\n",
       "\t zip    & 3 &  7.63 & 3.50 & 5.06 & 32 &  813 & 1 & 1 &  629 & 0 & -0.795353\\\\\n",
       "\t zip    & 3 &  7.63 & 3.50 & 5.06 & 50 & 2422 & 1 & 1 &  525 & 0 & -0.483357\\\\\n",
       "\t zipper & 6 &  2.82 & 4.83 & 5.11 & 94 & 1821 & 1 & 1 &  519 & 0 & -0.578143\\\\\n",
       "\t zipper & 6 &  2.82 & 4.83 & 5.11 & 70 & 2113 & 1 & 1 &  514 & 0 & -0.909897\\\\\n",
       "\t zipper & 6 &  2.82 & 4.83 & 5.11 & 28 & 2421 & 1 & 1 &  666 & 0 & -0.685467\\\\\n",
       "\t zipper & 6 &  2.82 & 4.83 & 5.11 & 15 & 3249 & 1 & 1 &  490 & 0 & -1.019436\\\\\n",
       "\t zombie & 6 &  3.61 & 4.16 & 3.57 & 85 & 1885 & 1 & 1 &  971 & 0 &  0.672420\\\\\n",
       "\t zombie & 6 &  3.61 & 4.16 & 3.57 & 55 & 2825 & 1 & 1 &  534 & 0 & -0.258477\\\\\n",
       "\t zombie & 6 &  3.61 & 4.16 & 3.57 & 11 &  136 & 1 & 0 &  435 & 0 & -0.958141\\\\\n",
       "\t zombie & 6 &  3.61 & 4.16 & 3.57 & 47 & 1775 & 1 & 1 &  697 & 0 & -0.017865\\\\\n",
       "\t zone   & 4 & 20.12 & 3.07 & 4.75 & 48 & 2109 & 1 & 1 &  569 & 0 & -0.778332\\\\\n",
       "\t zone   & 4 & 20.12 & 3.07 & 4.75 & 78 &  208 & 1 & 1 &  729 & 0 & -1.016574\\\\\n",
       "\t zone   & 4 & 20.12 & 3.07 & 4.75 & 65 & 1994 & 1 & 1 &  656 & 0 & -0.873730\\\\\n",
       "\t zone   & 4 & 20.12 & 3.07 & 4.75 &  4 & 2538 & 1 & 1 &  515 & 0 & -0.599876\\\\\n",
       "\t zoning & 6 &  1.20 & 2.45 & 4.65 & 82 &  270 & 1 & 1 & 1049 & 0 & -0.294310\\\\\n",
       "\t zoning & 6 &  1.20 & 2.45 & 4.65 & 63 & 1017 & 1 & 0 &  469 & 0 & -1.151697\\\\\n",
       "\t zoning & 6 &  1.20 & 2.45 & 4.65 & 24 & 2828 & 1 & 1 &  665 & 0 &  0.093317\\\\\n",
       "\t zoning & 6 &  1.20 & 2.45 & 4.65 & 44 & 3224 & 1 & 1 &  711 & 0 & -0.241786\\\\\n",
       "\t zoo    & 3 & 13.65 & 4.81 & 7.00 & 84 & 3018 & 1 & 1 &  471 & 0 & -1.074468\\\\\n",
       "\t zoo    & 3 & 13.65 & 4.81 & 7.00 & 97 & 2143 & 1 & 1 &  718 & 0 & -0.039043\\\\\n",
       "\t zoo    & 3 & 13.65 & 4.81 & 7.00 &  1 & 2704 & 1 & 1 &  424 & 0 & -1.051395\\\\\n",
       "\t zoo    & 3 & 13.65 & 4.81 & 7.00 & 62 &  637 & 1 & 1 &  831 & 0 & -1.157154\\\\\n",
       "\t zoo    & 3 & 13.65 & 4.81 & 7.00 & 36 & 1066 & 1 & 1 &  476 & 0 & -1.069121\\\\\n",
       "\t zoom   & 4 &  3.55 & 3.10 & 5.86 & 83 &  131 & 1 & 1 &  576 & 0 & -0.609698\\\\\n",
       "\t zoom   & 4 &  3.55 & 3.10 & 5.86 & 64 &  569 & 1 & 1 &  421 & 0 & -1.095777\\\\\n",
       "\t zoom   & 4 &  3.55 & 3.10 & 5.86 & 99 & 3099 & 1 & 1 &  502 & 0 & -0.892704\\\\\n",
       "\t zoom   & 4 &  3.55 & 3.10 & 5.86 & 27 & 3037 & 1 & 1 &  548 & 0 & -0.973351\\\\\n",
       "\t zoom   & 4 &  3.55 & 3.10 & 5.86 & 19 &  294 & 1 & 1 &  590 & 0 & -0.634469\\\\\n",
       "\\end{tabular}\n"
      ],
      "text/markdown": [
       "\n",
       "A data.frame: 35978 × 12\n",
       "\n",
       "| Word &lt;fct&gt; | Length &lt;int&gt; | SUBTLWF &lt;dbl&gt; | Concreteness_Rating &lt;dbl&gt; | Emotional_Valence &lt;dbl&gt; | Sub_ID &lt;int&gt; | Trial &lt;int&gt; | Type &lt;int&gt; | D_Accuracy &lt;int&gt; | D_RT &lt;int&gt; | Outlier &lt;int&gt; | D_Zscore &lt;dbl&gt; |\n",
       "|---|---|---|---|---|---|---|---|---|---|---|---|\n",
       "| abandon   | 7 |   8.10 | 2.54 | 2.84 | 92 | 2242 | 1 | 1 | 1049 | 0 |  1.194629 |\n",
       "| abandon   | 7 |   8.10 | 2.54 | 2.84 | 59 | 3222 | 1 | 0 | 2334 | 1 |  5.904986 |\n",
       "| abandon   | 7 |   8.10 | 2.54 | 2.84 | 22 |  618 | 1 | 1 |  751 | 0 | -0.657156 |\n",
       "| abandon   | 7 |   8.10 | 2.54 | 2.84 | 41 |   75 | 1 | 1 |  568 | 0 | -0.132601 |\n",
       "| abdomen   | 7 |   3.35 | 4.70 | 5.43 | 57 | 3071 | 1 | 1 |  718 | 0 | -0.401426 |\n",
       "| abdomen   | 7 |   3.35 | 4.70 | 5.43 | 91 |  421 | 1 | 0 |  575 | 0 | -0.795914 |\n",
       "| abdomen   | 7 |   3.35 | 4.70 | 5.43 | 28 |  439 | 1 | 1 | 1043 | 0 |  0.816981 |\n",
       "| abdominal | 9 |   3.41 | 4.28 | 4.48 | 98 | 2648 | 1 | 1 |  615 | 0 | -0.284076 |\n",
       "| abdominal | 9 |   3.41 | 4.28 | 4.48 | 81 | 1722 | 1 | 1 | 1188 | 0 |  0.946606 |\n",
       "| abdominal | 9 |   3.41 | 4.28 | 4.48 | 65 |  193 | 1 | 1 |  752 | 0 | -0.507450 |\n",
       "| abdominal | 9 |   3.41 | 4.28 | 4.48 |  9 |  775 | 1 | 1 |  533 | 0 | -0.617617 |\n",
       "| abdominal | 9 |   3.41 | 4.28 | 4.48 | 47 | 2576 | 1 | 0 | 1079 | 0 |  1.688243 |\n",
       "| abduction | 9 |   3.63 | 3.07 | 2.05 | 66 |  312 | 1 | 1 |  595 | 0 | -0.182025 |\n",
       "| abduction | 9 |   3.63 | 3.07 | 2.05 | 16 | 1648 | 1 | 1 |  619 | 0 | -0.511111 |\n",
       "| abduction | 9 |   3.63 | 3.07 | 2.05 | 46 |  453 | 1 | 1 |  839 | 0 | -0.075166 |\n",
       "| abduction | 9 |   3.63 | 3.07 | 2.05 | 85 | 1028 | 1 | 1 |  779 | 0 | -0.007078 |\n",
       "| abide     | 5 |   2.71 | 1.68 | 5.52 | 49 |  686 | 1 | 1 |  679 | 0 | -0.125645 |\n",
       "| abide     | 5 |   2.71 | 1.68 | 5.52 | 89 | 2501 | 1 | 1 |  483 | 0 | -1.203333 |\n",
       "| abide     | 5 |   2.71 | 1.68 | 5.52 | 26 | 2572 | 1 | 1 |  697 | 0 | -0.325904 |\n",
       "| abide     | 5 |   2.71 | 1.68 | 5.52 | 12 | 2899 | 1 | 1 |  550 | 0 | -0.772849 |\n",
       "| ability   | 7 |  19.22 | 1.81 | 7.00 | 87 | 1259 | 1 | 1 |  957 | 0 |  0.831324 |\n",
       "| ability   | 7 |  19.22 | 1.81 | 7.00 | 67 |  655 | 1 | 1 |  645 | 0 | -0.551933 |\n",
       "| ability   | 7 |  19.22 | 1.81 | 7.00 |  6 | 2617 | 1 | 1 |  574 | 0 | -0.966307 |\n",
       "| ability   | 7 |  19.22 | 1.81 | 7.00 | 45 |   60 | 1 | 1 |  441 | 0 | -0.898118 |\n",
       "| able      | 4 | 159.90 | 2.38 | 6.64 | 98 | 3240 | 1 | 1 |  618 | 0 | -0.262771 |\n",
       "| able      | 4 | 159.90 | 2.38 | 6.64 | 84 |  404 | 1 | 1 |  573 | 0 | -0.444608 |\n",
       "| able      | 4 | 159.90 | 2.38 | 6.64 | 65 |  700 | 1 | 1 |  595 | 0 | -1.106471 |\n",
       "| able      | 4 | 159.90 | 2.38 | 6.64 | 15 |  623 | 1 | 1 |  590 | 0 | -0.608373 |\n",
       "| able      | 4 | 159.90 | 2.38 | 6.64 | 37 | 2415 | 1 | 1 |  540 | 0 | -0.850725 |\n",
       "| abnormal  | 8 |   2.90 | 2.14 | 3.53 | 83 | 1177 | 1 | 1 |  595 | 0 | -0.510687 |\n",
       "| ... | ... | ... | ... | ... | ... | ... | ... | ... | ... | ... | ... |\n",
       "| zip    | 3 |  7.63 | 3.50 | 5.06 | 83 | 2625 | 1 | 1 |  602 | 0 | -0.474210 |\n",
       "| zip    | 3 |  7.63 | 3.50 | 5.06 | 23 | 1982 | 1 | 0 |  580 | 0 | -0.257724 |\n",
       "| zip    | 3 |  7.63 | 3.50 | 5.06 | 32 |  813 | 1 | 1 |  629 | 0 | -0.795353 |\n",
       "| zip    | 3 |  7.63 | 3.50 | 5.06 | 50 | 2422 | 1 | 1 |  525 | 0 | -0.483357 |\n",
       "| zipper | 6 |  2.82 | 4.83 | 5.11 | 94 | 1821 | 1 | 1 |  519 | 0 | -0.578143 |\n",
       "| zipper | 6 |  2.82 | 4.83 | 5.11 | 70 | 2113 | 1 | 1 |  514 | 0 | -0.909897 |\n",
       "| zipper | 6 |  2.82 | 4.83 | 5.11 | 28 | 2421 | 1 | 1 |  666 | 0 | -0.685467 |\n",
       "| zipper | 6 |  2.82 | 4.83 | 5.11 | 15 | 3249 | 1 | 1 |  490 | 0 | -1.019436 |\n",
       "| zombie | 6 |  3.61 | 4.16 | 3.57 | 85 | 1885 | 1 | 1 |  971 | 0 |  0.672420 |\n",
       "| zombie | 6 |  3.61 | 4.16 | 3.57 | 55 | 2825 | 1 | 1 |  534 | 0 | -0.258477 |\n",
       "| zombie | 6 |  3.61 | 4.16 | 3.57 | 11 |  136 | 1 | 0 |  435 | 0 | -0.958141 |\n",
       "| zombie | 6 |  3.61 | 4.16 | 3.57 | 47 | 1775 | 1 | 1 |  697 | 0 | -0.017865 |\n",
       "| zone   | 4 | 20.12 | 3.07 | 4.75 | 48 | 2109 | 1 | 1 |  569 | 0 | -0.778332 |\n",
       "| zone   | 4 | 20.12 | 3.07 | 4.75 | 78 |  208 | 1 | 1 |  729 | 0 | -1.016574 |\n",
       "| zone   | 4 | 20.12 | 3.07 | 4.75 | 65 | 1994 | 1 | 1 |  656 | 0 | -0.873730 |\n",
       "| zone   | 4 | 20.12 | 3.07 | 4.75 |  4 | 2538 | 1 | 1 |  515 | 0 | -0.599876 |\n",
       "| zoning | 6 |  1.20 | 2.45 | 4.65 | 82 |  270 | 1 | 1 | 1049 | 0 | -0.294310 |\n",
       "| zoning | 6 |  1.20 | 2.45 | 4.65 | 63 | 1017 | 1 | 0 |  469 | 0 | -1.151697 |\n",
       "| zoning | 6 |  1.20 | 2.45 | 4.65 | 24 | 2828 | 1 | 1 |  665 | 0 |  0.093317 |\n",
       "| zoning | 6 |  1.20 | 2.45 | 4.65 | 44 | 3224 | 1 | 1 |  711 | 0 | -0.241786 |\n",
       "| zoo    | 3 | 13.65 | 4.81 | 7.00 | 84 | 3018 | 1 | 1 |  471 | 0 | -1.074468 |\n",
       "| zoo    | 3 | 13.65 | 4.81 | 7.00 | 97 | 2143 | 1 | 1 |  718 | 0 | -0.039043 |\n",
       "| zoo    | 3 | 13.65 | 4.81 | 7.00 |  1 | 2704 | 1 | 1 |  424 | 0 | -1.051395 |\n",
       "| zoo    | 3 | 13.65 | 4.81 | 7.00 | 62 |  637 | 1 | 1 |  831 | 0 | -1.157154 |\n",
       "| zoo    | 3 | 13.65 | 4.81 | 7.00 | 36 | 1066 | 1 | 1 |  476 | 0 | -1.069121 |\n",
       "| zoom   | 4 |  3.55 | 3.10 | 5.86 | 83 |  131 | 1 | 1 |  576 | 0 | -0.609698 |\n",
       "| zoom   | 4 |  3.55 | 3.10 | 5.86 | 64 |  569 | 1 | 1 |  421 | 0 | -1.095777 |\n",
       "| zoom   | 4 |  3.55 | 3.10 | 5.86 | 99 | 3099 | 1 | 1 |  502 | 0 | -0.892704 |\n",
       "| zoom   | 4 |  3.55 | 3.10 | 5.86 | 27 | 3037 | 1 | 1 |  548 | 0 | -0.973351 |\n",
       "| zoom   | 4 |  3.55 | 3.10 | 5.86 | 19 |  294 | 1 | 1 |  590 | 0 | -0.634469 |\n",
       "\n"
      ],
      "text/plain": [
       "      Word      Length SUBTLWF Concreteness_Rating Emotional_Valence Sub_ID\n",
       "1     abandon   7        8.10  2.54                2.84              92    \n",
       "2     abandon   7        8.10  2.54                2.84              59    \n",
       "3     abandon   7        8.10  2.54                2.84              22    \n",
       "4     abandon   7        8.10  2.54                2.84              41    \n",
       "5     abdomen   7        3.35  4.70                5.43              57    \n",
       "6     abdomen   7        3.35  4.70                5.43              91    \n",
       "7     abdomen   7        3.35  4.70                5.43              28    \n",
       "8     abdominal 9        3.41  4.28                4.48              98    \n",
       "9     abdominal 9        3.41  4.28                4.48              81    \n",
       "10    abdominal 9        3.41  4.28                4.48              65    \n",
       "11    abdominal 9        3.41  4.28                4.48               9    \n",
       "12    abdominal 9        3.41  4.28                4.48              47    \n",
       "13    abduction 9        3.63  3.07                2.05              66    \n",
       "14    abduction 9        3.63  3.07                2.05              16    \n",
       "15    abduction 9        3.63  3.07                2.05              46    \n",
       "16    abduction 9        3.63  3.07                2.05              85    \n",
       "17    abide     5        2.71  1.68                5.52              49    \n",
       "18    abide     5        2.71  1.68                5.52              89    \n",
       "19    abide     5        2.71  1.68                5.52              26    \n",
       "20    abide     5        2.71  1.68                5.52              12    \n",
       "21    ability   7       19.22  1.81                7.00              87    \n",
       "22    ability   7       19.22  1.81                7.00              67    \n",
       "23    ability   7       19.22  1.81                7.00               6    \n",
       "24    ability   7       19.22  1.81                7.00              45    \n",
       "25    able      4      159.90  2.38                6.64              98    \n",
       "26    able      4      159.90  2.38                6.64              84    \n",
       "27    able      4      159.90  2.38                6.64              65    \n",
       "28    able      4      159.90  2.38                6.64              15    \n",
       "29    able      4      159.90  2.38                6.64              37    \n",
       "30    abnormal  8        2.90  2.14                3.53              83    \n",
       "...   ...       ...    ...     ...                 ...               ...   \n",
       "35949 zip       3       7.63   3.50                5.06              83    \n",
       "35950 zip       3       7.63   3.50                5.06              23    \n",
       "35951 zip       3       7.63   3.50                5.06              32    \n",
       "35952 zip       3       7.63   3.50                5.06              50    \n",
       "35953 zipper    6       2.82   4.83                5.11              94    \n",
       "35954 zipper    6       2.82   4.83                5.11              70    \n",
       "35955 zipper    6       2.82   4.83                5.11              28    \n",
       "35956 zipper    6       2.82   4.83                5.11              15    \n",
       "35957 zombie    6       3.61   4.16                3.57              85    \n",
       "35958 zombie    6       3.61   4.16                3.57              55    \n",
       "35959 zombie    6       3.61   4.16                3.57              11    \n",
       "35960 zombie    6       3.61   4.16                3.57              47    \n",
       "35961 zone      4      20.12   3.07                4.75              48    \n",
       "35962 zone      4      20.12   3.07                4.75              78    \n",
       "35963 zone      4      20.12   3.07                4.75              65    \n",
       "35964 zone      4      20.12   3.07                4.75               4    \n",
       "35965 zoning    6       1.20   2.45                4.65              82    \n",
       "35966 zoning    6       1.20   2.45                4.65              63    \n",
       "35967 zoning    6       1.20   2.45                4.65              24    \n",
       "35968 zoning    6       1.20   2.45                4.65              44    \n",
       "35969 zoo       3      13.65   4.81                7.00              84    \n",
       "35970 zoo       3      13.65   4.81                7.00              97    \n",
       "35971 zoo       3      13.65   4.81                7.00               1    \n",
       "35972 zoo       3      13.65   4.81                7.00              62    \n",
       "35973 zoo       3      13.65   4.81                7.00              36    \n",
       "35974 zoom      4       3.55   3.10                5.86              83    \n",
       "35975 zoom      4       3.55   3.10                5.86              64    \n",
       "35976 zoom      4       3.55   3.10                5.86              99    \n",
       "35977 zoom      4       3.55   3.10                5.86              27    \n",
       "35978 zoom      4       3.55   3.10                5.86              19    \n",
       "      Trial Type D_Accuracy D_RT Outlier D_Zscore \n",
       "1     2242  1    1          1049 0        1.194629\n",
       "2     3222  1    0          2334 1        5.904986\n",
       "3      618  1    1           751 0       -0.657156\n",
       "4       75  1    1           568 0       -0.132601\n",
       "5     3071  1    1           718 0       -0.401426\n",
       "6      421  1    0           575 0       -0.795914\n",
       "7      439  1    1          1043 0        0.816981\n",
       "8     2648  1    1           615 0       -0.284076\n",
       "9     1722  1    1          1188 0        0.946606\n",
       "10     193  1    1           752 0       -0.507450\n",
       "11     775  1    1           533 0       -0.617617\n",
       "12    2576  1    0          1079 0        1.688243\n",
       "13     312  1    1           595 0       -0.182025\n",
       "14    1648  1    1           619 0       -0.511111\n",
       "15     453  1    1           839 0       -0.075166\n",
       "16    1028  1    1           779 0       -0.007078\n",
       "17     686  1    1           679 0       -0.125645\n",
       "18    2501  1    1           483 0       -1.203333\n",
       "19    2572  1    1           697 0       -0.325904\n",
       "20    2899  1    1           550 0       -0.772849\n",
       "21    1259  1    1           957 0        0.831324\n",
       "22     655  1    1           645 0       -0.551933\n",
       "23    2617  1    1           574 0       -0.966307\n",
       "24      60  1    1           441 0       -0.898118\n",
       "25    3240  1    1           618 0       -0.262771\n",
       "26     404  1    1           573 0       -0.444608\n",
       "27     700  1    1           595 0       -1.106471\n",
       "28     623  1    1           590 0       -0.608373\n",
       "29    2415  1    1           540 0       -0.850725\n",
       "30    1177  1    1           595 0       -0.510687\n",
       "...   ...   ...  ...        ...  ...     ...      \n",
       "35949 2625  1    1           602 0       -0.474210\n",
       "35950 1982  1    0           580 0       -0.257724\n",
       "35951  813  1    1           629 0       -0.795353\n",
       "35952 2422  1    1           525 0       -0.483357\n",
       "35953 1821  1    1           519 0       -0.578143\n",
       "35954 2113  1    1           514 0       -0.909897\n",
       "35955 2421  1    1           666 0       -0.685467\n",
       "35956 3249  1    1           490 0       -1.019436\n",
       "35957 1885  1    1           971 0        0.672420\n",
       "35958 2825  1    1           534 0       -0.258477\n",
       "35959  136  1    0           435 0       -0.958141\n",
       "35960 1775  1    1           697 0       -0.017865\n",
       "35961 2109  1    1           569 0       -0.778332\n",
       "35962  208  1    1           729 0       -1.016574\n",
       "35963 1994  1    1           656 0       -0.873730\n",
       "35964 2538  1    1           515 0       -0.599876\n",
       "35965  270  1    1          1049 0       -0.294310\n",
       "35966 1017  1    0           469 0       -1.151697\n",
       "35967 2828  1    1           665 0        0.093317\n",
       "35968 3224  1    1           711 0       -0.241786\n",
       "35969 3018  1    1           471 0       -1.074468\n",
       "35970 2143  1    1           718 0       -0.039043\n",
       "35971 2704  1    1           424 0       -1.051395\n",
       "35972  637  1    1           831 0       -1.157154\n",
       "35973 1066  1    1           476 0       -1.069121\n",
       "35974  131  1    1           576 0       -0.609698\n",
       "35975  569  1    1           421 0       -1.095777\n",
       "35976 3099  1    1           502 0       -0.892704\n",
       "35977 3037  1    1           548 0       -0.973351\n",
       "35978  294  1    1           590 0       -0.634469"
      ]
     },
     "metadata": {},
     "output_type": "display_data"
    }
   ],
   "source": [
    "ldt_word <-left_join(word_properties, ldt_trials, by = c(\"Word\" = \"D_word\"))\n",
    "ldt_word"
   ]
  },
  {
   "cell_type": "code",
   "execution_count": 8,
   "id": "helpful-williams",
   "metadata": {},
   "outputs": [],
   "source": [
    "ldtword <-filter(ldt_word, !is.na(Word))"
   ]
  },
  {
   "cell_type": "code",
   "execution_count": 9,
   "id": "entire-colombia",
   "metadata": {},
   "outputs": [
    {
     "data": {
      "text/html": [
       "35978"
      ],
      "text/latex": [
       "35978"
      ],
      "text/markdown": [
       "35978"
      ],
      "text/plain": [
       "[1] 35978"
      ]
     },
     "metadata": {},
     "output_type": "display_data"
    },
    {
     "data": {
      "text/html": [
       "<table class=\"dataframe\">\n",
       "<caption>A data.frame: 6 × 12</caption>\n",
       "<thead>\n",
       "\t<tr><th></th><th scope=col>Word</th><th scope=col>Length</th><th scope=col>SUBTLWF</th><th scope=col>Concreteness_Rating</th><th scope=col>Emotional_Valence</th><th scope=col>Sub_ID</th><th scope=col>Trial</th><th scope=col>Type</th><th scope=col>D_Accuracy</th><th scope=col>D_RT</th><th scope=col>Outlier</th><th scope=col>D_Zscore</th></tr>\n",
       "\t<tr><th></th><th scope=col>&lt;fct&gt;</th><th scope=col>&lt;int&gt;</th><th scope=col>&lt;dbl&gt;</th><th scope=col>&lt;dbl&gt;</th><th scope=col>&lt;dbl&gt;</th><th scope=col>&lt;int&gt;</th><th scope=col>&lt;int&gt;</th><th scope=col>&lt;int&gt;</th><th scope=col>&lt;int&gt;</th><th scope=col>&lt;int&gt;</th><th scope=col>&lt;int&gt;</th><th scope=col>&lt;dbl&gt;</th></tr>\n",
       "</thead>\n",
       "<tbody>\n",
       "\t<tr><th scope=row>1</th><td>abandon</td><td>7</td><td>8.10</td><td>2.54</td><td>2.84</td><td>92</td><td>2242</td><td>1</td><td>1</td><td>1049</td><td>0</td><td> 1.194629</td></tr>\n",
       "\t<tr><th scope=row>2</th><td>abandon</td><td>7</td><td>8.10</td><td>2.54</td><td>2.84</td><td>59</td><td>3222</td><td>1</td><td>0</td><td>2334</td><td>1</td><td> 5.904986</td></tr>\n",
       "\t<tr><th scope=row>3</th><td>abandon</td><td>7</td><td>8.10</td><td>2.54</td><td>2.84</td><td>22</td><td> 618</td><td>1</td><td>1</td><td> 751</td><td>0</td><td>-0.657156</td></tr>\n",
       "\t<tr><th scope=row>4</th><td>abandon</td><td>7</td><td>8.10</td><td>2.54</td><td>2.84</td><td>41</td><td>  75</td><td>1</td><td>1</td><td> 568</td><td>0</td><td>-0.132601</td></tr>\n",
       "\t<tr><th scope=row>5</th><td>abdomen</td><td>7</td><td>3.35</td><td>4.70</td><td>5.43</td><td>57</td><td>3071</td><td>1</td><td>1</td><td> 718</td><td>0</td><td>-0.401426</td></tr>\n",
       "\t<tr><th scope=row>6</th><td>abdomen</td><td>7</td><td>3.35</td><td>4.70</td><td>5.43</td><td>91</td><td> 421</td><td>1</td><td>0</td><td> 575</td><td>0</td><td>-0.795914</td></tr>\n",
       "</tbody>\n",
       "</table>\n"
      ],
      "text/latex": [
       "A data.frame: 6 × 12\n",
       "\\begin{tabular}{r|llllllllllll}\n",
       "  & Word & Length & SUBTLWF & Concreteness\\_Rating & Emotional\\_Valence & Sub\\_ID & Trial & Type & D\\_Accuracy & D\\_RT & Outlier & D\\_Zscore\\\\\n",
       "  & <fct> & <int> & <dbl> & <dbl> & <dbl> & <int> & <int> & <int> & <int> & <int> & <int> & <dbl>\\\\\n",
       "\\hline\n",
       "\t1 & abandon & 7 & 8.10 & 2.54 & 2.84 & 92 & 2242 & 1 & 1 & 1049 & 0 &  1.194629\\\\\n",
       "\t2 & abandon & 7 & 8.10 & 2.54 & 2.84 & 59 & 3222 & 1 & 0 & 2334 & 1 &  5.904986\\\\\n",
       "\t3 & abandon & 7 & 8.10 & 2.54 & 2.84 & 22 &  618 & 1 & 1 &  751 & 0 & -0.657156\\\\\n",
       "\t4 & abandon & 7 & 8.10 & 2.54 & 2.84 & 41 &   75 & 1 & 1 &  568 & 0 & -0.132601\\\\\n",
       "\t5 & abdomen & 7 & 3.35 & 4.70 & 5.43 & 57 & 3071 & 1 & 1 &  718 & 0 & -0.401426\\\\\n",
       "\t6 & abdomen & 7 & 3.35 & 4.70 & 5.43 & 91 &  421 & 1 & 0 &  575 & 0 & -0.795914\\\\\n",
       "\\end{tabular}\n"
      ],
      "text/markdown": [
       "\n",
       "A data.frame: 6 × 12\n",
       "\n",
       "| <!--/--> | Word &lt;fct&gt; | Length &lt;int&gt; | SUBTLWF &lt;dbl&gt; | Concreteness_Rating &lt;dbl&gt; | Emotional_Valence &lt;dbl&gt; | Sub_ID &lt;int&gt; | Trial &lt;int&gt; | Type &lt;int&gt; | D_Accuracy &lt;int&gt; | D_RT &lt;int&gt; | Outlier &lt;int&gt; | D_Zscore &lt;dbl&gt; |\n",
       "|---|---|---|---|---|---|---|---|---|---|---|---|---|\n",
       "| 1 | abandon | 7 | 8.10 | 2.54 | 2.84 | 92 | 2242 | 1 | 1 | 1049 | 0 |  1.194629 |\n",
       "| 2 | abandon | 7 | 8.10 | 2.54 | 2.84 | 59 | 3222 | 1 | 0 | 2334 | 1 |  5.904986 |\n",
       "| 3 | abandon | 7 | 8.10 | 2.54 | 2.84 | 22 |  618 | 1 | 1 |  751 | 0 | -0.657156 |\n",
       "| 4 | abandon | 7 | 8.10 | 2.54 | 2.84 | 41 |   75 | 1 | 1 |  568 | 0 | -0.132601 |\n",
       "| 5 | abdomen | 7 | 3.35 | 4.70 | 5.43 | 57 | 3071 | 1 | 1 |  718 | 0 | -0.401426 |\n",
       "| 6 | abdomen | 7 | 3.35 | 4.70 | 5.43 | 91 |  421 | 1 | 0 |  575 | 0 | -0.795914 |\n",
       "\n"
      ],
      "text/plain": [
       "  Word    Length SUBTLWF Concreteness_Rating Emotional_Valence Sub_ID Trial\n",
       "1 abandon 7      8.10    2.54                2.84              92     2242 \n",
       "2 abandon 7      8.10    2.54                2.84              59     3222 \n",
       "3 abandon 7      8.10    2.54                2.84              22      618 \n",
       "4 abandon 7      8.10    2.54                2.84              41       75 \n",
       "5 abdomen 7      3.35    4.70                5.43              57     3071 \n",
       "6 abdomen 7      3.35    4.70                5.43              91      421 \n",
       "  Type D_Accuracy D_RT Outlier D_Zscore \n",
       "1 1    1          1049 0        1.194629\n",
       "2 1    0          2334 1        5.904986\n",
       "3 1    1           751 0       -0.657156\n",
       "4 1    1           568 0       -0.132601\n",
       "5 1    1           718 0       -0.401426\n",
       "6 1    0           575 0       -0.795914"
      ]
     },
     "metadata": {},
     "output_type": "display_data"
    }
   ],
   "source": [
    "nrow(ldtword)\n",
    "head(ldtword)"
   ]
  },
  {
   "cell_type": "code",
   "execution_count": 11,
   "id": "opposite-sewing",
   "metadata": {},
   "outputs": [
    {
     "data": {
      "text/html": [
       "99"
      ],
      "text/latex": [
       "99"
      ],
      "text/markdown": [
       "99"
      ],
      "text/plain": [
       "[1] 99"
      ]
     },
     "metadata": {},
     "output_type": "display_data"
    }
   ],
   "source": [
    "length(unique(ldtword$Sub_ID))"
   ]
  },
  {
   "cell_type": "code",
   "execution_count": 41,
   "id": "broad-depression",
   "metadata": {
    "jupyter": {
     "outputs_hidden": true
    },
    "tags": []
   },
   "outputs": [
    {
     "data": {
      "text/html": [
       "<table class=\"dataframe\">\n",
       "<caption>A tibble: 99 × 3</caption>\n",
       "<thead>\n",
       "\t<tr><th></th><th scope=col>Sub_ID</th><th scope=col>mean</th><th scope=col>sd</th></tr>\n",
       "\t<tr><th></th><th scope=col>&lt;int&gt;</th><th scope=col>&lt;dbl&gt;</th><th scope=col>&lt;dbl&gt;</th></tr>\n",
       "</thead>\n",
       "<tbody>\n",
       "\t<tr><th scope=row>1</th><td> 1</td><td>-0.36203743</td><td>0.7337537</td></tr>\n",
       "\t<tr><th scope=row>2</th><td> 2</td><td>-0.34124324</td><td>0.7653781</td></tr>\n",
       "\t<tr><th scope=row>3</th><td> 3</td><td>-0.36547010</td><td>0.7105428</td></tr>\n",
       "\t<tr><th scope=row>4</th><td> 4</td><td>-0.30871654</td><td>0.9117083</td></tr>\n",
       "\t<tr><th scope=row>5</th><td> 5</td><td>-0.24566034</td><td>0.7559425</td></tr>\n",
       "\t<tr><th scope=row>6</th><td> 6</td><td>-0.36319931</td><td>0.7221907</td></tr>\n",
       "\t<tr><th scope=row>7</th><td> 7</td><td> 0.18602406</td><td>1.4758666</td></tr>\n",
       "\t<tr><th scope=row>8</th><td> 8</td><td>-0.30371376</td><td>0.9222461</td></tr>\n",
       "\t<tr><th scope=row>9</th><td> 9</td><td>-0.36564111</td><td>0.7395361</td></tr>\n",
       "\t<tr><th scope=row>10</th><td>11</td><td>-0.35015374</td><td>0.7650564</td></tr>\n",
       "\t<tr><th scope=row>11</th><td>12</td><td>-0.37219397</td><td>0.8041469</td></tr>\n",
       "\t<tr><th scope=row>12</th><td>13</td><td>-0.25527139</td><td>0.9663090</td></tr>\n",
       "\t<tr><th scope=row>13</th><td>14</td><td>-0.33883428</td><td>0.8350707</td></tr>\n",
       "\t<tr><th scope=row>14</th><td>15</td><td>-0.35120881</td><td>0.7808409</td></tr>\n",
       "\t<tr><th scope=row>15</th><td>16</td><td>-0.36325751</td><td>0.7604779</td></tr>\n",
       "\t<tr><th scope=row>16</th><td>17</td><td>-0.40354876</td><td>0.6798675</td></tr>\n",
       "\t<tr><th scope=row>17</th><td>18</td><td>-0.31640501</td><td>0.8181074</td></tr>\n",
       "\t<tr><th scope=row>18</th><td>19</td><td>-0.26923449</td><td>0.8870619</td></tr>\n",
       "\t<tr><th scope=row>19</th><td>20</td><td>-0.17543100</td><td>1.0436490</td></tr>\n",
       "\t<tr><th scope=row>20</th><td>21</td><td>-0.28832426</td><td>0.8747860</td></tr>\n",
       "\t<tr><th scope=row>21</th><td>22</td><td>-0.13069001</td><td>1.1327337</td></tr>\n",
       "\t<tr><th scope=row>22</th><td>23</td><td>-0.13157733</td><td>1.0433953</td></tr>\n",
       "\t<tr><th scope=row>23</th><td>24</td><td>-0.40163472</td><td>0.6021179</td></tr>\n",
       "\t<tr><th scope=row>24</th><td>25</td><td>-0.34618751</td><td>0.6782912</td></tr>\n",
       "\t<tr><th scope=row>25</th><td>26</td><td>-0.21069227</td><td>1.0580706</td></tr>\n",
       "\t<tr><th scope=row>26</th><td>27</td><td> 0.08734278</td><td>1.2145032</td></tr>\n",
       "\t<tr><th scope=row>27</th><td>28</td><td>-0.27894592</td><td>0.8609459</td></tr>\n",
       "\t<tr><th scope=row>28</th><td>29</td><td>-0.34333421</td><td>0.8573611</td></tr>\n",
       "\t<tr><th scope=row>29</th><td>30</td><td>-0.27996851</td><td>0.6518438</td></tr>\n",
       "\t<tr><th scope=row>30</th><td>31</td><td>-0.09453497</td><td>1.3388729</td></tr>\n",
       "\t<tr><th scope=row>...</th><td>...</td><td>...</td><td>...</td></tr>\n",
       "\t<tr><th scope=row>70</th><td> 71</td><td>-0.34528841</td><td>0.8209295</td></tr>\n",
       "\t<tr><th scope=row>71</th><td> 72</td><td>-0.33150183</td><td>0.6912488</td></tr>\n",
       "\t<tr><th scope=row>72</th><td> 73</td><td>-0.31752786</td><td>0.7777244</td></tr>\n",
       "\t<tr><th scope=row>73</th><td> 74</td><td>-0.37233240</td><td>0.7967437</td></tr>\n",
       "\t<tr><th scope=row>74</th><td> 75</td><td>-0.37930136</td><td>0.6956285</td></tr>\n",
       "\t<tr><th scope=row>75</th><td> 76</td><td>-0.25333986</td><td>0.9061817</td></tr>\n",
       "\t<tr><th scope=row>76</th><td> 77</td><td>-0.19658882</td><td>0.8596973</td></tr>\n",
       "\t<tr><th scope=row>77</th><td> 78</td><td>-0.26673977</td><td>0.9786020</td></tr>\n",
       "\t<tr><th scope=row>78</th><td> 79</td><td>-0.34252919</td><td>0.8392177</td></tr>\n",
       "\t<tr><th scope=row>79</th><td> 80</td><td>-0.31218938</td><td>0.7504831</td></tr>\n",
       "\t<tr><th scope=row>80</th><td> 81</td><td>-0.28848132</td><td>0.8998093</td></tr>\n",
       "\t<tr><th scope=row>81</th><td> 82</td><td>-0.21978109</td><td>1.2395384</td></tr>\n",
       "\t<tr><th scope=row>82</th><td> 83</td><td>-0.31752951</td><td>0.7893207</td></tr>\n",
       "\t<tr><th scope=row>83</th><td> 84</td><td>-0.36266995</td><td>0.6652260</td></tr>\n",
       "\t<tr><th scope=row>84</th><td> 85</td><td>-0.31026912</td><td>0.7307749</td></tr>\n",
       "\t<tr><th scope=row>85</th><td> 86</td><td>-0.38613597</td><td>0.8218108</td></tr>\n",
       "\t<tr><th scope=row>86</th><td> 87</td><td>-0.36623199</td><td>0.6090743</td></tr>\n",
       "\t<tr><th scope=row>87</th><td> 88</td><td>-0.29070191</td><td>0.8894007</td></tr>\n",
       "\t<tr><th scope=row>88</th><td> 89</td><td>-0.34017271</td><td>0.8204313</td></tr>\n",
       "\t<tr><th scope=row>89</th><td> 90</td><td>-0.11614779</td><td>0.9600165</td></tr>\n",
       "\t<tr><th scope=row>90</th><td> 91</td><td>-0.09877027</td><td>1.0714119</td></tr>\n",
       "\t<tr><th scope=row>91</th><td> 92</td><td>-0.30021003</td><td>0.7413646</td></tr>\n",
       "\t<tr><th scope=row>92</th><td> 93</td><td>-0.29677715</td><td>0.6695714</td></tr>\n",
       "\t<tr><th scope=row>93</th><td> 94</td><td>-0.37320191</td><td>0.9883486</td></tr>\n",
       "\t<tr><th scope=row>94</th><td> 95</td><td>-0.31003331</td><td>0.8867484</td></tr>\n",
       "\t<tr><th scope=row>95</th><td> 96</td><td>-0.17424098</td><td>0.9423440</td></tr>\n",
       "\t<tr><th scope=row>96</th><td> 97</td><td>-0.36974648</td><td>0.7433712</td></tr>\n",
       "\t<tr><th scope=row>97</th><td> 98</td><td>-0.28824708</td><td>0.9214029</td></tr>\n",
       "\t<tr><th scope=row>98</th><td> 99</td><td>-0.36634631</td><td>0.6268479</td></tr>\n",
       "\t<tr><th scope=row>99</th><td>100</td><td>-0.33758913</td><td>0.7118384</td></tr>\n",
       "</tbody>\n",
       "</table>\n"
      ],
      "text/latex": [
       "A tibble: 99 × 3\n",
       "\\begin{tabular}{r|lll}\n",
       "  & Sub\\_ID & mean & sd\\\\\n",
       "  & <int> & <dbl> & <dbl>\\\\\n",
       "\\hline\n",
       "\t1 &  1 & -0.36203743 & 0.7337537\\\\\n",
       "\t2 &  2 & -0.34124324 & 0.7653781\\\\\n",
       "\t3 &  3 & -0.36547010 & 0.7105428\\\\\n",
       "\t4 &  4 & -0.30871654 & 0.9117083\\\\\n",
       "\t5 &  5 & -0.24566034 & 0.7559425\\\\\n",
       "\t6 &  6 & -0.36319931 & 0.7221907\\\\\n",
       "\t7 &  7 &  0.18602406 & 1.4758666\\\\\n",
       "\t8 &  8 & -0.30371376 & 0.9222461\\\\\n",
       "\t9 &  9 & -0.36564111 & 0.7395361\\\\\n",
       "\t10 & 11 & -0.35015374 & 0.7650564\\\\\n",
       "\t11 & 12 & -0.37219397 & 0.8041469\\\\\n",
       "\t12 & 13 & -0.25527139 & 0.9663090\\\\\n",
       "\t13 & 14 & -0.33883428 & 0.8350707\\\\\n",
       "\t14 & 15 & -0.35120881 & 0.7808409\\\\\n",
       "\t15 & 16 & -0.36325751 & 0.7604779\\\\\n",
       "\t16 & 17 & -0.40354876 & 0.6798675\\\\\n",
       "\t17 & 18 & -0.31640501 & 0.8181074\\\\\n",
       "\t18 & 19 & -0.26923449 & 0.8870619\\\\\n",
       "\t19 & 20 & -0.17543100 & 1.0436490\\\\\n",
       "\t20 & 21 & -0.28832426 & 0.8747860\\\\\n",
       "\t21 & 22 & -0.13069001 & 1.1327337\\\\\n",
       "\t22 & 23 & -0.13157733 & 1.0433953\\\\\n",
       "\t23 & 24 & -0.40163472 & 0.6021179\\\\\n",
       "\t24 & 25 & -0.34618751 & 0.6782912\\\\\n",
       "\t25 & 26 & -0.21069227 & 1.0580706\\\\\n",
       "\t26 & 27 &  0.08734278 & 1.2145032\\\\\n",
       "\t27 & 28 & -0.27894592 & 0.8609459\\\\\n",
       "\t28 & 29 & -0.34333421 & 0.8573611\\\\\n",
       "\t29 & 30 & -0.27996851 & 0.6518438\\\\\n",
       "\t30 & 31 & -0.09453497 & 1.3388729\\\\\n",
       "\t... & ... & ... & ...\\\\\n",
       "\t70 &  71 & -0.34528841 & 0.8209295\\\\\n",
       "\t71 &  72 & -0.33150183 & 0.6912488\\\\\n",
       "\t72 &  73 & -0.31752786 & 0.7777244\\\\\n",
       "\t73 &  74 & -0.37233240 & 0.7967437\\\\\n",
       "\t74 &  75 & -0.37930136 & 0.6956285\\\\\n",
       "\t75 &  76 & -0.25333986 & 0.9061817\\\\\n",
       "\t76 &  77 & -0.19658882 & 0.8596973\\\\\n",
       "\t77 &  78 & -0.26673977 & 0.9786020\\\\\n",
       "\t78 &  79 & -0.34252919 & 0.8392177\\\\\n",
       "\t79 &  80 & -0.31218938 & 0.7504831\\\\\n",
       "\t80 &  81 & -0.28848132 & 0.8998093\\\\\n",
       "\t81 &  82 & -0.21978109 & 1.2395384\\\\\n",
       "\t82 &  83 & -0.31752951 & 0.7893207\\\\\n",
       "\t83 &  84 & -0.36266995 & 0.6652260\\\\\n",
       "\t84 &  85 & -0.31026912 & 0.7307749\\\\\n",
       "\t85 &  86 & -0.38613597 & 0.8218108\\\\\n",
       "\t86 &  87 & -0.36623199 & 0.6090743\\\\\n",
       "\t87 &  88 & -0.29070191 & 0.8894007\\\\\n",
       "\t88 &  89 & -0.34017271 & 0.8204313\\\\\n",
       "\t89 &  90 & -0.11614779 & 0.9600165\\\\\n",
       "\t90 &  91 & -0.09877027 & 1.0714119\\\\\n",
       "\t91 &  92 & -0.30021003 & 0.7413646\\\\\n",
       "\t92 &  93 & -0.29677715 & 0.6695714\\\\\n",
       "\t93 &  94 & -0.37320191 & 0.9883486\\\\\n",
       "\t94 &  95 & -0.31003331 & 0.8867484\\\\\n",
       "\t95 &  96 & -0.17424098 & 0.9423440\\\\\n",
       "\t96 &  97 & -0.36974648 & 0.7433712\\\\\n",
       "\t97 &  98 & -0.28824708 & 0.9214029\\\\\n",
       "\t98 &  99 & -0.36634631 & 0.6268479\\\\\n",
       "\t99 & 100 & -0.33758913 & 0.7118384\\\\\n",
       "\\end{tabular}\n"
      ],
      "text/markdown": [
       "\n",
       "A tibble: 99 × 3\n",
       "\n",
       "| <!--/--> | Sub_ID &lt;int&gt; | mean &lt;dbl&gt; | sd &lt;dbl&gt; |\n",
       "|---|---|---|---|\n",
       "| 1 |  1 | -0.36203743 | 0.7337537 |\n",
       "| 2 |  2 | -0.34124324 | 0.7653781 |\n",
       "| 3 |  3 | -0.36547010 | 0.7105428 |\n",
       "| 4 |  4 | -0.30871654 | 0.9117083 |\n",
       "| 5 |  5 | -0.24566034 | 0.7559425 |\n",
       "| 6 |  6 | -0.36319931 | 0.7221907 |\n",
       "| 7 |  7 |  0.18602406 | 1.4758666 |\n",
       "| 8 |  8 | -0.30371376 | 0.9222461 |\n",
       "| 9 |  9 | -0.36564111 | 0.7395361 |\n",
       "| 10 | 11 | -0.35015374 | 0.7650564 |\n",
       "| 11 | 12 | -0.37219397 | 0.8041469 |\n",
       "| 12 | 13 | -0.25527139 | 0.9663090 |\n",
       "| 13 | 14 | -0.33883428 | 0.8350707 |\n",
       "| 14 | 15 | -0.35120881 | 0.7808409 |\n",
       "| 15 | 16 | -0.36325751 | 0.7604779 |\n",
       "| 16 | 17 | -0.40354876 | 0.6798675 |\n",
       "| 17 | 18 | -0.31640501 | 0.8181074 |\n",
       "| 18 | 19 | -0.26923449 | 0.8870619 |\n",
       "| 19 | 20 | -0.17543100 | 1.0436490 |\n",
       "| 20 | 21 | -0.28832426 | 0.8747860 |\n",
       "| 21 | 22 | -0.13069001 | 1.1327337 |\n",
       "| 22 | 23 | -0.13157733 | 1.0433953 |\n",
       "| 23 | 24 | -0.40163472 | 0.6021179 |\n",
       "| 24 | 25 | -0.34618751 | 0.6782912 |\n",
       "| 25 | 26 | -0.21069227 | 1.0580706 |\n",
       "| 26 | 27 |  0.08734278 | 1.2145032 |\n",
       "| 27 | 28 | -0.27894592 | 0.8609459 |\n",
       "| 28 | 29 | -0.34333421 | 0.8573611 |\n",
       "| 29 | 30 | -0.27996851 | 0.6518438 |\n",
       "| 30 | 31 | -0.09453497 | 1.3388729 |\n",
       "| ... | ... | ... | ... |\n",
       "| 70 |  71 | -0.34528841 | 0.8209295 |\n",
       "| 71 |  72 | -0.33150183 | 0.6912488 |\n",
       "| 72 |  73 | -0.31752786 | 0.7777244 |\n",
       "| 73 |  74 | -0.37233240 | 0.7967437 |\n",
       "| 74 |  75 | -0.37930136 | 0.6956285 |\n",
       "| 75 |  76 | -0.25333986 | 0.9061817 |\n",
       "| 76 |  77 | -0.19658882 | 0.8596973 |\n",
       "| 77 |  78 | -0.26673977 | 0.9786020 |\n",
       "| 78 |  79 | -0.34252919 | 0.8392177 |\n",
       "| 79 |  80 | -0.31218938 | 0.7504831 |\n",
       "| 80 |  81 | -0.28848132 | 0.8998093 |\n",
       "| 81 |  82 | -0.21978109 | 1.2395384 |\n",
       "| 82 |  83 | -0.31752951 | 0.7893207 |\n",
       "| 83 |  84 | -0.36266995 | 0.6652260 |\n",
       "| 84 |  85 | -0.31026912 | 0.7307749 |\n",
       "| 85 |  86 | -0.38613597 | 0.8218108 |\n",
       "| 86 |  87 | -0.36623199 | 0.6090743 |\n",
       "| 87 |  88 | -0.29070191 | 0.8894007 |\n",
       "| 88 |  89 | -0.34017271 | 0.8204313 |\n",
       "| 89 |  90 | -0.11614779 | 0.9600165 |\n",
       "| 90 |  91 | -0.09877027 | 1.0714119 |\n",
       "| 91 |  92 | -0.30021003 | 0.7413646 |\n",
       "| 92 |  93 | -0.29677715 | 0.6695714 |\n",
       "| 93 |  94 | -0.37320191 | 0.9883486 |\n",
       "| 94 |  95 | -0.31003331 | 0.8867484 |\n",
       "| 95 |  96 | -0.17424098 | 0.9423440 |\n",
       "| 96 |  97 | -0.36974648 | 0.7433712 |\n",
       "| 97 |  98 | -0.28824708 | 0.9214029 |\n",
       "| 98 |  99 | -0.36634631 | 0.6268479 |\n",
       "| 99 | 100 | -0.33758913 | 0.7118384 |\n",
       "\n"
      ],
      "text/plain": [
       "    Sub_ID mean        sd       \n",
       "1    1     -0.36203743 0.7337537\n",
       "2    2     -0.34124324 0.7653781\n",
       "3    3     -0.36547010 0.7105428\n",
       "4    4     -0.30871654 0.9117083\n",
       "5    5     -0.24566034 0.7559425\n",
       "6    6     -0.36319931 0.7221907\n",
       "7    7      0.18602406 1.4758666\n",
       "8    8     -0.30371376 0.9222461\n",
       "9    9     -0.36564111 0.7395361\n",
       "10  11     -0.35015374 0.7650564\n",
       "11  12     -0.37219397 0.8041469\n",
       "12  13     -0.25527139 0.9663090\n",
       "13  14     -0.33883428 0.8350707\n",
       "14  15     -0.35120881 0.7808409\n",
       "15  16     -0.36325751 0.7604779\n",
       "16  17     -0.40354876 0.6798675\n",
       "17  18     -0.31640501 0.8181074\n",
       "18  19     -0.26923449 0.8870619\n",
       "19  20     -0.17543100 1.0436490\n",
       "20  21     -0.28832426 0.8747860\n",
       "21  22     -0.13069001 1.1327337\n",
       "22  23     -0.13157733 1.0433953\n",
       "23  24     -0.40163472 0.6021179\n",
       "24  25     -0.34618751 0.6782912\n",
       "25  26     -0.21069227 1.0580706\n",
       "26  27      0.08734278 1.2145032\n",
       "27  28     -0.27894592 0.8609459\n",
       "28  29     -0.34333421 0.8573611\n",
       "29  30     -0.27996851 0.6518438\n",
       "30  31     -0.09453497 1.3388729\n",
       "... ...    ...         ...      \n",
       "70   71    -0.34528841 0.8209295\n",
       "71   72    -0.33150183 0.6912488\n",
       "72   73    -0.31752786 0.7777244\n",
       "73   74    -0.37233240 0.7967437\n",
       "74   75    -0.37930136 0.6956285\n",
       "75   76    -0.25333986 0.9061817\n",
       "76   77    -0.19658882 0.8596973\n",
       "77   78    -0.26673977 0.9786020\n",
       "78   79    -0.34252919 0.8392177\n",
       "79   80    -0.31218938 0.7504831\n",
       "80   81    -0.28848132 0.8998093\n",
       "81   82    -0.21978109 1.2395384\n",
       "82   83    -0.31752951 0.7893207\n",
       "83   84    -0.36266995 0.6652260\n",
       "84   85    -0.31026912 0.7307749\n",
       "85   86    -0.38613597 0.8218108\n",
       "86   87    -0.36623199 0.6090743\n",
       "87   88    -0.29070191 0.8894007\n",
       "88   89    -0.34017271 0.8204313\n",
       "89   90    -0.11614779 0.9600165\n",
       "90   91    -0.09877027 1.0714119\n",
       "91   92    -0.30021003 0.7413646\n",
       "92   93    -0.29677715 0.6695714\n",
       "93   94    -0.37320191 0.9883486\n",
       "94   95    -0.31003331 0.8867484\n",
       "95   96    -0.17424098 0.9423440\n",
       "96   97    -0.36974648 0.7433712\n",
       "97   98    -0.28824708 0.9214029\n",
       "98   99    -0.36634631 0.6268479\n",
       "99  100    -0.33758913 0.7118384"
      ]
     },
     "metadata": {},
     "output_type": "display_data"
    }
   ],
   "source": [
    "dat <-ldtword %>%\n",
    "    group_by(Sub_ID) %>%\n",
    "    summarise(mean = mean(D_Zscore), sd = sd(D_Zscore))\n",
    "dat"
   ]
  },
  {
   "cell_type": "markdown",
   "id": "registered-consumer",
   "metadata": {},
   "source": [
    "Part 2: Visualize and understand the data"
   ]
  },
  {
   "cell_type": "code",
   "execution_count": 19,
   "id": "american-kitchen",
   "metadata": {
    "jupyter": {
     "outputs_hidden": true
    },
    "tags": []
   },
   "outputs": [
    {
     "name": "stderr",
     "output_type": "stream",
     "text": [
      "`geom_smooth()` using method = 'gam' and formula 'y ~ s(x, bs = \"cs\")'\n",
      "\n",
      "`geom_smooth()` using method = 'gam' and formula 'y ~ s(x, bs = \"cs\")'\n",
      "\n"
     ]
    },
    {
     "data": {
      "image/png": "[encoded data removed]",
      "text/plain": [
       "plot without title"
      ]
     },
     "metadata": {
      "image/png": {
       "height": 420,
       "width": 420
      }
     },
     "output_type": "display_data"
    },
    {
     "name": "stderr",
     "output_type": "stream",
     "text": [
      "`geom_smooth()` using method = 'gam' and formula 'y ~ s(x, bs = \"cs\")'\n",
      "\n"
     ]
    },
    {
     "data": {
      "image/png": "[encoded data removed]",
      "text/plain": [
       "plot without title"
      ]
     },
     "metadata": {
      "image/png": {
       "height": 420,
       "width": 420
      }
     },
     "output_type": "display_data"
    },
    {
     "name": "stderr",
     "output_type": "stream",
     "text": [
      "`geom_smooth()` using method = 'gam' and formula 'y ~ s(x, bs = \"cs\")'\n",
      "\n"
     ]
    },
    {
     "data": {
      "image/png": "[encoded data removed]",
      "text/plain": [
       "plot without title"
      ]
     },
     "metadata": {
      "image/png": {
       "height": 420,
       "width": 420
      }
     },
     "output_type": "display_data"
    },
    {
     "data": {
      "image/png": "[encoded data removed]",
      "text/plain": [
       "plot without title"
      ]
     },
     "metadata": {
      "image/png": {
       "height": 420,
       "width": 420
      }
     },
     "output_type": "display_data"
    }
   ],
   "source": [
    "ggplot(ldtword, aes(Length, D_RT)) + geom_smooth() \n",
    "ggplot(ldtword, aes(round(SUBTLWF), D_RT)) + geom_smooth() \n",
    "ggplot(ldtword, aes(Concreteness_Rating, D_RT)) + geom_smooth() \n",
    "ggplot(ldtword, aes(Emotional_Valence, D_RT)) + geom_smooth()"
   ]
  },
  {
   "cell_type": "code",
   "execution_count": 25,
   "id": "maritime-germany",
   "metadata": {
    "jupyter": {
     "outputs_hidden": true
    },
    "tags": []
   },
   "outputs": [
    {
     "name": "stderr",
     "output_type": "stream",
     "text": [
      "`geom_smooth()` using method = 'gam' and formula 'y ~ s(x, bs = \"cs\")'\n",
      "\n",
      "Warning message:\n",
      "\"Computation failed in `stat_smooth()`:\n",
      "x has insufficient unique values to support 10 knots: reduce k.\"\n",
      "`geom_smooth()` using method = 'gam' and formula 'y ~ s(x, bs = \"cs\")'\n",
      "\n",
      "Warning message:\n",
      "\"Computation failed in `stat_smooth()`:\n",
      "x has insufficient unique values to support 10 knots: reduce k.\"\n"
     ]
    },
    {
     "data": {
      "image/png": "[encoded data removed]",
      "text/plain": [
       "plot without title"
      ]
     },
     "metadata": {
      "image/png": {
       "height": 420,
       "width": 420
      }
     },
     "output_type": "display_data"
    },
    {
     "data": {
      "image/png": "[encoded data removed]",
      "text/plain": [
       "plot without title"
      ]
     },
     "metadata": {
      "image/png": {
       "height": 420,
       "width": 420
      }
     },
     "output_type": "display_data"
    }
   ],
   "source": [
    "ggplot(ldtword, aes(round(Concreteness_Rating), D_RT)) + geom_smooth()\n",
    "ggplot(ldtword, aes(round(Emotional_Valence), D_RT)) + geom_smooth()"
   ]
  },
  {
   "cell_type": "markdown",
   "id": "cross-layout",
   "metadata": {},
   "source": [
    "The linear regression seem not be a good model for any of these predictions. The output for all these predictions suggests a nonlinear regression to be a better fit. \n"
   ]
  },
  {
   "cell_type": "markdown",
   "id": "crucial-cooperation",
   "metadata": {},
   "source": [
    "> [VP] you should have also displayed the data points as well (see homework solution) with stat_summary(). Linear regression is close enough for concreteness and Length, which is more easily seen when you have the data points too (-2)"
   ]
  },
  {
   "cell_type": "code",
   "execution_count": 26,
   "id": "liable-diagnosis",
   "metadata": {},
   "outputs": [],
   "source": [
    "ldtword4 <- data.frame(ldtword$Length, ldtword$SUBTLWF, ldtword$Concreteness_Rating, ldtword$Emotional_Valence)"
   ]
  },
  {
   "cell_type": "code",
   "execution_count": 27,
   "id": "mental-novelty",
   "metadata": {},
   "outputs": [
    {
     "data": {
      "text/html": [
       "<table class=\"dataframe\">\n",
       "<caption>A matrix: 4 × 4 of type dbl</caption>\n",
       "<thead>\n",
       "\t<tr><th></th><th scope=col>ldtword.Length</th><th scope=col>ldtword.SUBTLWF</th><th scope=col>ldtword.Concreteness_Rating</th><th scope=col>ldtword.Emotional_Valence</th></tr>\n",
       "</thead>\n",
       "<tbody>\n",
       "\t<tr><th scope=row>ldtword.Length</th><td> 1.00000000</td><td>-0.14505419</td><td>-0.31793980</td><td>-0.01753049</td></tr>\n",
       "\t<tr><th scope=row>ldtword.SUBTLWF</th><td>-0.14505419</td><td> 1.00000000</td><td>-0.03162817</td><td> 0.07856745</td></tr>\n",
       "\t<tr><th scope=row>ldtword.Concreteness_Rating</th><td>-0.31793980</td><td>-0.03162817</td><td> 1.00000000</td><td> 0.07556639</td></tr>\n",
       "\t<tr><th scope=row>ldtword.Emotional_Valence</th><td>-0.01753049</td><td> 0.07856745</td><td> 0.07556639</td><td> 1.00000000</td></tr>\n",
       "</tbody>\n",
       "</table>\n"
      ],
      "text/latex": [
       "A matrix: 4 × 4 of type dbl\n",
       "\\begin{tabular}{r|llll}\n",
       "  & ldtword.Length & ldtword.SUBTLWF & ldtword.Concreteness\\_Rating & ldtword.Emotional\\_Valence\\\\\n",
       "\\hline\n",
       "\tldtword.Length &  1.00000000 & -0.14505419 & -0.31793980 & -0.01753049\\\\\n",
       "\tldtword.SUBTLWF & -0.14505419 &  1.00000000 & -0.03162817 &  0.07856745\\\\\n",
       "\tldtword.Concreteness\\_Rating & -0.31793980 & -0.03162817 &  1.00000000 &  0.07556639\\\\\n",
       "\tldtword.Emotional\\_Valence & -0.01753049 &  0.07856745 &  0.07556639 &  1.00000000\\\\\n",
       "\\end{tabular}\n"
      ],
      "text/markdown": [
       "\n",
       "A matrix: 4 × 4 of type dbl\n",
       "\n",
       "| <!--/--> | ldtword.Length | ldtword.SUBTLWF | ldtword.Concreteness_Rating | ldtword.Emotional_Valence |\n",
       "|---|---|---|---|---|\n",
       "| ldtword.Length |  1.00000000 | -0.14505419 | -0.31793980 | -0.01753049 |\n",
       "| ldtword.SUBTLWF | -0.14505419 |  1.00000000 | -0.03162817 |  0.07856745 |\n",
       "| ldtword.Concreteness_Rating | -0.31793980 | -0.03162817 |  1.00000000 |  0.07556639 |\n",
       "| ldtword.Emotional_Valence | -0.01753049 |  0.07856745 |  0.07556639 |  1.00000000 |\n",
       "\n"
      ],
      "text/plain": [
       "                            ldtword.Length ldtword.SUBTLWF\n",
       "ldtword.Length               1.00000000    -0.14505419    \n",
       "ldtword.SUBTLWF             -0.14505419     1.00000000    \n",
       "ldtword.Concreteness_Rating -0.31793980    -0.03162817    \n",
       "ldtword.Emotional_Valence   -0.01753049     0.07856745    \n",
       "                            ldtword.Concreteness_Rating\n",
       "ldtword.Length              -0.31793980                \n",
       "ldtword.SUBTLWF             -0.03162817                \n",
       "ldtword.Concreteness_Rating  1.00000000                \n",
       "ldtword.Emotional_Valence    0.07556639                \n",
       "                            ldtword.Emotional_Valence\n",
       "ldtword.Length              -0.01753049              \n",
       "ldtword.SUBTLWF              0.07856745              \n",
       "ldtword.Concreteness_Rating  0.07556639              \n",
       "ldtword.Emotional_Valence    1.00000000              "
      ]
     },
     "metadata": {},
     "output_type": "display_data"
    }
   ],
   "source": [
    "cor(ldtword4)"
   ]
  },
  {
   "cell_type": "markdown",
   "id": "deadly-figure",
   "metadata": {},
   "source": [
    "Part 3: Fit a linear model"
   ]
  },
  {
   "cell_type": "code",
   "execution_count": 29,
   "id": "competitive-latex",
   "metadata": {},
   "outputs": [
    {
     "data": {
      "text/plain": [
       "\n",
       "Call:\n",
       "lm(formula = D_RT ~ Length + SUBTLWF + Concreteness_Rating + \n",
       "    Emotional_Valence, data = ldtword)\n",
       "\n",
       "Residuals:\n",
       "   Min     1Q Median     3Q    Max \n",
       "-853.4 -195.5  -93.9   74.2 3330.1 \n",
       "\n",
       "Coefficients:\n",
       "                      Estimate Std. Error t value Pr(>|t|)    \n",
       "(Intercept)         667.074558  12.426760  53.680  < 2e-16 ***\n",
       "Length               26.415737   0.892603  29.594  < 2e-16 ***\n",
       "SUBTLWF              -0.040145   0.009348  -4.295 1.75e-05 ***\n",
       "Concreteness_Rating  -6.209688   1.902962  -3.263   0.0011 ** \n",
       "Emotional_Valence   -15.062538   1.436979 -10.482  < 2e-16 ***\n",
       "---\n",
       "Signif. codes:  0 '***' 0.001 '**' 0.01 '*' 0.05 '.' 0.1 ' ' 1\n",
       "\n",
       "Residual standard error: 359.7 on 35973 degrees of freedom\n",
       "Multiple R-squared:  0.03429,\tAdjusted R-squared:  0.03418 \n",
       "F-statistic: 319.3 on 4 and 35973 DF,  p-value: < 2.2e-16\n"
      ]
     },
     "metadata": {},
     "output_type": "display_data"
    }
   ],
   "source": [
    "lm1 <-lm(D_RT ~ Length + SUBTLWF + Concreteness_Rating + Emotional_Valence, data = ldtword)\n",
    "summary(lm1)"
   ]
  },
  {
   "cell_type": "markdown",
   "id": "sweet-breakdown",
   "metadata": {},
   "source": [
    "The intercept is 667.074 and the value of the slope is 26.415. The intercept gives the value when all the other variables are = 0, it gives the value of y, when x = 0. If x (Length) increases by one unit, then y (D_RT) increases by 26.415 units; it defines the slope."
   ]
  },
  {
   "cell_type": "markdown",
   "id": "satisfactory-happening",
   "metadata": {},
   "source": [
    "R-squared value represents how much of the variance in the response variable (y) is explained by the independent variable(s). It shows how good the regression model fits the dataset and can take any values between 0 and 1. A higher value (closer to 1) indicates a better fit of the regression model. "
   ]
  },
  {
   "cell_type": "code",
   "execution_count": 30,
   "id": "friendly-lemon",
   "metadata": {},
   "outputs": [
    {
     "name": "stderr",
     "output_type": "stream",
     "text": [
      "`summarise()` has grouped output by 'Word', 'Length', 'SUBTLWF', 'Concreteness_Rating'. You can override using the `.groups` argument.\n",
      "\n"
     ]
    },
    {
     "data": {
      "text/html": [
       "<table class=\"dataframe\">\n",
       "<caption>A grouped_df: 6 × 6</caption>\n",
       "<thead>\n",
       "\t<tr><th scope=col>Word</th><th scope=col>Length</th><th scope=col>SUBTLWF</th><th scope=col>Concreteness_Rating</th><th scope=col>Emotional_Valence</th><th scope=col>mean_RT</th></tr>\n",
       "\t<tr><th scope=col>&lt;fct&gt;</th><th scope=col>&lt;int&gt;</th><th scope=col>&lt;dbl&gt;</th><th scope=col>&lt;dbl&gt;</th><th scope=col>&lt;dbl&gt;</th><th scope=col>&lt;dbl&gt;</th></tr>\n",
       "</thead>\n",
       "<tbody>\n",
       "\t<tr><td>abandon  </td><td>7</td><td> 8.10</td><td>2.54</td><td>2.84</td><td>1175.5000</td></tr>\n",
       "\t<tr><td>abdomen  </td><td>7</td><td> 3.35</td><td>4.70</td><td>5.43</td><td> 778.6667</td></tr>\n",
       "\t<tr><td>abdominal</td><td>9</td><td> 3.41</td><td>4.28</td><td>4.48</td><td> 833.4000</td></tr>\n",
       "\t<tr><td>abduction</td><td>9</td><td> 3.63</td><td>3.07</td><td>2.05</td><td> 708.0000</td></tr>\n",
       "\t<tr><td>abide    </td><td>5</td><td> 2.71</td><td>1.68</td><td>5.52</td><td> 602.2500</td></tr>\n",
       "\t<tr><td>ability  </td><td>7</td><td>19.22</td><td>1.81</td><td>7.00</td><td> 654.2500</td></tr>\n",
       "</tbody>\n",
       "</table>\n"
      ],
      "text/latex": [
       "A grouped\\_df: 6 × 6\n",
       "\\begin{tabular}{llllll}\n",
       " Word & Length & SUBTLWF & Concreteness\\_Rating & Emotional\\_Valence & mean\\_RT\\\\\n",
       " <fct> & <int> & <dbl> & <dbl> & <dbl> & <dbl>\\\\\n",
       "\\hline\n",
       "\t abandon   & 7 &  8.10 & 2.54 & 2.84 & 1175.5000\\\\\n",
       "\t abdomen   & 7 &  3.35 & 4.70 & 5.43 &  778.6667\\\\\n",
       "\t abdominal & 9 &  3.41 & 4.28 & 4.48 &  833.4000\\\\\n",
       "\t abduction & 9 &  3.63 & 3.07 & 2.05 &  708.0000\\\\\n",
       "\t abide     & 5 &  2.71 & 1.68 & 5.52 &  602.2500\\\\\n",
       "\t ability   & 7 & 19.22 & 1.81 & 7.00 &  654.2500\\\\\n",
       "\\end{tabular}\n"
      ],
      "text/markdown": [
       "\n",
       "A grouped_df: 6 × 6\n",
       "\n",
       "| Word &lt;fct&gt; | Length &lt;int&gt; | SUBTLWF &lt;dbl&gt; | Concreteness_Rating &lt;dbl&gt; | Emotional_Valence &lt;dbl&gt; | mean_RT &lt;dbl&gt; |\n",
       "|---|---|---|---|---|---|\n",
       "| abandon   | 7 |  8.10 | 2.54 | 2.84 | 1175.5000 |\n",
       "| abdomen   | 7 |  3.35 | 4.70 | 5.43 |  778.6667 |\n",
       "| abdominal | 9 |  3.41 | 4.28 | 4.48 |  833.4000 |\n",
       "| abduction | 9 |  3.63 | 3.07 | 2.05 |  708.0000 |\n",
       "| abide     | 5 |  2.71 | 1.68 | 5.52 |  602.2500 |\n",
       "| ability   | 7 | 19.22 | 1.81 | 7.00 |  654.2500 |\n",
       "\n"
      ],
      "text/plain": [
       "  Word      Length SUBTLWF Concreteness_Rating Emotional_Valence mean_RT  \n",
       "1 abandon   7       8.10   2.54                2.84              1175.5000\n",
       "2 abdomen   7       3.35   4.70                5.43               778.6667\n",
       "3 abdominal 9       3.41   4.28                4.48               833.4000\n",
       "4 abduction 9       3.63   3.07                2.05               708.0000\n",
       "5 abide     5       2.71   1.68                5.52               602.2500\n",
       "6 ability   7      19.22   1.81                7.00               654.2500"
      ]
     },
     "metadata": {},
     "output_type": "display_data"
    }
   ],
   "source": [
    "df <-ldtword %>%\n",
    "    group_by(Word, Length, SUBTLWF, Concreteness_Rating, Emotional_Valence) %>%\n",
    "    summarise(mean_RT = mean(D_RT))\n",
    "head(df)"
   ]
  },
  {
   "cell_type": "code",
   "execution_count": 32,
   "id": "magnetic-pacific",
   "metadata": {
    "tags": []
   },
   "outputs": [
    {
     "data": {
      "text/plain": [
       "\n",
       "Call:\n",
       "lm(formula = mean_RT ~ Length + SUBTLWF + Concreteness_Rating + \n",
       "    Emotional_Valence, data = df)\n",
       "\n",
       "Residuals:\n",
       "    Min      1Q  Median      3Q     Max \n",
       "-459.92 -128.20  -42.25   78.34 1653.93 \n",
       "\n",
       "Coefficients:\n",
       "                     Estimate Std. Error t value Pr(>|t|)    \n",
       "(Intercept)         667.42698   13.40956  49.772  < 2e-16 ***\n",
       "Length               26.51743    0.96339  27.525  < 2e-16 ***\n",
       "SUBTLWF              -0.03931    0.01004  -3.915  9.1e-05 ***\n",
       "Concreteness_Rating  -6.32646    2.05367  -3.081  0.00207 ** \n",
       "Emotional_Valence   -15.06291    1.55261  -9.702  < 2e-16 ***\n",
       "---\n",
       "Signif. codes:  0 '***' 0.001 '**' 0.01 '*' 0.05 '.' 0.1 ' ' 1\n",
       "\n",
       "Residual standard error: 191.1 on 8705 degrees of freedom\n",
       "Multiple R-squared:  0.1124,\tAdjusted R-squared:  0.112 \n",
       "F-statistic: 275.5 on 4 and 8705 DF,  p-value: < 2.2e-16\n"
      ]
     },
     "metadata": {},
     "output_type": "display_data"
    }
   ],
   "source": [
    "lm2 <-lm(mean_RT ~ Length + SUBTLWF + Concreteness_Rating + Emotional_Valence, data = df)\n",
    "summary(lm2)"
   ]
  },
  {
   "cell_type": "markdown",
   "id": "efficient-romantic",
   "metadata": {},
   "source": [
    "There are slight differences in the intercept and the slopes compared to the first linear regression (lm1). The R-sqaured value is now 0.112, which means that the independent variables do not explain much of the variance in the response variable."
   ]
  },
  {
   "cell_type": "markdown",
   "id": "empty-definition",
   "metadata": {},
   "source": [
    "> [VP] you did not answer why the R2 valued increased. See homework solution. (-1)"
   ]
  },
  {
   "cell_type": "code",
   "execution_count": 33,
   "id": "laughing-function",
   "metadata": {},
   "outputs": [
    {
     "data": {
      "text/plain": [
       "\n",
       "Call:\n",
       "lm(formula = mean_RT ~ Length + log(SUBTLWF) + Concreteness_Rating + \n",
       "    Emotional_Valence, data = df)\n",
       "\n",
       "Residuals:\n",
       "    Min      1Q  Median      3Q     Max \n",
       "-424.41 -124.05  -38.05   75.66 1713.44 \n",
       "\n",
       "Coefficients:\n",
       "                    Estimate Std. Error t value Pr(>|t|)    \n",
       "(Intercept)         742.0081    13.5267  54.855  < 2e-16 ***\n",
       "Length               19.9617     0.9846  20.274  < 2e-16 ***\n",
       "log(SUBTLWF)        -32.5164     1.5086 -21.554  < 2e-16 ***\n",
       "Concreteness_Rating  -8.0244     1.9977  -4.017 5.95e-05 ***\n",
       "Emotional_Valence    -9.1901     1.5376  -5.977 2.36e-09 ***\n",
       "---\n",
       "Signif. codes:  0 '***' 0.001 '**' 0.01 '*' 0.05 '.' 0.1 ' ' 1\n",
       "\n",
       "Residual standard error: 186.4 on 8705 degrees of freedom\n",
       "Multiple R-squared:  0.1559,\tAdjusted R-squared:  0.1555 \n",
       "F-statistic: 401.8 on 4 and 8705 DF,  p-value: < 2.2e-16\n"
      ]
     },
     "metadata": {},
     "output_type": "display_data"
    }
   ],
   "source": [
    "lm3 <-lm(mean_RT ~ Length + log(SUBTLWF) + Concreteness_Rating + Emotional_Valence, data = df)\n",
    "summary(lm3)"
   ]
  },
  {
   "cell_type": "markdown",
   "id": "rising-captain",
   "metadata": {},
   "source": [
    "The R-squared value increases slightly compared to before. The log(SUBTLWF) seems to describe the function of the variable SUBTLWF better than without; this can also be seen in the ggplot above."
   ]
  }
 ],
 "metadata": {
  "kernelspec": {
   "display_name": "R",
   "language": "R",
   "name": "ir"
  },
  "language_info": {
   "codemirror_mode": "r",
   "file_extension": ".r",
   "mimetype": "text/x-r-source",
   "name": "R",
   "pygments_lexer": "r",
   "version": "4.0.4"
  }
 },
 "nbformat": 4,
 "nbformat_minor": 5
}
