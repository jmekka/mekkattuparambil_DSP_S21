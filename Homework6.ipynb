{
 "cells": [
  {
   "cell_type": "markdown",
   "id": "vietnamese-coupon",
   "metadata": {},
   "source": [
    "### Homework 6\n",
    "#### 4.7 Exercises (10 & 11)"
   ]
  },
  {
   "cell_type": "code",
   "execution_count": 1,
   "id": "internal-nickel",
   "metadata": {},
   "outputs": [],
   "source": [
    "library(ISLR)"
   ]
  },
  {
   "cell_type": "markdown",
   "id": "incoming-malawi",
   "metadata": {},
   "source": [
    "#### Exercise 10"
   ]
  },
  {
   "cell_type": "markdown",
   "id": "accurate-faith",
   "metadata": {},
   "source": [
    "##### a) Produce some numerical and graphical summaries of the Weekly data. Do there appear to be any patterns?"
   ]
  },
  {
   "cell_type": "code",
   "execution_count": 2,
   "id": "limited-syracuse",
   "metadata": {
    "tags": []
   },
   "outputs": [
    {
     "data": {
      "text/html": [
       "<table class=\"dataframe\">\n",
       "<caption>A data.frame: 6 × 9</caption>\n",
       "<thead>\n",
       "\t<tr><th></th><th scope=col>Year</th><th scope=col>Lag1</th><th scope=col>Lag2</th><th scope=col>Lag3</th><th scope=col>Lag4</th><th scope=col>Lag5</th><th scope=col>Volume</th><th scope=col>Today</th><th scope=col>Direction</th></tr>\n",
       "\t<tr><th></th><th scope=col>&lt;dbl&gt;</th><th scope=col>&lt;dbl&gt;</th><th scope=col>&lt;dbl&gt;</th><th scope=col>&lt;dbl&gt;</th><th scope=col>&lt;dbl&gt;</th><th scope=col>&lt;dbl&gt;</th><th scope=col>&lt;dbl&gt;</th><th scope=col>&lt;dbl&gt;</th><th scope=col>&lt;fct&gt;</th></tr>\n",
       "</thead>\n",
       "<tbody>\n",
       "\t<tr><th scope=row>1</th><td>1990</td><td> 0.816</td><td> 1.572</td><td>-3.936</td><td>-0.229</td><td>-3.484</td><td>0.1549760</td><td>-0.270</td><td>Down</td></tr>\n",
       "\t<tr><th scope=row>2</th><td>1990</td><td>-0.270</td><td> 0.816</td><td> 1.572</td><td>-3.936</td><td>-0.229</td><td>0.1485740</td><td>-2.576</td><td>Down</td></tr>\n",
       "\t<tr><th scope=row>3</th><td>1990</td><td>-2.576</td><td>-0.270</td><td> 0.816</td><td> 1.572</td><td>-3.936</td><td>0.1598375</td><td> 3.514</td><td>Up  </td></tr>\n",
       "\t<tr><th scope=row>4</th><td>1990</td><td> 3.514</td><td>-2.576</td><td>-0.270</td><td> 0.816</td><td> 1.572</td><td>0.1616300</td><td> 0.712</td><td>Up  </td></tr>\n",
       "\t<tr><th scope=row>5</th><td>1990</td><td> 0.712</td><td> 3.514</td><td>-2.576</td><td>-0.270</td><td> 0.816</td><td>0.1537280</td><td> 1.178</td><td>Up  </td></tr>\n",
       "\t<tr><th scope=row>6</th><td>1990</td><td> 1.178</td><td> 0.712</td><td> 3.514</td><td>-2.576</td><td>-0.270</td><td>0.1544440</td><td>-1.372</td><td>Down</td></tr>\n",
       "</tbody>\n",
       "</table>\n"
      ],
      "text/latex": [
       "A data.frame: 6 × 9\n",
       "\\begin{tabular}{r|lllllllll}\n",
       "  & Year & Lag1 & Lag2 & Lag3 & Lag4 & Lag5 & Volume & Today & Direction\\\\\n",
       "  & <dbl> & <dbl> & <dbl> & <dbl> & <dbl> & <dbl> & <dbl> & <dbl> & <fct>\\\\\n",
       "\\hline\n",
       "\t1 & 1990 &  0.816 &  1.572 & -3.936 & -0.229 & -3.484 & 0.1549760 & -0.270 & Down\\\\\n",
       "\t2 & 1990 & -0.270 &  0.816 &  1.572 & -3.936 & -0.229 & 0.1485740 & -2.576 & Down\\\\\n",
       "\t3 & 1990 & -2.576 & -0.270 &  0.816 &  1.572 & -3.936 & 0.1598375 &  3.514 & Up  \\\\\n",
       "\t4 & 1990 &  3.514 & -2.576 & -0.270 &  0.816 &  1.572 & 0.1616300 &  0.712 & Up  \\\\\n",
       "\t5 & 1990 &  0.712 &  3.514 & -2.576 & -0.270 &  0.816 & 0.1537280 &  1.178 & Up  \\\\\n",
       "\t6 & 1990 &  1.178 &  0.712 &  3.514 & -2.576 & -0.270 & 0.1544440 & -1.372 & Down\\\\\n",
       "\\end{tabular}\n"
      ],
      "text/markdown": [
       "\n",
       "A data.frame: 6 × 9\n",
       "\n",
       "| <!--/--> | Year &lt;dbl&gt; | Lag1 &lt;dbl&gt; | Lag2 &lt;dbl&gt; | Lag3 &lt;dbl&gt; | Lag4 &lt;dbl&gt; | Lag5 &lt;dbl&gt; | Volume &lt;dbl&gt; | Today &lt;dbl&gt; | Direction &lt;fct&gt; |\n",
       "|---|---|---|---|---|---|---|---|---|---|\n",
       "| 1 | 1990 |  0.816 |  1.572 | -3.936 | -0.229 | -3.484 | 0.1549760 | -0.270 | Down |\n",
       "| 2 | 1990 | -0.270 |  0.816 |  1.572 | -3.936 | -0.229 | 0.1485740 | -2.576 | Down |\n",
       "| 3 | 1990 | -2.576 | -0.270 |  0.816 |  1.572 | -3.936 | 0.1598375 |  3.514 | Up   |\n",
       "| 4 | 1990 |  3.514 | -2.576 | -0.270 |  0.816 |  1.572 | 0.1616300 |  0.712 | Up   |\n",
       "| 5 | 1990 |  0.712 |  3.514 | -2.576 | -0.270 |  0.816 | 0.1537280 |  1.178 | Up   |\n",
       "| 6 | 1990 |  1.178 |  0.712 |  3.514 | -2.576 | -0.270 | 0.1544440 | -1.372 | Down |\n",
       "\n"
      ],
      "text/plain": [
       "  Year Lag1   Lag2   Lag3   Lag4   Lag5   Volume    Today  Direction\n",
       "1 1990  0.816  1.572 -3.936 -0.229 -3.484 0.1549760 -0.270 Down     \n",
       "2 1990 -0.270  0.816  1.572 -3.936 -0.229 0.1485740 -2.576 Down     \n",
       "3 1990 -2.576 -0.270  0.816  1.572 -3.936 0.1598375  3.514 Up       \n",
       "4 1990  3.514 -2.576 -0.270  0.816  1.572 0.1616300  0.712 Up       \n",
       "5 1990  0.712  3.514 -2.576 -0.270  0.816 0.1537280  1.178 Up       \n",
       "6 1990  1.178  0.712  3.514 -2.576 -0.270 0.1544440 -1.372 Down     "
      ]
     },
     "metadata": {},
     "output_type": "display_data"
    }
   ],
   "source": [
    "head(Weekly)\n",
    "attach(Weekly)"
   ]
  },
  {
   "cell_type": "code",
   "execution_count": 3,
   "id": "statistical-battlefield",
   "metadata": {},
   "outputs": [
    {
     "data": {
      "text/html": [
       "<style>\n",
       ".list-inline {list-style: none; margin:0; padding: 0}\n",
       ".list-inline>li {display: inline-block}\n",
       ".list-inline>li:not(:last-child)::after {content: \"\\00b7\"; padding: 0 .5ex}\n",
       "</style>\n",
       "<ol class=list-inline><li>'Year'</li><li>'Lag1'</li><li>'Lag2'</li><li>'Lag3'</li><li>'Lag4'</li><li>'Lag5'</li><li>'Volume'</li><li>'Today'</li><li>'Direction'</li></ol>\n"
      ],
      "text/latex": [
       "\\begin{enumerate*}\n",
       "\\item 'Year'\n",
       "\\item 'Lag1'\n",
       "\\item 'Lag2'\n",
       "\\item 'Lag3'\n",
       "\\item 'Lag4'\n",
       "\\item 'Lag5'\n",
       "\\item 'Volume'\n",
       "\\item 'Today'\n",
       "\\item 'Direction'\n",
       "\\end{enumerate*}\n"
      ],
      "text/markdown": [
       "1. 'Year'\n",
       "2. 'Lag1'\n",
       "3. 'Lag2'\n",
       "4. 'Lag3'\n",
       "5. 'Lag4'\n",
       "6. 'Lag5'\n",
       "7. 'Volume'\n",
       "8. 'Today'\n",
       "9. 'Direction'\n",
       "\n",
       "\n"
      ],
      "text/plain": [
       "[1] \"Year\"      \"Lag1\"      \"Lag2\"      \"Lag3\"      \"Lag4\"      \"Lag5\"     \n",
       "[7] \"Volume\"    \"Today\"     \"Direction\""
      ]
     },
     "metadata": {},
     "output_type": "display_data"
    }
   ],
   "source": [
    "names(Weekly)"
   ]
  },
  {
   "cell_type": "code",
   "execution_count": 4,
   "id": "laden-intervention",
   "metadata": {},
   "outputs": [
    {
     "data": {
      "text/html": [
       "<style>\n",
       ".list-inline {list-style: none; margin:0; padding: 0}\n",
       ".list-inline>li {display: inline-block}\n",
       ".list-inline>li:not(:last-child)::after {content: \"\\00b7\"; padding: 0 .5ex}\n",
       "</style>\n",
       "<ol class=list-inline><li>1089</li><li>9</li></ol>\n"
      ],
      "text/latex": [
       "\\begin{enumerate*}\n",
       "\\item 1089\n",
       "\\item 9\n",
       "\\end{enumerate*}\n"
      ],
      "text/markdown": [
       "1. 1089\n",
       "2. 9\n",
       "\n",
       "\n"
      ],
      "text/plain": [
       "[1] 1089    9"
      ]
     },
     "metadata": {},
     "output_type": "display_data"
    }
   ],
   "source": [
    "dim(Weekly)"
   ]
  },
  {
   "cell_type": "code",
   "execution_count": 5,
   "id": "velvet-identifier",
   "metadata": {},
   "outputs": [
    {
     "data": {
      "text/plain": [
       "      Year           Lag1               Lag2               Lag3         \n",
       " Min.   :1990   Min.   :-18.1950   Min.   :-18.1950   Min.   :-18.1950  \n",
       " 1st Qu.:1995   1st Qu.: -1.1540   1st Qu.: -1.1540   1st Qu.: -1.1580  \n",
       " Median :2000   Median :  0.2410   Median :  0.2410   Median :  0.2410  \n",
       " Mean   :2000   Mean   :  0.1506   Mean   :  0.1511   Mean   :  0.1472  \n",
       " 3rd Qu.:2005   3rd Qu.:  1.4050   3rd Qu.:  1.4090   3rd Qu.:  1.4090  \n",
       " Max.   :2010   Max.   : 12.0260   Max.   : 12.0260   Max.   : 12.0260  \n",
       "      Lag4               Lag5              Volume            Today         \n",
       " Min.   :-18.1950   Min.   :-18.1950   Min.   :0.08747   Min.   :-18.1950  \n",
       " 1st Qu.: -1.1580   1st Qu.: -1.1660   1st Qu.:0.33202   1st Qu.: -1.1540  \n",
       " Median :  0.2380   Median :  0.2340   Median :1.00268   Median :  0.2410  \n",
       " Mean   :  0.1458   Mean   :  0.1399   Mean   :1.57462   Mean   :  0.1499  \n",
       " 3rd Qu.:  1.4090   3rd Qu.:  1.4050   3rd Qu.:2.05373   3rd Qu.:  1.4050  \n",
       " Max.   : 12.0260   Max.   : 12.0260   Max.   :9.32821   Max.   : 12.0260  \n",
       " Direction \n",
       " Down:484  \n",
       " Up  :605  \n",
       "           \n",
       "           \n",
       "           \n",
       "           "
      ]
     },
     "metadata": {},
     "output_type": "display_data"
    }
   ],
   "source": [
    "summary(Weekly)"
   ]
  },
  {
   "cell_type": "code",
   "execution_count": 6,
   "id": "through-appendix",
   "metadata": {},
   "outputs": [
    {
     "data": {
      "image/png": "[encoded data removed]",
      "text/plain": [
       "plot without title"
      ]
     },
     "metadata": {
      "image/png": {
       "height": 420,
       "width": 420
      }
     },
     "output_type": "display_data"
    }
   ],
   "source": [
    "plot(Weekly$Volume)"
   ]
  },
  {
   "cell_type": "code",
   "execution_count": 7,
   "id": "latter-instrument",
   "metadata": {},
   "outputs": [
    {
     "data": {
      "image/png": "[encoded data removed]",
      "text/plain": [
       "plot without title"
      ]
     },
     "metadata": {
      "image/png": {
       "height": 420,
       "width": 420
      }
     },
     "output_type": "display_data"
    }
   ],
   "source": [
    "plot(Weekly)"
   ]
  },
  {
   "cell_type": "markdown",
   "id": "protective-terminal",
   "metadata": {},
   "source": [
    "##### b) Use the full data set to perform a logistic regression with Direction as the response and the five lag variables plus Volume as predictors. Use the summary function to print the results. Do any of the predictors appear to be statistically significant? If so, which ones?"
   ]
  },
  {
   "cell_type": "code",
   "execution_count": 8,
   "id": "disciplinary-writer",
   "metadata": {},
   "outputs": [
    {
     "data": {
      "text/plain": [
       "\n",
       "Call:\n",
       "glm(formula = Direction ~ Lag1 + Lag2 + Lag3 + Lag4 + Lag5 + \n",
       "    Volume, family = binomial, data = Weekly)\n",
       "\n",
       "Deviance Residuals: \n",
       "    Min       1Q   Median       3Q      Max  \n",
       "-1.6949  -1.2565   0.9913   1.0849   1.4579  \n",
       "\n",
       "Coefficients:\n",
       "            Estimate Std. Error z value Pr(>|z|)   \n",
       "(Intercept)  0.26686    0.08593   3.106   0.0019 **\n",
       "Lag1        -0.04127    0.02641  -1.563   0.1181   \n",
       "Lag2         0.05844    0.02686   2.175   0.0296 * \n",
       "Lag3        -0.01606    0.02666  -0.602   0.5469   \n",
       "Lag4        -0.02779    0.02646  -1.050   0.2937   \n",
       "Lag5        -0.01447    0.02638  -0.549   0.5833   \n",
       "Volume      -0.02274    0.03690  -0.616   0.5377   \n",
       "---\n",
       "Signif. codes:  0 '***' 0.001 '**' 0.01 '*' 0.05 '.' 0.1 ' ' 1\n",
       "\n",
       "(Dispersion parameter for binomial family taken to be 1)\n",
       "\n",
       "    Null deviance: 1496.2  on 1088  degrees of freedom\n",
       "Residual deviance: 1486.4  on 1082  degrees of freedom\n",
       "AIC: 1500.4\n",
       "\n",
       "Number of Fisher Scoring iterations: 4\n"
      ]
     },
     "metadata": {},
     "output_type": "display_data"
    }
   ],
   "source": [
    "glm1 <-glm(Direction ~ Lag1 + Lag2 + Lag3 + Lag4 + Lag5 + Volume, data = Weekly, \n",
    "          family = binomial)\n",
    "summary(glm1)"
   ]
  },
  {
   "cell_type": "markdown",
   "id": "hydraulic-imagination",
   "metadata": {},
   "source": [
    "The predictor Lag2 seem to be significant."
   ]
  },
  {
   "cell_type": "markdown",
   "id": "according-desire",
   "metadata": {},
   "source": [
    "##### c) Compute the confusion matrix and overall fraction of correct predictions. Explain what the confusion matrix is telling you about the types of mistakes made by logistic regression."
   ]
  },
  {
   "cell_type": "code",
   "execution_count": 9,
   "id": "progressive-circular",
   "metadata": {},
   "outputs": [
    {
     "data": {
      "text/html": [
       "<style>\n",
       ".dl-inline {width: auto; margin:0; padding: 0}\n",
       ".dl-inline>dt, .dl-inline>dd {float: none; width: auto; display: inline-block}\n",
       ".dl-inline>dt::after {content: \":\\0020\"; padding-right: .5ex}\n",
       ".dl-inline>dt:not(:first-of-type) {padding-left: .5ex}\n",
       "</style><dl class=dl-inline><dt>1</dt><dd>0.608624944335381</dd><dt>2</dt><dd>0.601031436565434</dd><dt>3</dt><dd>0.587569945934812</dd><dt>4</dt><dd>0.481641563622447</dd><dt>5</dt><dd>0.61690129222657</dd><dt>6</dt><dd>0.568419018945013</dd><dt>7</dt><dd>0.578609714614269</dd><dt>8</dt><dd>0.515197243692007</dd><dt>9</dt><dd>0.571519975294155</dd><dt>10</dt><dd>0.555428733703301</dd></dl>\n"
      ],
      "text/latex": [
       "\\begin{description*}\n",
       "\\item[1] 0.608624944335381\n",
       "\\item[2] 0.601031436565434\n",
       "\\item[3] 0.587569945934812\n",
       "\\item[4] 0.481641563622447\n",
       "\\item[5] 0.61690129222657\n",
       "\\item[6] 0.568419018945013\n",
       "\\item[7] 0.578609714614269\n",
       "\\item[8] 0.515197243692007\n",
       "\\item[9] 0.571519975294155\n",
       "\\item[10] 0.555428733703301\n",
       "\\end{description*}\n"
      ],
      "text/markdown": [
       "1\n",
       ":   0.6086249443353812\n",
       ":   0.6010314365654343\n",
       ":   0.5875699459348124\n",
       ":   0.4816415636224475\n",
       ":   0.616901292226576\n",
       ":   0.5684190189450137\n",
       ":   0.5786097146142698\n",
       ":   0.5151972436920079\n",
       ":   0.57151997529415510\n",
       ":   0.555428733703301\n",
       "\n"
      ],
      "text/plain": [
       "        1         2         3         4         5         6         7         8 \n",
       "0.6086249 0.6010314 0.5875699 0.4816416 0.6169013 0.5684190 0.5786097 0.5151972 \n",
       "        9        10 \n",
       "0.5715200 0.5554287 "
      ]
     },
     "metadata": {},
     "output_type": "display_data"
    },
    {
     "data": {
      "text/html": [
       "<table class=\"dataframe\">\n",
       "<caption>A matrix: 2 × 1 of type dbl</caption>\n",
       "<thead>\n",
       "\t<tr><th></th><th scope=col>Up</th></tr>\n",
       "</thead>\n",
       "<tbody>\n",
       "\t<tr><th scope=row>Down</th><td>0</td></tr>\n",
       "\t<tr><th scope=row>Up</th><td>1</td></tr>\n",
       "</tbody>\n",
       "</table>\n"
      ],
      "text/latex": [
       "A matrix: 2 × 1 of type dbl\n",
       "\\begin{tabular}{r|l}\n",
       "  & Up\\\\\n",
       "\\hline\n",
       "\tDown & 0\\\\\n",
       "\tUp & 1\\\\\n",
       "\\end{tabular}\n"
      ],
      "text/markdown": [
       "\n",
       "A matrix: 2 × 1 of type dbl\n",
       "\n",
       "| <!--/--> | Up |\n",
       "|---|---|\n",
       "| Down | 0 |\n",
       "| Up | 1 |\n",
       "\n"
      ],
      "text/plain": [
       "     Up\n",
       "Down 0 \n",
       "Up   1 "
      ]
     },
     "metadata": {},
     "output_type": "display_data"
    },
    {
     "data": {
      "text/plain": [
       "        \n",
       "glm.pred Down  Up\n",
       "    Down   54  48\n",
       "    Up    430 557"
      ]
     },
     "metadata": {},
     "output_type": "display_data"
    }
   ],
   "source": [
    "glm.probs <-predict(glm1, type = 'response')\n",
    "glm.probs [1:10]\n",
    "contrasts(Weekly$Direction)\n",
    "glm.pred <-rep ('Down' ,1089)\n",
    "glm.pred[glm.probs >.5]= 'Up'\n",
    "table(glm.pred, Weekly$Direction)"
   ]
  },
  {
   "cell_type": "code",
   "execution_count": 10,
   "id": "green-thunder",
   "metadata": {},
   "outputs": [
    {
     "data": {
      "text/html": [
       "0.561065197428834"
      ],
      "text/latex": [
       "0.561065197428834"
      ],
      "text/markdown": [
       "0.561065197428834"
      ],
      "text/plain": [
       "[1] 0.5610652"
      ]
     },
     "metadata": {},
     "output_type": "display_data"
    }
   ],
   "source": [
    "mean(glm.pred==Weekly$Direction)"
   ]
  },
  {
   "cell_type": "markdown",
   "id": "alternate-banks",
   "metadata": {},
   "source": [
    "The diagonal values of the confusion matrix (54 and 557) shows that the model predicted correctly and the off-diagonals shows the false predictions (48 and 430). The model predicts 56.1% of the time correctly. It also shows the error rate: 100-56.1 = 43.9%, where the model predicts incorrect. "
   ]
  },
  {
   "cell_type": "markdown",
   "id": "tutorial-photograph",
   "metadata": {},
   "source": [
    "##### d) Now fit the logistic regression model using a training data period from 1990 to 2008, with Lag2 as the only predictor. Compute the confusion matrix and the overall fraction of correct predictions for the held out data (that is, the data from 2009 and 2010)."
   ]
  },
  {
   "cell_type": "code",
   "execution_count": 11,
   "id": "disciplinary-bonus",
   "metadata": {},
   "outputs": [
    {
     "data": {
      "text/html": [
       "<style>\n",
       ".list-inline {list-style: none; margin:0; padding: 0}\n",
       ".list-inline>li {display: inline-block}\n",
       ".list-inline>li:not(:last-child)::after {content: \"\\00b7\"; padding: 0 .5ex}\n",
       "</style>\n",
       "<ol class=list-inline><li>104</li><li>9</li></ol>\n"
      ],
      "text/latex": [
       "\\begin{enumerate*}\n",
       "\\item 104\n",
       "\\item 9\n",
       "\\end{enumerate*}\n"
      ],
      "text/markdown": [
       "1. 104\n",
       "2. 9\n",
       "\n",
       "\n"
      ],
      "text/plain": [
       "[1] 104   9"
      ]
     },
     "metadata": {},
     "output_type": "display_data"
    }
   ],
   "source": [
    "train = (Year<2009)\n",
    "Weekly.2009 <- Weekly[!train,]\n",
    "dim(Weekly.2009)\n",
    "Direction.2009=Direction[!train]"
   ]
  },
  {
   "cell_type": "code",
   "execution_count": 12,
   "id": "civil-scientist",
   "metadata": {},
   "outputs": [
    {
     "data": {
      "text/plain": [
       "        Direction.2009\n",
       "glm.pred Down Up\n",
       "    Down    9  5\n",
       "    Up     34 56"
      ]
     },
     "metadata": {},
     "output_type": "display_data"
    }
   ],
   "source": [
    "glm2 <-glm(Weekly$Direction ~ Lag2, data = Weekly, \n",
    "           family = binomial, subset=train)\n",
    "glm.probs <-predict(glm2, Weekly.2009, type = 'response')\n",
    "glm.pred = rep('Down', 104)\n",
    "glm.pred[glm.probs >.5] = 'Up'\n",
    "table(glm.pred, Direction.2009)"
   ]
  },
  {
   "cell_type": "code",
   "execution_count": 13,
   "id": "focused-accused",
   "metadata": {},
   "outputs": [
    {
     "data": {
      "text/html": [
       "0.625"
      ],
      "text/latex": [
       "0.625"
      ],
      "text/markdown": [
       "0.625"
      ],
      "text/plain": [
       "[1] 0.625"
      ]
     },
     "metadata": {},
     "output_type": "display_data"
    }
   ],
   "source": [
    "mean(glm.pred==Direction.2009)"
   ]
  },
  {
   "cell_type": "code",
   "execution_count": 14,
   "id": "pretty-scenario",
   "metadata": {},
   "outputs": [
    {
     "data": {
      "text/html": [
       "0.375"
      ],
      "text/latex": [
       "0.375"
      ],
      "text/markdown": [
       "0.375"
      ],
      "text/plain": [
       "[1] 0.375"
      ]
     },
     "metadata": {},
     "output_type": "display_data"
    }
   ],
   "source": [
    "mean(glm.pred!=Direction.2009)"
   ]
  },
  {
   "cell_type": "markdown",
   "id": "collect-howard",
   "metadata": {},
   "source": [
    "##### e) Repeat (d) using LDA."
   ]
  },
  {
   "cell_type": "code",
   "execution_count": 15,
   "id": "material-hormone",
   "metadata": {},
   "outputs": [],
   "source": [
    "library(MASS)"
   ]
  },
  {
   "cell_type": "code",
   "execution_count": 16,
   "id": "searching-conservation",
   "metadata": {},
   "outputs": [
    {
     "data": {
      "text/plain": [
       "Call:\n",
       "lda(Weekly$Direction ~ Lag2, data = Weekly, subset = train)\n",
       "\n",
       "Prior probabilities of groups:\n",
       "     Down        Up \n",
       "0.4477157 0.5522843 \n",
       "\n",
       "Group means:\n",
       "            Lag2\n",
       "Down -0.03568254\n",
       "Up    0.26036581\n",
       "\n",
       "Coefficients of linear discriminants:\n",
       "           LD1\n",
       "Lag2 0.4414162"
      ]
     },
     "metadata": {},
     "output_type": "display_data"
    }
   ],
   "source": [
    "lda1 <-lda(Weekly$Direction ~ Lag2, data = Weekly, subset=train)\n",
    "lda1"
   ]
  },
  {
   "cell_type": "code",
   "execution_count": 17,
   "id": "respected-malaysia",
   "metadata": {},
   "outputs": [
    {
     "data": {
      "text/html": [
       "<style>\n",
       ".list-inline {list-style: none; margin:0; padding: 0}\n",
       ".list-inline>li {display: inline-block}\n",
       ".list-inline>li:not(:last-child)::after {content: \"\\00b7\"; padding: 0 .5ex}\n",
       "</style>\n",
       "<ol class=list-inline><li>'class'</li><li>'posterior'</li><li>'x'</li></ol>\n"
      ],
      "text/latex": [
       "\\begin{enumerate*}\n",
       "\\item 'class'\n",
       "\\item 'posterior'\n",
       "\\item 'x'\n",
       "\\end{enumerate*}\n"
      ],
      "text/markdown": [
       "1. 'class'\n",
       "2. 'posterior'\n",
       "3. 'x'\n",
       "\n",
       "\n"
      ],
      "text/plain": [
       "[1] \"class\"     \"posterior\" \"x\"        "
      ]
     },
     "metadata": {},
     "output_type": "display_data"
    },
    {
     "data": {
      "text/plain": [
       "         Direction.2009\n",
       "lda.class Down Up\n",
       "     Down    9  5\n",
       "     Up     34 56"
      ]
     },
     "metadata": {},
     "output_type": "display_data"
    }
   ],
   "source": [
    "lda.pred <-predict(lda1, Weekly.2009)\n",
    "names(lda.pred)\n",
    "lda.class <-lda.pred$class\n",
    "table(lda.class, Direction.2009)"
   ]
  },
  {
   "cell_type": "code",
   "execution_count": 18,
   "id": "olympic-carry",
   "metadata": {},
   "outputs": [
    {
     "data": {
      "text/html": [
       "0.625"
      ],
      "text/latex": [
       "0.625"
      ],
      "text/markdown": [
       "0.625"
      ],
      "text/plain": [
       "[1] 0.625"
      ]
     },
     "metadata": {},
     "output_type": "display_data"
    }
   ],
   "source": [
    "mean(lda.class==Direction.2009)"
   ]
  },
  {
   "cell_type": "code",
   "execution_count": 19,
   "id": "exterior-frontier",
   "metadata": {},
   "outputs": [
    {
     "data": {
      "text/html": [
       "0.375"
      ],
      "text/latex": [
       "0.375"
      ],
      "text/markdown": [
       "0.375"
      ],
      "text/plain": [
       "[1] 0.375"
      ]
     },
     "metadata": {},
     "output_type": "display_data"
    }
   ],
   "source": [
    "mean(lda.class!=Direction.2009)"
   ]
  },
  {
   "cell_type": "markdown",
   "id": "biblical-container",
   "metadata": {},
   "source": [
    "##### f) Repeat (d) using QDA"
   ]
  },
  {
   "cell_type": "code",
   "execution_count": 20,
   "id": "banner-draft",
   "metadata": {},
   "outputs": [
    {
     "data": {
      "text/plain": [
       "Call:\n",
       "qda(Weekly$Direction ~ Lag2, data = Weekly, subset = train)\n",
       "\n",
       "Prior probabilities of groups:\n",
       "     Down        Up \n",
       "0.4477157 0.5522843 \n",
       "\n",
       "Group means:\n",
       "            Lag2\n",
       "Down -0.03568254\n",
       "Up    0.26036581"
      ]
     },
     "metadata": {},
     "output_type": "display_data"
    }
   ],
   "source": [
    "qda1 <-qda(Weekly$Direction ~ Lag2, data = Weekly, subset=train)\n",
    "qda1"
   ]
  },
  {
   "cell_type": "code",
   "execution_count": 21,
   "id": "plain-belief",
   "metadata": {},
   "outputs": [
    {
     "data": {
      "text/plain": [
       "         Direction.2009\n",
       "qda.class Down Up\n",
       "     Down    0  0\n",
       "     Up     43 61"
      ]
     },
     "metadata": {},
     "output_type": "display_data"
    }
   ],
   "source": [
    "qda.class <-predict(qda1, Weekly.2009)$class\n",
    "table(qda.class, Direction.2009)"
   ]
  },
  {
   "cell_type": "code",
   "execution_count": 22,
   "id": "inside-evening",
   "metadata": {},
   "outputs": [
    {
     "data": {
      "text/html": [
       "0.586538461538462"
      ],
      "text/latex": [
       "0.586538461538462"
      ],
      "text/markdown": [
       "0.586538461538462"
      ],
      "text/plain": [
       "[1] 0.5865385"
      ]
     },
     "metadata": {},
     "output_type": "display_data"
    }
   ],
   "source": [
    "mean(qda.class==Direction.2009)"
   ]
  },
  {
   "cell_type": "code",
   "execution_count": 23,
   "id": "minimal-episode",
   "metadata": {},
   "outputs": [
    {
     "data": {
      "text/html": [
       "0.413461538461538"
      ],
      "text/latex": [
       "0.413461538461538"
      ],
      "text/markdown": [
       "0.413461538461538"
      ],
      "text/plain": [
       "[1] 0.4134615"
      ]
     },
     "metadata": {},
     "output_type": "display_data"
    }
   ],
   "source": [
    "mean(qda.class!=Direction.2009)"
   ]
  },
  {
   "cell_type": "markdown",
   "id": "involved-branch",
   "metadata": {},
   "source": [
    "##### g) Repeat (d) using KNN with K = 1"
   ]
  },
  {
   "cell_type": "code",
   "execution_count": 24,
   "id": "polish-guide",
   "metadata": {},
   "outputs": [],
   "source": [
    "library(class)"
   ]
  },
  {
   "cell_type": "code",
   "execution_count": 25,
   "id": "nutritional-airfare",
   "metadata": {},
   "outputs": [
    {
     "data": {
      "text/plain": [
       "        Direction.2009\n",
       "knn.pred Down Up\n",
       "    Down   21 30\n",
       "    Up     22 31"
      ]
     },
     "metadata": {},
     "output_type": "display_data"
    }
   ],
   "source": [
    "train.x <-cbind(Lag2)[train,]\n",
    "test.x <-cbind(Lag2)[!train,]\n",
    "train.Direction <-Direction[train]\n",
    "set.seed(1)\n",
    "knn.pred <-knn(data.frame(train.x), data.frame(test.x), train.Direction, k=1)\n",
    "table(knn.pred, Direction.2009)"
   ]
  },
  {
   "cell_type": "code",
   "execution_count": 26,
   "id": "departmental-championship",
   "metadata": {},
   "outputs": [
    {
     "data": {
      "text/html": [
       "0.5"
      ],
      "text/latex": [
       "0.5"
      ],
      "text/markdown": [
       "0.5"
      ],
      "text/plain": [
       "[1] 0.5"
      ]
     },
     "metadata": {},
     "output_type": "display_data"
    },
    {
     "data": {
      "text/html": [
       "0.5"
      ],
      "text/latex": [
       "0.5"
      ],
      "text/markdown": [
       "0.5"
      ],
      "text/plain": [
       "[1] 0.5"
      ]
     },
     "metadata": {},
     "output_type": "display_data"
    }
   ],
   "source": [
    "mean(knn.pred==Direction.2009)\n",
    "mean(knn.pred!=Direction.2009)"
   ]
  },
  {
   "cell_type": "markdown",
   "id": "macro-vietnam",
   "metadata": {},
   "source": [
    "##### h) Which of these methods appears to provide the best results on this data?"
   ]
  },
  {
   "cell_type": "markdown",
   "id": "reduced-privacy",
   "metadata": {},
   "source": [
    "The logistic regression model and the linear discriminant analysis seem to provide better results on this data with an test error of 37.5%. The quadratic discriminant analysis and K-nearest neighbors have higher test error of 41.3, respectively 50%."
   ]
  },
  {
   "cell_type": "markdown",
   "id": "cognitive-motorcycle",
   "metadata": {},
   "source": [
    "##### i) Experiment with different combinations of predictors, including possible transformations and interactions, for each of the methods. Report the variables, method, and associated confusion matrix that appears to provide the best results on the held out data. Note that you should also experiment with values for K in the KNN classifier."
   ]
  },
  {
   "cell_type": "code",
   "execution_count": 27,
   "id": "dynamic-bread",
   "metadata": {
    "tags": []
   },
   "outputs": [
    {
     "data": {
      "text/plain": [
       "        Direction.2009\n",
       "glm.pred Down Up\n",
       "    Down   31 44\n",
       "    Up     12 17"
      ]
     },
     "metadata": {},
     "output_type": "display_data"
    },
    {
     "data": {
      "text/html": [
       "0.461538461538462"
      ],
      "text/latex": [
       "0.461538461538462"
      ],
      "text/markdown": [
       "0.461538461538462"
      ],
      "text/plain": [
       "[1] 0.4615385"
      ]
     },
     "metadata": {},
     "output_type": "display_data"
    },
    {
     "data": {
      "text/html": [
       "0.538461538461538"
      ],
      "text/latex": [
       "0.538461538461538"
      ],
      "text/markdown": [
       "0.538461538461538"
      ],
      "text/plain": [
       "[1] 0.5384615"
      ]
     },
     "metadata": {},
     "output_type": "display_data"
    },
    {
     "data": {
      "text/plain": [
       "        Direction.2009\n",
       "glm.pred Down Up\n",
       "    Down   10 14\n",
       "    Up     33 47"
      ]
     },
     "metadata": {},
     "output_type": "display_data"
    },
    {
     "data": {
      "text/html": [
       "0.548076923076923"
      ],
      "text/latex": [
       "0.548076923076923"
      ],
      "text/markdown": [
       "0.548076923076923"
      ],
      "text/plain": [
       "[1] 0.5480769"
      ]
     },
     "metadata": {},
     "output_type": "display_data"
    },
    {
     "data": {
      "text/html": [
       "0.451923076923077"
      ],
      "text/latex": [
       "0.451923076923077"
      ],
      "text/markdown": [
       "0.451923076923077"
      ],
      "text/plain": [
       "[1] 0.4519231"
      ]
     },
     "metadata": {},
     "output_type": "display_data"
    },
    {
     "data": {
      "text/plain": [
       "        Direction.2009\n",
       "glm.pred Down Up\n",
       "    Down    8  8\n",
       "    Up     35 53"
      ]
     },
     "metadata": {},
     "output_type": "display_data"
    },
    {
     "data": {
      "text/html": [
       "0.586538461538462"
      ],
      "text/latex": [
       "0.586538461538462"
      ],
      "text/markdown": [
       "0.586538461538462"
      ],
      "text/plain": [
       "[1] 0.5865385"
      ]
     },
     "metadata": {},
     "output_type": "display_data"
    },
    {
     "data": {
      "text/html": [
       "0.413461538461538"
      ],
      "text/latex": [
       "0.413461538461538"
      ],
      "text/markdown": [
       "0.413461538461538"
      ],
      "text/plain": [
       "[1] 0.4134615"
      ]
     },
     "metadata": {},
     "output_type": "display_data"
    },
    {
     "data": {
      "text/plain": [
       "        Direction.2009\n",
       "glm.pred Down Up\n",
       "    Down    8  9\n",
       "    Up     35 52"
      ]
     },
     "metadata": {},
     "output_type": "display_data"
    },
    {
     "data": {
      "text/html": [
       "0.576923076923077"
      ],
      "text/latex": [
       "0.576923076923077"
      ],
      "text/markdown": [
       "0.576923076923077"
      ],
      "text/plain": [
       "[1] 0.5769231"
      ]
     },
     "metadata": {},
     "output_type": "display_data"
    },
    {
     "data": {
      "text/html": [
       "0.423076923076923"
      ],
      "text/latex": [
       "0.423076923076923"
      ],
      "text/markdown": [
       "0.423076923076923"
      ],
      "text/plain": [
       "[1] 0.4230769"
      ]
     },
     "metadata": {},
     "output_type": "display_data"
    },
    {
     "data": {
      "text/plain": [
       "        Direction.2009\n",
       "glm.pred Down Up\n",
       "    Down    4  6\n",
       "    Up     39 55"
      ]
     },
     "metadata": {},
     "output_type": "display_data"
    },
    {
     "data": {
      "text/html": [
       "0.567307692307692"
      ],
      "text/latex": [
       "0.567307692307692"
      ],
      "text/markdown": [
       "0.567307692307692"
      ],
      "text/plain": [
       "[1] 0.5673077"
      ]
     },
     "metadata": {},
     "output_type": "display_data"
    },
    {
     "data": {
      "text/html": [
       "0.432692307692308"
      ],
      "text/latex": [
       "0.432692307692308"
      ],
      "text/markdown": [
       "0.432692307692308"
      ],
      "text/plain": [
       "[1] 0.4326923"
      ]
     },
     "metadata": {},
     "output_type": "display_data"
    }
   ],
   "source": [
    "glm.fit <-glm(Weekly$Direction ~ Lag1 + Lag2 + Lag3 + Lag4 + Lag5 + Volume, data = Weekly, \n",
    "           family = binomial, subset=train)\n",
    "glm.probs <-predict(glm.fit, Weekly.2009, type = 'response')\n",
    "glm.pred = rep('Down', length(glm.probs))\n",
    "glm.pred[glm.probs >.5] = 'Up'\n",
    "table(glm.pred, Direction.2009)\n",
    "mean(glm.pred==Direction.2009)\n",
    "mean(glm.pred!=Direction.2009)\n",
    "\n",
    "glm.fit <-glm(Weekly$Direction ~ Lag1 + Lag2 + Lag3 + Lag4 + Lag5, data = Weekly, \n",
    "           family = binomial, subset=train)\n",
    "glm.probs <-predict(glm.fit, Weekly.2009, type = 'response')\n",
    "glm.pred = rep('Down', length(glm.probs))\n",
    "glm.pred[glm.probs >.5] = 'Up'\n",
    "table(glm.pred, Direction.2009)\n",
    "mean(glm.pred==Direction.2009)\n",
    "mean(glm.pred!=Direction.2009)\n",
    "\n",
    "glm.fit <-glm(Weekly$Direction ~ Lag1 + Lag2 + Lag3 + Lag4, data = Weekly, \n",
    "           family = binomial, subset=train)\n",
    "glm.probs <-predict(glm.fit, Weekly.2009, type = 'response')\n",
    "glm.pred = rep('Down', length(glm.probs))\n",
    "glm.pred[glm.probs >.5] = 'Up'\n",
    "table(glm.pred, Direction.2009)\n",
    "mean(glm.pred==Direction.2009)\n",
    "mean(glm.pred!=Direction.2009)\n",
    "\n",
    "glm.fit <-glm(Weekly$Direction ~ Lag1 + Lag2 + Lag3, data = Weekly, \n",
    "           family = binomial, subset=train)\n",
    "glm.probs <-predict(glm.fit, Weekly.2009, type = 'response')\n",
    "glm.pred = rep('Down', length(glm.probs))\n",
    "glm.pred[glm.probs >.5] = 'Up'\n",
    "table(glm.pred, Direction.2009)\n",
    "mean(glm.pred==Direction.2009)\n",
    "mean(glm.pred!=Direction.2009)\n",
    "\n",
    "glm.fit <-glm(Weekly$Direction ~ Lag1, data = Weekly, \n",
    "           family = binomial, subset=train)\n",
    "glm.probs <-predict(glm.fit, Weekly.2009, type = 'response')\n",
    "glm.pred = rep('Down', length(glm.probs))\n",
    "glm.pred[glm.probs >.5] = 'Up'\n",
    "table(glm.pred, Direction.2009)\n",
    "mean(glm.pred==Direction.2009)\n",
    "mean(glm.pred!=Direction.2009)"
   ]
  },
  {
   "cell_type": "code",
   "execution_count": 28,
   "id": "meaningful-locator",
   "metadata": {
    "tags": []
   },
   "outputs": [
    {
     "data": {
      "text/plain": [
       "         Direction.2009\n",
       "lda.class Down Up\n",
       "     Down   31 44\n",
       "     Up     12 17"
      ]
     },
     "metadata": {},
     "output_type": "display_data"
    },
    {
     "data": {
      "text/html": [
       "0.461538461538462"
      ],
      "text/latex": [
       "0.461538461538462"
      ],
      "text/markdown": [
       "0.461538461538462"
      ],
      "text/plain": [
       "[1] 0.4615385"
      ]
     },
     "metadata": {},
     "output_type": "display_data"
    },
    {
     "data": {
      "text/html": [
       "0.538461538461538"
      ],
      "text/latex": [
       "0.538461538461538"
      ],
      "text/markdown": [
       "0.538461538461538"
      ],
      "text/plain": [
       "[1] 0.5384615"
      ]
     },
     "metadata": {},
     "output_type": "display_data"
    },
    {
     "data": {
      "text/plain": [
       "         Direction.2009\n",
       "lda.class Down Up\n",
       "     Down    7  8\n",
       "     Up     36 53"
      ]
     },
     "metadata": {},
     "output_type": "display_data"
    },
    {
     "data": {
      "text/html": [
       "0.576923076923077"
      ],
      "text/latex": [
       "0.576923076923077"
      ],
      "text/markdown": [
       "0.576923076923077"
      ],
      "text/plain": [
       "[1] 0.5769231"
      ]
     },
     "metadata": {},
     "output_type": "display_data"
    },
    {
     "data": {
      "text/html": [
       "0.423076923076923"
      ],
      "text/latex": [
       "0.423076923076923"
      ],
      "text/markdown": [
       "0.423076923076923"
      ],
      "text/plain": [
       "[1] 0.4230769"
      ]
     },
     "metadata": {},
     "output_type": "display_data"
    },
    {
     "data": {
      "text/plain": [
       "         Direction.2009\n",
       "lda.class Down Up\n",
       "     Down    8  9\n",
       "     Up     35 52"
      ]
     },
     "metadata": {},
     "output_type": "display_data"
    },
    {
     "data": {
      "text/html": [
       "0.576923076923077"
      ],
      "text/latex": [
       "0.576923076923077"
      ],
      "text/markdown": [
       "0.576923076923077"
      ],
      "text/plain": [
       "[1] 0.5769231"
      ]
     },
     "metadata": {},
     "output_type": "display_data"
    },
    {
     "data": {
      "text/html": [
       "0.423076923076923"
      ],
      "text/latex": [
       "0.423076923076923"
      ],
      "text/markdown": [
       "0.423076923076923"
      ],
      "text/plain": [
       "[1] 0.4230769"
      ]
     },
     "metadata": {},
     "output_type": "display_data"
    },
    {
     "data": {
      "text/plain": [
       "         Direction.2009\n",
       "lda.class Down Up\n",
       "     Down    4  6\n",
       "     Up     39 55"
      ]
     },
     "metadata": {},
     "output_type": "display_data"
    },
    {
     "data": {
      "text/html": [
       "0.567307692307692"
      ],
      "text/latex": [
       "0.567307692307692"
      ],
      "text/markdown": [
       "0.567307692307692"
      ],
      "text/plain": [
       "[1] 0.5673077"
      ]
     },
     "metadata": {},
     "output_type": "display_data"
    },
    {
     "data": {
      "text/html": [
       "0.432692307692308"
      ],
      "text/latex": [
       "0.432692307692308"
      ],
      "text/markdown": [
       "0.432692307692308"
      ],
      "text/plain": [
       "[1] 0.4326923"
      ]
     },
     "metadata": {},
     "output_type": "display_data"
    }
   ],
   "source": [
    "lda.fit <-lda(Weekly$Direction ~ Lag1 + Lag2 + Lag3 + Lag4 + Lag5 + Volume, data = Weekly, subset=train)\n",
    "lda.pred <-predict(lda.fit, Weekly.2009)\n",
    "lda.class <-lda.pred$class\n",
    "table(lda.class, Direction.2009)\n",
    "mean(lda.class==Direction.2009)\n",
    "mean(lda.class!=Direction.2009)\n",
    "\n",
    "lda.fit <-lda(Weekly$Direction ~ Lag1 + Lag2 + Lag3 + Lag4, data = Weekly, subset=train)\n",
    "lda.pred <-predict(lda.fit, Weekly.2009)\n",
    "lda.class <-lda.pred$class\n",
    "table(lda.class, Direction.2009)\n",
    "mean(lda.class==Direction.2009)\n",
    "mean(lda.class!=Direction.2009)\n",
    "\n",
    "\n",
    "lda.fit <-lda(Weekly$Direction ~ Lag1 + Lag2 + Lag3, data = Weekly, subset=train)\n",
    "lda.pred <-predict(lda.fit, Weekly.2009)\n",
    "lda.class <-lda.pred$class\n",
    "table(lda.class, Direction.2009)\n",
    "mean(lda.class==Direction.2009)\n",
    "mean(lda.class!=Direction.2009)\n",
    "\n",
    "lda.fit <-lda(Weekly$Direction ~ Lag1, data = Weekly, subset=train)\n",
    "lda.pred <-predict(lda.fit, Weekly.2009)\n",
    "lda.class <-lda.pred$class\n",
    "table(lda.class, Direction.2009)\n",
    "mean(lda.class==Direction.2009)\n",
    "mean(lda.class!=Direction.2009)"
   ]
  },
  {
   "cell_type": "code",
   "execution_count": 29,
   "id": "ultimate-instrument",
   "metadata": {
    "tags": []
   },
   "outputs": [
    {
     "data": {
      "text/plain": [
       "         Direction.2009\n",
       "qda.class Down Up\n",
       "     Down   33 49\n",
       "     Up     10 12"
      ]
     },
     "metadata": {},
     "output_type": "display_data"
    },
    {
     "data": {
      "text/html": [
       "0.432692307692308"
      ],
      "text/latex": [
       "0.432692307692308"
      ],
      "text/markdown": [
       "0.432692307692308"
      ],
      "text/plain": [
       "[1] 0.4326923"
      ]
     },
     "metadata": {},
     "output_type": "display_data"
    },
    {
     "data": {
      "text/html": [
       "0.567307692307692"
      ],
      "text/latex": [
       "0.567307692307692"
      ],
      "text/markdown": [
       "0.567307692307692"
      ],
      "text/plain": [
       "[1] 0.5673077"
      ]
     },
     "metadata": {},
     "output_type": "display_data"
    },
    {
     "data": {
      "text/plain": [
       "         Direction.2009\n",
       "qda.class Down Up\n",
       "     Down   10 23\n",
       "     Up     33 38"
      ]
     },
     "metadata": {},
     "output_type": "display_data"
    },
    {
     "data": {
      "text/html": [
       "0.461538461538462"
      ],
      "text/latex": [
       "0.461538461538462"
      ],
      "text/markdown": [
       "0.461538461538462"
      ],
      "text/plain": [
       "[1] 0.4615385"
      ]
     },
     "metadata": {},
     "output_type": "display_data"
    },
    {
     "data": {
      "text/html": [
       "0.538461538461538"
      ],
      "text/latex": [
       "0.538461538461538"
      ],
      "text/markdown": [
       "0.538461538461538"
      ],
      "text/plain": [
       "[1] 0.5384615"
      ]
     },
     "metadata": {},
     "output_type": "display_data"
    },
    {
     "data": {
      "text/plain": [
       "         Direction.2009\n",
       "qda.class Down Up\n",
       "     Down    9 16\n",
       "     Up     34 45"
      ]
     },
     "metadata": {},
     "output_type": "display_data"
    },
    {
     "data": {
      "text/html": [
       "0.519230769230769"
      ],
      "text/latex": [
       "0.519230769230769"
      ],
      "text/markdown": [
       "0.519230769230769"
      ],
      "text/plain": [
       "[1] 0.5192308"
      ]
     },
     "metadata": {},
     "output_type": "display_data"
    },
    {
     "data": {
      "text/html": [
       "0.480769230769231"
      ],
      "text/latex": [
       "0.480769230769231"
      ],
      "text/markdown": [
       "0.480769230769231"
      ],
      "text/plain": [
       "[1] 0.4807692"
      ]
     },
     "metadata": {},
     "output_type": "display_data"
    },
    {
     "data": {
      "text/plain": [
       "         Direction.2009\n",
       "qda.class Down Up\n",
       "     Down    6 10\n",
       "     Up     37 51"
      ]
     },
     "metadata": {},
     "output_type": "display_data"
    },
    {
     "data": {
      "text/html": [
       "0.548076923076923"
      ],
      "text/latex": [
       "0.548076923076923"
      ],
      "text/markdown": [
       "0.548076923076923"
      ],
      "text/plain": [
       "[1] 0.5480769"
      ]
     },
     "metadata": {},
     "output_type": "display_data"
    },
    {
     "data": {
      "text/html": [
       "0.451923076923077"
      ],
      "text/latex": [
       "0.451923076923077"
      ],
      "text/markdown": [
       "0.451923076923077"
      ],
      "text/plain": [
       "[1] 0.4519231"
      ]
     },
     "metadata": {},
     "output_type": "display_data"
    }
   ],
   "source": [
    "qda.fit <-qda(Weekly$Direction ~ Lag1 + Lag2 + Lag3 + Lag4 + Lag5 + Volume, data = Weekly, subset=train)\n",
    "qda.class <-predict(qda.fit, Weekly.2009)$class\n",
    "table(qda.class, Direction.2009)\n",
    "mean(qda.class==Direction.2009)\n",
    "mean(qda.class!=Direction.2009)\n",
    "\n",
    "qda.fit <-qda(Weekly$Direction ~ Lag1 + Lag2 + Lag3 + Lag4 + Lag5, data = Weekly, subset=train)\n",
    "qda.class <-predict(qda.fit, Weekly.2009)$class\n",
    "table(qda.class, Direction.2009)\n",
    "mean(qda.class==Direction.2009)\n",
    "mean(qda.class!=Direction.2009)\n",
    "\n",
    "qda.fit <-qda(Weekly$Direction ~ Lag1 + Lag2 + Lag3 + Lag4, data = Weekly, subset=train)\n",
    "qda.class <-predict(qda.fit, Weekly.2009)$class\n",
    "table(qda.class, Direction.2009)\n",
    "mean(qda.class==Direction.2009)\n",
    "mean(qda.class!=Direction.2009)\n",
    "\n",
    "qda.fit <-qda(Weekly$Direction ~ Lag1 + Lag2 + Lag3, data = Weekly, subset=train)\n",
    "qda.class <-predict(qda.fit, Weekly.2009)$class\n",
    "table(qda.class, Direction.2009)\n",
    "mean(qda.class==Direction.2009)\n",
    "mean(qda.class!=Direction.2009)"
   ]
  },
  {
   "cell_type": "code",
   "execution_count": 30,
   "id": "advance-fraud",
   "metadata": {},
   "outputs": [
    {
     "data": {
      "text/plain": [
       "        Direction.2009\n",
       "knn.pred Down Up\n",
       "    Down   16 20\n",
       "    Up     27 41"
      ]
     },
     "metadata": {},
     "output_type": "display_data"
    },
    {
     "data": {
      "text/html": [
       "0.548076923076923"
      ],
      "text/latex": [
       "0.548076923076923"
      ],
      "text/markdown": [
       "0.548076923076923"
      ],
      "text/plain": [
       "[1] 0.5480769"
      ]
     },
     "metadata": {},
     "output_type": "display_data"
    },
    {
     "data": {
      "text/html": [
       "0.451923076923077"
      ],
      "text/latex": [
       "0.451923076923077"
      ],
      "text/markdown": [
       "0.451923076923077"
      ],
      "text/plain": [
       "[1] 0.4519231"
      ]
     },
     "metadata": {},
     "output_type": "display_data"
    },
    {
     "data": {
      "text/plain": [
       "        Direction.2009\n",
       "knn.pred Down Up\n",
       "    Down   15 20\n",
       "    Up     28 41"
      ]
     },
     "metadata": {},
     "output_type": "display_data"
    },
    {
     "data": {
      "text/html": [
       "0.538461538461538"
      ],
      "text/latex": [
       "0.538461538461538"
      ],
      "text/markdown": [
       "0.538461538461538"
      ],
      "text/plain": [
       "[1] 0.5384615"
      ]
     },
     "metadata": {},
     "output_type": "display_data"
    },
    {
     "data": {
      "text/html": [
       "0.461538461538462"
      ],
      "text/latex": [
       "0.461538461538462"
      ],
      "text/markdown": [
       "0.461538461538462"
      ],
      "text/plain": [
       "[1] 0.4615385"
      ]
     },
     "metadata": {},
     "output_type": "display_data"
    },
    {
     "data": {
      "text/plain": [
       "        Direction.2009\n",
       "knn.pred Down Up\n",
       "    Down   19 19\n",
       "    Up     24 42"
      ]
     },
     "metadata": {},
     "output_type": "display_data"
    },
    {
     "data": {
      "text/html": [
       "0.586538461538462"
      ],
      "text/latex": [
       "0.586538461538462"
      ],
      "text/markdown": [
       "0.586538461538462"
      ],
      "text/plain": [
       "[1] 0.5865385"
      ]
     },
     "metadata": {},
     "output_type": "display_data"
    },
    {
     "data": {
      "text/html": [
       "0.413461538461538"
      ],
      "text/latex": [
       "0.413461538461538"
      ],
      "text/markdown": [
       "0.413461538461538"
      ],
      "text/plain": [
       "[1] 0.4134615"
      ]
     },
     "metadata": {},
     "output_type": "display_data"
    },
    {
     "data": {
      "text/plain": [
       "        Direction.2009\n",
       "knn.pred Down Up\n",
       "    Down   21 23\n",
       "    Up     22 38"
      ]
     },
     "metadata": {},
     "output_type": "display_data"
    },
    {
     "data": {
      "text/html": [
       "0.567307692307692"
      ],
      "text/latex": [
       "0.567307692307692"
      ],
      "text/markdown": [
       "0.567307692307692"
      ],
      "text/plain": [
       "[1] 0.5673077"
      ]
     },
     "metadata": {},
     "output_type": "display_data"
    },
    {
     "data": {
      "text/html": [
       "0.432692307692308"
      ],
      "text/latex": [
       "0.432692307692308"
      ],
      "text/markdown": [
       "0.432692307692308"
      ],
      "text/plain": [
       "[1] 0.4326923"
      ]
     },
     "metadata": {},
     "output_type": "display_data"
    },
    {
     "data": {
      "text/plain": [
       "        Direction.2009\n",
       "knn.pred Down Up\n",
       "    Down    9 13\n",
       "    Up     34 48"
      ]
     },
     "metadata": {},
     "output_type": "display_data"
    },
    {
     "data": {
      "text/html": [
       "0.548076923076923"
      ],
      "text/latex": [
       "0.548076923076923"
      ],
      "text/markdown": [
       "0.548076923076923"
      ],
      "text/plain": [
       "[1] 0.5480769"
      ]
     },
     "metadata": {},
     "output_type": "display_data"
    },
    {
     "data": {
      "text/html": [
       "0.451923076923077"
      ],
      "text/latex": [
       "0.451923076923077"
      ],
      "text/markdown": [
       "0.451923076923077"
      ],
      "text/plain": [
       "[1] 0.4519231"
      ]
     },
     "metadata": {},
     "output_type": "display_data"
    }
   ],
   "source": [
    "train.x <-cbind(Lag2)[train,]\n",
    "test.x <-cbind(Lag2)[!train,]\n",
    "train.Direction <-Direction[train]\n",
    "Direction.2009 <-Direction[!train]\n",
    "set.seed(1)\n",
    "knn.pred <-knn(data.frame(train.x), data.frame(test.x), train.Direction, k=3)\n",
    "table(knn.pred, Direction.2009)\n",
    "mean(knn.pred==Direction.2009)\n",
    "mean(knn.pred!=Direction.2009)\n",
    "\n",
    "knn.pred <-knn(data.frame(train.x), data.frame(test.x), train.Direction, k=5)\n",
    "table(knn.pred, Direction.2009)\n",
    "mean(knn.pred==Direction.2009)\n",
    "mean(knn.pred!=Direction.2009)\n",
    "\n",
    "knn.pred <-knn(data.frame(train.x), data.frame(test.x), train.Direction, k=10)\n",
    "table(knn.pred, Direction.2009)\n",
    "mean(knn.pred==Direction.2009)\n",
    "mean(knn.pred!=Direction.2009)\n",
    "\n",
    "knn.pred <-knn(data.frame(train.x), data.frame(test.x), train.Direction, k=50)\n",
    "table(knn.pred, Direction.2009)\n",
    "mean(knn.pred==Direction.2009)\n",
    "mean(knn.pred!=Direction.2009)\n",
    "\n",
    "knn.pred <-knn(data.frame(train.x), data.frame(test.x), train.Direction, k=100)\n",
    "table(knn.pred, Direction.2009)\n",
    "mean(knn.pred==Direction.2009)\n",
    "mean(knn.pred!=Direction.2009)"
   ]
  },
  {
   "cell_type": "markdown",
   "id": "noble-walker",
   "metadata": {},
   "source": [
    "In none of the cases the models seem to work better than with only the predictor 'Lag2'. "
   ]
  },
  {
   "cell_type": "markdown",
   "id": "empty-drain",
   "metadata": {},
   "source": [
    "#### Exercise 11"
   ]
  },
  {
   "cell_type": "markdown",
   "id": "genuine-mapping",
   "metadata": {},
   "source": [
    "##### a) Create a binary variable, mpg01, that contains a 1 if mpg contains a value above its median, and a 0 if mpg contains a value below its median. You can compute the median using the median() function. Note you may find it helpful to use the data.frame() function to create a single data set containing both mpg01 and the other Auto variables."
   ]
  },
  {
   "cell_type": "code",
   "execution_count": 31,
   "id": "italian-brick",
   "metadata": {
    "tags": []
   },
   "outputs": [
    {
     "data": {
      "text/html": [
       "<table class=\"dataframe\">\n",
       "<caption>A data.frame: 6 × 9</caption>\n",
       "<thead>\n",
       "\t<tr><th></th><th scope=col>mpg</th><th scope=col>cylinders</th><th scope=col>displacement</th><th scope=col>horsepower</th><th scope=col>weight</th><th scope=col>acceleration</th><th scope=col>year</th><th scope=col>origin</th><th scope=col>name</th></tr>\n",
       "\t<tr><th></th><th scope=col>&lt;dbl&gt;</th><th scope=col>&lt;dbl&gt;</th><th scope=col>&lt;dbl&gt;</th><th scope=col>&lt;dbl&gt;</th><th scope=col>&lt;dbl&gt;</th><th scope=col>&lt;dbl&gt;</th><th scope=col>&lt;dbl&gt;</th><th scope=col>&lt;dbl&gt;</th><th scope=col>&lt;fct&gt;</th></tr>\n",
       "</thead>\n",
       "<tbody>\n",
       "\t<tr><th scope=row>1</th><td>18</td><td>8</td><td>307</td><td>130</td><td>3504</td><td>12.0</td><td>70</td><td>1</td><td>chevrolet chevelle malibu</td></tr>\n",
       "\t<tr><th scope=row>2</th><td>15</td><td>8</td><td>350</td><td>165</td><td>3693</td><td>11.5</td><td>70</td><td>1</td><td>buick skylark 320        </td></tr>\n",
       "\t<tr><th scope=row>3</th><td>18</td><td>8</td><td>318</td><td>150</td><td>3436</td><td>11.0</td><td>70</td><td>1</td><td>plymouth satellite       </td></tr>\n",
       "\t<tr><th scope=row>4</th><td>16</td><td>8</td><td>304</td><td>150</td><td>3433</td><td>12.0</td><td>70</td><td>1</td><td>amc rebel sst            </td></tr>\n",
       "\t<tr><th scope=row>5</th><td>17</td><td>8</td><td>302</td><td>140</td><td>3449</td><td>10.5</td><td>70</td><td>1</td><td>ford torino              </td></tr>\n",
       "\t<tr><th scope=row>6</th><td>15</td><td>8</td><td>429</td><td>198</td><td>4341</td><td>10.0</td><td>70</td><td>1</td><td>ford galaxie 500         </td></tr>\n",
       "</tbody>\n",
       "</table>\n"
      ],
      "text/latex": [
       "A data.frame: 6 × 9\n",
       "\\begin{tabular}{r|lllllllll}\n",
       "  & mpg & cylinders & displacement & horsepower & weight & acceleration & year & origin & name\\\\\n",
       "  & <dbl> & <dbl> & <dbl> & <dbl> & <dbl> & <dbl> & <dbl> & <dbl> & <fct>\\\\\n",
       "\\hline\n",
       "\t1 & 18 & 8 & 307 & 130 & 3504 & 12.0 & 70 & 1 & chevrolet chevelle malibu\\\\\n",
       "\t2 & 15 & 8 & 350 & 165 & 3693 & 11.5 & 70 & 1 & buick skylark 320        \\\\\n",
       "\t3 & 18 & 8 & 318 & 150 & 3436 & 11.0 & 70 & 1 & plymouth satellite       \\\\\n",
       "\t4 & 16 & 8 & 304 & 150 & 3433 & 12.0 & 70 & 1 & amc rebel sst            \\\\\n",
       "\t5 & 17 & 8 & 302 & 140 & 3449 & 10.5 & 70 & 1 & ford torino              \\\\\n",
       "\t6 & 15 & 8 & 429 & 198 & 4341 & 10.0 & 70 & 1 & ford galaxie 500         \\\\\n",
       "\\end{tabular}\n"
      ],
      "text/markdown": [
       "\n",
       "A data.frame: 6 × 9\n",
       "\n",
       "| <!--/--> | mpg &lt;dbl&gt; | cylinders &lt;dbl&gt; | displacement &lt;dbl&gt; | horsepower &lt;dbl&gt; | weight &lt;dbl&gt; | acceleration &lt;dbl&gt; | year &lt;dbl&gt; | origin &lt;dbl&gt; | name &lt;fct&gt; |\n",
       "|---|---|---|---|---|---|---|---|---|---|\n",
       "| 1 | 18 | 8 | 307 | 130 | 3504 | 12.0 | 70 | 1 | chevrolet chevelle malibu |\n",
       "| 2 | 15 | 8 | 350 | 165 | 3693 | 11.5 | 70 | 1 | buick skylark 320         |\n",
       "| 3 | 18 | 8 | 318 | 150 | 3436 | 11.0 | 70 | 1 | plymouth satellite        |\n",
       "| 4 | 16 | 8 | 304 | 150 | 3433 | 12.0 | 70 | 1 | amc rebel sst             |\n",
       "| 5 | 17 | 8 | 302 | 140 | 3449 | 10.5 | 70 | 1 | ford torino               |\n",
       "| 6 | 15 | 8 | 429 | 198 | 4341 | 10.0 | 70 | 1 | ford galaxie 500          |\n",
       "\n"
      ],
      "text/plain": [
       "  mpg cylinders displacement horsepower weight acceleration year origin\n",
       "1 18  8         307          130        3504   12.0         70   1     \n",
       "2 15  8         350          165        3693   11.5         70   1     \n",
       "3 18  8         318          150        3436   11.0         70   1     \n",
       "4 16  8         304          150        3433   12.0         70   1     \n",
       "5 17  8         302          140        3449   10.5         70   1     \n",
       "6 15  8         429          198        4341   10.0         70   1     \n",
       "  name                     \n",
       "1 chevrolet chevelle malibu\n",
       "2 buick skylark 320        \n",
       "3 plymouth satellite       \n",
       "4 amc rebel sst            \n",
       "5 ford torino              \n",
       "6 ford galaxie 500         "
      ]
     },
     "metadata": {},
     "output_type": "display_data"
    }
   ],
   "source": [
    "head(Auto)\n",
    "attach(Auto)"
   ]
  },
  {
   "cell_type": "code",
   "execution_count": 32,
   "id": "played-traveler",
   "metadata": {
    "tags": []
   },
   "outputs": [
    {
     "data": {
      "text/plain": [
       "      mpg          cylinders      displacement     horsepower        weight    \n",
       " Min.   : 9.00   Min.   :3.000   Min.   : 68.0   Min.   : 46.0   Min.   :1613  \n",
       " 1st Qu.:17.00   1st Qu.:4.000   1st Qu.:105.0   1st Qu.: 75.0   1st Qu.:2225  \n",
       " Median :22.75   Median :4.000   Median :151.0   Median : 93.5   Median :2804  \n",
       " Mean   :23.45   Mean   :5.472   Mean   :194.4   Mean   :104.5   Mean   :2978  \n",
       " 3rd Qu.:29.00   3rd Qu.:8.000   3rd Qu.:275.8   3rd Qu.:126.0   3rd Qu.:3615  \n",
       " Max.   :46.60   Max.   :8.000   Max.   :455.0   Max.   :230.0   Max.   :5140  \n",
       "                                                                               \n",
       "  acceleration        year           origin                      name    \n",
       " Min.   : 8.00   Min.   :70.00   Min.   :1.000   amc matador       :  5  \n",
       " 1st Qu.:13.78   1st Qu.:73.00   1st Qu.:1.000   ford pinto        :  5  \n",
       " Median :15.50   Median :76.00   Median :1.000   toyota corolla    :  5  \n",
       " Mean   :15.54   Mean   :75.98   Mean   :1.577   amc gremlin       :  4  \n",
       " 3rd Qu.:17.02   3rd Qu.:79.00   3rd Qu.:2.000   amc hornet        :  4  \n",
       " Max.   :24.80   Max.   :82.00   Max.   :3.000   chevrolet chevette:  4  \n",
       "                                                 (Other)           :365  "
      ]
     },
     "metadata": {},
     "output_type": "display_data"
    }
   ],
   "source": [
    "summary(Auto)"
   ]
  },
  {
   "cell_type": "code",
   "execution_count": 33,
   "id": "seeing-edgar",
   "metadata": {},
   "outputs": [
    {
     "data": {
      "text/html": [
       "<style>\n",
       ".list-inline {list-style: none; margin:0; padding: 0}\n",
       ".list-inline>li {display: inline-block}\n",
       ".list-inline>li:not(:last-child)::after {content: \"\\00b7\"; padding: 0 .5ex}\n",
       "</style>\n",
       "<ol class=list-inline><li>'mpg'</li><li>'cylinders'</li><li>'displacement'</li><li>'horsepower'</li><li>'weight'</li><li>'acceleration'</li><li>'year'</li><li>'origin'</li><li>'name'</li></ol>\n"
      ],
      "text/latex": [
       "\\begin{enumerate*}\n",
       "\\item 'mpg'\n",
       "\\item 'cylinders'\n",
       "\\item 'displacement'\n",
       "\\item 'horsepower'\n",
       "\\item 'weight'\n",
       "\\item 'acceleration'\n",
       "\\item 'year'\n",
       "\\item 'origin'\n",
       "\\item 'name'\n",
       "\\end{enumerate*}\n"
      ],
      "text/markdown": [
       "1. 'mpg'\n",
       "2. 'cylinders'\n",
       "3. 'displacement'\n",
       "4. 'horsepower'\n",
       "5. 'weight'\n",
       "6. 'acceleration'\n",
       "7. 'year'\n",
       "8. 'origin'\n",
       "9. 'name'\n",
       "\n",
       "\n"
      ],
      "text/plain": [
       "[1] \"mpg\"          \"cylinders\"    \"displacement\" \"horsepower\"   \"weight\"      \n",
       "[6] \"acceleration\" \"year\"         \"origin\"       \"name\"        "
      ]
     },
     "metadata": {},
     "output_type": "display_data"
    }
   ],
   "source": [
    "names(Auto)"
   ]
  },
  {
   "cell_type": "code",
   "execution_count": 34,
   "id": "egyptian-cricket",
   "metadata": {
    "tags": []
   },
   "outputs": [
    {
     "data": {
      "text/html": [
       "<table class=\"dataframe\">\n",
       "<caption>A data.frame: 6 × 10</caption>\n",
       "<thead>\n",
       "\t<tr><th></th><th scope=col>mpg</th><th scope=col>cylinders</th><th scope=col>displacement</th><th scope=col>horsepower</th><th scope=col>weight</th><th scope=col>acceleration</th><th scope=col>year</th><th scope=col>origin</th><th scope=col>name</th><th scope=col>mpg01</th></tr>\n",
       "\t<tr><th></th><th scope=col>&lt;dbl&gt;</th><th scope=col>&lt;dbl&gt;</th><th scope=col>&lt;dbl&gt;</th><th scope=col>&lt;dbl&gt;</th><th scope=col>&lt;dbl&gt;</th><th scope=col>&lt;dbl&gt;</th><th scope=col>&lt;dbl&gt;</th><th scope=col>&lt;dbl&gt;</th><th scope=col>&lt;fct&gt;</th><th scope=col>&lt;dbl&gt;</th></tr>\n",
       "</thead>\n",
       "<tbody>\n",
       "\t<tr><th scope=row>1</th><td>18</td><td>8</td><td>307</td><td>130</td><td>3504</td><td>12.0</td><td>70</td><td>1</td><td>chevrolet chevelle malibu</td><td>0</td></tr>\n",
       "\t<tr><th scope=row>2</th><td>15</td><td>8</td><td>350</td><td>165</td><td>3693</td><td>11.5</td><td>70</td><td>1</td><td>buick skylark 320        </td><td>0</td></tr>\n",
       "\t<tr><th scope=row>3</th><td>18</td><td>8</td><td>318</td><td>150</td><td>3436</td><td>11.0</td><td>70</td><td>1</td><td>plymouth satellite       </td><td>0</td></tr>\n",
       "\t<tr><th scope=row>4</th><td>16</td><td>8</td><td>304</td><td>150</td><td>3433</td><td>12.0</td><td>70</td><td>1</td><td>amc rebel sst            </td><td>0</td></tr>\n",
       "\t<tr><th scope=row>5</th><td>17</td><td>8</td><td>302</td><td>140</td><td>3449</td><td>10.5</td><td>70</td><td>1</td><td>ford torino              </td><td>0</td></tr>\n",
       "\t<tr><th scope=row>6</th><td>15</td><td>8</td><td>429</td><td>198</td><td>4341</td><td>10.0</td><td>70</td><td>1</td><td>ford galaxie 500         </td><td>0</td></tr>\n",
       "</tbody>\n",
       "</table>\n"
      ],
      "text/latex": [
       "A data.frame: 6 × 10\n",
       "\\begin{tabular}{r|llllllllll}\n",
       "  & mpg & cylinders & displacement & horsepower & weight & acceleration & year & origin & name & mpg01\\\\\n",
       "  & <dbl> & <dbl> & <dbl> & <dbl> & <dbl> & <dbl> & <dbl> & <dbl> & <fct> & <dbl>\\\\\n",
       "\\hline\n",
       "\t1 & 18 & 8 & 307 & 130 & 3504 & 12.0 & 70 & 1 & chevrolet chevelle malibu & 0\\\\\n",
       "\t2 & 15 & 8 & 350 & 165 & 3693 & 11.5 & 70 & 1 & buick skylark 320         & 0\\\\\n",
       "\t3 & 18 & 8 & 318 & 150 & 3436 & 11.0 & 70 & 1 & plymouth satellite        & 0\\\\\n",
       "\t4 & 16 & 8 & 304 & 150 & 3433 & 12.0 & 70 & 1 & amc rebel sst             & 0\\\\\n",
       "\t5 & 17 & 8 & 302 & 140 & 3449 & 10.5 & 70 & 1 & ford torino               & 0\\\\\n",
       "\t6 & 15 & 8 & 429 & 198 & 4341 & 10.0 & 70 & 1 & ford galaxie 500          & 0\\\\\n",
       "\\end{tabular}\n"
      ],
      "text/markdown": [
       "\n",
       "A data.frame: 6 × 10\n",
       "\n",
       "| <!--/--> | mpg &lt;dbl&gt; | cylinders &lt;dbl&gt; | displacement &lt;dbl&gt; | horsepower &lt;dbl&gt; | weight &lt;dbl&gt; | acceleration &lt;dbl&gt; | year &lt;dbl&gt; | origin &lt;dbl&gt; | name &lt;fct&gt; | mpg01 &lt;dbl&gt; |\n",
       "|---|---|---|---|---|---|---|---|---|---|---|\n",
       "| 1 | 18 | 8 | 307 | 130 | 3504 | 12.0 | 70 | 1 | chevrolet chevelle malibu | 0 |\n",
       "| 2 | 15 | 8 | 350 | 165 | 3693 | 11.5 | 70 | 1 | buick skylark 320         | 0 |\n",
       "| 3 | 18 | 8 | 318 | 150 | 3436 | 11.0 | 70 | 1 | plymouth satellite        | 0 |\n",
       "| 4 | 16 | 8 | 304 | 150 | 3433 | 12.0 | 70 | 1 | amc rebel sst             | 0 |\n",
       "| 5 | 17 | 8 | 302 | 140 | 3449 | 10.5 | 70 | 1 | ford torino               | 0 |\n",
       "| 6 | 15 | 8 | 429 | 198 | 4341 | 10.0 | 70 | 1 | ford galaxie 500          | 0 |\n",
       "\n"
      ],
      "text/plain": [
       "  mpg cylinders displacement horsepower weight acceleration year origin\n",
       "1 18  8         307          130        3504   12.0         70   1     \n",
       "2 15  8         350          165        3693   11.5         70   1     \n",
       "3 18  8         318          150        3436   11.0         70   1     \n",
       "4 16  8         304          150        3433   12.0         70   1     \n",
       "5 17  8         302          140        3449   10.5         70   1     \n",
       "6 15  8         429          198        4341   10.0         70   1     \n",
       "  name                      mpg01\n",
       "1 chevrolet chevelle malibu 0    \n",
       "2 buick skylark 320         0    \n",
       "3 plymouth satellite        0    \n",
       "4 amc rebel sst             0    \n",
       "5 ford torino               0    \n",
       "6 ford galaxie 500          0    "
      ]
     },
     "metadata": {},
     "output_type": "display_data"
    }
   ],
   "source": [
    "mpg01 <- ifelse(mpg > median(mpg), yes=1, no=0)\n",
    "df <-data.frame(Auto, mpg01)\n",
    "head(df)"
   ]
  },
  {
   "cell_type": "markdown",
   "id": "julian-dietary",
   "metadata": {},
   "source": [
    "##### b) Explore the data graphically in order to investigate the association between mpg01 and the other features. Which of the other features seem most likely to be useful in predicting mpg01? Scatterplots and boxplots may be useful tools to answer this question. Describe your findings."
   ]
  },
  {
   "cell_type": "code",
   "execution_count": 35,
   "id": "lyric-oakland",
   "metadata": {},
   "outputs": [
    {
     "data": {
      "image/png": "[encoded data removed]",
      "text/plain": [
       "plot without title"
      ]
     },
     "metadata": {
      "image/png": {
       "height": 420,
       "width": 420
      }
     },
     "output_type": "display_data"
    }
   ],
   "source": [
    "plot(df)"
   ]
  },
  {
   "cell_type": "markdown",
   "id": "angry-provision",
   "metadata": {},
   "source": [
    "The variables displacement, horsepower, weight and mpg seem to be useful for predicting mpg01."
   ]
  },
  {
   "cell_type": "markdown",
   "id": "quantitative-bulgarian",
   "metadata": {},
   "source": [
    "##### c) Split the data into a training set and a test set."
   ]
  },
  {
   "cell_type": "code",
   "execution_count": 36,
   "id": "stylish-consensus",
   "metadata": {},
   "outputs": [],
   "source": [
    "train <-(year < 79)\n",
    "test <- !train\n",
    "Auto.train <- Auto[train,]\n",
    "Auto.test <- Auto[test,]\n",
    "mpg01.test = mpg01[!train]"
   ]
  },
  {
   "cell_type": "markdown",
   "id": "touched-strap",
   "metadata": {},
   "source": [
    "##### d) Perform LDA on the training data in order to predict mpg01 using the variables that seemed most associated with mpg01 in (b). What is the test error of the model obtained?"
   ]
  },
  {
   "cell_type": "code",
   "execution_count": 37,
   "id": "liquid-marina",
   "metadata": {},
   "outputs": [
    {
     "data": {
      "text/plain": [
       "         mpg01.test\n",
       "lda.class  0  1\n",
       "        0 18 13\n",
       "        1  0 83"
      ]
     },
     "metadata": {},
     "output_type": "display_data"
    },
    {
     "data": {
      "text/html": [
       "0.885964912280702"
      ],
      "text/latex": [
       "0.885964912280702"
      ],
      "text/markdown": [
       "0.885964912280702"
      ],
      "text/plain": [
       "[1] 0.8859649"
      ]
     },
     "metadata": {},
     "output_type": "display_data"
    },
    {
     "data": {
      "text/html": [
       "0.114035087719298"
      ],
      "text/latex": [
       "0.114035087719298"
      ],
      "text/markdown": [
       "0.114035087719298"
      ],
      "text/plain": [
       "[1] 0.1140351"
      ]
     },
     "metadata": {},
     "output_type": "display_data"
    }
   ],
   "source": [
    "lda <-lda(mpg01 ~ displacement + horsepower + weight, data = df, subset = train)\n",
    "lda.class <-predict(lda, Auto.test)$class\n",
    "table(lda.class, mpg01.test)\n",
    "mean(lda.class==mpg01.test)\n",
    "mean(lda.class!=mpg01.test)"
   ]
  },
  {
   "cell_type": "markdown",
   "id": "vocal-aquatic",
   "metadata": {},
   "source": [
    "The test error of the model is 0.114 ->11.4%."
   ]
  },
  {
   "cell_type": "markdown",
   "id": "stuffed-parker",
   "metadata": {},
   "source": [
    "##### e) Perform QDA on the training data in order to predict mpg01 using the variables that seemed most associated with mpg01 in (b). What is the test error of the model obtained?"
   ]
  },
  {
   "cell_type": "code",
   "execution_count": 38,
   "id": "mysterious-plaintiff",
   "metadata": {},
   "outputs": [
    {
     "data": {
      "text/plain": [
       "         mpg01.test\n",
       "qda.class  0  1\n",
       "        0 18 20\n",
       "        1  0 76"
      ]
     },
     "metadata": {},
     "output_type": "display_data"
    },
    {
     "data": {
      "text/html": [
       "0.175438596491228"
      ],
      "text/latex": [
       "0.175438596491228"
      ],
      "text/markdown": [
       "0.175438596491228"
      ],
      "text/plain": [
       "[1] 0.1754386"
      ]
     },
     "metadata": {},
     "output_type": "display_data"
    }
   ],
   "source": [
    "qda <-qda(mpg01 ~ displacement + horsepower + weight, data = df, subset = train)\n",
    "qda.class <-predict(qda, Auto.test)$class\n",
    "table(qda.class, mpg01.test)\n",
    "mean(qda.class!=mpg01.test)"
   ]
  },
  {
   "cell_type": "markdown",
   "id": "removed-degree",
   "metadata": {},
   "source": [
    "The test error of this model is 17.5%. "
   ]
  },
  {
   "cell_type": "markdown",
   "id": "indoor-treasurer",
   "metadata": {},
   "source": [
    "##### f) Perform logistic regression on the training data in order to predict mpg01 using the variables that seemed most associated with mpg01 in (b). What is the test error of the model obtained?"
   ]
  },
  {
   "cell_type": "code",
   "execution_count": 39,
   "id": "absent-packaging",
   "metadata": {},
   "outputs": [
    {
     "data": {
      "text/plain": [
       "        mpg01.test\n",
       "glm.pred  0  1\n",
       "       0 18 13\n",
       "       1  0 83"
      ]
     },
     "metadata": {},
     "output_type": "display_data"
    },
    {
     "data": {
      "text/html": [
       "0.114035087719298"
      ],
      "text/latex": [
       "0.114035087719298"
      ],
      "text/markdown": [
       "0.114035087719298"
      ],
      "text/plain": [
       "[1] 0.1140351"
      ]
     },
     "metadata": {},
     "output_type": "display_data"
    }
   ],
   "source": [
    "glm <-glm(mpg01 ~ displacement + horsepower + weight, data = df, subset = train)\n",
    "glm.probs <-predict(glm, Auto.test, type = 'response')\n",
    "glm.pred = rep(0, length(glm.probs))\n",
    "glm.pred[glm.probs >.5] = 1\n",
    "table(glm.pred, mpg01.test)\n",
    "mean(glm.pred!=mpg01.test)"
   ]
  },
  {
   "cell_type": "markdown",
   "id": "verbal-virus",
   "metadata": {},
   "source": [
    "The test error of this model is 11.4%."
   ]
  },
  {
   "cell_type": "markdown",
   "id": "dried-stephen",
   "metadata": {},
   "source": [
    "##### g) Perform KNN on the training data, with several values of K, in order to predict mpg01. Use only the variables that seemed most associated with mpg01 in (b). What test errors do you obtain? Which value of K seems to perform the best on this data set?"
   ]
  },
  {
   "cell_type": "code",
   "execution_count": 40,
   "id": "complex-pharmacy",
   "metadata": {},
   "outputs": [],
   "source": [
    "train.x <-cbind(displacement, horsepower, weight)[train,]\n",
    "test.x <-cbind(displacement, horsepower, weight)[test,]\n",
    "train.mpg01 <-mpg01[train]"
   ]
  },
  {
   "cell_type": "code",
   "execution_count": 41,
   "id": "atmospheric-clearing",
   "metadata": {},
   "outputs": [
    {
     "data": {
      "text/plain": [
       "        mpg01.test\n",
       "knn.pred  0  1\n",
       "       0 16 24\n",
       "       1  2 72"
      ]
     },
     "metadata": {},
     "output_type": "display_data"
    },
    {
     "data": {
      "text/html": [
       "0.228070175438596"
      ],
      "text/latex": [
       "0.228070175438596"
      ],
      "text/markdown": [
       "0.228070175438596"
      ],
      "text/plain": [
       "[1] 0.2280702"
      ]
     },
     "metadata": {},
     "output_type": "display_data"
    }
   ],
   "source": [
    "set.seed(1)\n",
    "knn.pred <-knn(train.x, test.x, train.mpg01, k=1)\n",
    "table(knn.pred, mpg01.test)\n",
    "mean(knn.pred!=mpg01.test)"
   ]
  },
  {
   "cell_type": "code",
   "execution_count": 42,
   "id": "secondary-wells",
   "metadata": {},
   "outputs": [
    {
     "data": {
      "text/plain": [
       "        mpg01.test\n",
       "knn.pred  0  1\n",
       "       0 18 26\n",
       "       1  0 70"
      ]
     },
     "metadata": {},
     "output_type": "display_data"
    },
    {
     "data": {
      "text/html": [
       "0.228070175438596"
      ],
      "text/latex": [
       "0.228070175438596"
      ],
      "text/markdown": [
       "0.228070175438596"
      ],
      "text/plain": [
       "[1] 0.2280702"
      ]
     },
     "metadata": {},
     "output_type": "display_data"
    }
   ],
   "source": [
    "knn.pred <-knn(train.x, test.x, train.mpg01, k=3)\n",
    "table(knn.pred, mpg01.test)\n",
    "mean(knn.pred!=mpg01.test)"
   ]
  },
  {
   "cell_type": "code",
   "execution_count": 43,
   "id": "double-terrorist",
   "metadata": {},
   "outputs": [
    {
     "data": {
      "text/plain": [
       "        mpg01.test\n",
       "knn.pred  0  1\n",
       "       0 18 21\n",
       "       1  0 75"
      ]
     },
     "metadata": {},
     "output_type": "display_data"
    },
    {
     "data": {
      "text/html": [
       "0.184210526315789"
      ],
      "text/latex": [
       "0.184210526315789"
      ],
      "text/markdown": [
       "0.184210526315789"
      ],
      "text/plain": [
       "[1] 0.1842105"
      ]
     },
     "metadata": {},
     "output_type": "display_data"
    }
   ],
   "source": [
    "knn.pred <-knn(train.x, test.x, train.mpg01, k=10)\n",
    "table(knn.pred, mpg01.test)\n",
    "mean(knn.pred!=mpg01.test)"
   ]
  },
  {
   "cell_type": "code",
   "execution_count": 44,
   "id": "floral-romania",
   "metadata": {},
   "outputs": [
    {
     "data": {
      "text/plain": [
       "        mpg01.test\n",
       "knn.pred  0  1\n",
       "       0 18 20\n",
       "       1  0 76"
      ]
     },
     "metadata": {},
     "output_type": "display_data"
    },
    {
     "data": {
      "text/html": [
       "0.175438596491228"
      ],
      "text/latex": [
       "0.175438596491228"
      ],
      "text/markdown": [
       "0.175438596491228"
      ],
      "text/plain": [
       "[1] 0.1754386"
      ]
     },
     "metadata": {},
     "output_type": "display_data"
    }
   ],
   "source": [
    "knn.pred <-knn(train.x, test.x, train.mpg01, k=30)\n",
    "table(knn.pred, mpg01.test)\n",
    "mean(knn.pred!=mpg01.test)"
   ]
  },
  {
   "cell_type": "code",
   "execution_count": 45,
   "id": "strategic-donna",
   "metadata": {},
   "outputs": [
    {
     "data": {
      "text/plain": [
       "        mpg01.test\n",
       "knn.pred  0  1\n",
       "       0 18 24\n",
       "       1  0 72"
      ]
     },
     "metadata": {},
     "output_type": "display_data"
    },
    {
     "data": {
      "text/html": [
       "0.210526315789474"
      ],
      "text/latex": [
       "0.210526315789474"
      ],
      "text/markdown": [
       "0.210526315789474"
      ],
      "text/plain": [
       "[1] 0.2105263"
      ]
     },
     "metadata": {},
     "output_type": "display_data"
    }
   ],
   "source": [
    "knn.pred <-knn(train.x, test.x, train.mpg01, k=40)\n",
    "table(knn.pred, mpg01.test)\n",
    "mean(knn.pred!=mpg01.test)"
   ]
  },
  {
   "cell_type": "markdown",
   "id": "descending-exposure",
   "metadata": {},
   "source": [
    "For K=1 the test error is 22.8%. The lowest test error seem to be for K=30, 17.5%."
   ]
  }
 ],
 "metadata": {
  "kernelspec": {
   "display_name": "R 4.0.5",
   "language": "R",
   "name": "ir40"
  },
  "language_info": {
   "codemirror_mode": "r",
   "file_extension": ".r",
   "mimetype": "text/x-r-source",
   "name": "R",
   "pygments_lexer": "r",
   "version": "4.0.5"
  }
 },
 "nbformat": 4,
 "nbformat_minor": 5
}
