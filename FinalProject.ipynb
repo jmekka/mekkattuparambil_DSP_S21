{
 "cells": [
  {
   "cell_type": "markdown",
   "id": "25c0f8b1-e06f-4aa8-9156-c2c34a05e699",
   "metadata": {},
   "source": [
    "#### World Happiness"
   ]
  },
  {
   "cell_type": "markdown",
   "id": "f96a5102-8905-47af-975c-9050b0669c12",
   "metadata": {},
   "source": [
    "#### Background"
   ]
  },
  {
   "cell_type": "markdown",
   "id": "b15df4ad-eca7-4a28-94b2-89c537d7aa05",
   "metadata": {},
   "source": [
    "The country Bhutan made its goal the happiness of the country over the gaol of wealth(Helliwell et al., 2012). The UN General Assembly adopted this goal to measure the happiness of the people and to guide the governance and public policies. But how to measure the happiness of the people? The household income is typically collected as a measurement. The Gross Domestic Product per capita (GDP) reflects the average income of a country's citizen. In an impoverished country a low income means the basic needs such as access to health care, remunerative works, adequate food supplies, education opportunities, proper sanitation, safe water and safe homes were not available. With an increase in income the well-being also improved. But countries with affluence do not report higher well-being in relative to their income. The lifestyles of affluent countries come with their own problems such as psychological disorders (e.g., depression), obesity, diseases related to smoking, addictions (to gambling, TV and shopping), eating disorders (e.g., bulimia), adult-onset diabetes. Even though the development in technology and economy advanced in countries the subjective reported well-being of the people comes up short. So, to get an appropriate measure of people's happiness not only the GDP, but also the other factors were included (Helliwell et al., 2012). \n",
    "The world happiness reports are based, among others, on the data from the surveys of Gallup World Poll. "
   ]
  },
  {
   "cell_type": "markdown",
   "id": "0997537a-fe3a-4576-a33b-ed365295555c",
   "metadata": {},
   "source": [
    "#### Variables of Interest"
   ]
  },
  {
   "cell_type": "markdown",
   "id": "f1514a30-cf9a-47d1-b789-6909fdeeae08",
   "metadata": {},
   "source": [
    "* Country: It represents the surveyed country.\n",
    "* Happiness Rank: It represents the ranking of the country based on the happiness score.\n",
    "* Happiness Score: The happiness scores represent the subjective well-being based on the surveys from Gallup World Poll to the questionnaire of life evaluations. \n",
    "* GDP: The GDP per capita is an index that represents the economic output per person, by calculating the division of a country's GDP by its population.  \n",
    "* Social Support: It represents the responses to the question whether one has relatives or friends to rely on, when needed.\n",
    "* Health Life Expectancy: Healthy life expectancy is based on the data repository of the Global Health Observatory from the World Health Organisation (WHO). It   represents the number of disability-free years estimated at birth.\n",
    "* Freedom to make Life Choices: It represents the average response to the question whether they satisfied or dissatisfied with their freedom to choose what they   want to do with their life.\n",
    "* Absence of Corruption: It represents the average response of individuals perception on their government's corruption.\n",
    "* Generostiy: It represents the average response to the question if money was donated to a charity. "
   ]
  },
  {
   "cell_type": "markdown",
   "id": "51d01bd8-b766-41fd-bb18-e9eed19ae256",
   "metadata": {},
   "source": [
    "#### Hypotheses"
   ]
  },
  {
   "cell_type": "markdown",
   "id": "860ec54e-8593-4d0b-b23c-1fe943e61e4d",
   "metadata": {},
   "source": [
    "- H1: Are the six independent factors correlated with each other? If they are correlated, can one of the variables be omitted?\n",
    "- H2: which of the six factors could predict happiness value over the four years from 2015 to 2019."
   ]
  },
  {
   "cell_type": "markdown",
   "id": "b96ca5d0-3724-45d7-b727-ef5b4ef84be1",
   "metadata": {},
   "source": [
    "#### Data Plan Organization"
   ]
  },
  {
   "cell_type": "markdown",
   "id": "41123060-1b4a-4103-80bb-2f4ec654d859",
   "metadata": {},
   "source": [
    "* Data Cleansing and Data Preparation\n",
    "* Description of the Data Architecture\n",
    "* Statistical Analyses"
   ]
  },
  {
   "cell_type": "markdown",
   "id": "1052920c-605d-42c8-b6f5-7b5f6d52e2a7",
   "metadata": {},
   "source": [
    "#### Data Cleansing and Data Preparation"
   ]
  },
  {
   "cell_type": "markdown",
   "id": "672db9d1-b23b-4c82-a29b-397f8f96b197",
   "metadata": {},
   "source": [
    "1. Load datasets from the years 2015 to 2019 (total five datasets)\n",
    "2. Make subsets only with interested variables: \n",
    "    * Happiness Score\n",
    "    * GDP\n",
    "    * Support\n",
    "    * Life\n",
    "    * Freedom\n",
    "    * Corruption\n",
    "    * Generosity\n",
    "3. Rename variables to common names\n",
    "4. Round all values to the same decimal points\n",
    "5. Remove missing data \n",
    "6. Add variable 'Year' (for the merged dataset afterwards)\n",
    "7. Check if all variables have common vector types\n",
    "8. Remove outliers.\n",
    "9. Merge the five datasets\n"
   ]
  },
  {
   "cell_type": "markdown",
   "id": "37ab0869-b091-49d2-a7ea-6aa56eb4492f",
   "metadata": {},
   "source": [
    "#### Data Description"
   ]
  },
  {
   "cell_type": "markdown",
   "id": "695a3416-dcc2-4560-91d5-eb6a24867069",
   "metadata": {},
   "source": [
    "The datasets of the world happiness reports were obtain from Kaggle and it contains datasets from year 2015 to 2019. There 155-158 countries listed and includes 9 to 12 variables. "
   ]
  },
  {
   "cell_type": "markdown",
   "id": "a9e4eadf-96aa-4fff-8b96-abcdc9a0b925",
   "metadata": {},
   "source": [
    "#### Statistical Analyses"
   ]
  },
  {
   "cell_type": "markdown",
   "id": "d0b7e5ee-3454-4364-81a4-e9d395a6b682",
   "metadata": {},
   "source": [
    "1. Summary table of merged dataset\n",
    "2. Visual distribution of the variables\n",
    "3. Test for collinearity \n",
    "4. Multiple linear regression\n",
    "5. Stepwise regression\n",
    "6. Bootstrap"
   ]
  },
  {
   "cell_type": "markdown",
   "id": "40e9b906-9ed2-4206-a8ec-e98aea0629d1",
   "metadata": {},
   "source": [
    "#### Data Cleansing/Preperation"
   ]
  },
  {
   "cell_type": "code",
   "execution_count": 1,
   "id": "5102d96f-291a-4bae-8dbd-00d2ded332b2",
   "metadata": {
    "tags": []
   },
   "outputs": [
    {
     "name": "stderr",
     "output_type": "stream",
     "text": [
      "-- \u001b[1mAttaching packages\u001b[22m ------------------------------------------------------------------------------- tidyverse 1.3.1 --\n",
      "\n",
      "\u001b[32mv\u001b[39m \u001b[34mggplot2\u001b[39m 3.3.3     \u001b[32mv\u001b[39m \u001b[34mpurrr  \u001b[39m 0.3.4\n",
      "\u001b[32mv\u001b[39m \u001b[34mtibble \u001b[39m 3.1.1     \u001b[32mv\u001b[39m \u001b[34mdplyr  \u001b[39m 1.0.5\n",
      "\u001b[32mv\u001b[39m \u001b[34mtidyr  \u001b[39m 1.1.3     \u001b[32mv\u001b[39m \u001b[34mstringr\u001b[39m 1.4.0\n",
      "\u001b[32mv\u001b[39m \u001b[34mreadr  \u001b[39m 1.4.0     \u001b[32mv\u001b[39m \u001b[34mforcats\u001b[39m 0.5.1\n",
      "\n",
      "-- \u001b[1mConflicts\u001b[22m ---------------------------------------------------------------------------------- tidyverse_conflicts() --\n",
      "\u001b[31mx\u001b[39m \u001b[34mdplyr\u001b[39m::\u001b[32mfilter()\u001b[39m masks \u001b[34mstats\u001b[39m::filter()\n",
      "\u001b[31mx\u001b[39m \u001b[34mdplyr\u001b[39m::\u001b[32mlag()\u001b[39m    masks \u001b[34mstats\u001b[39m::lag()\n",
      "\n",
      "Loading required package: carData\n",
      "\n",
      "\n",
      "Attaching package: 'car'\n",
      "\n",
      "\n",
      "The following object is masked from 'package:dplyr':\n",
      "\n",
      "    recode\n",
      "\n",
      "\n",
      "The following object is masked from 'package:purrr':\n",
      "\n",
      "    some\n",
      "\n",
      "\n",
      "\n",
      "Attaching package: 'rstatix'\n",
      "\n",
      "\n",
      "The following object is masked from 'package:stats':\n",
      "\n",
      "    filter\n",
      "\n",
      "\n",
      "Loading required package: usethis\n",
      "\n",
      "\n",
      "Attaching package: 'DescTools'\n",
      "\n",
      "\n",
      "The following object is masked from 'package:car':\n",
      "\n",
      "    Recode\n",
      "\n",
      "\n",
      "\n",
      "Attaching package: 'caret'\n",
      "\n",
      "\n",
      "The following objects are masked from 'package:DescTools':\n",
      "\n",
      "    MAE, RMSE\n",
      "\n",
      "\n",
      "The following object is masked from 'package:purrr':\n",
      "\n",
      "    lift\n",
      "\n",
      "\n",
      "\n",
      "Attaching package: 'boot'\n",
      "\n",
      "\n",
      "The following object is masked from 'package:lattice':\n",
      "\n",
      "    melanoma\n",
      "\n",
      "\n",
      "The following object is masked from 'package:car':\n",
      "\n",
      "    logit\n",
      "\n",
      "\n",
      "\n",
      "Attaching package: 'psych'\n",
      "\n",
      "\n",
      "The following object is masked from 'package:boot':\n",
      "\n",
      "    logit\n",
      "\n",
      "\n",
      "The following objects are masked from 'package:DescTools':\n",
      "\n",
      "    AUC, ICC, SD\n",
      "\n",
      "\n",
      "The following object is masked from 'package:car':\n",
      "\n",
      "    logit\n",
      "\n",
      "\n",
      "The following objects are masked from 'package:ggplot2':\n",
      "\n",
      "    %+%, alpha\n",
      "\n",
      "\n",
      "\n",
      "Attaching package: 'gridExtra'\n",
      "\n",
      "\n",
      "The following object is masked from 'package:dplyr':\n",
      "\n",
      "    combine\n",
      "\n",
      "\n"
     ]
    }
   ],
   "source": [
    "library(tidyverse)\n",
    "library(readxl)\n",
    "library(dplyr)\n",
    "library(ggpubr)\n",
    "library(car)\n",
    "library(rstatix)\n",
    "library(ggthemes)\n",
    "library(ggplot2)\n",
    "library(lattice)\n",
    "library(devtools)\n",
    "library(DescTools)\n",
    "library(caret)\n",
    "library(boot)\n",
    "library(psych)\n",
    "library(gridExtra)"
   ]
  },
  {
   "cell_type": "code",
   "execution_count": 2,
   "id": "63aca8b3-6c3c-4023-878b-abda0a1b78fd",
   "metadata": {},
   "outputs": [],
   "source": [
    "whr15 <-read.csv('2015.csv')\n",
    "whr16 <-read.csv('2016.csv')\n",
    "whr17 <-read.csv('2017.csv')\n",
    "whr18 <-read.csv('2018.csv')\n",
    "whr19 <-read.csv('2019.csv')"
   ]
  },
  {
   "cell_type": "code",
   "execution_count": 3,
   "id": "fcfbcee1-127b-4dcb-a2f4-63c667924925",
   "metadata": {},
   "outputs": [
    {
     "data": {
      "text/html": [
       "<style>\n",
       ".list-inline {list-style: none; margin:0; padding: 0}\n",
       ".list-inline>li {display: inline-block}\n",
       ".list-inline>li:not(:last-child)::after {content: \"\\00b7\"; padding: 0 .5ex}\n",
       "</style>\n",
       "<ol class=list-inline><li>'Country'</li><li>'Region'</li><li>'Happiness.Rank'</li><li>'Happiness.Score'</li><li>'Standard.Error'</li><li>'Economy..GDP.per.Capita.'</li><li>'Family'</li><li>'Health..Life.Expectancy.'</li><li>'Freedom'</li><li>'Trust..Government.Corruption.'</li><li>'Generosity'</li><li>'Dystopia.Residual'</li></ol>\n"
      ],
      "text/latex": [
       "\\begin{enumerate*}\n",
       "\\item 'Country'\n",
       "\\item 'Region'\n",
       "\\item 'Happiness.Rank'\n",
       "\\item 'Happiness.Score'\n",
       "\\item 'Standard.Error'\n",
       "\\item 'Economy..GDP.per.Capita.'\n",
       "\\item 'Family'\n",
       "\\item 'Health..Life.Expectancy.'\n",
       "\\item 'Freedom'\n",
       "\\item 'Trust..Government.Corruption.'\n",
       "\\item 'Generosity'\n",
       "\\item 'Dystopia.Residual'\n",
       "\\end{enumerate*}\n"
      ],
      "text/markdown": [
       "1. 'Country'\n",
       "2. 'Region'\n",
       "3. 'Happiness.Rank'\n",
       "4. 'Happiness.Score'\n",
       "5. 'Standard.Error'\n",
       "6. 'Economy..GDP.per.Capita.'\n",
       "7. 'Family'\n",
       "8. 'Health..Life.Expectancy.'\n",
       "9. 'Freedom'\n",
       "10. 'Trust..Government.Corruption.'\n",
       "11. 'Generosity'\n",
       "12. 'Dystopia.Residual'\n",
       "\n",
       "\n"
      ],
      "text/plain": [
       " [1] \"Country\"                       \"Region\"                       \n",
       " [3] \"Happiness.Rank\"                \"Happiness.Score\"              \n",
       " [5] \"Standard.Error\"                \"Economy..GDP.per.Capita.\"     \n",
       " [7] \"Family\"                        \"Health..Life.Expectancy.\"     \n",
       " [9] \"Freedom\"                       \"Trust..Government.Corruption.\"\n",
       "[11] \"Generosity\"                    \"Dystopia.Residual\"            "
      ]
     },
     "metadata": {},
     "output_type": "display_data"
    },
    {
     "data": {
      "text/html": [
       "<style>\n",
       ".list-inline {list-style: none; margin:0; padding: 0}\n",
       ".list-inline>li {display: inline-block}\n",
       ".list-inline>li:not(:last-child)::after {content: \"\\00b7\"; padding: 0 .5ex}\n",
       "</style>\n",
       "<ol class=list-inline><li>'Country'</li><li>'Region'</li><li>'Happiness.Rank'</li><li>'Happiness.Score'</li><li>'Lower.Confidence.Interval'</li><li>'Upper.Confidence.Interval'</li><li>'Economy..GDP.per.Capita.'</li><li>'Family'</li><li>'Health..Life.Expectancy.'</li><li>'Freedom'</li><li>'Trust..Government.Corruption.'</li><li>'Generosity'</li><li>'Dystopia.Residual'</li></ol>\n"
      ],
      "text/latex": [
       "\\begin{enumerate*}\n",
       "\\item 'Country'\n",
       "\\item 'Region'\n",
       "\\item 'Happiness.Rank'\n",
       "\\item 'Happiness.Score'\n",
       "\\item 'Lower.Confidence.Interval'\n",
       "\\item 'Upper.Confidence.Interval'\n",
       "\\item 'Economy..GDP.per.Capita.'\n",
       "\\item 'Family'\n",
       "\\item 'Health..Life.Expectancy.'\n",
       "\\item 'Freedom'\n",
       "\\item 'Trust..Government.Corruption.'\n",
       "\\item 'Generosity'\n",
       "\\item 'Dystopia.Residual'\n",
       "\\end{enumerate*}\n"
      ],
      "text/markdown": [
       "1. 'Country'\n",
       "2. 'Region'\n",
       "3. 'Happiness.Rank'\n",
       "4. 'Happiness.Score'\n",
       "5. 'Lower.Confidence.Interval'\n",
       "6. 'Upper.Confidence.Interval'\n",
       "7. 'Economy..GDP.per.Capita.'\n",
       "8. 'Family'\n",
       "9. 'Health..Life.Expectancy.'\n",
       "10. 'Freedom'\n",
       "11. 'Trust..Government.Corruption.'\n",
       "12. 'Generosity'\n",
       "13. 'Dystopia.Residual'\n",
       "\n",
       "\n"
      ],
      "text/plain": [
       " [1] \"Country\"                       \"Region\"                       \n",
       " [3] \"Happiness.Rank\"                \"Happiness.Score\"              \n",
       " [5] \"Lower.Confidence.Interval\"     \"Upper.Confidence.Interval\"    \n",
       " [7] \"Economy..GDP.per.Capita.\"      \"Family\"                       \n",
       " [9] \"Health..Life.Expectancy.\"      \"Freedom\"                      \n",
       "[11] \"Trust..Government.Corruption.\" \"Generosity\"                   \n",
       "[13] \"Dystopia.Residual\"            "
      ]
     },
     "metadata": {},
     "output_type": "display_data"
    },
    {
     "data": {
      "text/html": [
       "<style>\n",
       ".list-inline {list-style: none; margin:0; padding: 0}\n",
       ".list-inline>li {display: inline-block}\n",
       ".list-inline>li:not(:last-child)::after {content: \"\\00b7\"; padding: 0 .5ex}\n",
       "</style>\n",
       "<ol class=list-inline><li>'Country'</li><li>'Happiness.Rank'</li><li>'Happiness.Score'</li><li>'Whisker.high'</li><li>'Whisker.low'</li><li>'Economy..GDP.per.Capita.'</li><li>'Family'</li><li>'Health..Life.Expectancy.'</li><li>'Freedom'</li><li>'Generosity'</li><li>'Trust..Government.Corruption.'</li><li>'Dystopia.Residual'</li></ol>\n"
      ],
      "text/latex": [
       "\\begin{enumerate*}\n",
       "\\item 'Country'\n",
       "\\item 'Happiness.Rank'\n",
       "\\item 'Happiness.Score'\n",
       "\\item 'Whisker.high'\n",
       "\\item 'Whisker.low'\n",
       "\\item 'Economy..GDP.per.Capita.'\n",
       "\\item 'Family'\n",
       "\\item 'Health..Life.Expectancy.'\n",
       "\\item 'Freedom'\n",
       "\\item 'Generosity'\n",
       "\\item 'Trust..Government.Corruption.'\n",
       "\\item 'Dystopia.Residual'\n",
       "\\end{enumerate*}\n"
      ],
      "text/markdown": [
       "1. 'Country'\n",
       "2. 'Happiness.Rank'\n",
       "3. 'Happiness.Score'\n",
       "4. 'Whisker.high'\n",
       "5. 'Whisker.low'\n",
       "6. 'Economy..GDP.per.Capita.'\n",
       "7. 'Family'\n",
       "8. 'Health..Life.Expectancy.'\n",
       "9. 'Freedom'\n",
       "10. 'Generosity'\n",
       "11. 'Trust..Government.Corruption.'\n",
       "12. 'Dystopia.Residual'\n",
       "\n",
       "\n"
      ],
      "text/plain": [
       " [1] \"Country\"                       \"Happiness.Rank\"               \n",
       " [3] \"Happiness.Score\"               \"Whisker.high\"                 \n",
       " [5] \"Whisker.low\"                   \"Economy..GDP.per.Capita.\"     \n",
       " [7] \"Family\"                        \"Health..Life.Expectancy.\"     \n",
       " [9] \"Freedom\"                       \"Generosity\"                   \n",
       "[11] \"Trust..Government.Corruption.\" \"Dystopia.Residual\"            "
      ]
     },
     "metadata": {},
     "output_type": "display_data"
    },
    {
     "data": {
      "text/html": [
       "<style>\n",
       ".list-inline {list-style: none; margin:0; padding: 0}\n",
       ".list-inline>li {display: inline-block}\n",
       ".list-inline>li:not(:last-child)::after {content: \"\\00b7\"; padding: 0 .5ex}\n",
       "</style>\n",
       "<ol class=list-inline><li>'Overall.rank'</li><li>'Country.or.region'</li><li>'Score'</li><li>'GDP.per.capita'</li><li>'Social.support'</li><li>'Healthy.life.expectancy'</li><li>'Freedom.to.make.life.choices'</li><li>'Generosity'</li><li>'Perceptions.of.corruption'</li></ol>\n"
      ],
      "text/latex": [
       "\\begin{enumerate*}\n",
       "\\item 'Overall.rank'\n",
       "\\item 'Country.or.region'\n",
       "\\item 'Score'\n",
       "\\item 'GDP.per.capita'\n",
       "\\item 'Social.support'\n",
       "\\item 'Healthy.life.expectancy'\n",
       "\\item 'Freedom.to.make.life.choices'\n",
       "\\item 'Generosity'\n",
       "\\item 'Perceptions.of.corruption'\n",
       "\\end{enumerate*}\n"
      ],
      "text/markdown": [
       "1. 'Overall.rank'\n",
       "2. 'Country.or.region'\n",
       "3. 'Score'\n",
       "4. 'GDP.per.capita'\n",
       "5. 'Social.support'\n",
       "6. 'Healthy.life.expectancy'\n",
       "7. 'Freedom.to.make.life.choices'\n",
       "8. 'Generosity'\n",
       "9. 'Perceptions.of.corruption'\n",
       "\n",
       "\n"
      ],
      "text/plain": [
       "[1] \"Overall.rank\"                 \"Country.or.region\"           \n",
       "[3] \"Score\"                        \"GDP.per.capita\"              \n",
       "[5] \"Social.support\"               \"Healthy.life.expectancy\"     \n",
       "[7] \"Freedom.to.make.life.choices\" \"Generosity\"                  \n",
       "[9] \"Perceptions.of.corruption\"   "
      ]
     },
     "metadata": {},
     "output_type": "display_data"
    },
    {
     "data": {
      "text/html": [
       "<style>\n",
       ".list-inline {list-style: none; margin:0; padding: 0}\n",
       ".list-inline>li {display: inline-block}\n",
       ".list-inline>li:not(:last-child)::after {content: \"\\00b7\"; padding: 0 .5ex}\n",
       "</style>\n",
       "<ol class=list-inline><li>'Overall.rank'</li><li>'Country.or.region'</li><li>'Score'</li><li>'GDP.per.capita'</li><li>'Social.support'</li><li>'Healthy.life.expectancy'</li><li>'Freedom.to.make.life.choices'</li><li>'Generosity'</li><li>'Perceptions.of.corruption'</li></ol>\n"
      ],
      "text/latex": [
       "\\begin{enumerate*}\n",
       "\\item 'Overall.rank'\n",
       "\\item 'Country.or.region'\n",
       "\\item 'Score'\n",
       "\\item 'GDP.per.capita'\n",
       "\\item 'Social.support'\n",
       "\\item 'Healthy.life.expectancy'\n",
       "\\item 'Freedom.to.make.life.choices'\n",
       "\\item 'Generosity'\n",
       "\\item 'Perceptions.of.corruption'\n",
       "\\end{enumerate*}\n"
      ],
      "text/markdown": [
       "1. 'Overall.rank'\n",
       "2. 'Country.or.region'\n",
       "3. 'Score'\n",
       "4. 'GDP.per.capita'\n",
       "5. 'Social.support'\n",
       "6. 'Healthy.life.expectancy'\n",
       "7. 'Freedom.to.make.life.choices'\n",
       "8. 'Generosity'\n",
       "9. 'Perceptions.of.corruption'\n",
       "\n",
       "\n"
      ],
      "text/plain": [
       "[1] \"Overall.rank\"                 \"Country.or.region\"           \n",
       "[3] \"Score\"                        \"GDP.per.capita\"              \n",
       "[5] \"Social.support\"               \"Healthy.life.expectancy\"     \n",
       "[7] \"Freedom.to.make.life.choices\" \"Generosity\"                  \n",
       "[9] \"Perceptions.of.corruption\"   "
      ]
     },
     "metadata": {},
     "output_type": "display_data"
    }
   ],
   "source": [
    "names(whr15)\n",
    "names(whr16)\n",
    "names(whr17)\n",
    "names(whr18)\n",
    "names(whr19)"
   ]
  },
  {
   "cell_type": "code",
   "execution_count": 4,
   "id": "8925c6cb-2639-4427-a3f5-d8cd3f7f3ff4",
   "metadata": {},
   "outputs": [
    {
     "data": {
      "text/html": [
       "<style>\n",
       ".list-inline {list-style: none; margin:0; padding: 0}\n",
       ".list-inline>li {display: inline-block}\n",
       ".list-inline>li:not(:last-child)::after {content: \"\\00b7\"; padding: 0 .5ex}\n",
       "</style>\n",
       "<ol class=list-inline><li>158</li><li>12</li></ol>\n"
      ],
      "text/latex": [
       "\\begin{enumerate*}\n",
       "\\item 158\n",
       "\\item 12\n",
       "\\end{enumerate*}\n"
      ],
      "text/markdown": [
       "1. 158\n",
       "2. 12\n",
       "\n",
       "\n"
      ],
      "text/plain": [
       "[1] 158  12"
      ]
     },
     "metadata": {},
     "output_type": "display_data"
    },
    {
     "data": {
      "text/html": [
       "<style>\n",
       ".list-inline {list-style: none; margin:0; padding: 0}\n",
       ".list-inline>li {display: inline-block}\n",
       ".list-inline>li:not(:last-child)::after {content: \"\\00b7\"; padding: 0 .5ex}\n",
       "</style>\n",
       "<ol class=list-inline><li>157</li><li>13</li></ol>\n"
      ],
      "text/latex": [
       "\\begin{enumerate*}\n",
       "\\item 157\n",
       "\\item 13\n",
       "\\end{enumerate*}\n"
      ],
      "text/markdown": [
       "1. 157\n",
       "2. 13\n",
       "\n",
       "\n"
      ],
      "text/plain": [
       "[1] 157  13"
      ]
     },
     "metadata": {},
     "output_type": "display_data"
    },
    {
     "data": {
      "text/html": [
       "<style>\n",
       ".list-inline {list-style: none; margin:0; padding: 0}\n",
       ".list-inline>li {display: inline-block}\n",
       ".list-inline>li:not(:last-child)::after {content: \"\\00b7\"; padding: 0 .5ex}\n",
       "</style>\n",
       "<ol class=list-inline><li>155</li><li>12</li></ol>\n"
      ],
      "text/latex": [
       "\\begin{enumerate*}\n",
       "\\item 155\n",
       "\\item 12\n",
       "\\end{enumerate*}\n"
      ],
      "text/markdown": [
       "1. 155\n",
       "2. 12\n",
       "\n",
       "\n"
      ],
      "text/plain": [
       "[1] 155  12"
      ]
     },
     "metadata": {},
     "output_type": "display_data"
    },
    {
     "data": {
      "text/html": [
       "<style>\n",
       ".list-inline {list-style: none; margin:0; padding: 0}\n",
       ".list-inline>li {display: inline-block}\n",
       ".list-inline>li:not(:last-child)::after {content: \"\\00b7\"; padding: 0 .5ex}\n",
       "</style>\n",
       "<ol class=list-inline><li>156</li><li>9</li></ol>\n"
      ],
      "text/latex": [
       "\\begin{enumerate*}\n",
       "\\item 156\n",
       "\\item 9\n",
       "\\end{enumerate*}\n"
      ],
      "text/markdown": [
       "1. 156\n",
       "2. 9\n",
       "\n",
       "\n"
      ],
      "text/plain": [
       "[1] 156   9"
      ]
     },
     "metadata": {},
     "output_type": "display_data"
    },
    {
     "data": {
      "text/html": [
       "<style>\n",
       ".list-inline {list-style: none; margin:0; padding: 0}\n",
       ".list-inline>li {display: inline-block}\n",
       ".list-inline>li:not(:last-child)::after {content: \"\\00b7\"; padding: 0 .5ex}\n",
       "</style>\n",
       "<ol class=list-inline><li>156</li><li>9</li></ol>\n"
      ],
      "text/latex": [
       "\\begin{enumerate*}\n",
       "\\item 156\n",
       "\\item 9\n",
       "\\end{enumerate*}\n"
      ],
      "text/markdown": [
       "1. 156\n",
       "2. 9\n",
       "\n",
       "\n"
      ],
      "text/plain": [
       "[1] 156   9"
      ]
     },
     "metadata": {},
     "output_type": "display_data"
    }
   ],
   "source": [
    "dim(whr15)\n",
    "dim(whr16)\n",
    "dim(whr17)\n",
    "dim(whr18)\n",
    "dim(whr19)"
   ]
  },
  {
   "cell_type": "code",
   "execution_count": 5,
   "id": "764ba3e4-c25e-4412-b484-98da31dec26b",
   "metadata": {},
   "outputs": [
    {
     "data": {
      "text/html": [
       "<table class=\"dataframe\">\n",
       "<caption>A data.frame: 6 × 12</caption>\n",
       "<thead>\n",
       "\t<tr><th></th><th scope=col>Country</th><th scope=col>Region</th><th scope=col>Happiness.Rank</th><th scope=col>Happiness.Score</th><th scope=col>Standard.Error</th><th scope=col>Economy..GDP.per.Capita.</th><th scope=col>Family</th><th scope=col>Health..Life.Expectancy.</th><th scope=col>Freedom</th><th scope=col>Trust..Government.Corruption.</th><th scope=col>Generosity</th><th scope=col>Dystopia.Residual</th></tr>\n",
       "\t<tr><th></th><th scope=col>&lt;chr&gt;</th><th scope=col>&lt;chr&gt;</th><th scope=col>&lt;int&gt;</th><th scope=col>&lt;dbl&gt;</th><th scope=col>&lt;dbl&gt;</th><th scope=col>&lt;dbl&gt;</th><th scope=col>&lt;dbl&gt;</th><th scope=col>&lt;dbl&gt;</th><th scope=col>&lt;dbl&gt;</th><th scope=col>&lt;dbl&gt;</th><th scope=col>&lt;dbl&gt;</th><th scope=col>&lt;dbl&gt;</th></tr>\n",
       "</thead>\n",
       "<tbody>\n",
       "\t<tr><th scope=row>1</th><td>Switzerland</td><td>Western Europe</td><td>1</td><td>7.587</td><td>0.03411</td><td>1.39651</td><td>1.34951</td><td>0.94143</td><td>0.66557</td><td>0.41978</td><td>0.29678</td><td>2.51738</td></tr>\n",
       "\t<tr><th scope=row>2</th><td>Iceland    </td><td>Western Europe</td><td>2</td><td>7.561</td><td>0.04884</td><td>1.30232</td><td>1.40223</td><td>0.94784</td><td>0.62877</td><td>0.14145</td><td>0.43630</td><td>2.70201</td></tr>\n",
       "\t<tr><th scope=row>3</th><td>Denmark    </td><td>Western Europe</td><td>3</td><td>7.527</td><td>0.03328</td><td>1.32548</td><td>1.36058</td><td>0.87464</td><td>0.64938</td><td>0.48357</td><td>0.34139</td><td>2.49204</td></tr>\n",
       "\t<tr><th scope=row>4</th><td>Norway     </td><td>Western Europe</td><td>4</td><td>7.522</td><td>0.03880</td><td>1.45900</td><td>1.33095</td><td>0.88521</td><td>0.66973</td><td>0.36503</td><td>0.34699</td><td>2.46531</td></tr>\n",
       "\t<tr><th scope=row>5</th><td>Canada     </td><td>North America </td><td>5</td><td>7.427</td><td>0.03553</td><td>1.32629</td><td>1.32261</td><td>0.90563</td><td>0.63297</td><td>0.32957</td><td>0.45811</td><td>2.45176</td></tr>\n",
       "\t<tr><th scope=row>6</th><td>Finland    </td><td>Western Europe</td><td>6</td><td>7.406</td><td>0.03140</td><td>1.29025</td><td>1.31826</td><td>0.88911</td><td>0.64169</td><td>0.41372</td><td>0.23351</td><td>2.61955</td></tr>\n",
       "</tbody>\n",
       "</table>\n"
      ],
      "text/latex": [
       "A data.frame: 6 × 12\n",
       "\\begin{tabular}{r|llllllllllll}\n",
       "  & Country & Region & Happiness.Rank & Happiness.Score & Standard.Error & Economy..GDP.per.Capita. & Family & Health..Life.Expectancy. & Freedom & Trust..Government.Corruption. & Generosity & Dystopia.Residual\\\\\n",
       "  & <chr> & <chr> & <int> & <dbl> & <dbl> & <dbl> & <dbl> & <dbl> & <dbl> & <dbl> & <dbl> & <dbl>\\\\\n",
       "\\hline\n",
       "\t1 & Switzerland & Western Europe & 1 & 7.587 & 0.03411 & 1.39651 & 1.34951 & 0.94143 & 0.66557 & 0.41978 & 0.29678 & 2.51738\\\\\n",
       "\t2 & Iceland     & Western Europe & 2 & 7.561 & 0.04884 & 1.30232 & 1.40223 & 0.94784 & 0.62877 & 0.14145 & 0.43630 & 2.70201\\\\\n",
       "\t3 & Denmark     & Western Europe & 3 & 7.527 & 0.03328 & 1.32548 & 1.36058 & 0.87464 & 0.64938 & 0.48357 & 0.34139 & 2.49204\\\\\n",
       "\t4 & Norway      & Western Europe & 4 & 7.522 & 0.03880 & 1.45900 & 1.33095 & 0.88521 & 0.66973 & 0.36503 & 0.34699 & 2.46531\\\\\n",
       "\t5 & Canada      & North America  & 5 & 7.427 & 0.03553 & 1.32629 & 1.32261 & 0.90563 & 0.63297 & 0.32957 & 0.45811 & 2.45176\\\\\n",
       "\t6 & Finland     & Western Europe & 6 & 7.406 & 0.03140 & 1.29025 & 1.31826 & 0.88911 & 0.64169 & 0.41372 & 0.23351 & 2.61955\\\\\n",
       "\\end{tabular}\n"
      ],
      "text/markdown": [
       "\n",
       "A data.frame: 6 × 12\n",
       "\n",
       "| <!--/--> | Country &lt;chr&gt; | Region &lt;chr&gt; | Happiness.Rank &lt;int&gt; | Happiness.Score &lt;dbl&gt; | Standard.Error &lt;dbl&gt; | Economy..GDP.per.Capita. &lt;dbl&gt; | Family &lt;dbl&gt; | Health..Life.Expectancy. &lt;dbl&gt; | Freedom &lt;dbl&gt; | Trust..Government.Corruption. &lt;dbl&gt; | Generosity &lt;dbl&gt; | Dystopia.Residual &lt;dbl&gt; |\n",
       "|---|---|---|---|---|---|---|---|---|---|---|---|---|\n",
       "| 1 | Switzerland | Western Europe | 1 | 7.587 | 0.03411 | 1.39651 | 1.34951 | 0.94143 | 0.66557 | 0.41978 | 0.29678 | 2.51738 |\n",
       "| 2 | Iceland     | Western Europe | 2 | 7.561 | 0.04884 | 1.30232 | 1.40223 | 0.94784 | 0.62877 | 0.14145 | 0.43630 | 2.70201 |\n",
       "| 3 | Denmark     | Western Europe | 3 | 7.527 | 0.03328 | 1.32548 | 1.36058 | 0.87464 | 0.64938 | 0.48357 | 0.34139 | 2.49204 |\n",
       "| 4 | Norway      | Western Europe | 4 | 7.522 | 0.03880 | 1.45900 | 1.33095 | 0.88521 | 0.66973 | 0.36503 | 0.34699 | 2.46531 |\n",
       "| 5 | Canada      | North America  | 5 | 7.427 | 0.03553 | 1.32629 | 1.32261 | 0.90563 | 0.63297 | 0.32957 | 0.45811 | 2.45176 |\n",
       "| 6 | Finland     | Western Europe | 6 | 7.406 | 0.03140 | 1.29025 | 1.31826 | 0.88911 | 0.64169 | 0.41372 | 0.23351 | 2.61955 |\n",
       "\n"
      ],
      "text/plain": [
       "  Country     Region         Happiness.Rank Happiness.Score Standard.Error\n",
       "1 Switzerland Western Europe 1              7.587           0.03411       \n",
       "2 Iceland     Western Europe 2              7.561           0.04884       \n",
       "3 Denmark     Western Europe 3              7.527           0.03328       \n",
       "4 Norway      Western Europe 4              7.522           0.03880       \n",
       "5 Canada      North America  5              7.427           0.03553       \n",
       "6 Finland     Western Europe 6              7.406           0.03140       \n",
       "  Economy..GDP.per.Capita. Family  Health..Life.Expectancy. Freedom\n",
       "1 1.39651                  1.34951 0.94143                  0.66557\n",
       "2 1.30232                  1.40223 0.94784                  0.62877\n",
       "3 1.32548                  1.36058 0.87464                  0.64938\n",
       "4 1.45900                  1.33095 0.88521                  0.66973\n",
       "5 1.32629                  1.32261 0.90563                  0.63297\n",
       "6 1.29025                  1.31826 0.88911                  0.64169\n",
       "  Trust..Government.Corruption. Generosity Dystopia.Residual\n",
       "1 0.41978                       0.29678    2.51738          \n",
       "2 0.14145                       0.43630    2.70201          \n",
       "3 0.48357                       0.34139    2.49204          \n",
       "4 0.36503                       0.34699    2.46531          \n",
       "5 0.32957                       0.45811    2.45176          \n",
       "6 0.41372                       0.23351    2.61955          "
      ]
     },
     "metadata": {},
     "output_type": "display_data"
    },
    {
     "data": {
      "text/html": [
       "<table class=\"dataframe\">\n",
       "<caption>A data.frame: 6 × 13</caption>\n",
       "<thead>\n",
       "\t<tr><th></th><th scope=col>Country</th><th scope=col>Region</th><th scope=col>Happiness.Rank</th><th scope=col>Happiness.Score</th><th scope=col>Lower.Confidence.Interval</th><th scope=col>Upper.Confidence.Interval</th><th scope=col>Economy..GDP.per.Capita.</th><th scope=col>Family</th><th scope=col>Health..Life.Expectancy.</th><th scope=col>Freedom</th><th scope=col>Trust..Government.Corruption.</th><th scope=col>Generosity</th><th scope=col>Dystopia.Residual</th></tr>\n",
       "\t<tr><th></th><th scope=col>&lt;chr&gt;</th><th scope=col>&lt;chr&gt;</th><th scope=col>&lt;int&gt;</th><th scope=col>&lt;dbl&gt;</th><th scope=col>&lt;dbl&gt;</th><th scope=col>&lt;dbl&gt;</th><th scope=col>&lt;dbl&gt;</th><th scope=col>&lt;dbl&gt;</th><th scope=col>&lt;dbl&gt;</th><th scope=col>&lt;dbl&gt;</th><th scope=col>&lt;dbl&gt;</th><th scope=col>&lt;dbl&gt;</th><th scope=col>&lt;dbl&gt;</th></tr>\n",
       "</thead>\n",
       "<tbody>\n",
       "\t<tr><th scope=row>1</th><td>Denmark    </td><td>Western Europe</td><td>1</td><td>7.526</td><td>7.460</td><td>7.592</td><td>1.44178</td><td>1.16374</td><td>0.79504</td><td>0.57941</td><td>0.44453</td><td>0.36171</td><td>2.73939</td></tr>\n",
       "\t<tr><th scope=row>2</th><td>Switzerland</td><td>Western Europe</td><td>2</td><td>7.509</td><td>7.428</td><td>7.590</td><td>1.52733</td><td>1.14524</td><td>0.86303</td><td>0.58557</td><td>0.41203</td><td>0.28083</td><td>2.69463</td></tr>\n",
       "\t<tr><th scope=row>3</th><td>Iceland    </td><td>Western Europe</td><td>3</td><td>7.501</td><td>7.333</td><td>7.669</td><td>1.42666</td><td>1.18326</td><td>0.86733</td><td>0.56624</td><td>0.14975</td><td>0.47678</td><td>2.83137</td></tr>\n",
       "\t<tr><th scope=row>4</th><td>Norway     </td><td>Western Europe</td><td>4</td><td>7.498</td><td>7.421</td><td>7.575</td><td>1.57744</td><td>1.12690</td><td>0.79579</td><td>0.59609</td><td>0.35776</td><td>0.37895</td><td>2.66465</td></tr>\n",
       "\t<tr><th scope=row>5</th><td>Finland    </td><td>Western Europe</td><td>5</td><td>7.413</td><td>7.351</td><td>7.475</td><td>1.40598</td><td>1.13464</td><td>0.81091</td><td>0.57104</td><td>0.41004</td><td>0.25492</td><td>2.82596</td></tr>\n",
       "\t<tr><th scope=row>6</th><td>Canada     </td><td>North America </td><td>6</td><td>7.404</td><td>7.335</td><td>7.473</td><td>1.44015</td><td>1.09610</td><td>0.82760</td><td>0.57370</td><td>0.31329</td><td>0.44834</td><td>2.70485</td></tr>\n",
       "</tbody>\n",
       "</table>\n"
      ],
      "text/latex": [
       "A data.frame: 6 × 13\n",
       "\\begin{tabular}{r|lllllllllllll}\n",
       "  & Country & Region & Happiness.Rank & Happiness.Score & Lower.Confidence.Interval & Upper.Confidence.Interval & Economy..GDP.per.Capita. & Family & Health..Life.Expectancy. & Freedom & Trust..Government.Corruption. & Generosity & Dystopia.Residual\\\\\n",
       "  & <chr> & <chr> & <int> & <dbl> & <dbl> & <dbl> & <dbl> & <dbl> & <dbl> & <dbl> & <dbl> & <dbl> & <dbl>\\\\\n",
       "\\hline\n",
       "\t1 & Denmark     & Western Europe & 1 & 7.526 & 7.460 & 7.592 & 1.44178 & 1.16374 & 0.79504 & 0.57941 & 0.44453 & 0.36171 & 2.73939\\\\\n",
       "\t2 & Switzerland & Western Europe & 2 & 7.509 & 7.428 & 7.590 & 1.52733 & 1.14524 & 0.86303 & 0.58557 & 0.41203 & 0.28083 & 2.69463\\\\\n",
       "\t3 & Iceland     & Western Europe & 3 & 7.501 & 7.333 & 7.669 & 1.42666 & 1.18326 & 0.86733 & 0.56624 & 0.14975 & 0.47678 & 2.83137\\\\\n",
       "\t4 & Norway      & Western Europe & 4 & 7.498 & 7.421 & 7.575 & 1.57744 & 1.12690 & 0.79579 & 0.59609 & 0.35776 & 0.37895 & 2.66465\\\\\n",
       "\t5 & Finland     & Western Europe & 5 & 7.413 & 7.351 & 7.475 & 1.40598 & 1.13464 & 0.81091 & 0.57104 & 0.41004 & 0.25492 & 2.82596\\\\\n",
       "\t6 & Canada      & North America  & 6 & 7.404 & 7.335 & 7.473 & 1.44015 & 1.09610 & 0.82760 & 0.57370 & 0.31329 & 0.44834 & 2.70485\\\\\n",
       "\\end{tabular}\n"
      ],
      "text/markdown": [
       "\n",
       "A data.frame: 6 × 13\n",
       "\n",
       "| <!--/--> | Country &lt;chr&gt; | Region &lt;chr&gt; | Happiness.Rank &lt;int&gt; | Happiness.Score &lt;dbl&gt; | Lower.Confidence.Interval &lt;dbl&gt; | Upper.Confidence.Interval &lt;dbl&gt; | Economy..GDP.per.Capita. &lt;dbl&gt; | Family &lt;dbl&gt; | Health..Life.Expectancy. &lt;dbl&gt; | Freedom &lt;dbl&gt; | Trust..Government.Corruption. &lt;dbl&gt; | Generosity &lt;dbl&gt; | Dystopia.Residual &lt;dbl&gt; |\n",
       "|---|---|---|---|---|---|---|---|---|---|---|---|---|---|\n",
       "| 1 | Denmark     | Western Europe | 1 | 7.526 | 7.460 | 7.592 | 1.44178 | 1.16374 | 0.79504 | 0.57941 | 0.44453 | 0.36171 | 2.73939 |\n",
       "| 2 | Switzerland | Western Europe | 2 | 7.509 | 7.428 | 7.590 | 1.52733 | 1.14524 | 0.86303 | 0.58557 | 0.41203 | 0.28083 | 2.69463 |\n",
       "| 3 | Iceland     | Western Europe | 3 | 7.501 | 7.333 | 7.669 | 1.42666 | 1.18326 | 0.86733 | 0.56624 | 0.14975 | 0.47678 | 2.83137 |\n",
       "| 4 | Norway      | Western Europe | 4 | 7.498 | 7.421 | 7.575 | 1.57744 | 1.12690 | 0.79579 | 0.59609 | 0.35776 | 0.37895 | 2.66465 |\n",
       "| 5 | Finland     | Western Europe | 5 | 7.413 | 7.351 | 7.475 | 1.40598 | 1.13464 | 0.81091 | 0.57104 | 0.41004 | 0.25492 | 2.82596 |\n",
       "| 6 | Canada      | North America  | 6 | 7.404 | 7.335 | 7.473 | 1.44015 | 1.09610 | 0.82760 | 0.57370 | 0.31329 | 0.44834 | 2.70485 |\n",
       "\n"
      ],
      "text/plain": [
       "  Country     Region         Happiness.Rank Happiness.Score\n",
       "1 Denmark     Western Europe 1              7.526          \n",
       "2 Switzerland Western Europe 2              7.509          \n",
       "3 Iceland     Western Europe 3              7.501          \n",
       "4 Norway      Western Europe 4              7.498          \n",
       "5 Finland     Western Europe 5              7.413          \n",
       "6 Canada      North America  6              7.404          \n",
       "  Lower.Confidence.Interval Upper.Confidence.Interval Economy..GDP.per.Capita.\n",
       "1 7.460                     7.592                     1.44178                 \n",
       "2 7.428                     7.590                     1.52733                 \n",
       "3 7.333                     7.669                     1.42666                 \n",
       "4 7.421                     7.575                     1.57744                 \n",
       "5 7.351                     7.475                     1.40598                 \n",
       "6 7.335                     7.473                     1.44015                 \n",
       "  Family  Health..Life.Expectancy. Freedom Trust..Government.Corruption.\n",
       "1 1.16374 0.79504                  0.57941 0.44453                      \n",
       "2 1.14524 0.86303                  0.58557 0.41203                      \n",
       "3 1.18326 0.86733                  0.56624 0.14975                      \n",
       "4 1.12690 0.79579                  0.59609 0.35776                      \n",
       "5 1.13464 0.81091                  0.57104 0.41004                      \n",
       "6 1.09610 0.82760                  0.57370 0.31329                      \n",
       "  Generosity Dystopia.Residual\n",
       "1 0.36171    2.73939          \n",
       "2 0.28083    2.69463          \n",
       "3 0.47678    2.83137          \n",
       "4 0.37895    2.66465          \n",
       "5 0.25492    2.82596          \n",
       "6 0.44834    2.70485          "
      ]
     },
     "metadata": {},
     "output_type": "display_data"
    },
    {
     "data": {
      "text/html": [
       "<table class=\"dataframe\">\n",
       "<caption>A data.frame: 6 × 12</caption>\n",
       "<thead>\n",
       "\t<tr><th></th><th scope=col>Country</th><th scope=col>Happiness.Rank</th><th scope=col>Happiness.Score</th><th scope=col>Whisker.high</th><th scope=col>Whisker.low</th><th scope=col>Economy..GDP.per.Capita.</th><th scope=col>Family</th><th scope=col>Health..Life.Expectancy.</th><th scope=col>Freedom</th><th scope=col>Generosity</th><th scope=col>Trust..Government.Corruption.</th><th scope=col>Dystopia.Residual</th></tr>\n",
       "\t<tr><th></th><th scope=col>&lt;chr&gt;</th><th scope=col>&lt;int&gt;</th><th scope=col>&lt;dbl&gt;</th><th scope=col>&lt;dbl&gt;</th><th scope=col>&lt;dbl&gt;</th><th scope=col>&lt;dbl&gt;</th><th scope=col>&lt;dbl&gt;</th><th scope=col>&lt;dbl&gt;</th><th scope=col>&lt;dbl&gt;</th><th scope=col>&lt;dbl&gt;</th><th scope=col>&lt;dbl&gt;</th><th scope=col>&lt;dbl&gt;</th></tr>\n",
       "</thead>\n",
       "<tbody>\n",
       "\t<tr><th scope=row>1</th><td>Norway     </td><td>1</td><td>7.537</td><td>7.594445</td><td>7.479556</td><td>1.616463</td><td>1.533524</td><td>0.7966665</td><td>0.6354226</td><td>0.3620122</td><td>0.3159638</td><td>2.277027</td></tr>\n",
       "\t<tr><th scope=row>2</th><td>Denmark    </td><td>2</td><td>7.522</td><td>7.581728</td><td>7.462272</td><td>1.482383</td><td>1.551122</td><td>0.7925655</td><td>0.6260067</td><td>0.3552805</td><td>0.4007701</td><td>2.313707</td></tr>\n",
       "\t<tr><th scope=row>3</th><td>Iceland    </td><td>3</td><td>7.504</td><td>7.622030</td><td>7.385970</td><td>1.480633</td><td>1.610574</td><td>0.8335521</td><td>0.6271626</td><td>0.4755402</td><td>0.1535266</td><td>2.322715</td></tr>\n",
       "\t<tr><th scope=row>4</th><td>Switzerland</td><td>4</td><td>7.494</td><td>7.561772</td><td>7.426227</td><td>1.564980</td><td>1.516912</td><td>0.8581313</td><td>0.6200706</td><td>0.2905493</td><td>0.3670073</td><td>2.276716</td></tr>\n",
       "\t<tr><th scope=row>5</th><td>Finland    </td><td>5</td><td>7.469</td><td>7.527542</td><td>7.410458</td><td>1.443572</td><td>1.540247</td><td>0.8091577</td><td>0.6179509</td><td>0.2454828</td><td>0.3826115</td><td>2.430182</td></tr>\n",
       "\t<tr><th scope=row>6</th><td>Netherlands</td><td>6</td><td>7.377</td><td>7.427426</td><td>7.326574</td><td>1.503945</td><td>1.428939</td><td>0.8106961</td><td>0.5853845</td><td>0.4704898</td><td>0.2826618</td><td>2.294804</td></tr>\n",
       "</tbody>\n",
       "</table>\n"
      ],
      "text/latex": [
       "A data.frame: 6 × 12\n",
       "\\begin{tabular}{r|llllllllllll}\n",
       "  & Country & Happiness.Rank & Happiness.Score & Whisker.high & Whisker.low & Economy..GDP.per.Capita. & Family & Health..Life.Expectancy. & Freedom & Generosity & Trust..Government.Corruption. & Dystopia.Residual\\\\\n",
       "  & <chr> & <int> & <dbl> & <dbl> & <dbl> & <dbl> & <dbl> & <dbl> & <dbl> & <dbl> & <dbl> & <dbl>\\\\\n",
       "\\hline\n",
       "\t1 & Norway      & 1 & 7.537 & 7.594445 & 7.479556 & 1.616463 & 1.533524 & 0.7966665 & 0.6354226 & 0.3620122 & 0.3159638 & 2.277027\\\\\n",
       "\t2 & Denmark     & 2 & 7.522 & 7.581728 & 7.462272 & 1.482383 & 1.551122 & 0.7925655 & 0.6260067 & 0.3552805 & 0.4007701 & 2.313707\\\\\n",
       "\t3 & Iceland     & 3 & 7.504 & 7.622030 & 7.385970 & 1.480633 & 1.610574 & 0.8335521 & 0.6271626 & 0.4755402 & 0.1535266 & 2.322715\\\\\n",
       "\t4 & Switzerland & 4 & 7.494 & 7.561772 & 7.426227 & 1.564980 & 1.516912 & 0.8581313 & 0.6200706 & 0.2905493 & 0.3670073 & 2.276716\\\\\n",
       "\t5 & Finland     & 5 & 7.469 & 7.527542 & 7.410458 & 1.443572 & 1.540247 & 0.8091577 & 0.6179509 & 0.2454828 & 0.3826115 & 2.430182\\\\\n",
       "\t6 & Netherlands & 6 & 7.377 & 7.427426 & 7.326574 & 1.503945 & 1.428939 & 0.8106961 & 0.5853845 & 0.4704898 & 0.2826618 & 2.294804\\\\\n",
       "\\end{tabular}\n"
      ],
      "text/markdown": [
       "\n",
       "A data.frame: 6 × 12\n",
       "\n",
       "| <!--/--> | Country &lt;chr&gt; | Happiness.Rank &lt;int&gt; | Happiness.Score &lt;dbl&gt; | Whisker.high &lt;dbl&gt; | Whisker.low &lt;dbl&gt; | Economy..GDP.per.Capita. &lt;dbl&gt; | Family &lt;dbl&gt; | Health..Life.Expectancy. &lt;dbl&gt; | Freedom &lt;dbl&gt; | Generosity &lt;dbl&gt; | Trust..Government.Corruption. &lt;dbl&gt; | Dystopia.Residual &lt;dbl&gt; |\n",
       "|---|---|---|---|---|---|---|---|---|---|---|---|---|\n",
       "| 1 | Norway      | 1 | 7.537 | 7.594445 | 7.479556 | 1.616463 | 1.533524 | 0.7966665 | 0.6354226 | 0.3620122 | 0.3159638 | 2.277027 |\n",
       "| 2 | Denmark     | 2 | 7.522 | 7.581728 | 7.462272 | 1.482383 | 1.551122 | 0.7925655 | 0.6260067 | 0.3552805 | 0.4007701 | 2.313707 |\n",
       "| 3 | Iceland     | 3 | 7.504 | 7.622030 | 7.385970 | 1.480633 | 1.610574 | 0.8335521 | 0.6271626 | 0.4755402 | 0.1535266 | 2.322715 |\n",
       "| 4 | Switzerland | 4 | 7.494 | 7.561772 | 7.426227 | 1.564980 | 1.516912 | 0.8581313 | 0.6200706 | 0.2905493 | 0.3670073 | 2.276716 |\n",
       "| 5 | Finland     | 5 | 7.469 | 7.527542 | 7.410458 | 1.443572 | 1.540247 | 0.8091577 | 0.6179509 | 0.2454828 | 0.3826115 | 2.430182 |\n",
       "| 6 | Netherlands | 6 | 7.377 | 7.427426 | 7.326574 | 1.503945 | 1.428939 | 0.8106961 | 0.5853845 | 0.4704898 | 0.2826618 | 2.294804 |\n",
       "\n"
      ],
      "text/plain": [
       "  Country     Happiness.Rank Happiness.Score Whisker.high Whisker.low\n",
       "1 Norway      1              7.537           7.594445     7.479556   \n",
       "2 Denmark     2              7.522           7.581728     7.462272   \n",
       "3 Iceland     3              7.504           7.622030     7.385970   \n",
       "4 Switzerland 4              7.494           7.561772     7.426227   \n",
       "5 Finland     5              7.469           7.527542     7.410458   \n",
       "6 Netherlands 6              7.377           7.427426     7.326574   \n",
       "  Economy..GDP.per.Capita. Family   Health..Life.Expectancy. Freedom  \n",
       "1 1.616463                 1.533524 0.7966665                0.6354226\n",
       "2 1.482383                 1.551122 0.7925655                0.6260067\n",
       "3 1.480633                 1.610574 0.8335521                0.6271626\n",
       "4 1.564980                 1.516912 0.8581313                0.6200706\n",
       "5 1.443572                 1.540247 0.8091577                0.6179509\n",
       "6 1.503945                 1.428939 0.8106961                0.5853845\n",
       "  Generosity Trust..Government.Corruption. Dystopia.Residual\n",
       "1 0.3620122  0.3159638                     2.277027         \n",
       "2 0.3552805  0.4007701                     2.313707         \n",
       "3 0.4755402  0.1535266                     2.322715         \n",
       "4 0.2905493  0.3670073                     2.276716         \n",
       "5 0.2454828  0.3826115                     2.430182         \n",
       "6 0.4704898  0.2826618                     2.294804         "
      ]
     },
     "metadata": {},
     "output_type": "display_data"
    },
    {
     "data": {
      "text/html": [
       "<table class=\"dataframe\">\n",
       "<caption>A data.frame: 6 × 9</caption>\n",
       "<thead>\n",
       "\t<tr><th></th><th scope=col>Overall.rank</th><th scope=col>Country.or.region</th><th scope=col>Score</th><th scope=col>GDP.per.capita</th><th scope=col>Social.support</th><th scope=col>Healthy.life.expectancy</th><th scope=col>Freedom.to.make.life.choices</th><th scope=col>Generosity</th><th scope=col>Perceptions.of.corruption</th></tr>\n",
       "\t<tr><th></th><th scope=col>&lt;int&gt;</th><th scope=col>&lt;chr&gt;</th><th scope=col>&lt;dbl&gt;</th><th scope=col>&lt;dbl&gt;</th><th scope=col>&lt;dbl&gt;</th><th scope=col>&lt;dbl&gt;</th><th scope=col>&lt;dbl&gt;</th><th scope=col>&lt;dbl&gt;</th><th scope=col>&lt;chr&gt;</th></tr>\n",
       "</thead>\n",
       "<tbody>\n",
       "\t<tr><th scope=row>1</th><td>1</td><td>Finland    </td><td>7.632</td><td>1.305</td><td>1.592</td><td>0.874</td><td>0.681</td><td>0.202</td><td>0.393</td></tr>\n",
       "\t<tr><th scope=row>2</th><td>2</td><td>Norway     </td><td>7.594</td><td>1.456</td><td>1.582</td><td>0.861</td><td>0.686</td><td>0.286</td><td>0.340</td></tr>\n",
       "\t<tr><th scope=row>3</th><td>3</td><td>Denmark    </td><td>7.555</td><td>1.351</td><td>1.590</td><td>0.868</td><td>0.683</td><td>0.284</td><td>0.408</td></tr>\n",
       "\t<tr><th scope=row>4</th><td>4</td><td>Iceland    </td><td>7.495</td><td>1.343</td><td>1.644</td><td>0.914</td><td>0.677</td><td>0.353</td><td>0.138</td></tr>\n",
       "\t<tr><th scope=row>5</th><td>5</td><td>Switzerland</td><td>7.487</td><td>1.420</td><td>1.549</td><td>0.927</td><td>0.660</td><td>0.256</td><td>0.357</td></tr>\n",
       "\t<tr><th scope=row>6</th><td>6</td><td>Netherlands</td><td>7.441</td><td>1.361</td><td>1.488</td><td>0.878</td><td>0.638</td><td>0.333</td><td>0.295</td></tr>\n",
       "</tbody>\n",
       "</table>\n"
      ],
      "text/latex": [
       "A data.frame: 6 × 9\n",
       "\\begin{tabular}{r|lllllllll}\n",
       "  & Overall.rank & Country.or.region & Score & GDP.per.capita & Social.support & Healthy.life.expectancy & Freedom.to.make.life.choices & Generosity & Perceptions.of.corruption\\\\\n",
       "  & <int> & <chr> & <dbl> & <dbl> & <dbl> & <dbl> & <dbl> & <dbl> & <chr>\\\\\n",
       "\\hline\n",
       "\t1 & 1 & Finland     & 7.632 & 1.305 & 1.592 & 0.874 & 0.681 & 0.202 & 0.393\\\\\n",
       "\t2 & 2 & Norway      & 7.594 & 1.456 & 1.582 & 0.861 & 0.686 & 0.286 & 0.340\\\\\n",
       "\t3 & 3 & Denmark     & 7.555 & 1.351 & 1.590 & 0.868 & 0.683 & 0.284 & 0.408\\\\\n",
       "\t4 & 4 & Iceland     & 7.495 & 1.343 & 1.644 & 0.914 & 0.677 & 0.353 & 0.138\\\\\n",
       "\t5 & 5 & Switzerland & 7.487 & 1.420 & 1.549 & 0.927 & 0.660 & 0.256 & 0.357\\\\\n",
       "\t6 & 6 & Netherlands & 7.441 & 1.361 & 1.488 & 0.878 & 0.638 & 0.333 & 0.295\\\\\n",
       "\\end{tabular}\n"
      ],
      "text/markdown": [
       "\n",
       "A data.frame: 6 × 9\n",
       "\n",
       "| <!--/--> | Overall.rank &lt;int&gt; | Country.or.region &lt;chr&gt; | Score &lt;dbl&gt; | GDP.per.capita &lt;dbl&gt; | Social.support &lt;dbl&gt; | Healthy.life.expectancy &lt;dbl&gt; | Freedom.to.make.life.choices &lt;dbl&gt; | Generosity &lt;dbl&gt; | Perceptions.of.corruption &lt;chr&gt; |\n",
       "|---|---|---|---|---|---|---|---|---|---|\n",
       "| 1 | 1 | Finland     | 7.632 | 1.305 | 1.592 | 0.874 | 0.681 | 0.202 | 0.393 |\n",
       "| 2 | 2 | Norway      | 7.594 | 1.456 | 1.582 | 0.861 | 0.686 | 0.286 | 0.340 |\n",
       "| 3 | 3 | Denmark     | 7.555 | 1.351 | 1.590 | 0.868 | 0.683 | 0.284 | 0.408 |\n",
       "| 4 | 4 | Iceland     | 7.495 | 1.343 | 1.644 | 0.914 | 0.677 | 0.353 | 0.138 |\n",
       "| 5 | 5 | Switzerland | 7.487 | 1.420 | 1.549 | 0.927 | 0.660 | 0.256 | 0.357 |\n",
       "| 6 | 6 | Netherlands | 7.441 | 1.361 | 1.488 | 0.878 | 0.638 | 0.333 | 0.295 |\n",
       "\n"
      ],
      "text/plain": [
       "  Overall.rank Country.or.region Score GDP.per.capita Social.support\n",
       "1 1            Finland           7.632 1.305          1.592         \n",
       "2 2            Norway            7.594 1.456          1.582         \n",
       "3 3            Denmark           7.555 1.351          1.590         \n",
       "4 4            Iceland           7.495 1.343          1.644         \n",
       "5 5            Switzerland       7.487 1.420          1.549         \n",
       "6 6            Netherlands       7.441 1.361          1.488         \n",
       "  Healthy.life.expectancy Freedom.to.make.life.choices Generosity\n",
       "1 0.874                   0.681                        0.202     \n",
       "2 0.861                   0.686                        0.286     \n",
       "3 0.868                   0.683                        0.284     \n",
       "4 0.914                   0.677                        0.353     \n",
       "5 0.927                   0.660                        0.256     \n",
       "6 0.878                   0.638                        0.333     \n",
       "  Perceptions.of.corruption\n",
       "1 0.393                    \n",
       "2 0.340                    \n",
       "3 0.408                    \n",
       "4 0.138                    \n",
       "5 0.357                    \n",
       "6 0.295                    "
      ]
     },
     "metadata": {},
     "output_type": "display_data"
    },
    {
     "data": {
      "text/html": [
       "<table class=\"dataframe\">\n",
       "<caption>A data.frame: 6 × 9</caption>\n",
       "<thead>\n",
       "\t<tr><th></th><th scope=col>Overall.rank</th><th scope=col>Country.or.region</th><th scope=col>Score</th><th scope=col>GDP.per.capita</th><th scope=col>Social.support</th><th scope=col>Healthy.life.expectancy</th><th scope=col>Freedom.to.make.life.choices</th><th scope=col>Generosity</th><th scope=col>Perceptions.of.corruption</th></tr>\n",
       "\t<tr><th></th><th scope=col>&lt;int&gt;</th><th scope=col>&lt;chr&gt;</th><th scope=col>&lt;dbl&gt;</th><th scope=col>&lt;dbl&gt;</th><th scope=col>&lt;dbl&gt;</th><th scope=col>&lt;dbl&gt;</th><th scope=col>&lt;dbl&gt;</th><th scope=col>&lt;dbl&gt;</th><th scope=col>&lt;dbl&gt;</th></tr>\n",
       "</thead>\n",
       "<tbody>\n",
       "\t<tr><th scope=row>1</th><td>1</td><td>Finland    </td><td>7.769</td><td>1.340</td><td>1.587</td><td>0.986</td><td>0.596</td><td>0.153</td><td>0.393</td></tr>\n",
       "\t<tr><th scope=row>2</th><td>2</td><td>Denmark    </td><td>7.600</td><td>1.383</td><td>1.573</td><td>0.996</td><td>0.592</td><td>0.252</td><td>0.410</td></tr>\n",
       "\t<tr><th scope=row>3</th><td>3</td><td>Norway     </td><td>7.554</td><td>1.488</td><td>1.582</td><td>1.028</td><td>0.603</td><td>0.271</td><td>0.341</td></tr>\n",
       "\t<tr><th scope=row>4</th><td>4</td><td>Iceland    </td><td>7.494</td><td>1.380</td><td>1.624</td><td>1.026</td><td>0.591</td><td>0.354</td><td>0.118</td></tr>\n",
       "\t<tr><th scope=row>5</th><td>5</td><td>Netherlands</td><td>7.488</td><td>1.396</td><td>1.522</td><td>0.999</td><td>0.557</td><td>0.322</td><td>0.298</td></tr>\n",
       "\t<tr><th scope=row>6</th><td>6</td><td>Switzerland</td><td>7.480</td><td>1.452</td><td>1.526</td><td>1.052</td><td>0.572</td><td>0.263</td><td>0.343</td></tr>\n",
       "</tbody>\n",
       "</table>\n"
      ],
      "text/latex": [
       "A data.frame: 6 × 9\n",
       "\\begin{tabular}{r|lllllllll}\n",
       "  & Overall.rank & Country.or.region & Score & GDP.per.capita & Social.support & Healthy.life.expectancy & Freedom.to.make.life.choices & Generosity & Perceptions.of.corruption\\\\\n",
       "  & <int> & <chr> & <dbl> & <dbl> & <dbl> & <dbl> & <dbl> & <dbl> & <dbl>\\\\\n",
       "\\hline\n",
       "\t1 & 1 & Finland     & 7.769 & 1.340 & 1.587 & 0.986 & 0.596 & 0.153 & 0.393\\\\\n",
       "\t2 & 2 & Denmark     & 7.600 & 1.383 & 1.573 & 0.996 & 0.592 & 0.252 & 0.410\\\\\n",
       "\t3 & 3 & Norway      & 7.554 & 1.488 & 1.582 & 1.028 & 0.603 & 0.271 & 0.341\\\\\n",
       "\t4 & 4 & Iceland     & 7.494 & 1.380 & 1.624 & 1.026 & 0.591 & 0.354 & 0.118\\\\\n",
       "\t5 & 5 & Netherlands & 7.488 & 1.396 & 1.522 & 0.999 & 0.557 & 0.322 & 0.298\\\\\n",
       "\t6 & 6 & Switzerland & 7.480 & 1.452 & 1.526 & 1.052 & 0.572 & 0.263 & 0.343\\\\\n",
       "\\end{tabular}\n"
      ],
      "text/markdown": [
       "\n",
       "A data.frame: 6 × 9\n",
       "\n",
       "| <!--/--> | Overall.rank &lt;int&gt; | Country.or.region &lt;chr&gt; | Score &lt;dbl&gt; | GDP.per.capita &lt;dbl&gt; | Social.support &lt;dbl&gt; | Healthy.life.expectancy &lt;dbl&gt; | Freedom.to.make.life.choices &lt;dbl&gt; | Generosity &lt;dbl&gt; | Perceptions.of.corruption &lt;dbl&gt; |\n",
       "|---|---|---|---|---|---|---|---|---|---|\n",
       "| 1 | 1 | Finland     | 7.769 | 1.340 | 1.587 | 0.986 | 0.596 | 0.153 | 0.393 |\n",
       "| 2 | 2 | Denmark     | 7.600 | 1.383 | 1.573 | 0.996 | 0.592 | 0.252 | 0.410 |\n",
       "| 3 | 3 | Norway      | 7.554 | 1.488 | 1.582 | 1.028 | 0.603 | 0.271 | 0.341 |\n",
       "| 4 | 4 | Iceland     | 7.494 | 1.380 | 1.624 | 1.026 | 0.591 | 0.354 | 0.118 |\n",
       "| 5 | 5 | Netherlands | 7.488 | 1.396 | 1.522 | 0.999 | 0.557 | 0.322 | 0.298 |\n",
       "| 6 | 6 | Switzerland | 7.480 | 1.452 | 1.526 | 1.052 | 0.572 | 0.263 | 0.343 |\n",
       "\n"
      ],
      "text/plain": [
       "  Overall.rank Country.or.region Score GDP.per.capita Social.support\n",
       "1 1            Finland           7.769 1.340          1.587         \n",
       "2 2            Denmark           7.600 1.383          1.573         \n",
       "3 3            Norway            7.554 1.488          1.582         \n",
       "4 4            Iceland           7.494 1.380          1.624         \n",
       "5 5            Netherlands       7.488 1.396          1.522         \n",
       "6 6            Switzerland       7.480 1.452          1.526         \n",
       "  Healthy.life.expectancy Freedom.to.make.life.choices Generosity\n",
       "1 0.986                   0.596                        0.153     \n",
       "2 0.996                   0.592                        0.252     \n",
       "3 1.028                   0.603                        0.271     \n",
       "4 1.026                   0.591                        0.354     \n",
       "5 0.999                   0.557                        0.322     \n",
       "6 1.052                   0.572                        0.263     \n",
       "  Perceptions.of.corruption\n",
       "1 0.393                    \n",
       "2 0.410                    \n",
       "3 0.341                    \n",
       "4 0.118                    \n",
       "5 0.298                    \n",
       "6 0.343                    "
      ]
     },
     "metadata": {},
     "output_type": "display_data"
    }
   ],
   "source": [
    "head(whr15)\n",
    "head(whr16)\n",
    "head(whr17)\n",
    "head(whr18)\n",
    "head(whr19)"
   ]
  },
  {
   "cell_type": "code",
   "execution_count": 6,
   "id": "ffcffaac-5113-40af-8638-cddd7f83abc5",
   "metadata": {
    "tags": []
   },
   "outputs": [],
   "source": [
    "#Filter columns \n",
    "whr15 <-subset(whr15, select=c('Country','Happiness.Rank','Happiness.Score','Economy..GDP.per.Capita.','Family','Health..Life.Expectancy.','Freedom',\n",
    "                               'Trust..Government.Corruption.','Generosity'))\n",
    "whr16 <-subset(whr16, select=c('Country','Happiness.Rank','Happiness.Score','Economy..GDP.per.Capita.','Family','Health..Life.Expectancy.','Freedom',\n",
    "                               'Trust..Government.Corruption.','Generosity'))\n",
    "whr17 <-subset(whr17, select=c('Country','Happiness.Rank','Happiness.Score','Economy..GDP.per.Capita.','Family','Health..Life.Expectancy.','Freedom',\n",
    "                               'Trust..Government.Corruption.','Generosity'))\n",
    "whr18 <-subset(whr18, select=c('Country.or.region','Overall.rank','Score','GDP.per.capita','Social.support','Healthy.life.expectancy','Freedom.to.make.life.choices',\n",
    "                               'Perceptions.of.corruption','Generosity'))\n",
    "whr19 <-subset(whr19, select=c('Country.or.region','Overall.rank','Score','GDP.per.capita','Social.support','Healthy.life.expectancy','Freedom.to.make.life.choices',\n",
    "                               'Perceptions.of.corruption','Generosity'))"
   ]
  },
  {
   "cell_type": "code",
   "execution_count": 7,
   "id": "99d9992a-1077-4fe3-9d6f-bf1d24cd7ad6",
   "metadata": {},
   "outputs": [],
   "source": [
    "#Rename columns to common names\n",
    "whr15 <-whr15 %>%rename(Rank='Happiness.Rank' ,Score='Happiness.Score',GDP='Economy..GDP.per.Capita.',Support='Family',Life='Health..Life.Expectancy.',\n",
    "                               Corruption='Trust..Government.Corruption.')\n",
    "whr16 <-whr16 %>%rename(Rank='Happiness.Rank' ,Score='Happiness.Score',GDP='Economy..GDP.per.Capita.',Support='Family',Life='Health..Life.Expectancy.',\n",
    "                               Corruption='Trust..Government.Corruption.')\n",
    "whr17 <-whr17 %>%rename(Rank='Happiness.Rank' ,Score='Happiness.Score',GDP='Economy..GDP.per.Capita.',Support='Family',Life='Health..Life.Expectancy.',\n",
    "                               Corruption='Trust..Government.Corruption.')\n",
    "whr18 <-whr18 %>%rename(Country='Country.or.region',Rank='Overall.rank' ,GDP='GDP.per.capita',Support='Social.support',Life='Healthy.life.expectancy',\n",
    "                               Freedom='Freedom.to.make.life.choices',Corruption='Perceptions.of.corruption')\n",
    "whr19 <-whr19 %>%rename(Country='Country.or.region',Rank='Overall.rank' ,GDP='GDP.per.capita',Support='Social.support',Life='Healthy.life.expectancy',\n",
    "                               Freedom='Freedom.to.make.life.choices',Corruption='Perceptions.of.corruption')"
   ]
  },
  {
   "cell_type": "code",
   "execution_count": 8,
   "id": "e13b4e33-0c70-42e0-9f54-c33bfb4a40e7",
   "metadata": {},
   "outputs": [],
   "source": [
    "#Round the values to the same decimal points\n",
    "whr15 <-whr15 %>% mutate(GDP = round(GDP,3), Support = round(Support,3), Life = round(Life,3), Freedom = round(Freedom,3), Corruption = round(Corruption,3), \n",
    "                         Generosity = round(Generosity,3))\n",
    "whr16 <-whr16 %>% mutate(GDP = round(GDP,3), Support = round(Support,3), Life = round(Life,3), Freedom = round(Freedom,3), Corruption = round(Corruption,3), \n",
    "                         Generosity = round(Generosity,3))\n",
    "whr17 <-whr17 %>% mutate(GDP = round(GDP,3), Support = round(Support,3), Life = round(Life,3), Freedom = round(Freedom,3), Corruption = round(Corruption,3), \n",
    "                         Generosity = round(Generosity,3))"
   ]
  },
  {
   "cell_type": "code",
   "execution_count": 9,
   "id": "964a579c-7cc9-4cff-b0cd-4aabb4ead150",
   "metadata": {},
   "outputs": [],
   "source": [
    "#Remove missing data\n",
    "whr15 <- na.omit(whr15)\n",
    "whr16 <- na.omit(whr16)\n",
    "whr17 <- na.omit(whr17)\n",
    "whr18 <- na.omit(whr18)\n",
    "whr19 <- na.omit(whr19)"
   ]
  },
  {
   "cell_type": "code",
   "execution_count": 10,
   "id": "7ce1c80a-eb01-442d-b866-35e5078aacdf",
   "metadata": {},
   "outputs": [],
   "source": [
    "#New column 'Year'\n",
    "whr15$Year <-c(2015)\n",
    "whr16$Year <-c(2016)\n",
    "whr17$Year <-c(2017)\n",
    "whr18$Year <-c(2018)\n",
    "whr19$Year <-c(2019)"
   ]
  },
  {
   "cell_type": "code",
   "execution_count": 11,
   "id": "05fe3db9-0ba0-4334-8e10-a898db3b22b9",
   "metadata": {},
   "outputs": [
    {
     "name": "stderr",
     "output_type": "stream",
     "text": [
      "Warning message in eval(expr, envir, enclos):\n",
      "\"NAs durch Umwandlung erzeugt\"\n"
     ]
    }
   ],
   "source": [
    "#Convert chr to numeric (whr18)\n",
    "whr18$Corruption <-as.numeric(whr18$Corruption)"
   ]
  },
  {
   "cell_type": "code",
   "execution_count": 12,
   "id": "056c5ba8-b94b-49fa-8c88-3acbc0c84f68",
   "metadata": {
    "tags": []
   },
   "outputs": [
    {
     "data": {
      "text/html": [
       "<table class=\"dataframe\">\n",
       "<caption>A data.frame: 0 × 12</caption>\n",
       "<thead>\n",
       "\t<tr><th scope=col>Country</th><th scope=col>Rank</th><th scope=col>Score</th><th scope=col>GDP</th><th scope=col>Support</th><th scope=col>Life</th><th scope=col>Freedom</th><th scope=col>Corruption</th><th scope=col>Generosity</th><th scope=col>Year</th><th scope=col>is.outlier</th><th scope=col>is.extreme</th></tr>\n",
       "\t<tr><th scope=col>&lt;chr&gt;</th><th scope=col>&lt;int&gt;</th><th scope=col>&lt;dbl&gt;</th><th scope=col>&lt;dbl&gt;</th><th scope=col>&lt;dbl&gt;</th><th scope=col>&lt;dbl&gt;</th><th scope=col>&lt;dbl&gt;</th><th scope=col>&lt;dbl&gt;</th><th scope=col>&lt;dbl&gt;</th><th scope=col>&lt;dbl&gt;</th><th scope=col>&lt;lgl&gt;</th><th scope=col>&lt;lgl&gt;</th></tr>\n",
       "</thead>\n",
       "<tbody>\n",
       "</tbody>\n",
       "</table>\n"
      ],
      "text/latex": [
       "A data.frame: 0 × 12\n",
       "\\begin{tabular}{llllllllllll}\n",
       " Country & Rank & Score & GDP & Support & Life & Freedom & Corruption & Generosity & Year & is.outlier & is.extreme\\\\\n",
       " <chr> & <int> & <dbl> & <dbl> & <dbl> & <dbl> & <dbl> & <dbl> & <dbl> & <dbl> & <lgl> & <lgl>\\\\\n",
       "\\hline\n",
       "\\end{tabular}\n"
      ],
      "text/markdown": [
       "\n",
       "A data.frame: 0 × 12\n",
       "\n",
       "| Country &lt;chr&gt; | Rank &lt;int&gt; | Score &lt;dbl&gt; | GDP &lt;dbl&gt; | Support &lt;dbl&gt; | Life &lt;dbl&gt; | Freedom &lt;dbl&gt; | Corruption &lt;dbl&gt; | Generosity &lt;dbl&gt; | Year &lt;dbl&gt; | is.outlier &lt;lgl&gt; | is.extreme &lt;lgl&gt; |\n",
       "|---|---|---|---|---|---|---|---|---|---|---|---|\n",
       "\n"
      ],
      "text/plain": [
       "     Country Rank Score GDP Support Life Freedom Corruption Generosity Year\n",
       "     is.outlier is.extreme"
      ]
     },
     "metadata": {},
     "output_type": "display_data"
    },
    {
     "data": {
      "text/html": [
       "<table class=\"dataframe\">\n",
       "<caption>A data.frame: 0 × 12</caption>\n",
       "<thead>\n",
       "\t<tr><th scope=col>Country</th><th scope=col>Rank</th><th scope=col>Score</th><th scope=col>GDP</th><th scope=col>Support</th><th scope=col>Life</th><th scope=col>Freedom</th><th scope=col>Corruption</th><th scope=col>Generosity</th><th scope=col>Year</th><th scope=col>is.outlier</th><th scope=col>is.extreme</th></tr>\n",
       "\t<tr><th scope=col>&lt;chr&gt;</th><th scope=col>&lt;int&gt;</th><th scope=col>&lt;dbl&gt;</th><th scope=col>&lt;dbl&gt;</th><th scope=col>&lt;dbl&gt;</th><th scope=col>&lt;dbl&gt;</th><th scope=col>&lt;dbl&gt;</th><th scope=col>&lt;dbl&gt;</th><th scope=col>&lt;dbl&gt;</th><th scope=col>&lt;dbl&gt;</th><th scope=col>&lt;lgl&gt;</th><th scope=col>&lt;lgl&gt;</th></tr>\n",
       "</thead>\n",
       "<tbody>\n",
       "</tbody>\n",
       "</table>\n"
      ],
      "text/latex": [
       "A data.frame: 0 × 12\n",
       "\\begin{tabular}{llllllllllll}\n",
       " Country & Rank & Score & GDP & Support & Life & Freedom & Corruption & Generosity & Year & is.outlier & is.extreme\\\\\n",
       " <chr> & <int> & <dbl> & <dbl> & <dbl> & <dbl> & <dbl> & <dbl> & <dbl> & <dbl> & <lgl> & <lgl>\\\\\n",
       "\\hline\n",
       "\\end{tabular}\n"
      ],
      "text/markdown": [
       "\n",
       "A data.frame: 0 × 12\n",
       "\n",
       "| Country &lt;chr&gt; | Rank &lt;int&gt; | Score &lt;dbl&gt; | GDP &lt;dbl&gt; | Support &lt;dbl&gt; | Life &lt;dbl&gt; | Freedom &lt;dbl&gt; | Corruption &lt;dbl&gt; | Generosity &lt;dbl&gt; | Year &lt;dbl&gt; | is.outlier &lt;lgl&gt; | is.extreme &lt;lgl&gt; |\n",
       "|---|---|---|---|---|---|---|---|---|---|---|---|\n",
       "\n"
      ],
      "text/plain": [
       "     Country Rank Score GDP Support Life Freedom Corruption Generosity Year\n",
       "     is.outlier is.extreme"
      ]
     },
     "metadata": {},
     "output_type": "display_data"
    },
    {
     "data": {
      "text/html": [
       "<table class=\"dataframe\">\n",
       "<caption>A data.frame: 0 × 12</caption>\n",
       "<thead>\n",
       "\t<tr><th scope=col>Country</th><th scope=col>Rank</th><th scope=col>Score</th><th scope=col>GDP</th><th scope=col>Support</th><th scope=col>Life</th><th scope=col>Freedom</th><th scope=col>Corruption</th><th scope=col>Generosity</th><th scope=col>Year</th><th scope=col>is.outlier</th><th scope=col>is.extreme</th></tr>\n",
       "\t<tr><th scope=col>&lt;chr&gt;</th><th scope=col>&lt;int&gt;</th><th scope=col>&lt;dbl&gt;</th><th scope=col>&lt;dbl&gt;</th><th scope=col>&lt;dbl&gt;</th><th scope=col>&lt;dbl&gt;</th><th scope=col>&lt;dbl&gt;</th><th scope=col>&lt;dbl&gt;</th><th scope=col>&lt;dbl&gt;</th><th scope=col>&lt;dbl&gt;</th><th scope=col>&lt;lgl&gt;</th><th scope=col>&lt;lgl&gt;</th></tr>\n",
       "</thead>\n",
       "<tbody>\n",
       "</tbody>\n",
       "</table>\n"
      ],
      "text/latex": [
       "A data.frame: 0 × 12\n",
       "\\begin{tabular}{llllllllllll}\n",
       " Country & Rank & Score & GDP & Support & Life & Freedom & Corruption & Generosity & Year & is.outlier & is.extreme\\\\\n",
       " <chr> & <int> & <dbl> & <dbl> & <dbl> & <dbl> & <dbl> & <dbl> & <dbl> & <dbl> & <lgl> & <lgl>\\\\\n",
       "\\hline\n",
       "\\end{tabular}\n"
      ],
      "text/markdown": [
       "\n",
       "A data.frame: 0 × 12\n",
       "\n",
       "| Country &lt;chr&gt; | Rank &lt;int&gt; | Score &lt;dbl&gt; | GDP &lt;dbl&gt; | Support &lt;dbl&gt; | Life &lt;dbl&gt; | Freedom &lt;dbl&gt; | Corruption &lt;dbl&gt; | Generosity &lt;dbl&gt; | Year &lt;dbl&gt; | is.outlier &lt;lgl&gt; | is.extreme &lt;lgl&gt; |\n",
       "|---|---|---|---|---|---|---|---|---|---|---|---|\n",
       "\n"
      ],
      "text/plain": [
       "     Country Rank Score GDP Support Life Freedom Corruption Generosity Year\n",
       "     is.outlier is.extreme"
      ]
     },
     "metadata": {},
     "output_type": "display_data"
    },
    {
     "data": {
      "text/html": [
       "<table class=\"dataframe\">\n",
       "<caption>A data.frame: 0 × 12</caption>\n",
       "<thead>\n",
       "\t<tr><th scope=col>Country</th><th scope=col>Rank</th><th scope=col>Score</th><th scope=col>GDP</th><th scope=col>Support</th><th scope=col>Life</th><th scope=col>Freedom</th><th scope=col>Corruption</th><th scope=col>Generosity</th><th scope=col>Year</th><th scope=col>is.outlier</th><th scope=col>is.extreme</th></tr>\n",
       "\t<tr><th scope=col>&lt;chr&gt;</th><th scope=col>&lt;int&gt;</th><th scope=col>&lt;dbl&gt;</th><th scope=col>&lt;dbl&gt;</th><th scope=col>&lt;dbl&gt;</th><th scope=col>&lt;dbl&gt;</th><th scope=col>&lt;dbl&gt;</th><th scope=col>&lt;dbl&gt;</th><th scope=col>&lt;dbl&gt;</th><th scope=col>&lt;dbl&gt;</th><th scope=col>&lt;lgl&gt;</th><th scope=col>&lt;lgl&gt;</th></tr>\n",
       "</thead>\n",
       "<tbody>\n",
       "</tbody>\n",
       "</table>\n"
      ],
      "text/latex": [
       "A data.frame: 0 × 12\n",
       "\\begin{tabular}{llllllllllll}\n",
       " Country & Rank & Score & GDP & Support & Life & Freedom & Corruption & Generosity & Year & is.outlier & is.extreme\\\\\n",
       " <chr> & <int> & <dbl> & <dbl> & <dbl> & <dbl> & <dbl> & <dbl> & <dbl> & <dbl> & <lgl> & <lgl>\\\\\n",
       "\\hline\n",
       "\\end{tabular}\n"
      ],
      "text/markdown": [
       "\n",
       "A data.frame: 0 × 12\n",
       "\n",
       "| Country &lt;chr&gt; | Rank &lt;int&gt; | Score &lt;dbl&gt; | GDP &lt;dbl&gt; | Support &lt;dbl&gt; | Life &lt;dbl&gt; | Freedom &lt;dbl&gt; | Corruption &lt;dbl&gt; | Generosity &lt;dbl&gt; | Year &lt;dbl&gt; | is.outlier &lt;lgl&gt; | is.extreme &lt;lgl&gt; |\n",
       "|---|---|---|---|---|---|---|---|---|---|---|---|\n",
       "\n"
      ],
      "text/plain": [
       "     Country Rank Score GDP Support Life Freedom Corruption Generosity Year\n",
       "     is.outlier is.extreme"
      ]
     },
     "metadata": {},
     "output_type": "display_data"
    },
    {
     "data": {
      "text/html": [
       "<table class=\"dataframe\">\n",
       "<caption>A data.frame: 0 × 12</caption>\n",
       "<thead>\n",
       "\t<tr><th scope=col>Country</th><th scope=col>Rank</th><th scope=col>Score</th><th scope=col>GDP</th><th scope=col>Support</th><th scope=col>Life</th><th scope=col>Freedom</th><th scope=col>Corruption</th><th scope=col>Generosity</th><th scope=col>Year</th><th scope=col>is.outlier</th><th scope=col>is.extreme</th></tr>\n",
       "\t<tr><th scope=col>&lt;chr&gt;</th><th scope=col>&lt;int&gt;</th><th scope=col>&lt;dbl&gt;</th><th scope=col>&lt;dbl&gt;</th><th scope=col>&lt;dbl&gt;</th><th scope=col>&lt;dbl&gt;</th><th scope=col>&lt;dbl&gt;</th><th scope=col>&lt;dbl&gt;</th><th scope=col>&lt;dbl&gt;</th><th scope=col>&lt;dbl&gt;</th><th scope=col>&lt;lgl&gt;</th><th scope=col>&lt;lgl&gt;</th></tr>\n",
       "</thead>\n",
       "<tbody>\n",
       "</tbody>\n",
       "</table>\n"
      ],
      "text/latex": [
       "A data.frame: 0 × 12\n",
       "\\begin{tabular}{llllllllllll}\n",
       " Country & Rank & Score & GDP & Support & Life & Freedom & Corruption & Generosity & Year & is.outlier & is.extreme\\\\\n",
       " <chr> & <int> & <dbl> & <dbl> & <dbl> & <dbl> & <dbl> & <dbl> & <dbl> & <dbl> & <lgl> & <lgl>\\\\\n",
       "\\hline\n",
       "\\end{tabular}\n"
      ],
      "text/markdown": [
       "\n",
       "A data.frame: 0 × 12\n",
       "\n",
       "| Country &lt;chr&gt; | Rank &lt;int&gt; | Score &lt;dbl&gt; | GDP &lt;dbl&gt; | Support &lt;dbl&gt; | Life &lt;dbl&gt; | Freedom &lt;dbl&gt; | Corruption &lt;dbl&gt; | Generosity &lt;dbl&gt; | Year &lt;dbl&gt; | is.outlier &lt;lgl&gt; | is.extreme &lt;lgl&gt; |\n",
       "|---|---|---|---|---|---|---|---|---|---|---|---|\n",
       "\n"
      ],
      "text/plain": [
       "     Country Rank Score GDP Support Life Freedom Corruption Generosity Year\n",
       "     is.outlier is.extreme"
      ]
     },
     "metadata": {},
     "output_type": "display_data"
    }
   ],
   "source": [
    "#Find outliers\n",
    "out15 <-whr15%>%group_by(Country)%>%identify_outliers(Score)\n",
    "out15\n",
    "out16 <-whr16%>%group_by(Country)%>%identify_outliers(Score)\n",
    "out16\n",
    "out17 <-whr17%>%group_by(Country)%>%identify_outliers(Score)\n",
    "out17\n",
    "out18 <-whr18%>%group_by(Country)%>%identify_outliers(Score)\n",
    "out18\n",
    "out19 <-whr19%>%group_by(Country)%>%identify_outliers(Score)\n",
    "out19"
   ]
  },
  {
   "cell_type": "code",
   "execution_count": 13,
   "id": "5eb01740-ed09-467e-9af7-3e1713208db5",
   "metadata": {},
   "outputs": [],
   "source": [
    "#Merge datasets\n",
    "whr <- rbind(whr15, whr16, whr17, whr18, whr19)\n",
    "whr <-na.omit(whr)"
   ]
  },
  {
   "cell_type": "code",
   "execution_count": 14,
   "id": "e02fc9db-6702-46a7-a46f-1a1320efa881",
   "metadata": {},
   "outputs": [],
   "source": [
    "whr$Year <-as.factor(whr$Year)"
   ]
  },
  {
   "cell_type": "code",
   "execution_count": 15,
   "id": "47c2e6ad-5788-47af-8560-674490129f2d",
   "metadata": {
    "tags": []
   },
   "outputs": [
    {
     "data": {
      "image/png": "[encoded data removed]",
      "text/plain": [
       "plot without title"
      ]
     },
     "metadata": {
      "image/png": {
       "height": 420,
       "width": 420
      }
     },
     "output_type": "display_data"
    }
   ],
   "source": [
    "#Plot happiness scores of each year\n",
    "ggboxplot(whr, x = \"Year\", y = \"Score\", \n",
    "          fill = \"Year\", \n",
    "          ylab = \"Happiness Score\", xlab = \"Year\")+\n",
    "            scale_fill_brewer(palette='Set1')+\n",
    "            theme(legend.position = \"none\")+\n",
    "    theme(axis.text=element_text(size=10), axis.title=element_text(size=12))"
   ]
  },
  {
   "cell_type": "code",
   "execution_count": 16,
   "id": "b8fe75fe-c6c0-43f1-8345-994cc896c6e9",
   "metadata": {},
   "outputs": [
    {
     "name": "stderr",
     "output_type": "stream",
     "text": [
      "Saving 6.67 x 6.67 in image\n",
      "\n"
     ]
    },
    {
     "data": {
      "image/png": "[encoded data removed]",
      "text/plain": [
       "plot without title"
      ]
     },
     "metadata": {
      "image/png": {
       "height": 420,
       "width": 420
      }
     },
     "output_type": "display_data"
    }
   ],
   "source": [
    "density_score <-ggplot(whr, aes(x=Score, color=Year)) +\n",
    "                  geom_density()+\n",
    "                  scale_color_brewer(palette='Set1')+\n",
    "                  theme_light() + theme_classic()  \n",
    "density_score <-density_score + theme(legend.position = c(0.1, 0.75))\n",
    "density_score\n",
    "ggsave('density_score.png')"
   ]
  },
  {
   "cell_type": "markdown",
   "id": "27d2f32b-5224-42c1-8d79-87851056cbc5",
   "metadata": {},
   "source": [
    "#### Summary table"
   ]
  },
  {
   "cell_type": "code",
   "execution_count": 17,
   "id": "b3ae8dfb-0452-46a7-ac47-7c92e065d5d4",
   "metadata": {},
   "outputs": [
    {
     "data": {
      "text/plain": [
       "   Country               Rank            Score            GDP        \n",
       " Length:781         Min.   :  1.00   Min.   :2.693   Min.   :0.0000  \n",
       " Class :character   1st Qu.: 40.00   1st Qu.:4.509   1st Qu.:0.6050  \n",
       " Mode  :character   Median : 79.00   Median :5.321   Median :0.9820  \n",
       "                    Mean   : 78.77   Mean   :5.377   Mean   :0.9145  \n",
       "                    3rd Qu.:118.00   3rd Qu.:6.182   3rd Qu.:1.2340  \n",
       "                    Max.   :158.00   Max.   :7.769   Max.   :1.8710  \n",
       "    Support           Life           Freedom         Corruption    \n",
       " Min.   :0.000   Min.   :0.0000   Min.   :0.0000   Min.   :0.0000  \n",
       " 1st Qu.:0.870   1st Qu.:0.4400   1st Qu.:0.3100   1st Qu.:0.0540  \n",
       " Median :1.125   Median :0.6470   Median :0.4310   Median :0.0910  \n",
       " Mean   :1.079   Mean   :0.6123   Mean   :0.4113   Mean   :0.1254  \n",
       " 3rd Qu.:1.328   3rd Qu.:0.8080   3rd Qu.:0.5310   3rd Qu.:0.1560  \n",
       " Max.   :1.644   Max.   :1.1410   Max.   :0.7240   Max.   :0.5520  \n",
       "   Generosity       Year    \n",
       " Min.   :0.0000   2015:158  \n",
       " 1st Qu.:0.1300   2016:157  \n",
       " Median :0.2020   2017:155  \n",
       " Mean   :0.2186   2018:155  \n",
       " 3rd Qu.:0.2790   2019:156  \n",
       " Max.   :0.8380             "
      ]
     },
     "metadata": {},
     "output_type": "display_data"
    },
    {
     "data": {
      "text/html": [
       "<table class=\"dataframe\">\n",
       "<caption>A matrix: 7 × 7 of type dbl</caption>\n",
       "<thead>\n",
       "\t<tr><th></th><th scope=col>Min.</th><th scope=col>1st Qu.</th><th scope=col>Median</th><th scope=col>Mean</th><th scope=col>3rd Qu.</th><th scope=col>Max.</th><th scope=col>Skew</th></tr>\n",
       "</thead>\n",
       "<tbody>\n",
       "\t<tr><th scope=row>Score</th><td>2.693</td><td>4.509</td><td>5.321</td><td>5.377</td><td>6.182</td><td>7.769</td><td> 0.038</td></tr>\n",
       "\t<tr><th scope=row>GDP</th><td>0.000</td><td>0.605</td><td>0.982</td><td>0.915</td><td>1.234</td><td>1.871</td><td>-0.343</td></tr>\n",
       "\t<tr><th scope=row>Support</th><td>0.000</td><td>0.870</td><td>1.125</td><td>1.079</td><td>1.328</td><td>1.644</td><td>-0.685</td></tr>\n",
       "\t<tr><th scope=row>Life</th><td>0.000</td><td>0.440</td><td>0.647</td><td>0.612</td><td>0.808</td><td>1.141</td><td>-0.498</td></tr>\n",
       "\t<tr><th scope=row>Freedom</th><td>0.000</td><td>0.310</td><td>0.431</td><td>0.411</td><td>0.531</td><td>0.724</td><td>-0.522</td></tr>\n",
       "\t<tr><th scope=row>Corruption</th><td>0.000</td><td>0.054</td><td>0.091</td><td>0.125</td><td>0.156</td><td>0.552</td><td> 1.515</td></tr>\n",
       "\t<tr><th scope=row>Generosity</th><td>0.000</td><td>0.130</td><td>0.202</td><td>0.219</td><td>0.279</td><td>0.838</td><td> 1.039</td></tr>\n",
       "</tbody>\n",
       "</table>\n"
      ],
      "text/latex": [
       "A matrix: 7 × 7 of type dbl\n",
       "\\begin{tabular}{r|lllllll}\n",
       "  & Min. & 1st Qu. & Median & Mean & 3rd Qu. & Max. & Skew\\\\\n",
       "\\hline\n",
       "\tScore & 2.693 & 4.509 & 5.321 & 5.377 & 6.182 & 7.769 &  0.038\\\\\n",
       "\tGDP & 0.000 & 0.605 & 0.982 & 0.915 & 1.234 & 1.871 & -0.343\\\\\n",
       "\tSupport & 0.000 & 0.870 & 1.125 & 1.079 & 1.328 & 1.644 & -0.685\\\\\n",
       "\tLife & 0.000 & 0.440 & 0.647 & 0.612 & 0.808 & 1.141 & -0.498\\\\\n",
       "\tFreedom & 0.000 & 0.310 & 0.431 & 0.411 & 0.531 & 0.724 & -0.522\\\\\n",
       "\tCorruption & 0.000 & 0.054 & 0.091 & 0.125 & 0.156 & 0.552 &  1.515\\\\\n",
       "\tGenerosity & 0.000 & 0.130 & 0.202 & 0.219 & 0.279 & 0.838 &  1.039\\\\\n",
       "\\end{tabular}\n"
      ],
      "text/markdown": [
       "\n",
       "A matrix: 7 × 7 of type dbl\n",
       "\n",
       "| <!--/--> | Min. | 1st Qu. | Median | Mean | 3rd Qu. | Max. | Skew |\n",
       "|---|---|---|---|---|---|---|---|\n",
       "| Score | 2.693 | 4.509 | 5.321 | 5.377 | 6.182 | 7.769 |  0.038 |\n",
       "| GDP | 0.000 | 0.605 | 0.982 | 0.915 | 1.234 | 1.871 | -0.343 |\n",
       "| Support | 0.000 | 0.870 | 1.125 | 1.079 | 1.328 | 1.644 | -0.685 |\n",
       "| Life | 0.000 | 0.440 | 0.647 | 0.612 | 0.808 | 1.141 | -0.498 |\n",
       "| Freedom | 0.000 | 0.310 | 0.431 | 0.411 | 0.531 | 0.724 | -0.522 |\n",
       "| Corruption | 0.000 | 0.054 | 0.091 | 0.125 | 0.156 | 0.552 |  1.515 |\n",
       "| Generosity | 0.000 | 0.130 | 0.202 | 0.219 | 0.279 | 0.838 |  1.039 |\n",
       "\n"
      ],
      "text/plain": [
       "           Min.  1st Qu. Median Mean  3rd Qu. Max.  Skew  \n",
       "Score      2.693 4.509   5.321  5.377 6.182   7.769  0.038\n",
       "GDP        0.000 0.605   0.982  0.915 1.234   1.871 -0.343\n",
       "Support    0.000 0.870   1.125  1.079 1.328   1.644 -0.685\n",
       "Life       0.000 0.440   0.647  0.612 0.808   1.141 -0.498\n",
       "Freedom    0.000 0.310   0.431  0.411 0.531   0.724 -0.522\n",
       "Corruption 0.000 0.054   0.091  0.125 0.156   0.552  1.515\n",
       "Generosity 0.000 0.130   0.202  0.219 0.279   0.838  1.039"
      ]
     },
     "metadata": {},
     "output_type": "display_data"
    }
   ],
   "source": [
    "#Summary table\n",
    "summary(whr)\n",
    "whr1 <- subset(whr, select = -c(Country, Rank, Year) )\n",
    "summary_table = round(t(do.call(cbind, lapply(whr1, summary))), digits=3)\n",
    "\n",
    "#Add Skewness\n",
    "score = skew(whr1$Score)\n",
    "gdp = skew(whr1$GDP)\n",
    "support = skew(whr1$Support)\n",
    "life = skew(whr1$Life)\n",
    "freedom = skew(whr1$Freedom)\n",
    "corruption = skew(whr1$Corruption)\n",
    "generosity = skew(whr1$Generosity)\n",
    "\n",
    "skewValues = c(score, gdp, support, life, freedom, \n",
    "               corruption, generosity)\n",
    "\n",
    "summary_table = round(cbind(summary_table, Skew = skewValues), digits=3)\n",
    "summary_table"
   ]
  },
  {
   "cell_type": "markdown",
   "id": "5bfcf45c-7a93-4bc4-95ce-d876ed434abd",
   "metadata": {},
   "source": [
    "#### Visual Distribution of Data"
   ]
  },
  {
   "cell_type": "code",
   "execution_count": 18,
   "id": "71f8db49-ceea-4ef9-8775-88aaa11ddb12",
   "metadata": {},
   "outputs": [
    {
     "name": "stderr",
     "output_type": "stream",
     "text": [
      "`stat_bin()` using `bins = 30`. Pick better value with `binwidth`.\n",
      "\n",
      "`stat_bin()` using `bins = 30`. Pick better value with `binwidth`.\n",
      "\n"
     ]
    },
    {
     "data": {
      "image/png": "[encoded data removed]",
      "text/plain": [
       "plot without title"
      ]
     },
     "metadata": {
      "image/png": {
       "height": 420,
       "width": 420
      }
     },
     "output_type": "display_data"
    },
    {
     "name": "stderr",
     "output_type": "stream",
     "text": [
      "`stat_bin()` using `bins = 30`. Pick better value with `binwidth`.\n",
      "\n"
     ]
    },
    {
     "data": {
      "image/png": "[encoded data removed]",
      "text/plain": [
       "plot without title"
      ]
     },
     "metadata": {
      "image/png": {
       "height": 420,
       "width": 420
      }
     },
     "output_type": "display_data"
    },
    {
     "name": "stderr",
     "output_type": "stream",
     "text": [
      "`stat_bin()` using `bins = 30`. Pick better value with `binwidth`.\n",
      "\n"
     ]
    },
    {
     "data": {
      "image/png": "[encoded data removed]",
      "text/plain": [
       "plot without title"
      ]
     },
     "metadata": {
      "image/png": {
       "height": 420,
       "width": 420
      }
     },
     "output_type": "display_data"
    },
    {
     "name": "stderr",
     "output_type": "stream",
     "text": [
      "`stat_bin()` using `bins = 30`. Pick better value with `binwidth`.\n",
      "\n"
     ]
    },
    {
     "data": {
      "image/png": "[encoded data removed]",
      "text/plain": [
       "plot without title"
      ]
     },
     "metadata": {
      "image/png": {
       "height": 420,
       "width": 420
      }
     },
     "output_type": "display_data"
    },
    {
     "name": "stderr",
     "output_type": "stream",
     "text": [
      "`stat_bin()` using `bins = 30`. Pick better value with `binwidth`.\n",
      "\n"
     ]
    },
    {
     "data": {
      "image/png": "[encoded data removed]",
      "text/plain": [
       "plot without title"
      ]
     },
     "metadata": {
      "image/png": {
       "height": 420,
       "width": 420
      }
     },
     "output_type": "display_data"
    },
    {
     "name": "stderr",
     "output_type": "stream",
     "text": [
      "`stat_bin()` using `bins = 30`. Pick better value with `binwidth`.\n",
      "\n"
     ]
    },
    {
     "data": {
      "image/png": "[encoded data removed]",
      "text/plain": [
       "plot without title"
      ]
     },
     "metadata": {
      "image/png": {
       "height": 420,
       "width": 420
      }
     },
     "output_type": "display_data"
    },
    {
     "data": {
      "image/png": "[encoded data removed]",
      "text/plain": [
       "plot without title"
      ]
     },
     "metadata": {
      "image/png": {
       "height": 420,
       "width": 420
      }
     },
     "output_type": "display_data"
    }
   ],
   "source": [
    "#Visualisation of the variables of interest (Score, GDP, Support, Life, Freedom, Corruption, Generosity)\n",
    "hist_score<-ggplot(whr, aes(x=Score))  + \n",
    " geom_histogram(aes(y=..density..), colour=\"blue\", fill=\"lightblue\")+\n",
    " geom_density()+\n",
    " theme_light() + theme_classic() \n",
    "hist_score\n",
    "\n",
    "hist_gdp<-ggplot(whr, aes(x=GDP))  + \n",
    " geom_histogram(aes(y=..density..), colour=\"blue\", fill=\"lightblue\")+\n",
    " geom_density()+\n",
    " theme_light() + theme_classic() \n",
    "hist_gdp\n",
    "\n",
    "hist_support<-ggplot(whr, aes(x=Support))  + \n",
    " geom_histogram(aes(y=..density..), colour=\"blue\", fill=\"lightblue\")+\n",
    " geom_density()+\n",
    " theme_light() + theme_classic() \n",
    "hist_support\n",
    "\n",
    "hist_life <-ggplot(whr, aes(x=Life)) + \n",
    " geom_histogram(aes(y=..density..), colour=\"blue\", fill=\"lightblue\")+\n",
    " geom_density()+\n",
    " theme_light() + theme_classic() \n",
    "hist_life\n",
    "\n",
    "hist_freedom <-ggplot(whr, aes(x=Freedom)) + \n",
    " geom_histogram(aes(y=..density..), colour=\"blue\", fill=\"lightblue\")+\n",
    " geom_density()+\n",
    " theme_light() + theme_classic() \n",
    "hist_freedom\n",
    "\n",
    "hist_corruption <-ggplot(whr, aes(x=Corruption)) + \n",
    " geom_histogram(aes(y=..density..), colour=\"blue\", fill=\"lightblue\")+\n",
    " geom_density()+\n",
    " theme_light() + theme_classic() \n",
    "hist_corruption\n",
    "\n",
    "hist_generosity <-ggplot(whr, aes(x=Generosity)) + \n",
    " geom_histogram(aes(y=..density..), colour=\"blue\", fill=\"lightblue\")+\n",
    " geom_density()+\n",
    " theme_light() + theme_classic() \n",
    "hist_generosity"
   ]
  },
  {
   "cell_type": "markdown",
   "id": "845b53a1-4652-4379-8905-bc31818c05c3",
   "metadata": {},
   "source": [
    "The summary table and the visualisation of the factors showed positiv skewness for Corruption, Generosity. As for Score and Life the values for skeweness were more or less normally distributed. There is a negative skeweness for Support and Freedom. The plot GDP indicated a bimodal distribution. "
   ]
  },
  {
   "cell_type": "markdown",
   "id": "82948515-e1a2-4ab8-a19c-93bc851cb2e4",
   "metadata": {},
   "source": [
    "#### Test for Collinearity"
   ]
  },
  {
   "cell_type": "code",
   "execution_count": 19,
   "id": "fe74fd5b-ba84-4f6f-8099-0e1f763f3123",
   "metadata": {
    "tags": []
   },
   "outputs": [
    {
     "data": {
      "text/html": [
       "<table class=\"dataframe\">\n",
       "<caption>A matrix: 6 × 6 of type dbl</caption>\n",
       "<thead>\n",
       "\t<tr><th></th><th scope=col>GDP</th><th scope=col>Support</th><th scope=col>Life</th><th scope=col>Freedom</th><th scope=col>Corruption</th><th scope=col>Generosity</th></tr>\n",
       "</thead>\n",
       "<tbody>\n",
       "\t<tr><th scope=row>GDP</th><td> 1.00000000</td><td> 0.5929201</td><td>0.78778950</td><td>0.3456253</td><td>0.3063080</td><td>-0.01373653</td></tr>\n",
       "\t<tr><th scope=row>Support</th><td> 0.59292006</td><td> 1.0000000</td><td>0.57327598</td><td>0.4197874</td><td>0.1264403</td><td>-0.03768000</td></tr>\n",
       "\t<tr><th scope=row>Life</th><td> 0.78778950</td><td> 0.5732760</td><td>1.00000000</td><td>0.3412029</td><td>0.2505324</td><td> 0.01068434</td></tr>\n",
       "\t<tr><th scope=row>Freedom</th><td> 0.34562528</td><td> 0.4197874</td><td>0.34120291</td><td>1.0000000</td><td>0.4596723</td><td> 0.29049233</td></tr>\n",
       "\t<tr><th scope=row>Corruption</th><td> 0.30630799</td><td> 0.1264403</td><td>0.25053239</td><td>0.4596723</td><td>1.0000000</td><td> 0.31886108</td></tr>\n",
       "\t<tr><th scope=row>Generosity</th><td>-0.01373653</td><td>-0.0376800</td><td>0.01068434</td><td>0.2904923</td><td>0.3188611</td><td> 1.00000000</td></tr>\n",
       "</tbody>\n",
       "</table>\n"
      ],
      "text/latex": [
       "A matrix: 6 × 6 of type dbl\n",
       "\\begin{tabular}{r|llllll}\n",
       "  & GDP & Support & Life & Freedom & Corruption & Generosity\\\\\n",
       "\\hline\n",
       "\tGDP &  1.00000000 &  0.5929201 & 0.78778950 & 0.3456253 & 0.3063080 & -0.01373653\\\\\n",
       "\tSupport &  0.59292006 &  1.0000000 & 0.57327598 & 0.4197874 & 0.1264403 & -0.03768000\\\\\n",
       "\tLife &  0.78778950 &  0.5732760 & 1.00000000 & 0.3412029 & 0.2505324 &  0.01068434\\\\\n",
       "\tFreedom &  0.34562528 &  0.4197874 & 0.34120291 & 1.0000000 & 0.4596723 &  0.29049233\\\\\n",
       "\tCorruption &  0.30630799 &  0.1264403 & 0.25053239 & 0.4596723 & 1.0000000 &  0.31886108\\\\\n",
       "\tGenerosity & -0.01373653 & -0.0376800 & 0.01068434 & 0.2904923 & 0.3188611 &  1.00000000\\\\\n",
       "\\end{tabular}\n"
      ],
      "text/markdown": [
       "\n",
       "A matrix: 6 × 6 of type dbl\n",
       "\n",
       "| <!--/--> | GDP | Support | Life | Freedom | Corruption | Generosity |\n",
       "|---|---|---|---|---|---|---|\n",
       "| GDP |  1.00000000 |  0.5929201 | 0.78778950 | 0.3456253 | 0.3063080 | -0.01373653 |\n",
       "| Support |  0.59292006 |  1.0000000 | 0.57327598 | 0.4197874 | 0.1264403 | -0.03768000 |\n",
       "| Life |  0.78778950 |  0.5732760 | 1.00000000 | 0.3412029 | 0.2505324 |  0.01068434 |\n",
       "| Freedom |  0.34562528 |  0.4197874 | 0.34120291 | 1.0000000 | 0.4596723 |  0.29049233 |\n",
       "| Corruption |  0.30630799 |  0.1264403 | 0.25053239 | 0.4596723 | 1.0000000 |  0.31886108 |\n",
       "| Generosity | -0.01373653 | -0.0376800 | 0.01068434 | 0.2904923 | 0.3188611 |  1.00000000 |\n",
       "\n"
      ],
      "text/plain": [
       "           GDP         Support    Life       Freedom   Corruption Generosity \n",
       "GDP         1.00000000  0.5929201 0.78778950 0.3456253 0.3063080  -0.01373653\n",
       "Support     0.59292006  1.0000000 0.57327598 0.4197874 0.1264403  -0.03768000\n",
       "Life        0.78778950  0.5732760 1.00000000 0.3412029 0.2505324   0.01068434\n",
       "Freedom     0.34562528  0.4197874 0.34120291 1.0000000 0.4596723   0.29049233\n",
       "Corruption  0.30630799  0.1264403 0.25053239 0.4596723 1.0000000   0.31886108\n",
       "Generosity -0.01373653 -0.0376800 0.01068434 0.2904923 0.3188611   1.00000000"
      ]
     },
     "metadata": {},
     "output_type": "display_data"
    },
    {
     "data": {
      "text/plain": [
       "\n",
       "Call:\n",
       "lm(formula = Score ~ GDP + Support + Life + Freedom + Corruption + \n",
       "    Generosity, data = whr)\n",
       "\n",
       "Residuals:\n",
       "     Min       1Q   Median       3Q      Max \n",
       "-1.92848 -0.32342  0.01838  0.35504  1.66127 \n",
       "\n",
       "Coefficients:\n",
       "            Estimate Std. Error t value Pr(>|t|)    \n",
       "(Intercept)  2.17505    0.07991  27.219  < 2e-16 ***\n",
       "GDP          1.13587    0.08415  13.499  < 2e-16 ***\n",
       "Support      0.64605    0.08092   7.983 5.14e-15 ***\n",
       "Life         1.01288    0.13203   7.672 5.10e-14 ***\n",
       "Freedom      1.48055    0.16345   9.058  < 2e-16 ***\n",
       "Corruption   0.85852    0.22346   3.842 0.000132 ***\n",
       "Generosity   0.59304    0.17568   3.376 0.000773 ***\n",
       "---\n",
       "Signif. codes:  0 '***' 0.001 '**' 0.01 '*' 0.05 '.' 0.1 ' ' 1\n",
       "\n",
       "Residual standard error: 0.55 on 774 degrees of freedom\n",
       "Multiple R-squared:  0.7637,\tAdjusted R-squared:  0.7619 \n",
       "F-statistic:   417 on 6 and 774 DF,  p-value: < 2.2e-16\n"
      ]
     },
     "metadata": {},
     "output_type": "display_data"
    },
    {
     "data": {
      "text/html": [
       "<style>\n",
       ".dl-inline {width: auto; margin:0; padding: 0}\n",
       ".dl-inline>dt, .dl-inline>dd {float: none; width: auto; display: inline-block}\n",
       ".dl-inline>dt::after {content: \":\\0020\"; padding-right: .5ex}\n",
       ".dl-inline>dt:not(:first-of-type) {padding-left: .5ex}\n",
       "</style><dl class=dl-inline><dt>GDP</dt><dd>3</dd><dt>Support</dt><dd>1.83</dd><dt>Life</dt><dd>2.77</dd><dt>Freedom</dt><dd>1.61</dd><dt>Corruption</dt><dd>1.44</dd><dt>Generosity</dt><dd>1.19</dd></dl>\n"
      ],
      "text/latex": [
       "\\begin{description*}\n",
       "\\item[GDP] 3\n",
       "\\item[Support] 1.83\n",
       "\\item[Life] 2.77\n",
       "\\item[Freedom] 1.61\n",
       "\\item[Corruption] 1.44\n",
       "\\item[Generosity] 1.19\n",
       "\\end{description*}\n"
      ],
      "text/markdown": [
       "GDP\n",
       ":   3Support\n",
       ":   1.83Life\n",
       ":   2.77Freedom\n",
       ":   1.61Corruption\n",
       ":   1.44Generosity\n",
       ":   1.19\n",
       "\n"
      ],
      "text/plain": [
       "       GDP    Support       Life    Freedom Corruption Generosity \n",
       "      3.00       1.83       2.77       1.61       1.44       1.19 "
      ]
     },
     "metadata": {},
     "output_type": "display_data"
    },
    {
     "data": {
      "text/html": [
       "<style>\n",
       ".dl-inline {width: auto; margin:0; padding: 0}\n",
       ".dl-inline>dt, .dl-inline>dd {float: none; width: auto; display: inline-block}\n",
       ".dl-inline>dt::after {content: \":\\0020\"; padding-right: .5ex}\n",
       ".dl-inline>dt:not(:first-of-type) {padding-left: .5ex}\n",
       "</style><dl class=dl-inline><dt>GDP</dt><dd>0.33</dd><dt>Support</dt><dd>0.55</dd><dt>Life</dt><dd>0.36</dd><dt>Freedom</dt><dd>0.62</dd><dt>Corruption</dt><dd>0.69</dd><dt>Generosity</dt><dd>0.84</dd></dl>\n"
      ],
      "text/latex": [
       "\\begin{description*}\n",
       "\\item[GDP] 0.33\n",
       "\\item[Support] 0.55\n",
       "\\item[Life] 0.36\n",
       "\\item[Freedom] 0.62\n",
       "\\item[Corruption] 0.69\n",
       "\\item[Generosity] 0.84\n",
       "\\end{description*}\n"
      ],
      "text/markdown": [
       "GDP\n",
       ":   0.33Support\n",
       ":   0.55Life\n",
       ":   0.36Freedom\n",
       ":   0.62Corruption\n",
       ":   0.69Generosity\n",
       ":   0.84\n",
       "\n"
      ],
      "text/plain": [
       "       GDP    Support       Life    Freedom Corruption Generosity \n",
       "      0.33       0.55       0.36       0.62       0.69       0.84 "
      ]
     },
     "metadata": {},
     "output_type": "display_data"
    },
    {
     "data": {
      "text/html": [
       "<strong>png:</strong> 2"
      ],
      "text/latex": [
       "\\textbf{png:} 2"
      ],
      "text/markdown": [
       "**png:** 2"
      ],
      "text/plain": [
       "png \n",
       "  2 "
      ]
     },
     "metadata": {},
     "output_type": "display_data"
    },
    {
     "data": {
      "image/png": "[encoded data removed]",
      "text/plain": [
       "plot without title"
      ]
     },
     "metadata": {
      "image/png": {
       "height": 420,
       "width": 420
      }
     },
     "output_type": "display_data"
    }
   ],
   "source": [
    "#Collinearity\n",
    "whr_cor <- subset(whr, select = c(GDP,Support,Life,Freedom,Corruption,Generosity))\n",
    "\n",
    "#Correlation table\n",
    "corr_tab <- cor(whr_cor, method = \"pearson\")\n",
    "corr_tab\n",
    "\n",
    "#VIF and Tolerance for mlr\n",
    "mlr <- lm(Score ~ GDP + Support + Life + Freedom + Corruption + Generosity, data=whr)\n",
    "summary (mlr)\n",
    "\n",
    "round(vif(mlr), 2)       # VIF\n",
    "\n",
    "round(1/vif(mlr), 2)     # Tolerance\n",
    "\n",
    "\n",
    "\n",
    "#Testing for multicollinearity with a graphic\n",
    "pairs(~GDP + Support + Life + Freedom + Corruption + Generosity, data=whr, pch = 20, cex=1, col=\"lightblue\",  upper.panel=NULL, cex.labels=1.5)\n",
    "\n",
    "#Save plot\n",
    "png('cor_pairs.png')\n",
    "cor_pairs<-pairs(~GDP + Support + Life + Freedom + Corruption + Generosity, data=whr, pch = 20, cex=1, col=\"lightblue\",  upper.panel=NULL, cex.labels=1.5)\n",
    "dev.off()"
   ]
  },
  {
   "cell_type": "markdown",
   "id": "1849b0ff-f5f9-4cdd-bc76-c18df7bd2072",
   "metadata": {},
   "source": [
    "The factors GDP and Life seemed to be highly correlated (r = 0.78). According to the literature values above 10 is an indication for collinearity between the variables (Field et al., 2012). The values of the variance inflation factor for all the variables were far below 10. As for the tolerance statistic, which is related to the variance inflation factor, values below 0.1 are seen as a presence for multicollinearity (Field et al., 2012). This not of concern, since none of the values were below 0.1. "
   ]
  },
  {
   "cell_type": "markdown",
   "id": "5638d936-3ebf-472e-968e-5b3136c6a2da",
   "metadata": {},
   "source": [
    "#### Multiple Linear Regression"
   ]
  },
  {
   "cell_type": "code",
   "execution_count": 20,
   "id": "ed462144-662c-4bd2-80a9-752b5743498d",
   "metadata": {},
   "outputs": [
    {
     "data": {
      "text/plain": [
       "\n",
       "Call:\n",
       "lm(formula = Score ~ GDP + Support + Life + Freedom + Corruption + \n",
       "    Generosity, data = whr)\n",
       "\n",
       "Residuals:\n",
       "     Min       1Q   Median       3Q      Max \n",
       "-1.92848 -0.32342  0.01838  0.35504  1.66127 \n",
       "\n",
       "Coefficients:\n",
       "            Estimate Std. Error t value Pr(>|t|)    \n",
       "(Intercept)  2.17505    0.07991  27.219  < 2e-16 ***\n",
       "GDP          1.13587    0.08415  13.499  < 2e-16 ***\n",
       "Support      0.64605    0.08092   7.983 5.14e-15 ***\n",
       "Life         1.01288    0.13203   7.672 5.10e-14 ***\n",
       "Freedom      1.48055    0.16345   9.058  < 2e-16 ***\n",
       "Corruption   0.85852    0.22346   3.842 0.000132 ***\n",
       "Generosity   0.59304    0.17568   3.376 0.000773 ***\n",
       "---\n",
       "Signif. codes:  0 '***' 0.001 '**' 0.01 '*' 0.05 '.' 0.1 ' ' 1\n",
       "\n",
       "Residual standard error: 0.55 on 774 degrees of freedom\n",
       "Multiple R-squared:  0.7637,\tAdjusted R-squared:  0.7619 \n",
       "F-statistic:   417 on 6 and 774 DF,  p-value: < 2.2e-16\n"
      ]
     },
     "metadata": {},
     "output_type": "display_data"
    }
   ],
   "source": [
    "mlr <- lm(Score ~ GDP + Support + Life + Freedom + Corruption + Generosity, data=whr)\n",
    "summary(mlr)"
   ]
  },
  {
   "cell_type": "code",
   "execution_count": 21,
   "id": "c33d02e2-1daf-4f3c-93a9-4e6af5ac8b72",
   "metadata": {},
   "outputs": [
    {
     "data": {
      "text/html": [
       "<table class=\"dataframe\">\n",
       "<caption>A matrix: 7 × 4 of type dbl</caption>\n",
       "<thead>\n",
       "\t<tr><th></th><th scope=col>Estimate</th><th scope=col>Std. Error</th><th scope=col>t value</th><th scope=col>Pr(&gt;|t|)</th></tr>\n",
       "</thead>\n",
       "<tbody>\n",
       "\t<tr><th scope=row>(Intercept)</th><td>2.1750549</td><td>0.07990994</td><td>27.218827</td><td>5.626749e-115</td></tr>\n",
       "\t<tr><th scope=row>GDP</th><td>1.1358652</td><td>0.08414731</td><td>13.498532</td><td> 1.921503e-37</td></tr>\n",
       "\t<tr><th scope=row>Support</th><td>0.6460498</td><td>0.08092409</td><td> 7.983405</td><td> 5.137676e-15</td></tr>\n",
       "\t<tr><th scope=row>Life</th><td>1.0128829</td><td>0.13202526</td><td> 7.671887</td><td> 5.099891e-14</td></tr>\n",
       "\t<tr><th scope=row>Freedom</th><td>1.4805502</td><td>0.16344709</td><td> 9.058284</td><td> 1.063161e-18</td></tr>\n",
       "\t<tr><th scope=row>Corruption</th><td>0.8585249</td><td>0.22345530</td><td> 3.842043</td><td> 1.320097e-04</td></tr>\n",
       "\t<tr><th scope=row>Generosity</th><td>0.5930444</td><td>0.17567606</td><td> 3.375784</td><td> 7.727607e-04</td></tr>\n",
       "</tbody>\n",
       "</table>\n"
      ],
      "text/latex": [
       "A matrix: 7 × 4 of type dbl\n",
       "\\begin{tabular}{r|llll}\n",
       "  & Estimate & Std. Error & t value & Pr(>\\textbar{}t\\textbar{})\\\\\n",
       "\\hline\n",
       "\t(Intercept) & 2.1750549 & 0.07990994 & 27.218827 & 5.626749e-115\\\\\n",
       "\tGDP & 1.1358652 & 0.08414731 & 13.498532 &  1.921503e-37\\\\\n",
       "\tSupport & 0.6460498 & 0.08092409 &  7.983405 &  5.137676e-15\\\\\n",
       "\tLife & 1.0128829 & 0.13202526 &  7.671887 &  5.099891e-14\\\\\n",
       "\tFreedom & 1.4805502 & 0.16344709 &  9.058284 &  1.063161e-18\\\\\n",
       "\tCorruption & 0.8585249 & 0.22345530 &  3.842043 &  1.320097e-04\\\\\n",
       "\tGenerosity & 0.5930444 & 0.17567606 &  3.375784 &  7.727607e-04\\\\\n",
       "\\end{tabular}\n"
      ],
      "text/markdown": [
       "\n",
       "A matrix: 7 × 4 of type dbl\n",
       "\n",
       "| <!--/--> | Estimate | Std. Error | t value | Pr(&gt;|t|) |\n",
       "|---|---|---|---|---|\n",
       "| (Intercept) | 2.1750549 | 0.07990994 | 27.218827 | 5.626749e-115 |\n",
       "| GDP | 1.1358652 | 0.08414731 | 13.498532 |  1.921503e-37 |\n",
       "| Support | 0.6460498 | 0.08092409 |  7.983405 |  5.137676e-15 |\n",
       "| Life | 1.0128829 | 0.13202526 |  7.671887 |  5.099891e-14 |\n",
       "| Freedom | 1.4805502 | 0.16344709 |  9.058284 |  1.063161e-18 |\n",
       "| Corruption | 0.8585249 | 0.22345530 |  3.842043 |  1.320097e-04 |\n",
       "| Generosity | 0.5930444 | 0.17567606 |  3.375784 |  7.727607e-04 |\n",
       "\n"
      ],
      "text/plain": [
       "            Estimate  Std. Error t value   Pr(>|t|)     \n",
       "(Intercept) 2.1750549 0.07990994 27.218827 5.626749e-115\n",
       "GDP         1.1358652 0.08414731 13.498532  1.921503e-37\n",
       "Support     0.6460498 0.08092409  7.983405  5.137676e-15\n",
       "Life        1.0128829 0.13202526  7.671887  5.099891e-14\n",
       "Freedom     1.4805502 0.16344709  9.058284  1.063161e-18\n",
       "Corruption  0.8585249 0.22345530  3.842043  1.320097e-04\n",
       "Generosity  0.5930444 0.17567606  3.375784  7.727607e-04"
      ]
     },
     "metadata": {},
     "output_type": "display_data"
    }
   ],
   "source": [
    "summary(mlr)$coefficient"
   ]
  },
  {
   "cell_type": "code",
   "execution_count": 22,
   "id": "d715de5f-980e-4fa9-b80b-9f1be1a4560d",
   "metadata": {},
   "outputs": [
    {
     "name": "stderr",
     "output_type": "stream",
     "text": [
      "Your code contains a unicode char which cannot be displayed in your\n",
      "current locale and R will silently convert it to an escaped form when the\n",
      "R kernel executes this code. This can lead to subtle errors if you use\n",
      "such chars to do comparisons. For more information, please see\n",
      "https://github.com/IRkernel/repr/wiki/Problems-with-unicode-on-windows"
     ]
    },
    {
     "data": {
      "text/html": [
       "<table class=\"dataframe\">\n",
       "<caption>A anova: 7 × 5</caption>\n",
       "<thead>\n",
       "\t<tr><th></th><th scope=col>Df</th><th scope=col>Sum Sq</th><th scope=col>Mean Sq</th><th scope=col>F value</th><th scope=col>Pr(&gt;F)</th></tr>\n",
       "\t<tr><th></th><th scope=col>&lt;int&gt;</th><th scope=col>&lt;dbl&gt;</th><th scope=col>&lt;dbl&gt;</th><th scope=col>&lt;dbl&gt;</th><th scope=col>&lt;dbl&gt;</th></tr>\n",
       "</thead>\n",
       "<tbody>\n",
       "\t<tr><th scope=row>GDP</th><td>  1</td><td>617.942296</td><td>617.9422960</td><td>2043.14051</td><td>2.476462e-219</td></tr>\n",
       "\t<tr><th scope=row>Support</th><td>  1</td><td> 51.183032</td><td> 51.1830317</td><td> 169.22960</td><td> 3.924525e-35</td></tr>\n",
       "\t<tr><th scope=row>Life</th><td>  1</td><td> 22.552923</td><td> 22.5529231</td><td>  74.56811</td><td> 3.317911e-17</td></tr>\n",
       "\t<tr><th scope=row>Freedom</th><td>  1</td><td> 54.868848</td><td> 54.8688481</td><td> 181.41624</td><td> 2.654852e-37</td></tr>\n",
       "\t<tr><th scope=row>Corruption</th><td>  1</td><td>  6.738025</td><td>  6.7380251</td><td>  22.27835</td><td> 2.799060e-06</td></tr>\n",
       "\t<tr><th scope=row>Generosity</th><td>  1</td><td>  3.446664</td><td>  3.4466645</td><td>  11.39592</td><td> 7.727607e-04</td></tr>\n",
       "\t<tr><th scope=row>Residuals</th><td>774</td><td>234.094197</td><td>  0.3024473</td><td>        NA</td><td>           NA</td></tr>\n",
       "</tbody>\n",
       "</table>\n"
      ],
      "text/latex": [
       "A anova: 7 × 5\n",
       "\\begin{tabular}{r|lllll}\n",
       "  & Df & Sum Sq & Mean Sq & F value & Pr(>F)\\\\\n",
       "  & <int> & <dbl> & <dbl> & <dbl> & <dbl>\\\\\n",
       "\\hline\n",
       "\tGDP &   1 & 617.942296 & 617.9422960 & 2043.14051 & 2.476462e-219\\\\\n",
       "\tSupport &   1 &  51.183032 &  51.1830317 &  169.22960 &  3.924525e-35\\\\\n",
       "\tLife &   1 &  22.552923 &  22.5529231 &   74.56811 &  3.317911e-17\\\\\n",
       "\tFreedom &   1 &  54.868848 &  54.8688481 &  181.41624 &  2.654852e-37\\\\\n",
       "\tCorruption &   1 &   6.738025 &   6.7380251 &   22.27835 &  2.799060e-06\\\\\n",
       "\tGenerosity &   1 &   3.446664 &   3.4466645 &   11.39592 &  7.727607e-04\\\\\n",
       "\tResiduals & 774 & 234.094197 &   0.3024473 &         NA &            NA\\\\\n",
       "\\end{tabular}\n"
      ],
      "text/markdown": [
       "\n",
       "A anova: 7 × 5\n",
       "\n",
       "| <!--/--> | Df &lt;int&gt; | Sum Sq &lt;dbl&gt; | Mean Sq &lt;dbl&gt; | F value &lt;dbl&gt; | Pr(&gt;F) &lt;dbl&gt; |\n",
       "|---|---|---|---|---|---|\n",
       "| GDP |   1 | 617.942296 | 617.9422960 | 2043.14051 | 2.476462e-219 |\n",
       "| Support |   1 |  51.183032 |  51.1830317 |  169.22960 |  3.924525e-35 |\n",
       "| Life |   1 |  22.552923 |  22.5529231 |   74.56811 |  3.317911e-17 |\n",
       "| Freedom |   1 |  54.868848 |  54.8688481 |  181.41624 |  2.654852e-37 |\n",
       "| Corruption |   1 |   6.738025 |   6.7380251 |   22.27835 |  2.799060e-06 |\n",
       "| Generosity |   1 |   3.446664 |   3.4466645 |   11.39592 |  7.727607e-04 |\n",
       "| Residuals | 774 | 234.094197 |   0.3024473 |         NA |            NA |\n",
       "\n"
      ],
      "text/plain": [
       "           Df  Sum Sq     Mean Sq     F value    Pr(>F)       \n",
       "GDP          1 617.942296 617.9422960 2043.14051 2.476462e-219\n",
       "Support      1  51.183032  51.1830317  169.22960  3.924525e-35\n",
       "Life         1  22.552923  22.5529231   74.56811  3.317911e-17\n",
       "Freedom      1  54.868848  54.8688481  181.41624  2.654852e-37\n",
       "Corruption   1   6.738025   6.7380251   22.27835  2.799060e-06\n",
       "Generosity   1   3.446664   3.4466645   11.39592  7.727607e-04\n",
       "Residuals  774 234.094197   0.3024473         NA            NA"
      ]
     },
     "metadata": {},
     "output_type": "display_data"
    },
    {
     "data": {
      "text/html": [
       "<style>\n",
       ".list-inline {list-style: none; margin:0; padding: 0}\n",
       ".list-inline>li {display: inline-block}\n",
       ".list-inline>li:not(:last-child)::after {content: \"\\00b7\"; padding: 0 .5ex}\n",
       "</style>\n",
       "<ol class=list-inline><li>0.623663796665301</li><li>0.0516569331525212</li><li>0.0227617396581038</li><li>0.0553768763375488</li><li>0.00680041218901726</li><li>0.00347857699633067</li><li>0.236261665001177</li></ol>\n"
      ],
      "text/latex": [
       "\\begin{enumerate*}\n",
       "\\item 0.623663796665301\n",
       "\\item 0.0516569331525212\n",
       "\\item 0.0227617396581038\n",
       "\\item 0.0553768763375488\n",
       "\\item 0.00680041218901726\n",
       "\\item 0.00347857699633067\n",
       "\\item 0.236261665001177\n",
       "\\end{enumerate*}\n"
      ],
      "text/markdown": [
       "1. 0.623663796665301\n",
       "2. 0.0516569331525212\n",
       "3. 0.0227617396581038\n",
       "4. 0.0553768763375488\n",
       "5. 0.00680041218901726\n",
       "6. 0.00347857699633067\n",
       "7. 0.236261665001177\n",
       "\n",
       "\n"
      ],
      "text/plain": [
       "[1] 0.623663797 0.051656933 0.022761740 0.055376876 0.006800412 0.003478577\n",
       "[7] 0.236261665"
      ]
     },
     "metadata": {},
     "output_type": "display_data"
    }
   ],
   "source": [
    "#Effect size eta squared\n",
    "aov <-anova(mlr)\n",
    "aov\n",
    "aov[[\"Sum Sq\"]]/sum(aov[[\"Sum Sq\"]]) # η2=.01;small, η2=.06;medium, η2=.14;large (van de Berg, n.d.)"
   ]
  },
  {
   "cell_type": "markdown",
   "id": "41e15ebf-d957-4eef-97a4-887bb0f22768",
   "metadata": {},
   "source": [
    "All the six factors were significant for predicting happiness score (p<.001). The multiple regression model including all the six factors significantly explained F(6,774) = 417, p < .001 about 76% of the variance (adjusted R = 0.7619) in the happiness score. The effect size eta-squared was calculated for each variable. Eta-squared (η2) equal to .01, .06 and .14 was suggested to represent small, medium and large effects, respectively (van de Berg, n.d.). The value for GDP indicated large effect on the happiness score (η2 = 0.6), followed by the medium effect of Freedom (η2 = 0.06) and the small effects of Support (η2 = 0.05), Life (η2 = 0.02), Corruption (η2 = 0.01) and the effect of Generosity was, η2 < 0.01. "
   ]
  },
  {
   "cell_type": "markdown",
   "id": "1b9f73c6-1c47-4008-a245-874b826ab18e",
   "metadata": {},
   "source": [
    "#### Stepwise Regression"
   ]
  },
  {
   "cell_type": "code",
   "execution_count": 23,
   "id": "c8491262-5718-4b36-baf8-11f79e0db0d0",
   "metadata": {},
   "outputs": [
    {
     "name": "stdout",
     "output_type": "stream",
     "text": [
      "Start:  AIC=-181.49\n",
      "Score ~ GDP + Support + Life + Freedom + Corruption + Generosity\n",
      "\n",
      "             Df Sum of Sq    RSS     AIC\n",
      "- Generosity  1    0.3021 46.150 -182.45\n",
      "<none>                    45.848 -181.49\n",
      "- Corruption  1    0.9805 46.829 -180.14\n",
      "- Life        1    2.8895 48.738 -173.83\n",
      "- Freedom     1    3.6398 49.488 -171.42\n",
      "- GDP         1    4.6318 50.480 -168.28\n",
      "- Support     1   12.1579 58.006 -146.32\n",
      "\n",
      "Step:  AIC=-182.45\n",
      "Score ~ GDP + Support + Life + Freedom + Corruption\n",
      "\n",
      "             Df Sum of Sq    RSS     AIC\n",
      "<none>                    46.150 -182.45\n",
      "+ Generosity  1    0.3021 45.848 -181.49\n",
      "- Corruption  1    1.1927 47.343 -180.42\n",
      "- Life        1    3.3639 49.514 -173.33\n",
      "- GDP         1    4.3298 50.480 -170.28\n",
      "- Freedom     1    4.6384 50.789 -169.32\n",
      "- Support     1   12.3017 58.452 -147.11\n"
     ]
    },
    {
     "data": {
      "text/plain": [
       "\n",
       "Call:\n",
       "lm(formula = Score ~ GDP + Support + Life + Freedom + Corruption, \n",
       "    data = whr15)\n",
       "\n",
       "Coefficients:\n",
       "(Intercept)          GDP      Support         Life      Freedom   Corruption  \n",
       "     1.8984       0.8049       1.4163       1.0347       1.4420       0.8540  \n"
      ]
     },
     "metadata": {},
     "output_type": "display_data"
    },
    {
     "name": "stdout",
     "output_type": "stream",
     "text": [
      "Start:  AIC=-188.54\n",
      "Score ~ GDP + Support + Life + Freedom + Corruption + Generosity\n",
      "\n",
      "             Df Sum of Sq    RSS     AIC\n",
      "- Generosity  1    0.0567 43.272 -190.33\n",
      "<none>                    43.215 -188.54\n",
      "- Corruption  1    1.1319 44.347 -186.48\n",
      "- GDP         1    3.1814 46.397 -179.39\n",
      "- Freedom     1    4.3668 47.582 -175.43\n",
      "- Life        1    4.8799 48.095 -173.74\n",
      "- Support     1    8.2539 51.469 -163.10\n",
      "\n",
      "Step:  AIC=-190.33\n",
      "Score ~ GDP + Support + Life + Freedom + Corruption\n",
      "\n",
      "             Df Sum of Sq    RSS     AIC\n",
      "<none>                    43.272 -190.33\n",
      "+ Generosity  1    0.0567 43.215 -188.54\n",
      "- Corruption  1    1.2828 44.555 -187.75\n",
      "- GDP         1    3.1744 46.446 -181.22\n",
      "- Freedom     1    4.9739 48.246 -175.25\n",
      "- Life        1    5.2072 48.479 -174.49\n",
      "- Support     1    8.3348 51.607 -164.68\n"
     ]
    },
    {
     "data": {
      "text/plain": [
       "\n",
       "Call:\n",
       "lm(formula = Score ~ GDP + Support + Life + Freedom + Corruption, \n",
       "    data = whr16)\n",
       "\n",
       "Coefficients:\n",
       "(Intercept)          GDP      Support         Life      Freedom   Corruption  \n",
       "     2.2125       0.6972       1.2346       1.4622       1.5554       0.9618  \n"
      ]
     },
     "metadata": {},
     "output_type": "display_data"
    },
    {
     "name": "stdout",
     "output_type": "stream",
     "text": [
      "Start:  AIC=-208.18\n",
      "Score ~ GDP + Support + Life + Freedom + Corruption + Generosity\n",
      "\n",
      "             Df Sum of Sq    RSS     AIC\n",
      "- Generosity  1    0.3348 37.301 -208.78\n",
      "<none>                    36.966 -208.18\n",
      "- Corruption  1    0.7256 37.692 -207.17\n",
      "- GDP         1    3.6691 40.635 -195.51\n",
      "- Life        1    4.0125 40.979 -194.21\n",
      "- Freedom     1    4.6332 41.599 -191.88\n",
      "- Support     1    7.6418 44.608 -181.06\n",
      "\n",
      "Step:  AIC=-208.78\n",
      "Score ~ GDP + Support + Life + Freedom + Corruption\n",
      "\n",
      "             Df Sum of Sq    RSS     AIC\n",
      "<none>                    37.301 -208.78\n",
      "+ Generosity  1    0.3348 36.966 -208.18\n",
      "- Corruption  1    1.0023 38.303 -206.67\n",
      "- GDP         1    3.3591 40.660 -197.42\n",
      "- Life        1    4.4544 41.755 -193.30\n",
      "- Freedom     1    5.4603 42.761 -189.61\n",
      "- Support     1    7.7192 45.020 -181.63\n"
     ]
    },
    {
     "data": {
      "text/plain": [
       "\n",
       "Call:\n",
       "lm(formula = Score ~ GDP + Support + Life + Freedom + Corruption, \n",
       "    data = whr17)\n",
       "\n",
       "Coefficients:\n",
       "(Intercept)          GDP      Support         Life      Freedom   Corruption  \n",
       "     1.8017       0.7316       1.1233       1.3439       1.5627       0.9476  \n"
      ]
     },
     "metadata": {},
     "output_type": "display_data"
    },
    {
     "name": "stdout",
     "output_type": "stream",
     "text": [
      "Start:  AIC=-194.86\n",
      "Score ~ GDP + Support + Life + Freedom + Corruption + Generosity\n",
      "\n",
      "             Df Sum of Sq    RSS     AIC\n",
      "- Generosity  1    0.3353 40.619 -195.58\n",
      "- Corruption  1    0.5175 40.801 -194.88\n",
      "<none>                    40.283 -194.86\n",
      "- Life        1    2.1702 42.453 -188.73\n",
      "- GDP         1    3.7679 44.051 -183.00\n",
      "- Freedom     1    5.2458 45.529 -177.89\n",
      "- Support     1    7.5493 47.833 -170.24\n",
      "\n",
      "Step:  AIC=-195.58\n",
      "Score ~ GDP + Support + Life + Freedom + Corruption\n",
      "\n",
      "             Df Sum of Sq    RSS     AIC\n",
      "<none>                    40.619 -195.58\n",
      "+ Generosity  1    0.3353 40.283 -194.86\n",
      "- Corruption  1    0.8663 41.485 -194.31\n",
      "- Life        1    2.2077 42.826 -189.37\n",
      "- GDP         1    3.5592 44.178 -184.56\n",
      "- Freedom     1    6.0256 46.644 -176.14\n",
      "- Support     1    7.5507 48.169 -171.15\n"
     ]
    },
    {
     "data": {
      "text/plain": [
       "\n",
       "Call:\n",
       "lm(formula = Score ~ GDP + Support + Life + Freedom + Corruption, \n",
       "    data = whr18)\n",
       "\n",
       "Coefficients:\n",
       "(Intercept)          GDP      Support         Life      Freedom   Corruption  \n",
       "     1.8895       0.8705       1.1151       0.9752       1.4688       0.9000  \n"
      ]
     },
     "metadata": {},
     "output_type": "display_data"
    },
    {
     "name": "stdout",
     "output_type": "stream",
     "text": [
      "Start:  AIC=-189.18\n",
      "Score ~ GDP + Support + Life + Freedom + Corruption + Generosity\n",
      "\n",
      "             Df Sum of Sq    RSS     AIC\n",
      "- Generosity  1    0.2756 42.687 -190.17\n",
      "<none>                    42.412 -189.18\n",
      "- Corruption  1    0.9148 43.326 -187.85\n",
      "- Life        1    2.9564 45.368 -180.67\n",
      "- GDP         1    3.5934 46.005 -178.49\n",
      "- Freedom     1    4.2764 46.688 -176.19\n",
      "- Support     1    6.4099 48.822 -169.22\n",
      "\n",
      "Step:  AIC=-190.17\n",
      "Score ~ GDP + Support + Life + Freedom + Corruption\n",
      "\n",
      "             Df Sum of Sq    RSS     AIC\n",
      "<none>                    42.687 -190.17\n",
      "+ Generosity  1    0.2756 42.412 -189.18\n",
      "- Corruption  1    1.3053 43.993 -187.47\n",
      "- Life        1    2.9896 45.677 -181.61\n",
      "- GDP         1    3.3872 46.075 -180.26\n",
      "- Freedom     1    4.9836 47.671 -174.94\n",
      "- Support     1    6.3443 49.032 -170.55\n"
     ]
    },
    {
     "data": {
      "text/plain": [
       "\n",
       "Call:\n",
       "lm(formula = Score ~ GDP + Support + Life + Freedom + Corruption, \n",
       "    data = whr19)\n",
       "\n",
       "Coefficients:\n",
       "(Intercept)          GDP      Support         Life      Freedom   Corruption  \n",
       "     1.8689       0.7455       1.1180       1.0840       1.5340       1.1176  \n"
      ]
     },
     "metadata": {},
     "output_type": "display_data"
    }
   ],
   "source": [
    "#On individual dataset\n",
    "step(lm(Score ~ GDP + Support + Life + Freedom + Corruption + Generosity, data=whr15), direction='both')\n",
    "step(lm(Score ~ GDP + Support + Life + Freedom + Corruption + Generosity, data=whr16), direction='both')\n",
    "step(lm(Score ~ GDP + Support + Life + Freedom + Corruption + Generosity, data=whr17), direction='both')\n",
    "step(lm(Score ~ GDP + Support + Life + Freedom + Corruption + Generosity, data=whr18), direction='both')\n",
    "step(lm(Score ~ GDP + Support + Life + Freedom + Corruption + Generosity, data=whr19), direction='both')"
   ]
  },
  {
   "cell_type": "code",
   "execution_count": 24,
   "id": "58976d9d-b2c8-457e-826b-0e1195b09d37",
   "metadata": {
    "tags": []
   },
   "outputs": [
    {
     "name": "stdout",
     "output_type": "stream",
     "text": [
      "Start:  AIC=-926.99\n",
      "Score ~ GDP + Support + Life + Freedom + Corruption + Generosity\n",
      "\n",
      "             Df Sum of Sq    RSS     AIC\n",
      "<none>                    234.09 -926.99\n",
      "- Generosity  1     3.447 237.54 -917.57\n",
      "- Corruption  1     4.465 238.56 -914.23\n",
      "- Life        1    17.801 251.90 -871.75\n",
      "- Support     1    19.276 253.37 -867.19\n",
      "- Freedom     1    24.817 258.91 -850.30\n",
      "- GDP         1    55.109 289.20 -763.88\n"
     ]
    },
    {
     "data": {
      "text/plain": [
       "\n",
       "Call:\n",
       "lm(formula = Score ~ GDP + Support + Life + Freedom + Corruption + \n",
       "    Generosity, data = whr)\n",
       "\n",
       "Coefficients:\n",
       "(Intercept)          GDP      Support         Life      Freedom   Corruption  \n",
       "     2.1751       1.1359       0.6460       1.0129       1.4806       0.8585  \n",
       " Generosity  \n",
       "     0.5930  \n"
      ]
     },
     "metadata": {},
     "output_type": "display_data"
    }
   ],
   "source": [
    "#Stepwise regression\n",
    "#On merged dataset\n",
    "step(lm(Score ~ GDP + Support + Life + Freedom + Corruption + Generosity, data=whr), direction='both')"
   ]
  },
  {
   "cell_type": "markdown",
   "id": "25547815-4817-4e3a-8538-d7e043a70a78",
   "metadata": {},
   "source": [
    "Looking at the individual datasets the stepwise regression excluded the factor Generosity for all the years. According to AIC the quality of the model improved after removing Generosity (AIC was lower without Generosity, compared to the model including Generosity). But in the merged dataset Generosity was significant predictor for the happiness score. "
   ]
  },
  {
   "cell_type": "markdown",
   "id": "6fbdb86f-a3c2-46be-b888-ac6fe3955021",
   "metadata": {},
   "source": [
    "#### Bootstrap"
   ]
  },
  {
   "cell_type": "code",
   "execution_count": 25,
   "id": "892cba1c-402b-4c05-be28-3facca81c826",
   "metadata": {},
   "outputs": [
    {
     "name": "stdout",
     "output_type": "stream",
     "text": [
      "Linear Regression \n",
      "\n",
      "781 samples\n",
      "  6 predictor\n",
      "\n",
      "No pre-processing\n",
      "Resampling: Bootstrapped (500 reps) \n",
      "Summary of sample sizes: 781, 781, 781, 781, 781, 781, ... \n",
      "Resampling results:\n",
      "\n",
      "  RMSE       Rsquared  MAE      \n",
      "  0.5557084  0.757552  0.4325273\n",
      "\n",
      "Tuning parameter 'intercept' was held constant at a value of TRUE\n"
     ]
    }
   ],
   "source": [
    "set.seed(500)\n",
    "#Define training control\n",
    "train.control <- trainControl(method = \"boot\", number = 500)\n",
    "#Train the model\n",
    "model <- train(Score  ~ GDP + Support + Life + Freedom + Corruption + Generosity, data = whr, method = \"lm\",\n",
    "               trControl = train.control)\n",
    "#Summarize the results\n",
    "print(model)"
   ]
  },
  {
   "cell_type": "code",
   "execution_count": 26,
   "id": "e346e882-8db7-4f85-ac4d-901ba7805b3a",
   "metadata": {},
   "outputs": [
    {
     "data": {
      "text/html": [
       "<style>\n",
       ".dl-inline {width: auto; margin:0; padding: 0}\n",
       ".dl-inline>dt, .dl-inline>dd {float: none; width: auto; display: inline-block}\n",
       ".dl-inline>dt::after {content: \":\\0020\"; padding-right: .5ex}\n",
       ".dl-inline>dt:not(:first-of-type) {padding-left: .5ex}\n",
       "</style><dl class=dl-inline><dt>(Intercept)</dt><dd>2.17505489441524</dd><dt>GDP</dt><dd>1.13586522736179</dd><dt>Support</dt><dd>0.646049814294166</dd><dt>Life</dt><dd>1.01288289122462</dd><dt>Freedom</dt><dd>1.48055022986598</dd><dt>Corruption</dt><dd>0.858524905524294</dd><dt>Generosity</dt><dd>0.593044448786549</dd></dl>\n"
      ],
      "text/latex": [
       "\\begin{description*}\n",
       "\\item[(Intercept)] 2.17505489441524\n",
       "\\item[GDP] 1.13586522736179\n",
       "\\item[Support] 0.646049814294166\n",
       "\\item[Life] 1.01288289122462\n",
       "\\item[Freedom] 1.48055022986598\n",
       "\\item[Corruption] 0.858524905524294\n",
       "\\item[Generosity] 0.593044448786549\n",
       "\\end{description*}\n"
      ],
      "text/markdown": [
       "(Intercept)\n",
       ":   2.17505489441524GDP\n",
       ":   1.13586522736179Support\n",
       ":   0.646049814294166Life\n",
       ":   1.01288289122462Freedom\n",
       ":   1.48055022986598Corruption\n",
       ":   0.858524905524294Generosity\n",
       ":   0.593044448786549\n",
       "\n"
      ],
      "text/plain": [
       "(Intercept)         GDP     Support        Life     Freedom  Corruption \n",
       "  2.1750549   1.1358652   0.6460498   1.0128829   1.4805502   0.8585249 \n",
       " Generosity \n",
       "  0.5930444 "
      ]
     },
     "metadata": {},
     "output_type": "display_data"
    },
    {
     "data": {
      "text/plain": [
       "\n",
       "ORDINARY NONPARAMETRIC BOOTSTRAP\n",
       "\n",
       "\n",
       "Call:\n",
       "boot(data = whr, statistic = model_coef, R = 500)\n",
       "\n",
       "\n",
       "Bootstrap Statistics :\n",
       "     original        bias    std. error\n",
       "t1* 2.1750549  0.0040340464  0.07401779\n",
       "t2* 1.1358652  0.0021244696  0.08580181\n",
       "t3* 0.6460498 -0.0064756060  0.07260580\n",
       "t4* 1.0128829  0.0001171701  0.13299034\n",
       "t5* 1.4805502  0.0047455565  0.15578845\n",
       "t6* 0.8585249  0.0100567983  0.26877600\n",
       "t7* 0.5930444 -0.0037371116  0.19990432"
      ]
     },
     "metadata": {},
     "output_type": "display_data"
    }
   ],
   "source": [
    "#Estimate the accuracy of the beta coefficents\n",
    "model_coef <- function(whr, index){\n",
    "  coef(lm(Score  ~ GDP + Support + Life + Freedom + Corruption + Generosity, data = whr, subset = index))\n",
    "}\n",
    "model_coef(whr, 1:781)\n",
    "\n",
    "bootcorr <-boot(whr, model_coef, 500)\n",
    "bootcorr"
   ]
  },
  {
   "cell_type": "code",
   "execution_count": 27,
   "id": "6058e6e5-4773-4e64-9d74-d79829bb0775",
   "metadata": {
    "tags": []
   },
   "outputs": [
    {
     "data": {
      "text/plain": [
       "BOOTSTRAP CONFIDENCE INTERVAL CALCULATIONS\n",
       "Based on 500 bootstrap replicates\n",
       "\n",
       "CALL : \n",
       "boot.ci(boot.out = bootcorr, type = c(\"perc\"), index = 1)\n",
       "\n",
       "Intervals : \n",
       "Level     Percentile     \n",
       "95%   ( 2.039,  2.328 )  \n",
       "Calculations and Intervals on Original Scale"
      ]
     },
     "metadata": {},
     "output_type": "display_data"
    },
    {
     "data": {
      "text/plain": [
       "BOOTSTRAP CONFIDENCE INTERVAL CALCULATIONS\n",
       "Based on 500 bootstrap replicates\n",
       "\n",
       "CALL : \n",
       "boot.ci(boot.out = bootcorr, type = c(\"perc\"), index = 2)\n",
       "\n",
       "Intervals : \n",
       "Level     Percentile     \n",
       "95%   ( 0.975,  1.297 )  \n",
       "Calculations and Intervals on Original Scale"
      ]
     },
     "metadata": {},
     "output_type": "display_data"
    },
    {
     "data": {
      "text/plain": [
       "BOOTSTRAP CONFIDENCE INTERVAL CALCULATIONS\n",
       "Based on 500 bootstrap replicates\n",
       "\n",
       "CALL : \n",
       "boot.ci(boot.out = bootcorr, type = c(\"perc\"), index = 3)\n",
       "\n",
       "Intervals : \n",
       "Level     Percentile     \n",
       "95%   ( 0.4872,  0.7808 )  \n",
       "Calculations and Intervals on Original Scale"
      ]
     },
     "metadata": {},
     "output_type": "display_data"
    },
    {
     "data": {
      "text/plain": [
       "BOOTSTRAP CONFIDENCE INTERVAL CALCULATIONS\n",
       "Based on 500 bootstrap replicates\n",
       "\n",
       "CALL : \n",
       "boot.ci(boot.out = bootcorr, type = c(\"perc\"), index = 4)\n",
       "\n",
       "Intervals : \n",
       "Level     Percentile     \n",
       "95%   ( 0.731,  1.248 )  \n",
       "Calculations and Intervals on Original Scale"
      ]
     },
     "metadata": {},
     "output_type": "display_data"
    },
    {
     "data": {
      "text/plain": [
       "BOOTSTRAP CONFIDENCE INTERVAL CALCULATIONS\n",
       "Based on 500 bootstrap replicates\n",
       "\n",
       "CALL : \n",
       "boot.ci(boot.out = bootcorr, type = c(\"perc\"), index = 5)\n",
       "\n",
       "Intervals : \n",
       "Level     Percentile     \n",
       "95%   ( 1.179,  1.794 )  \n",
       "Calculations and Intervals on Original Scale"
      ]
     },
     "metadata": {},
     "output_type": "display_data"
    },
    {
     "data": {
      "text/plain": [
       "BOOTSTRAP CONFIDENCE INTERVAL CALCULATIONS\n",
       "Based on 500 bootstrap replicates\n",
       "\n",
       "CALL : \n",
       "boot.ci(boot.out = bootcorr, type = c(\"perc\"), index = 6)\n",
       "\n",
       "Intervals : \n",
       "Level     Percentile     \n",
       "95%   ( 0.3496,  1.3886 )  \n",
       "Calculations and Intervals on Original Scale"
      ]
     },
     "metadata": {},
     "output_type": "display_data"
    },
    {
     "data": {
      "text/plain": [
       "BOOTSTRAP CONFIDENCE INTERVAL CALCULATIONS\n",
       "Based on 500 bootstrap replicates\n",
       "\n",
       "CALL : \n",
       "boot.ci(boot.out = bootcorr, type = c(\"perc\"), index = 7)\n",
       "\n",
       "Intervals : \n",
       "Level     Percentile     \n",
       "95%   ( 0.1763,  0.9931 )  \n",
       "Calculations and Intervals on Original Scale"
      ]
     },
     "metadata": {},
     "output_type": "display_data"
    }
   ],
   "source": [
    "#CI (confidence intervals) for the estimates:\n",
    "boot.ci(bootcorr, type = c( \"perc\"), index=1) #Intercept\n",
    "boot.ci(bootcorr, type = c( \"perc\"), index=2) #GDP\n",
    "boot.ci(bootcorr, type = c( \"perc\"), index=3) #Support\n",
    "boot.ci(bootcorr, type = c( \"perc\"), index=4) #Life\n",
    "boot.ci(bootcorr, type = c( \"perc\"), index=5) #Freedom\n",
    "boot.ci(bootcorr, type = c( \"perc\"), index=6) #Corruption\n",
    "boot.ci(bootcorr, type = c( \"perc\"), index=7) #Generosity"
   ]
  },
  {
   "cell_type": "code",
   "execution_count": 28,
   "id": "1e9fb81f-c09d-4af1-8e43-da48e803522d",
   "metadata": {},
   "outputs": [
    {
     "data": {
      "text/html": [
       "<strong>png:</strong> 2"
      ],
      "text/latex": [
       "\\textbf{png:} 2"
      ],
      "text/markdown": [
       "**png:** 2"
      ],
      "text/plain": [
       "png \n",
       "  2 "
      ]
     },
     "metadata": {},
     "output_type": "display_data"
    },
    {
     "data": {
      "image/png": "[encoded data removed]",
      "text/plain": [
       "Plot with title \"Histogram of t\""
      ]
     },
     "metadata": {
      "image/png": {
       "height": 420,
       "width": 420
      }
     },
     "output_type": "display_data"
    }
   ],
   "source": [
    "plot(bootcorr)\n",
    "#Save plot\n",
    "png('coef_boot.png')\n",
    " coef_boot <-plot(bootcorr)\n",
    "dev.off()"
   ]
  },
  {
   "cell_type": "markdown",
   "id": "0c56c1c1-6059-411e-82bc-34b4102760bb",
   "metadata": {},
   "source": [
    "The confidence intervals indicated that all factors were still significant predictors for the happiness score. The histogramm shows the distribution of the estimates of the sampling distribution."
   ]
  },
  {
   "cell_type": "markdown",
   "id": "a9d77c7b-f4f3-4f5d-ab91-2b50cd6d3c93",
   "metadata": {},
   "source": [
    "#### Conclusions"
   ]
  },
  {
   "cell_type": "markdown",
   "id": "4f3d5ed1-e44b-47af-9c6a-c9d0ae455d9a",
   "metadata": {},
   "source": [
    "The analysis of the correlation matrix and VIF presented no presence of multicollinearity of the six factors. There was a strong correlation of the factors GDP and Life, but this was according to the VIF not a concern of collinearity in the dataset. Multiple linear regression, stepwise regression and the bootstrap methods indicated all six factors to significantly predict the happiness score. The effect was large for the factor GDP, medium for Freedom and small for Support, Life, Corruption and Generosity. "
   ]
  },
  {
   "cell_type": "markdown",
   "id": "54767bc8-b650-4f69-9516-8697e771173d",
   "metadata": {},
   "source": [
    "#### References"
   ]
  },
  {
   "cell_type": "markdown",
   "id": "7a34ba22-4a27-4a3e-a951-2d805bbb1d57",
   "metadata": {},
   "source": [
    "* Field, A., Miles, J., & Field, Z. (2012). Discovering Statistics Using R. SAGE Publications Ltd.\n",
    "* Helliwell, J. F., Layard, R., & Sachs, J. (2012). World Happiness Report. In Sustainable Development Solutions Network. https://doi.org/10.1007/978-3-319-74336-3_371-1\n",
    "* Helliwell, J. F., Layard, R., & Sachs, J. (2019). World Happiness Report. In Sustainable Development Solutions Network. \n",
    "* van den Berg, R. G. (n. d.). Effect Size in Statistics - The Ultimate Guide. SPSS Tutorials. Abgerufen am 5. Juni 2021, von https://www.spss-tutorials.com/effect-size/\n",
    "* Walther, B. (2021, 21. April). Multikollinearität in R erkennen. Björn Walther. https://bjoernwalther.com/multikollinearitaet-in-r-erkennen/"
   ]
  }
 ],
 "metadata": {
  "kernelspec": {
   "display_name": "R 4.0.5",
   "language": "R",
   "name": "ir40"
  },
  "language_info": {
   "codemirror_mode": "r",
   "file_extension": ".r",
   "mimetype": "text/x-r-source",
   "name": "R",
   "pygments_lexer": "r",
   "version": "4.0.5"
  }
 },
 "nbformat": 4,
 "nbformat_minor": 5
}
