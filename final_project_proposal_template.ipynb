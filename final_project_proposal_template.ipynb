{
 "cells": [
  {
   "cell_type": "markdown",
   "id": "informational-delaware",
   "metadata": {},
   "source": [
    "## Final Project Proposal"
   ]
  },
  {
   "cell_type": "markdown",
   "id": "optical-better",
   "metadata": {},
   "source": [
    "#### Name: Modulation of pain perception through visual perspectives"
   ]
  },
  {
   "cell_type": "markdown",
   "id": "biblical-attraction",
   "metadata": {},
   "source": [
    "#### Brief description of the dataset:\n",
    "\n",
    "> Most of the subjects in the datasets are students from age 18 to 60 years old. And it is a wihtin-subject design."
   ]
  },
  {
   "cell_type": "markdown",
   "id": "cleared-richmond",
   "metadata": {},
   "source": [
    "#### Dataset questions:\n",
    "-\tWhere did you obtain the dataset from?\n",
    "\n",
    ">The dataset is obtained from my masterthesis.\n",
    "\n",
    "-\tHow many observations are there?\n",
    "\n",
    ">46 test persons were tested, each of them did two experimental conditions: from first-person perspective (1PP) and third-person perspective (3PP). \n",
    "\n",
    "-\tHow many variables are there?\n",
    "\n",
    ">There are, in addition to demographic variables (age, gender), handedness, pain threshhold, sensory threshhold, pain intensity, pain unpleasantness, embodiment scores. Pain intensity/unpleasantness and embodiment scores was surveyed with a questionnaire. \n",
    "\n",
    "-\tAre there multiple observations for the same units (e.g. multiple measurements of RTs per participant? Multiple evaluations per employee? etc)\n",
    "\n",
    ">There are two experimental conditions: 1PP and 3PP, that was conducted on all the subjects. The variable pain and sensory threshhold was surveyed three times each, so that the mean of the three values would be the (pain/sensory) threshhold. Pain intensity and unpleasantness were surveyed four times (after each pain stimulation), again for the two experimental conditions. The emodiment questionnaire (seven questions) was surveyed two times, after each experimental condition (1PP, 3PP)"
   ]
  },
  {
   "cell_type": "markdown",
   "id": "quick-migration",
   "metadata": {},
   "source": [
    "#### Project goals:\n",
    "\n",
    "> I want to address the question if the perception of pain can be modulated through the manipulation of the visual perspective. The dependet variable would be pain perception and the independent variables are visual perspectives, sense of embodiment.\n",
    "> 1. The out of body illusion (meassured with the embodiment questionnaire) in 3PP would lead to a reduced pain sensitivity. \n",
    "> 2. The embodiment scores in 3PP would be lower than in 1PP. \n",
    "> 3. If there is a correlation between pain sensitivity and the level of embodiment. "
   ]
  },
  {
   "cell_type": "markdown",
   "id": "vital-wright",
   "metadata": {},
   "source": [
    "#### Project methods:\n",
    "> The first two questions I planned to use mixed effects models and for the third question I want to use a correlation test.\n"
   ]
  }
 ],
 "metadata": {
  "kernelspec": {
   "display_name": "R",
   "language": "R",
   "name": "ir"
  },
  "language_info": {
   "codemirror_mode": "r",
   "file_extension": ".r",
   "mimetype": "text/x-r-source",
   "name": "R",
   "pygments_lexer": "r",
   "version": "3.6.1"
  }
 },
 "nbformat": 4,
 "nbformat_minor": 5
}
