{
 "cells": [
  {
   "cell_type": "markdown",
   "id": "informational-delaware",
   "metadata": {},
   "source": [
    "## Final Project Proposal"
   ]
  },
  {
   "cell_type": "markdown",
   "id": "optical-better",
   "metadata": {},
   "source": [
    "#### Name: Modulation of pain perception through visual perspectives"
   ]
  },
  {
   "cell_type": "markdown",
   "id": "biblical-attraction",
   "metadata": {},
   "source": [
    "#### Brief description of the dataset:\n",
    "\n",
    "> Most of the subjects in the datasets are students from age 18 to 60 years old. And it is a wihtin-subject design."
   ]
  },
  {
   "cell_type": "markdown",
   "id": "cleared-richmond",
   "metadata": {},
   "source": [
    "#### Dataset questions:\n",
    "-\tWhere did you obtain the dataset from?\n",
    "\n",
    ">The dataset is obtained from my masterthesis.\n",
    "\n",
    "-\tHow many observations are there?\n",
    "\n",
    ">46 test persons were tested, each of them did two experimental conditions: from first-person perspective (1PP) and third-person perspective (3PP). \n",
    "\n",
    "-\tHow many variables are there?\n",
    "\n",
    ">There are, in addition to demographic variables (age, gender), handedness, pain threshhold, sensory threshhold, pain intensity, pain unpleasantness, embodiment scores. Pain intensity/unpleasantness and embodiment scores was surveyed with a questionnaire. \n",
    "\n",
    "-\tAre there multiple observations for the same units (e.g. multiple measurements of RTs per participant? Multiple evaluations per employee? etc)\n",
    "\n",
    ">There are two experimental conditions: 1PP and 3PP, that was conducted on all the subjects. The variable pain and sensory threshhold was surveyed three times each, so that the mean of the three values would be the (pain/sensory) threshhold. Pain intensity and unpleasantness were surveyed four times (after each pain stimulation), again for the two experimental conditions. The emodiment questionnaire (seven questions) was surveyed two times, after each experimental condition (1PP, 3PP)"
   ]
  },
  {
   "cell_type": "markdown",
   "id": "quick-migration",
   "metadata": {},
   "source": [
    "#### Project goals:\n",
    "\n",
    "> I want to address the question if the perception of pain can be modulated through the manipulation of the visual perspective. The dependet variable would be pain perception and the independent variables are visual perspectives, sense of embodiment.\n",
    "> 1. The out of body illusion (meassured with the embodiment questionnaire) in 3PP would lead to a reduced pain sensitivity. \n",
    "> 2. The embodiment scores in 3PP would be lower than in 1PP. \n",
    "> 3. If there is a correlation between pain sensitivity and the level of embodiment. "
   ]
  },
  {
   "cell_type": "markdown",
   "id": "vital-wright",
   "metadata": {},
   "source": [
    "#### Project methods:\n",
    "> The first two questions I planned to use mixed effects models and for the third question I want to use a correlation test.\n"
   ]
  },
  {
   "cell_type": "markdown",
   "id": "historic-symphony",
   "metadata": {},
   "source": [
    "#### Evaluation\n",
    "\n",
    "> [VP] I do not think this is a suitable dataset for this course, as the number of observations is very low (46 subjects, 1 observation per condition). You cannot apply mixed-effects models here (they require multiple observations per condition per participant), and you will have to use a simple regression, which is the most basic technique. With so few observations you cannot use cross-validation or any of the other techniques we'll discuss.\n",
    "\n",
    "Please look for a bigger and more complex dataset online. Here are some suggestions for where to look:\n",
    "\n",
    "- One option is this spreadsheet that contains information about a lot of freely available psychology datasets: https://docs.google.com/spreadsheets/d/1ejOJTNTL5ApCuGTUciV0REEEAqvhI2Rd2FCoj7afops/edit#gid=0\n",
    "- Another is to use Kaggle.com and search for keywords depending on what you are interested in: https://www.kaggle.com/datasets?search=psychology\n",
    "- Same with https://data.mendeley.com/ \n",
    "- The Open Science Framework (OSF), contains a lot of projects, and many of them have available datasets. Finding datasets there is not straightforward as not all projects have them and they aren't clearly marked, but again you can search for interesting keywords and then examine the projects you find to see if any datasets interest you: https://osf.io\n",
    "\n",
    "When you select a dataset, please fill out another proposal. If you have any questions about this, please let me know."
   ]
  },
  {
   "cell_type": "code",
   "execution_count": null,
   "id": "political-installation",
   "metadata": {},
   "outputs": [],
   "source": []
  }
 ],
 "metadata": {
  "kernelspec": {
   "display_name": "R",
   "language": "R",
   "name": "ir"
  },
  "language_info": {
   "codemirror_mode": "r",
   "file_extension": ".r",
   "mimetype": "text/x-r-source",
   "name": "R",
   "pygments_lexer": "r",
   "version": "4.0.4"
  }
 },
 "nbformat": 4,
 "nbformat_minor": 5
}
