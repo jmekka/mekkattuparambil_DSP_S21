{
 "cells": [
  {
   "cell_type": "markdown",
   "id": "buried-sharing",
   "metadata": {},
   "source": [
    "## Homework 5: Mixed-effects models\n",
    "\n",
    "In this homework we will continue analyzing the lexical decision data from Homework 4. \n",
    "\n",
    "We will be using the files `ldt_trials.csv` and `word_properties.csv` in the `data` folder. These files contain lexical decision reaction times for each participant and each word (`ldt_trials.csv`) and information about various word properties such as word length, word frequency, concreteness and emotional valence (`word_properties.csv`). These data were obtained from the English Lexicon Project: https://elexicon.wustl.edu/index.html"
   ]
  },
  {
   "cell_type": "code",
   "execution_count": 1,
   "id": "bacterial-therapist",
   "metadata": {},
   "outputs": [
    {
     "data": {
      "text/html": [
       "'C:/Users/Jini/DSP_homeworks'"
      ],
      "text/latex": [
       "'C:/Users/Jini/DSP\\_homeworks'"
      ],
      "text/markdown": [
       "'C:/Users/Jini/DSP_homeworks'"
      ],
      "text/plain": [
       "[1] \"C:/Users/Jini/DSP_homeworks\""
      ]
     },
     "metadata": {},
     "output_type": "display_data"
    }
   ],
   "source": [
    "getwd()"
   ]
  },
  {
   "cell_type": "code",
   "execution_count": 2,
   "id": "stock-detection",
   "metadata": {},
   "outputs": [],
   "source": [
    "setwd('C:/Users/Jini/DataSciencePsychUZH/Homeworks/data')"
   ]
  },
  {
   "cell_type": "markdown",
   "id": "linear-renewal",
   "metadata": {},
   "source": [
    "#### Part 1: Loading and organizing the data\n",
    "\n",
    "Load the two datasets and repeat all preprocessing steps from Homework 4. You should end up with a dataset of 35978 rows."
   ]
  },
  {
   "cell_type": "code",
   "execution_count": 3,
   "id": "sensitive-dating",
   "metadata": {},
   "outputs": [
    {
     "name": "stderr",
     "output_type": "stream",
     "text": [
      "Warning message:\n",
      "\"package 'tidyverse' was built under R version 3.6.3\"\n",
      "-- \u001b[1mAttaching packages\u001b[22m ------------------------------------------------------------------------------- tidyverse 1.3.0 --\n",
      "\n",
      "\u001b[32mv\u001b[39m \u001b[34mggplot2\u001b[39m 3.2.1     \u001b[32mv\u001b[39m \u001b[34mpurrr  \u001b[39m 0.3.3\n",
      "\u001b[32mv\u001b[39m \u001b[34mtibble \u001b[39m 2.1.3     \u001b[32mv\u001b[39m \u001b[34mdplyr  \u001b[39m 1.0.4\n",
      "\u001b[32mv\u001b[39m \u001b[34mtidyr  \u001b[39m 1.0.0     \u001b[32mv\u001b[39m \u001b[34mstringr\u001b[39m 1.4.0\n",
      "\u001b[32mv\u001b[39m \u001b[34mreadr  \u001b[39m 1.3.1     \u001b[32mv\u001b[39m \u001b[34mforcats\u001b[39m 0.5.0\n",
      "\n",
      "Warning message:\n",
      "\"package 'readr' was built under R version 3.6.3\"\n",
      "Warning message:\n",
      "\"package 'dplyr' was built under R version 3.6.3\"\n",
      "Warning message:\n",
      "\"package 'forcats' was built under R version 3.6.3\"\n",
      "-- \u001b[1mConflicts\u001b[22m ---------------------------------------------------------------------------------- tidyverse_conflicts() --\n",
      "\u001b[31mx\u001b[39m \u001b[34mdplyr\u001b[39m::\u001b[32mfilter()\u001b[39m masks \u001b[34mstats\u001b[39m::filter()\n",
      "\u001b[31mx\u001b[39m \u001b[34mdplyr\u001b[39m::\u001b[32mlag()\u001b[39m    masks \u001b[34mstats\u001b[39m::lag()\n",
      "\n"
     ]
    },
    {
     "data": {
      "text/html": [
       "<table class=\"dataframe\">\n",
       "<caption>A data.frame: 6 × 12</caption>\n",
       "<thead>\n",
       "\t<tr><th></th><th scope=col>Sub_ID</th><th scope=col>Trial</th><th scope=col>Type</th><th scope=col>D_Accuracy</th><th scope=col>D_RT</th><th scope=col>D_word</th><th scope=col>Outlier</th><th scope=col>D_Zscore</th><th scope=col>Length</th><th scope=col>SUBTLWF</th><th scope=col>Concreteness_Rating</th><th scope=col>Emotional_Valence</th></tr>\n",
       "\t<tr><th></th><th scope=col>&lt;int&gt;</th><th scope=col>&lt;int&gt;</th><th scope=col>&lt;int&gt;</th><th scope=col>&lt;int&gt;</th><th scope=col>&lt;int&gt;</th><th scope=col>&lt;fct&gt;</th><th scope=col>&lt;int&gt;</th><th scope=col>&lt;dbl&gt;</th><th scope=col>&lt;int&gt;</th><th scope=col>&lt;dbl&gt;</th><th scope=col>&lt;dbl&gt;</th><th scope=col>&lt;dbl&gt;</th></tr>\n",
       "</thead>\n",
       "<tbody>\n",
       "\t<tr><th scope=row>1</th><td>85</td><td> 85</td><td>1</td><td>1</td><td> 541</td><td>healthy </td><td>0</td><td>-0.849372</td><td>7</td><td>24.75</td><td>3.31</td><td>7.76</td></tr>\n",
       "\t<tr><th scope=row>2</th><td>85</td><td> 86</td><td>1</td><td>1</td><td>1215</td><td>loony   </td><td>0</td><td> 1.535949</td><td>5</td><td> 2.41</td><td>2.15</td><td>4.48</td></tr>\n",
       "\t<tr><th scope=row>3</th><td>85</td><td> 89</td><td>1</td><td>1</td><td> 677</td><td>cart    </td><td>0</td><td>-0.368061</td><td>4</td><td> 9.04</td><td>4.89</td><td>5.37</td></tr>\n",
       "\t<tr><th scope=row>4</th><td>85</td><td>100</td><td>1</td><td>1</td><td> 659</td><td>blunt   </td><td>0</td><td>-0.431764</td><td>5</td><td> 4.90</td><td>3.07</td><td>4.65</td></tr>\n",
       "\t<tr><th scope=row>5</th><td>85</td><td>101</td><td>1</td><td>1</td><td> 532</td><td>thousand</td><td>0</td><td>-0.881224</td><td>8</td><td>69.29</td><td>3.08</td><td>6.44</td></tr>\n",
       "\t<tr><th scope=row>6</th><td>85</td><td>111</td><td>1</td><td>1</td><td> 597</td><td>lyrics  </td><td>0</td><td>-0.651186</td><td>6</td><td> 5.08</td><td>3.86</td><td>6.42</td></tr>\n",
       "</tbody>\n",
       "</table>\n"
      ],
      "text/latex": [
       "A data.frame: 6 × 12\n",
       "\\begin{tabular}{r|llllllllllll}\n",
       "  & Sub\\_ID & Trial & Type & D\\_Accuracy & D\\_RT & D\\_word & Outlier & D\\_Zscore & Length & SUBTLWF & Concreteness\\_Rating & Emotional\\_Valence\\\\\n",
       "  & <int> & <int> & <int> & <int> & <int> & <fct> & <int> & <dbl> & <int> & <dbl> & <dbl> & <dbl>\\\\\n",
       "\\hline\n",
       "\t1 & 85 &  85 & 1 & 1 &  541 & healthy  & 0 & -0.849372 & 7 & 24.75 & 3.31 & 7.76\\\\\n",
       "\t2 & 85 &  86 & 1 & 1 & 1215 & loony    & 0 &  1.535949 & 5 &  2.41 & 2.15 & 4.48\\\\\n",
       "\t3 & 85 &  89 & 1 & 1 &  677 & cart     & 0 & -0.368061 & 4 &  9.04 & 4.89 & 5.37\\\\\n",
       "\t4 & 85 & 100 & 1 & 1 &  659 & blunt    & 0 & -0.431764 & 5 &  4.90 & 3.07 & 4.65\\\\\n",
       "\t5 & 85 & 101 & 1 & 1 &  532 & thousand & 0 & -0.881224 & 8 & 69.29 & 3.08 & 6.44\\\\\n",
       "\t6 & 85 & 111 & 1 & 1 &  597 & lyrics   & 0 & -0.651186 & 6 &  5.08 & 3.86 & 6.42\\\\\n",
       "\\end{tabular}\n"
      ],
      "text/markdown": [
       "\n",
       "A data.frame: 6 × 12\n",
       "\n",
       "| <!--/--> | Sub_ID &lt;int&gt; | Trial &lt;int&gt; | Type &lt;int&gt; | D_Accuracy &lt;int&gt; | D_RT &lt;int&gt; | D_word &lt;fct&gt; | Outlier &lt;int&gt; | D_Zscore &lt;dbl&gt; | Length &lt;int&gt; | SUBTLWF &lt;dbl&gt; | Concreteness_Rating &lt;dbl&gt; | Emotional_Valence &lt;dbl&gt; |\n",
       "|---|---|---|---|---|---|---|---|---|---|---|---|---|\n",
       "| 1 | 85 |  85 | 1 | 1 |  541 | healthy  | 0 | -0.849372 | 7 | 24.75 | 3.31 | 7.76 |\n",
       "| 2 | 85 |  86 | 1 | 1 | 1215 | loony    | 0 |  1.535949 | 5 |  2.41 | 2.15 | 4.48 |\n",
       "| 3 | 85 |  89 | 1 | 1 |  677 | cart     | 0 | -0.368061 | 4 |  9.04 | 4.89 | 5.37 |\n",
       "| 4 | 85 | 100 | 1 | 1 |  659 | blunt    | 0 | -0.431764 | 5 |  4.90 | 3.07 | 4.65 |\n",
       "| 5 | 85 | 101 | 1 | 1 |  532 | thousand | 0 | -0.881224 | 8 | 69.29 | 3.08 | 6.44 |\n",
       "| 6 | 85 | 111 | 1 | 1 |  597 | lyrics   | 0 | -0.651186 | 6 |  5.08 | 3.86 | 6.42 |\n",
       "\n"
      ],
      "text/plain": [
       "  Sub_ID Trial Type D_Accuracy D_RT D_word   Outlier D_Zscore  Length SUBTLWF\n",
       "1 85      85   1    1           541 healthy  0       -0.849372 7      24.75  \n",
       "2 85      86   1    1          1215 loony    0        1.535949 5       2.41  \n",
       "3 85      89   1    1           677 cart     0       -0.368061 4       9.04  \n",
       "4 85     100   1    1           659 blunt    0       -0.431764 5       4.90  \n",
       "5 85     101   1    1           532 thousand 0       -0.881224 8      69.29  \n",
       "6 85     111   1    1           597 lyrics   0       -0.651186 6       5.08  \n",
       "  Concreteness_Rating Emotional_Valence\n",
       "1 3.31                7.76             \n",
       "2 2.15                4.48             \n",
       "3 4.89                5.37             \n",
       "4 3.07                4.65             \n",
       "5 3.08                6.44             \n",
       "6 3.86                6.42             "
      ]
     },
     "metadata": {},
     "output_type": "display_data"
    },
    {
     "data": {
      "text/html": [
       "35978"
      ],
      "text/latex": [
       "35978"
      ],
      "text/markdown": [
       "35978"
      ],
      "text/plain": [
       "[1] 35978"
      ]
     },
     "metadata": {},
     "output_type": "display_data"
    }
   ],
   "source": [
    "library(tidyverse)\n",
    "\n",
    "ldt_trials <- read.csv('ldt_trials.csv')\n",
    "word_properties <- read.csv('word_properties.csv')\n",
    "\n",
    "ldtword <- left_join(ldt_trials, word_properties, by=c(\"D_word\"=\"Word\"))  %>% \n",
    "    filter(!is.na(Length))\n",
    "\n",
    "head(ldtword)\n",
    "nrow(ldtword)"
   ]
  },
  {
   "cell_type": "markdown",
   "id": "forbidden-radiation",
   "metadata": {},
   "source": [
    "Transform the Sub_ID variable into a factor using the `as.factor()` command:"
   ]
  },
  {
   "cell_type": "code",
   "execution_count": 4,
   "id": "demanding-compression",
   "metadata": {},
   "outputs": [
    {
     "data": {
      "text/html": [
       "<table class=\"dataframe\">\n",
       "<caption>A data.frame: 6 × 12</caption>\n",
       "<thead>\n",
       "\t<tr><th></th><th scope=col>Sub_ID</th><th scope=col>Trial</th><th scope=col>Type</th><th scope=col>D_Accuracy</th><th scope=col>D_RT</th><th scope=col>D_word</th><th scope=col>Outlier</th><th scope=col>D_Zscore</th><th scope=col>Length</th><th scope=col>SUBTLWF</th><th scope=col>Concreteness_Rating</th><th scope=col>Emotional_Valence</th></tr>\n",
       "\t<tr><th></th><th scope=col>&lt;fct&gt;</th><th scope=col>&lt;int&gt;</th><th scope=col>&lt;int&gt;</th><th scope=col>&lt;int&gt;</th><th scope=col>&lt;int&gt;</th><th scope=col>&lt;fct&gt;</th><th scope=col>&lt;int&gt;</th><th scope=col>&lt;dbl&gt;</th><th scope=col>&lt;int&gt;</th><th scope=col>&lt;dbl&gt;</th><th scope=col>&lt;dbl&gt;</th><th scope=col>&lt;dbl&gt;</th></tr>\n",
       "</thead>\n",
       "<tbody>\n",
       "\t<tr><th scope=row>1</th><td>85</td><td> 85</td><td>1</td><td>1</td><td> 541</td><td>healthy </td><td>0</td><td>-0.849372</td><td>7</td><td>24.75</td><td>3.31</td><td>7.76</td></tr>\n",
       "\t<tr><th scope=row>2</th><td>85</td><td> 86</td><td>1</td><td>1</td><td>1215</td><td>loony   </td><td>0</td><td> 1.535949</td><td>5</td><td> 2.41</td><td>2.15</td><td>4.48</td></tr>\n",
       "\t<tr><th scope=row>3</th><td>85</td><td> 89</td><td>1</td><td>1</td><td> 677</td><td>cart    </td><td>0</td><td>-0.368061</td><td>4</td><td> 9.04</td><td>4.89</td><td>5.37</td></tr>\n",
       "\t<tr><th scope=row>4</th><td>85</td><td>100</td><td>1</td><td>1</td><td> 659</td><td>blunt   </td><td>0</td><td>-0.431764</td><td>5</td><td> 4.90</td><td>3.07</td><td>4.65</td></tr>\n",
       "\t<tr><th scope=row>5</th><td>85</td><td>101</td><td>1</td><td>1</td><td> 532</td><td>thousand</td><td>0</td><td>-0.881224</td><td>8</td><td>69.29</td><td>3.08</td><td>6.44</td></tr>\n",
       "\t<tr><th scope=row>6</th><td>85</td><td>111</td><td>1</td><td>1</td><td> 597</td><td>lyrics  </td><td>0</td><td>-0.651186</td><td>6</td><td> 5.08</td><td>3.86</td><td>6.42</td></tr>\n",
       "</tbody>\n",
       "</table>\n"
      ],
      "text/latex": [
       "A data.frame: 6 × 12\n",
       "\\begin{tabular}{r|llllllllllll}\n",
       "  & Sub\\_ID & Trial & Type & D\\_Accuracy & D\\_RT & D\\_word & Outlier & D\\_Zscore & Length & SUBTLWF & Concreteness\\_Rating & Emotional\\_Valence\\\\\n",
       "  & <fct> & <int> & <int> & <int> & <int> & <fct> & <int> & <dbl> & <int> & <dbl> & <dbl> & <dbl>\\\\\n",
       "\\hline\n",
       "\t1 & 85 &  85 & 1 & 1 &  541 & healthy  & 0 & -0.849372 & 7 & 24.75 & 3.31 & 7.76\\\\\n",
       "\t2 & 85 &  86 & 1 & 1 & 1215 & loony    & 0 &  1.535949 & 5 &  2.41 & 2.15 & 4.48\\\\\n",
       "\t3 & 85 &  89 & 1 & 1 &  677 & cart     & 0 & -0.368061 & 4 &  9.04 & 4.89 & 5.37\\\\\n",
       "\t4 & 85 & 100 & 1 & 1 &  659 & blunt    & 0 & -0.431764 & 5 &  4.90 & 3.07 & 4.65\\\\\n",
       "\t5 & 85 & 101 & 1 & 1 &  532 & thousand & 0 & -0.881224 & 8 & 69.29 & 3.08 & 6.44\\\\\n",
       "\t6 & 85 & 111 & 1 & 1 &  597 & lyrics   & 0 & -0.651186 & 6 &  5.08 & 3.86 & 6.42\\\\\n",
       "\\end{tabular}\n"
      ],
      "text/markdown": [
       "\n",
       "A data.frame: 6 × 12\n",
       "\n",
       "| <!--/--> | Sub_ID &lt;fct&gt; | Trial &lt;int&gt; | Type &lt;int&gt; | D_Accuracy &lt;int&gt; | D_RT &lt;int&gt; | D_word &lt;fct&gt; | Outlier &lt;int&gt; | D_Zscore &lt;dbl&gt; | Length &lt;int&gt; | SUBTLWF &lt;dbl&gt; | Concreteness_Rating &lt;dbl&gt; | Emotional_Valence &lt;dbl&gt; |\n",
       "|---|---|---|---|---|---|---|---|---|---|---|---|---|\n",
       "| 1 | 85 |  85 | 1 | 1 |  541 | healthy  | 0 | -0.849372 | 7 | 24.75 | 3.31 | 7.76 |\n",
       "| 2 | 85 |  86 | 1 | 1 | 1215 | loony    | 0 |  1.535949 | 5 |  2.41 | 2.15 | 4.48 |\n",
       "| 3 | 85 |  89 | 1 | 1 |  677 | cart     | 0 | -0.368061 | 4 |  9.04 | 4.89 | 5.37 |\n",
       "| 4 | 85 | 100 | 1 | 1 |  659 | blunt    | 0 | -0.431764 | 5 |  4.90 | 3.07 | 4.65 |\n",
       "| 5 | 85 | 101 | 1 | 1 |  532 | thousand | 0 | -0.881224 | 8 | 69.29 | 3.08 | 6.44 |\n",
       "| 6 | 85 | 111 | 1 | 1 |  597 | lyrics   | 0 | -0.651186 | 6 |  5.08 | 3.86 | 6.42 |\n",
       "\n"
      ],
      "text/plain": [
       "  Sub_ID Trial Type D_Accuracy D_RT D_word   Outlier D_Zscore  Length SUBTLWF\n",
       "1 85      85   1    1           541 healthy  0       -0.849372 7      24.75  \n",
       "2 85      86   1    1          1215 loony    0        1.535949 5       2.41  \n",
       "3 85      89   1    1           677 cart     0       -0.368061 4       9.04  \n",
       "4 85     100   1    1           659 blunt    0       -0.431764 5       4.90  \n",
       "5 85     101   1    1           532 thousand 0       -0.881224 8      69.29  \n",
       "6 85     111   1    1           597 lyrics   0       -0.651186 6       5.08  \n",
       "  Concreteness_Rating Emotional_Valence\n",
       "1 3.31                7.76             \n",
       "2 2.15                4.48             \n",
       "3 4.89                5.37             \n",
       "4 3.07                4.65             \n",
       "5 3.08                6.44             \n",
       "6 3.86                6.42             "
      ]
     },
     "metadata": {},
     "output_type": "display_data"
    }
   ],
   "source": [
    "ldtword$Sub_ID <-as.factor(ldtword$Sub_ID)\n",
    "head(ldtword)"
   ]
  },
  {
   "cell_type": "markdown",
   "id": "blank-capital",
   "metadata": {},
   "source": [
    "#### Part 2: Plot the effect of Length on RTs separately for each participant"
   ]
  },
  {
   "cell_type": "markdown",
   "id": "personalized-error",
   "metadata": {},
   "source": [
    "In Homework 4 we saw that lexical decision RTs increase as a function of word length by approximately 26 ms per letter. This is the overall effect, but it's likely that the effect varies across participants. First, let's try to do some plots to understand this better.\n",
    "\n",
    "First, plot the overall effect of word length on RTs. Use the `stat_summary()` command to summarize the Y variable for each X value. Then use the `geom_smooth(method='lm', se=F)` command to plot a linear regression line through the data."
   ]
  },
  {
   "cell_type": "code",
   "execution_count": 5,
   "id": "advanced-battlefield",
   "metadata": {},
   "outputs": [
    {
     "name": "stderr",
     "output_type": "stream",
     "text": [
      "No summary function supplied, defaulting to `mean_se()\n",
      "\n"
     ]
    },
    {
     "data": {
      "image/png": "[encoded data removed]",
      "text/plain": [
       "plot without title"
      ]
     },
     "metadata": {
      "image/png": {
       "height": 420,
       "width": 420
      }
     },
     "output_type": "display_data"
    }
   ],
   "source": [
    "ggplot(ldtword, aes(Length, D_RT)) +\n",
    "stat_summary() +\n",
    "geom_smooth(method='lm', se=F)"
   ]
  },
  {
   "cell_type": "markdown",
   "id": "chubby-technician",
   "metadata": {},
   "source": [
    "Now, let's see how much this effect varies across participants. Make the same plot, but this time in the `aes()` function add the argument `color=Sub_ID`. This will create separate regression lines in different colors for each participant."
   ]
  },
  {
   "cell_type": "code",
   "execution_count": 6,
   "id": "boolean-pipeline",
   "metadata": {},
   "outputs": [
    {
     "name": "stderr",
     "output_type": "stream",
     "text": [
      "No summary function supplied, defaulting to `mean_se()\n",
      "\n",
      "Warning message:\n",
      "\"Removed 71 rows containing missing values (geom_pointrange).\"\n"
     ]
    },
    {
     "data": {
      "image/png": "[encoded data removed]",
      "text/plain": [
       "plot without title"
      ]
     },
     "metadata": {
      "image/png": {
       "height": 420,
       "width": 420
      }
     },
     "output_type": "display_data"
    }
   ],
   "source": [
    "ggplot(ldtword, aes(Length, D_RT, color=Sub_ID)) +\n",
    "stat_summary() +\n",
    "geom_smooth(method='lm', se=F)"
   ]
  },
  {
   "cell_type": "markdown",
   "id": "involved-impossible",
   "metadata": {},
   "source": [
    "Describe briefly the plot above. What stands out to you?"
   ]
  },
  {
   "cell_type": "markdown",
   "id": "cognitive-earthquake",
   "metadata": {},
   "source": [
    "> The plot is a bit overloaded and illegible with all the regression lines. And there seem to be outliers in the graphic."
   ]
  },
  {
   "cell_type": "markdown",
   "id": "possible-polymer",
   "metadata": {},
   "source": [
    "The plot above has too many subjects so it's a bit difficult to see them well. Just for the exercize, let's do the same plot but for a smaller subset of subjects. Filter the data so that you keep only data for subjects 8,13,50,56,62,78,82 and repeat the plot above with this filtered dataset. Which of these subjects has the lowest intercept? Which one seems to have the steepest slope?\n",
    "\n",
    "Hint: In order to filter the data, you can try the following:\n",
    "- specify a new variable called `included_subjects = c(8, 13, 50)`, where you can add as many subject numbers as you want between the brackets.. Then, in the filter command you can do `filter(df1, Sub_ID %in% included_subjects)`"
   ]
  },
  {
   "cell_type": "code",
   "execution_count": 7,
   "id": "acute-armenia",
   "metadata": {},
   "outputs": [
    {
     "name": "stderr",
     "output_type": "stream",
     "text": [
      "No summary function supplied, defaulting to `mean_se()\n",
      "\n",
      "Warning message:\n",
      "\"Removed 5 rows containing missing values (geom_pointrange).\"\n"
     ]
    },
    {
     "data": {
      "image/png": "[encoded data removed]",
      "text/plain": [
       "plot without title"
      ]
     },
     "metadata": {
      "image/png": {
       "height": 420,
       "width": 420
      }
     },
     "output_type": "display_data"
    }
   ],
   "source": [
    "included_subjects = c(8, 13, 50, 56, 62, 78, 82)\n",
    "filter(ldtword, Sub_ID %in% included_subjects) %>%\n",
    "ggplot(aes(Length, D_RT, color=Sub_ID)) +\n",
    "stat_summary() +\n",
    "geom_smooth(method='lm', se=F)"
   ]
  },
  {
   "cell_type": "markdown",
   "id": "victorian-evanescence",
   "metadata": {},
   "source": [
    "The Sub_ID56 seems to have the lowest intercept and the Sub_ID62 the steepest slope according to the ggplot."
   ]
  },
  {
   "cell_type": "markdown",
   "id": "brazilian-employment",
   "metadata": {},
   "source": [
    "#### Part 3: Fit separate linear regression to each subject\n",
    "\n",
    "Before we fit a mixed-effects model, let's pretend that each subject is it's own experiment and let's fit a separate linear regression for each subject. We will then extract the intercepts and slopes for each participant's regression, and plot their distribution. The next few cells will take you step by step through this process"
   ]
  },
  {
   "cell_type": "markdown",
   "id": "aerial-charleston",
   "metadata": {},
   "source": [
    "Create a new variable called `sub_ids` that contains the unique values of Sub_ID. This variable should have 99 unique values (you can use the `unique()` command):"
   ]
  },
  {
   "cell_type": "code",
   "execution_count": 8,
   "id": "verified-imperial",
   "metadata": {
    "tags": []
   },
   "outputs": [
    {
     "data": {
      "text/html": [
       "99"
      ],
      "text/latex": [
       "99"
      ],
      "text/markdown": [
       "99"
      ],
      "text/plain": [
       "[1] 99"
      ]
     },
     "metadata": {},
     "output_type": "display_data"
    },
    {
     "data": {
      "text/html": [
       "<style>\n",
       ".list-inline {list-style: none; margin:0; padding: 0}\n",
       ".list-inline>li {display: inline-block}\n",
       ".list-inline>li:not(:last-child)::after {content: \"\\00b7\"; padding: 0 .5ex}\n",
       "</style>\n",
       "<ol class=list-inline><li>85</li><li>21</li><li>29</li><li>51</li><li>83</li><li>86</li><li>64</li><li>57</li><li>48</li><li>43</li><li>55</li><li>49</li><li>39</li><li>38</li><li>95</li><li>94</li><li>93</li><li>77</li><li>8</li><li>14</li><li>52</li><li>100</li><li>92</li><li>99</li><li>98</li><li>91</li><li>90</li><li>89</li><li>88</li><li>87</li><li>84</li><li>82</li><li>70</li><li>67</li><li>97</li><li>96</li><li>59</li><li>1</li><li>3</li><li>81</li><li>80</li><li>79</li><li>78</li><li>76</li><li>75</li><li>74</li><li>73</li><li>72</li><li>71</li><li>69</li><li>68</li><li>66</li><li>65</li><li>63</li><li>62</li><li>61</li><li>60</li><li>28</li><li>27</li><li>26</li><li>25</li><li>24</li><li>23</li><li>22</li><li>20</li><li>19</li><li>18</li><li>17</li><li>16</li><li>15</li><li>13</li><li>12</li><li>11</li><li>9</li><li>7</li><li>6</li><li>5</li><li>4</li><li>2</li><li>37</li><li>36</li><li>35</li><li>34</li><li>33</li><li>32</li><li>31</li><li>30</li><li>58</li><li>56</li><li>54</li><li>53</li><li>50</li><li>47</li><li>46</li><li>45</li><li>44</li><li>42</li><li>41</li><li>40</li></ol>\n",
       "\n",
       "<details>\n",
       "\t<summary style=display:list-item;cursor:pointer>\n",
       "\t\t<strong>Levels</strong>:\n",
       "\t</summary>\n",
       "\t<style>\n",
       "\t.list-inline {list-style: none; margin:0; padding: 0}\n",
       "\t.list-inline>li {display: inline-block}\n",
       "\t.list-inline>li:not(:last-child)::after {content: \"\\00b7\"; padding: 0 .5ex}\n",
       "\t</style>\n",
       "\t<ol class=list-inline><li>'1'</li><li>'2'</li><li>'3'</li><li>'4'</li><li>'5'</li><li>'6'</li><li>'7'</li><li>'8'</li><li>'9'</li><li>'11'</li><li>'12'</li><li>'13'</li><li>'14'</li><li>'15'</li><li>'16'</li><li>'17'</li><li>'18'</li><li>'19'</li><li>'20'</li><li>'21'</li><li>'22'</li><li>'23'</li><li>'24'</li><li>'25'</li><li>'26'</li><li>'27'</li><li>'28'</li><li>'29'</li><li>'30'</li><li>'31'</li><li>'32'</li><li>'33'</li><li>'34'</li><li>'35'</li><li>'36'</li><li>'37'</li><li>'38'</li><li>'39'</li><li>'40'</li><li>'41'</li><li>'42'</li><li>'43'</li><li>'44'</li><li>'45'</li><li>'46'</li><li>'47'</li><li>'48'</li><li>'49'</li><li>'50'</li><li>'51'</li><li>'52'</li><li>'53'</li><li>'54'</li><li>'55'</li><li>'56'</li><li>'57'</li><li>'58'</li><li>'59'</li><li>'60'</li><li>'61'</li><li>'62'</li><li>'63'</li><li>'64'</li><li>'65'</li><li>'66'</li><li>'67'</li><li>'68'</li><li>'69'</li><li>'70'</li><li>'71'</li><li>'72'</li><li>'73'</li><li>'74'</li><li>'75'</li><li>'76'</li><li>'77'</li><li>'78'</li><li>'79'</li><li>'80'</li><li>'81'</li><li>'82'</li><li>'83'</li><li>'84'</li><li>'85'</li><li>'86'</li><li>'87'</li><li>'88'</li><li>'89'</li><li>'90'</li><li>'91'</li><li>'92'</li><li>'93'</li><li>'94'</li><li>'95'</li><li>'96'</li><li>'97'</li><li>'98'</li><li>'99'</li><li>'100'</li></ol>\n",
       "</details>"
      ],
      "text/latex": [
       "\\begin{enumerate*}\n",
       "\\item 85\n",
       "\\item 21\n",
       "\\item 29\n",
       "\\item 51\n",
       "\\item 83\n",
       "\\item 86\n",
       "\\item 64\n",
       "\\item 57\n",
       "\\item 48\n",
       "\\item 43\n",
       "\\item 55\n",
       "\\item 49\n",
       "\\item 39\n",
       "\\item 38\n",
       "\\item 95\n",
       "\\item 94\n",
       "\\item 93\n",
       "\\item 77\n",
       "\\item 8\n",
       "\\item 14\n",
       "\\item 52\n",
       "\\item 100\n",
       "\\item 92\n",
       "\\item 99\n",
       "\\item 98\n",
       "\\item 91\n",
       "\\item 90\n",
       "\\item 89\n",
       "\\item 88\n",
       "\\item 87\n",
       "\\item 84\n",
       "\\item 82\n",
       "\\item 70\n",
       "\\item 67\n",
       "\\item 97\n",
       "\\item 96\n",
       "\\item 59\n",
       "\\item 1\n",
       "\\item 3\n",
       "\\item 81\n",
       "\\item 80\n",
       "\\item 79\n",
       "\\item 78\n",
       "\\item 76\n",
       "\\item 75\n",
       "\\item 74\n",
       "\\item 73\n",
       "\\item 72\n",
       "\\item 71\n",
       "\\item 69\n",
       "\\item 68\n",
       "\\item 66\n",
       "\\item 65\n",
       "\\item 63\n",
       "\\item 62\n",
       "\\item 61\n",
       "\\item 60\n",
       "\\item 28\n",
       "\\item 27\n",
       "\\item 26\n",
       "\\item 25\n",
       "\\item 24\n",
       "\\item 23\n",
       "\\item 22\n",
       "\\item 20\n",
       "\\item 19\n",
       "\\item 18\n",
       "\\item 17\n",
       "\\item 16\n",
       "\\item 15\n",
       "\\item 13\n",
       "\\item 12\n",
       "\\item 11\n",
       "\\item 9\n",
       "\\item 7\n",
       "\\item 6\n",
       "\\item 5\n",
       "\\item 4\n",
       "\\item 2\n",
       "\\item 37\n",
       "\\item 36\n",
       "\\item 35\n",
       "\\item 34\n",
       "\\item 33\n",
       "\\item 32\n",
       "\\item 31\n",
       "\\item 30\n",
       "\\item 58\n",
       "\\item 56\n",
       "\\item 54\n",
       "\\item 53\n",
       "\\item 50\n",
       "\\item 47\n",
       "\\item 46\n",
       "\\item 45\n",
       "\\item 44\n",
       "\\item 42\n",
       "\\item 41\n",
       "\\item 40\n",
       "\\end{enumerate*}\n",
       "\n",
       "\\emph{Levels}: \\begin{enumerate*}\n",
       "\\item '1'\n",
       "\\item '2'\n",
       "\\item '3'\n",
       "\\item '4'\n",
       "\\item '5'\n",
       "\\item '6'\n",
       "\\item '7'\n",
       "\\item '8'\n",
       "\\item '9'\n",
       "\\item '11'\n",
       "\\item '12'\n",
       "\\item '13'\n",
       "\\item '14'\n",
       "\\item '15'\n",
       "\\item '16'\n",
       "\\item '17'\n",
       "\\item '18'\n",
       "\\item '19'\n",
       "\\item '20'\n",
       "\\item '21'\n",
       "\\item '22'\n",
       "\\item '23'\n",
       "\\item '24'\n",
       "\\item '25'\n",
       "\\item '26'\n",
       "\\item '27'\n",
       "\\item '28'\n",
       "\\item '29'\n",
       "\\item '30'\n",
       "\\item '31'\n",
       "\\item '32'\n",
       "\\item '33'\n",
       "\\item '34'\n",
       "\\item '35'\n",
       "\\item '36'\n",
       "\\item '37'\n",
       "\\item '38'\n",
       "\\item '39'\n",
       "\\item '40'\n",
       "\\item '41'\n",
       "\\item '42'\n",
       "\\item '43'\n",
       "\\item '44'\n",
       "\\item '45'\n",
       "\\item '46'\n",
       "\\item '47'\n",
       "\\item '48'\n",
       "\\item '49'\n",
       "\\item '50'\n",
       "\\item '51'\n",
       "\\item '52'\n",
       "\\item '53'\n",
       "\\item '54'\n",
       "\\item '55'\n",
       "\\item '56'\n",
       "\\item '57'\n",
       "\\item '58'\n",
       "\\item '59'\n",
       "\\item '60'\n",
       "\\item '61'\n",
       "\\item '62'\n",
       "\\item '63'\n",
       "\\item '64'\n",
       "\\item '65'\n",
       "\\item '66'\n",
       "\\item '67'\n",
       "\\item '68'\n",
       "\\item '69'\n",
       "\\item '70'\n",
       "\\item '71'\n",
       "\\item '72'\n",
       "\\item '73'\n",
       "\\item '74'\n",
       "\\item '75'\n",
       "\\item '76'\n",
       "\\item '77'\n",
       "\\item '78'\n",
       "\\item '79'\n",
       "\\item '80'\n",
       "\\item '81'\n",
       "\\item '82'\n",
       "\\item '83'\n",
       "\\item '84'\n",
       "\\item '85'\n",
       "\\item '86'\n",
       "\\item '87'\n",
       "\\item '88'\n",
       "\\item '89'\n",
       "\\item '90'\n",
       "\\item '91'\n",
       "\\item '92'\n",
       "\\item '93'\n",
       "\\item '94'\n",
       "\\item '95'\n",
       "\\item '96'\n",
       "\\item '97'\n",
       "\\item '98'\n",
       "\\item '99'\n",
       "\\item '100'\n",
       "\\end{enumerate*}\n"
      ],
      "text/markdown": [
       "1. 85\n",
       "2. 21\n",
       "3. 29\n",
       "4. 51\n",
       "5. 83\n",
       "6. 86\n",
       "7. 64\n",
       "8. 57\n",
       "9. 48\n",
       "10. 43\n",
       "11. 55\n",
       "12. 49\n",
       "13. 39\n",
       "14. 38\n",
       "15. 95\n",
       "16. 94\n",
       "17. 93\n",
       "18. 77\n",
       "19. 8\n",
       "20. 14\n",
       "21. 52\n",
       "22. 100\n",
       "23. 92\n",
       "24. 99\n",
       "25. 98\n",
       "26. 91\n",
       "27. 90\n",
       "28. 89\n",
       "29. 88\n",
       "30. 87\n",
       "31. 84\n",
       "32. 82\n",
       "33. 70\n",
       "34. 67\n",
       "35. 97\n",
       "36. 96\n",
       "37. 59\n",
       "38. 1\n",
       "39. 3\n",
       "40. 81\n",
       "41. 80\n",
       "42. 79\n",
       "43. 78\n",
       "44. 76\n",
       "45. 75\n",
       "46. 74\n",
       "47. 73\n",
       "48. 72\n",
       "49. 71\n",
       "50. 69\n",
       "51. 68\n",
       "52. 66\n",
       "53. 65\n",
       "54. 63\n",
       "55. 62\n",
       "56. 61\n",
       "57. 60\n",
       "58. 28\n",
       "59. 27\n",
       "60. 26\n",
       "61. 25\n",
       "62. 24\n",
       "63. 23\n",
       "64. 22\n",
       "65. 20\n",
       "66. 19\n",
       "67. 18\n",
       "68. 17\n",
       "69. 16\n",
       "70. 15\n",
       "71. 13\n",
       "72. 12\n",
       "73. 11\n",
       "74. 9\n",
       "75. 7\n",
       "76. 6\n",
       "77. 5\n",
       "78. 4\n",
       "79. 2\n",
       "80. 37\n",
       "81. 36\n",
       "82. 35\n",
       "83. 34\n",
       "84. 33\n",
       "85. 32\n",
       "86. 31\n",
       "87. 30\n",
       "88. 58\n",
       "89. 56\n",
       "90. 54\n",
       "91. 53\n",
       "92. 50\n",
       "93. 47\n",
       "94. 46\n",
       "95. 45\n",
       "96. 44\n",
       "97. 42\n",
       "98. 41\n",
       "99. 40\n",
       "\n",
       "\n",
       "\n",
       "**Levels**: 1. '1'\n",
       "2. '2'\n",
       "3. '3'\n",
       "4. '4'\n",
       "5. '5'\n",
       "6. '6'\n",
       "7. '7'\n",
       "8. '8'\n",
       "9. '9'\n",
       "10. '11'\n",
       "11. '12'\n",
       "12. '13'\n",
       "13. '14'\n",
       "14. '15'\n",
       "15. '16'\n",
       "16. '17'\n",
       "17. '18'\n",
       "18. '19'\n",
       "19. '20'\n",
       "20. '21'\n",
       "21. '22'\n",
       "22. '23'\n",
       "23. '24'\n",
       "24. '25'\n",
       "25. '26'\n",
       "26. '27'\n",
       "27. '28'\n",
       "28. '29'\n",
       "29. '30'\n",
       "30. '31'\n",
       "31. '32'\n",
       "32. '33'\n",
       "33. '34'\n",
       "34. '35'\n",
       "35. '36'\n",
       "36. '37'\n",
       "37. '38'\n",
       "38. '39'\n",
       "39. '40'\n",
       "40. '41'\n",
       "41. '42'\n",
       "42. '43'\n",
       "43. '44'\n",
       "44. '45'\n",
       "45. '46'\n",
       "46. '47'\n",
       "47. '48'\n",
       "48. '49'\n",
       "49. '50'\n",
       "50. '51'\n",
       "51. '52'\n",
       "52. '53'\n",
       "53. '54'\n",
       "54. '55'\n",
       "55. '56'\n",
       "56. '57'\n",
       "57. '58'\n",
       "58. '59'\n",
       "59. '60'\n",
       "60. '61'\n",
       "61. '62'\n",
       "62. '63'\n",
       "63. '64'\n",
       "64. '65'\n",
       "65. '66'\n",
       "66. '67'\n",
       "67. '68'\n",
       "68. '69'\n",
       "69. '70'\n",
       "70. '71'\n",
       "71. '72'\n",
       "72. '73'\n",
       "73. '74'\n",
       "74. '75'\n",
       "75. '76'\n",
       "76. '77'\n",
       "77. '78'\n",
       "78. '79'\n",
       "79. '80'\n",
       "80. '81'\n",
       "81. '82'\n",
       "82. '83'\n",
       "83. '84'\n",
       "84. '85'\n",
       "85. '86'\n",
       "86. '87'\n",
       "87. '88'\n",
       "88. '89'\n",
       "89. '90'\n",
       "90. '91'\n",
       "91. '92'\n",
       "92. '93'\n",
       "93. '94'\n",
       "94. '95'\n",
       "95. '96'\n",
       "96. '97'\n",
       "97. '98'\n",
       "98. '99'\n",
       "99. '100'\n",
       "\n",
       "\n"
      ],
      "text/plain": [
       " [1] 85  21  29  51  83  86  64  57  48  43  55  49  39  38  95  94  93  77  8  \n",
       "[20] 14  52  100 92  99  98  91  90  89  88  87  84  82  70  67  97  96  59  1  \n",
       "[39] 3   81  80  79  78  76  75  74  73  72  71  69  68  66  65  63  62  61  60 \n",
       "[58] 28  27  26  25  24  23  22  20  19  18  17  16  15  13  12  11  9   7   6  \n",
       "[77] 5   4   2   37  36  35  34  33  32  31  30  58  56  54  53  50  47  46  45 \n",
       "[96] 44  42  41  40 \n",
       "99 Levels: 1 2 3 4 5 6 7 8 9 11 12 13 14 15 16 17 18 19 20 21 22 23 24 ... 100"
      ]
     },
     "metadata": {},
     "output_type": "display_data"
    }
   ],
   "source": [
    "sub_ids <-ldtword$Sub_ID %>% unique()\n",
    "sub_ids %>% length()\n",
    "sub_ids"
   ]
  },
  {
   "cell_type": "markdown",
   "id": "aggregate-jungle",
   "metadata": {},
   "source": [
    "Now we need to create a `for` loop that will fit a regression separately for each participant. We can do that step by step. Please read https://www.datacamp.com/community/tutorials/tutorial-on-loops-in-r if you are not familiar with how `for` loops work. We will create the following basic algorithm:\n",
    "\n",
    "1. Create an empty variable to store the intercepts for each subject\n",
    "2. Create an empty variable to store the slopes for each subject\n",
    "3. [Loop] - for each value of sub_ids:\n",
    "    - Extract the data for that subject and assign it to a temporary variable\n",
    "    - Fit a regression model to the extracted data and assign the output to a temporary variable\n",
    "    - Extract the intercept from the model variable, and append it to the empty intercept variable we created before\n",
    "    - Extract the slope from the model variable and append it to the empty slope variable we created before"
   ]
  },
  {
   "cell_type": "markdown",
   "id": "deluxe-prophet",
   "metadata": {},
   "source": [
    "Since this is a fairly advanced use of R programming, the basic code for this is provided below, but you need to fill out some missing details:\n",
    "- You will need to replace the `df1` variable with the name of your main data.frame that contains data for all subjects\n",
    "- In the line `sub_ml <- ` add a linear regression of D_RT as a function of Length. Use the `sub_data` in the linear regression call as an argument for `data = `\n",
    "\n",
    "\n",
    "Then run the cell below:"
   ]
  },
  {
   "cell_type": "code",
   "execution_count": 9,
   "id": "short-third",
   "metadata": {},
   "outputs": [],
   "source": [
    "sub_intercepts <- c() # create an empty variable to store the intercepts for each subject\n",
    "sub_slopes <- c() # create an empty variable to store the slopes for each subject\n",
    "\n",
    "# loop over sub_id values\n",
    "for (subject in sub_ids) {\n",
    "    sub_data <- filter(ldtword, Sub_ID == subject)  # extract data for the subject in each loop step\n",
    "    sub_ml <- lm(D_RT ~ Length, data=sub_data)  # run a regression for each subjects data\n",
    "    intercept <- coef(sub_ml)[1] # extract the intercept for the subject in each loop step\n",
    "    slope <- coef(sub_ml)[2] # extract the slope for the subject in each loop step\n",
    "    sub_intercepts <- c(sub_intercepts, intercept) # append the intercept of this subject to the vector of intercepts for each subject\n",
    "    sub_slopes <- c(sub_slopes, slope) # append the intercept of this subject to the vector of intercepts for each subject\n",
    "}"
   ]
  },
  {
   "cell_type": "markdown",
   "id": "optional-clerk",
   "metadata": {},
   "source": [
    "Now, both `sub_intercepts` and `sub_slopes` should be vectors with 99 values each. Show their contents in the cell below:"
   ]
  },
  {
   "cell_type": "code",
   "execution_count": 10,
   "id": "dried-reply",
   "metadata": {},
   "outputs": [
    {
     "data": {
      "text/html": [
       "<style>\n",
       ".dl-inline {width: auto; margin:0; padding: 0}\n",
       ".dl-inline>dt, .dl-inline>dd {float: none; width: auto; display: inline-block}\n",
       ".dl-inline>dt::after {content: \":\\0020\"; padding-right: .5ex}\n",
       ".dl-inline>dt:not(:first-of-type) {padding-left: .5ex}\n",
       "</style><dl class=dl-inline><dt>(Intercept)</dt><dd>598.525769811399</dd><dt>(Intercept)</dt><dd>644.076995407576</dd><dt>(Intercept)</dt><dd>576.808016441739</dd><dt>(Intercept)</dt><dd>917.977710774398</dd><dt>(Intercept)</dt><dd>551.601833594922</dd><dt>(Intercept)</dt><dd>484.797845156258</dd><dt>(Intercept)</dt><dd>475.445071968172</dd><dt>(Intercept)</dt><dd>515.492118348473</dd><dt>(Intercept)</dt><dd>521.664653602174</dd><dt>(Intercept)</dt><dd>605.180681875655</dd><dt>(Intercept)</dt><dd>388.430062772484</dd><dt>(Intercept)</dt><dd>420.965461791233</dd><dt>(Intercept)</dt><dd>451.054586017685</dd><dt>(Intercept)</dt><dd>596.869556153584</dd><dt>(Intercept)</dt><dd>686.998207939509</dd><dt>(Intercept)</dt><dd>347.783408255006</dd><dt>(Intercept)</dt><dd>472.295888479687</dd><dt>(Intercept)</dt><dd>631.439637048013</dd><dt>(Intercept)</dt><dd>568.095590294365</dd><dt>(Intercept)</dt><dd>440.040130222496</dd><dt>(Intercept)</dt><dd>469.784106129218</dd><dt>(Intercept)</dt><dd>555.609286105522</dd><dt>(Intercept)</dt><dd>526.088828092678</dd><dt>(Intercept)</dt><dd>475.120458622528</dd><dt>(Intercept)</dt><dd>536.793298286105</dd><dt>(Intercept)</dt><dd>724.232911204486</dd><dt>(Intercept)</dt><dd>723.210918749072</dd><dt>(Intercept)</dt><dd>636.26954971931</dd><dt>(Intercept)</dt><dd>643.851851979216</dd><dt>(Intercept)</dt><dd>607.084607957048</dd><dt>(Intercept)</dt><dd>528.579531905406</dd><dt>(Intercept)</dt><dd>549.821734523741</dd><dt>(Intercept)</dt><dd>531.368795264394</dd><dt>(Intercept)</dt><dd>512.051081312044</dd><dt>(Intercept)</dt><dd>483.868185469672</dd><dt>(Intercept)</dt><dd>713.603075112646</dd><dt>(Intercept)</dt><dd>460.02399155227</dd><dt>(Intercept)</dt><dd>469.117111145995</dd><dt>(Intercept)</dt><dd>538.948089047593</dd><dt>(Intercept)</dt><dd>572.317708857785</dd><dt>(Intercept)</dt><dd>523.981227136317</dd><dt>(Intercept)</dt><dd>454.604659212623</dd><dt>(Intercept)</dt><dd>675.270410764103</dd><dt>(Intercept)</dt><dd>559.050973795536</dd><dt>(Intercept)</dt><dd>463.894286717229</dd><dt>(Intercept)</dt><dd>549.620652312396</dd><dt>(Intercept)</dt><dd>458.830440970809</dd><dt>(Intercept)</dt><dd>585.45623704278</dd><dt>(Intercept)</dt><dd>498.043025408413</dd><dt>(Intercept)</dt><dd>566.132384770191</dd><dt>(Intercept)</dt><dd>518.73709379441</dd><dt>(Intercept)</dt><dd>499.924794565699</dd><dt>(Intercept)</dt><dd>653.322300129687</dd><dt>(Intercept)</dt><dd>635.019311832173</dd><dt>(Intercept)</dt><dd>539.450719558175</dd><dt>(Intercept)</dt><dd>703.285692008274</dd><dt>(Intercept)</dt><dd>448.488691424609</dd><dt>(Intercept)</dt><dd>613.259798607799</dd><dt>(Intercept)</dt><dd>870.539005950016</dd><dt>(Intercept)</dt><dd>390.409239472777</dd><dt>(Intercept)</dt><dd>469.896652624026</dd><dt>(Intercept)</dt><dd>515.91545068139</dd><dt>(Intercept)</dt><dd>542.520006099379</dd><dt>(Intercept)</dt><dd>834.253620182145</dd><dt>(Intercept)</dt><dd>612.857003624402</dd><dt>(Intercept)</dt><dd>604.397545108261</dd><dt>(Intercept)</dt><dd>468.645968199597</dd><dt>(Intercept)</dt><dd>554.350863418869</dd><dt>(Intercept)</dt><dd>504.293771500996</dd><dt>(Intercept)</dt><dd>576.052498528386</dd><dt>(Intercept)</dt><dd>438.525194611208</dd><dt>(Intercept)</dt><dd>524.887817454339</dd><dt>(Intercept)</dt><dd>428.732651955834</dd><dt>(Intercept)</dt><dd>533.679278420795</dd><dt>(Intercept)</dt><dd>852.981522311337</dd><dt>(Intercept)</dt><dd>531.866352192457</dd><dt>(Intercept)</dt><dd>486.706513243077</dd><dt>(Intercept)</dt><dd>438.497239041715</dd><dt>(Intercept)</dt><dd>689.009874173192</dd><dt>(Intercept)</dt><dd>550.457839758776</dd><dt>(Intercept)</dt><dd>584.47026433847</dd><dt>(Intercept)</dt><dd>609.549214583543</dd><dt>(Intercept)</dt><dd>510.082745536945</dd><dt>(Intercept)</dt><dd>518.992140000082</dd><dt>(Intercept)</dt><dd>599.371307080791</dd><dt>(Intercept)</dt><dd>800.053485645988</dd><dt>(Intercept)</dt><dd>505.379325890202</dd><dt>(Intercept)</dt><dd>492.50969716421</dd><dt>(Intercept)</dt><dd>354.345388523756</dd><dt>(Intercept)</dt><dd>743.703842215942</dd><dt>(Intercept)</dt><dd>528.134183373367</dd><dt>(Intercept)</dt><dd>492.076991875978</dd><dt>(Intercept)</dt><dd>445.168347063025</dd><dt>(Intercept)</dt><dd>509.381352270587</dd><dt>(Intercept)</dt><dd>435.811901555613</dd><dt>(Intercept)</dt><dd>527.661311554472</dd><dt>(Intercept)</dt><dd>461.13998027843</dd><dt>(Intercept)</dt><dd>484.149847467968</dd><dt>(Intercept)</dt><dd>651.919722548952</dd></dl>\n"
      ],
      "text/latex": [
       "\\begin{description*}\n",
       "\\item[(Intercept)] 598.525769811399\n",
       "\\item[(Intercept)] 644.076995407576\n",
       "\\item[(Intercept)] 576.808016441739\n",
       "\\item[(Intercept)] 917.977710774398\n",
       "\\item[(Intercept)] 551.601833594922\n",
       "\\item[(Intercept)] 484.797845156258\n",
       "\\item[(Intercept)] 475.445071968172\n",
       "\\item[(Intercept)] 515.492118348473\n",
       "\\item[(Intercept)] 521.664653602174\n",
       "\\item[(Intercept)] 605.180681875655\n",
       "\\item[(Intercept)] 388.430062772484\n",
       "\\item[(Intercept)] 420.965461791233\n",
       "\\item[(Intercept)] 451.054586017685\n",
       "\\item[(Intercept)] 596.869556153584\n",
       "\\item[(Intercept)] 686.998207939509\n",
       "\\item[(Intercept)] 347.783408255006\n",
       "\\item[(Intercept)] 472.295888479687\n",
       "\\item[(Intercept)] 631.439637048013\n",
       "\\item[(Intercept)] 568.095590294365\n",
       "\\item[(Intercept)] 440.040130222496\n",
       "\\item[(Intercept)] 469.784106129218\n",
       "\\item[(Intercept)] 555.609286105522\n",
       "\\item[(Intercept)] 526.088828092678\n",
       "\\item[(Intercept)] 475.120458622528\n",
       "\\item[(Intercept)] 536.793298286105\n",
       "\\item[(Intercept)] 724.232911204486\n",
       "\\item[(Intercept)] 723.210918749072\n",
       "\\item[(Intercept)] 636.26954971931\n",
       "\\item[(Intercept)] 643.851851979216\n",
       "\\item[(Intercept)] 607.084607957048\n",
       "\\item[(Intercept)] 528.579531905406\n",
       "\\item[(Intercept)] 549.821734523741\n",
       "\\item[(Intercept)] 531.368795264394\n",
       "\\item[(Intercept)] 512.051081312044\n",
       "\\item[(Intercept)] 483.868185469672\n",
       "\\item[(Intercept)] 713.603075112646\n",
       "\\item[(Intercept)] 460.02399155227\n",
       "\\item[(Intercept)] 469.117111145995\n",
       "\\item[(Intercept)] 538.948089047593\n",
       "\\item[(Intercept)] 572.317708857785\n",
       "\\item[(Intercept)] 523.981227136317\n",
       "\\item[(Intercept)] 454.604659212623\n",
       "\\item[(Intercept)] 675.270410764103\n",
       "\\item[(Intercept)] 559.050973795536\n",
       "\\item[(Intercept)] 463.894286717229\n",
       "\\item[(Intercept)] 549.620652312396\n",
       "\\item[(Intercept)] 458.830440970809\n",
       "\\item[(Intercept)] 585.45623704278\n",
       "\\item[(Intercept)] 498.043025408413\n",
       "\\item[(Intercept)] 566.132384770191\n",
       "\\item[(Intercept)] 518.73709379441\n",
       "\\item[(Intercept)] 499.924794565699\n",
       "\\item[(Intercept)] 653.322300129687\n",
       "\\item[(Intercept)] 635.019311832173\n",
       "\\item[(Intercept)] 539.450719558175\n",
       "\\item[(Intercept)] 703.285692008274\n",
       "\\item[(Intercept)] 448.488691424609\n",
       "\\item[(Intercept)] 613.259798607799\n",
       "\\item[(Intercept)] 870.539005950016\n",
       "\\item[(Intercept)] 390.409239472777\n",
       "\\item[(Intercept)] 469.896652624026\n",
       "\\item[(Intercept)] 515.91545068139\n",
       "\\item[(Intercept)] 542.520006099379\n",
       "\\item[(Intercept)] 834.253620182145\n",
       "\\item[(Intercept)] 612.857003624402\n",
       "\\item[(Intercept)] 604.397545108261\n",
       "\\item[(Intercept)] 468.645968199597\n",
       "\\item[(Intercept)] 554.350863418869\n",
       "\\item[(Intercept)] 504.293771500996\n",
       "\\item[(Intercept)] 576.052498528386\n",
       "\\item[(Intercept)] 438.525194611208\n",
       "\\item[(Intercept)] 524.887817454339\n",
       "\\item[(Intercept)] 428.732651955834\n",
       "\\item[(Intercept)] 533.679278420795\n",
       "\\item[(Intercept)] 852.981522311337\n",
       "\\item[(Intercept)] 531.866352192457\n",
       "\\item[(Intercept)] 486.706513243077\n",
       "\\item[(Intercept)] 438.497239041715\n",
       "\\item[(Intercept)] 689.009874173192\n",
       "\\item[(Intercept)] 550.457839758776\n",
       "\\item[(Intercept)] 584.47026433847\n",
       "\\item[(Intercept)] 609.549214583543\n",
       "\\item[(Intercept)] 510.082745536945\n",
       "\\item[(Intercept)] 518.992140000082\n",
       "\\item[(Intercept)] 599.371307080791\n",
       "\\item[(Intercept)] 800.053485645988\n",
       "\\item[(Intercept)] 505.379325890202\n",
       "\\item[(Intercept)] 492.50969716421\n",
       "\\item[(Intercept)] 354.345388523756\n",
       "\\item[(Intercept)] 743.703842215942\n",
       "\\item[(Intercept)] 528.134183373367\n",
       "\\item[(Intercept)] 492.076991875978\n",
       "\\item[(Intercept)] 445.168347063025\n",
       "\\item[(Intercept)] 509.381352270587\n",
       "\\item[(Intercept)] 435.811901555613\n",
       "\\item[(Intercept)] 527.661311554472\n",
       "\\item[(Intercept)] 461.13998027843\n",
       "\\item[(Intercept)] 484.149847467968\n",
       "\\item[(Intercept)] 651.919722548952\n",
       "\\end{description*}\n"
      ],
      "text/markdown": [
       "(Intercept)\n",
       ":   598.525769811399(Intercept)\n",
       ":   644.076995407576(Intercept)\n",
       ":   576.808016441739(Intercept)\n",
       ":   917.977710774398(Intercept)\n",
       ":   551.601833594922(Intercept)\n",
       ":   484.797845156258(Intercept)\n",
       ":   475.445071968172(Intercept)\n",
       ":   515.492118348473(Intercept)\n",
       ":   521.664653602174(Intercept)\n",
       ":   605.180681875655(Intercept)\n",
       ":   388.430062772484(Intercept)\n",
       ":   420.965461791233(Intercept)\n",
       ":   451.054586017685(Intercept)\n",
       ":   596.869556153584(Intercept)\n",
       ":   686.998207939509(Intercept)\n",
       ":   347.783408255006(Intercept)\n",
       ":   472.295888479687(Intercept)\n",
       ":   631.439637048013(Intercept)\n",
       ":   568.095590294365(Intercept)\n",
       ":   440.040130222496(Intercept)\n",
       ":   469.784106129218(Intercept)\n",
       ":   555.609286105522(Intercept)\n",
       ":   526.088828092678(Intercept)\n",
       ":   475.120458622528(Intercept)\n",
       ":   536.793298286105(Intercept)\n",
       ":   724.232911204486(Intercept)\n",
       ":   723.210918749072(Intercept)\n",
       ":   636.26954971931(Intercept)\n",
       ":   643.851851979216(Intercept)\n",
       ":   607.084607957048(Intercept)\n",
       ":   528.579531905406(Intercept)\n",
       ":   549.821734523741(Intercept)\n",
       ":   531.368795264394(Intercept)\n",
       ":   512.051081312044(Intercept)\n",
       ":   483.868185469672(Intercept)\n",
       ":   713.603075112646(Intercept)\n",
       ":   460.02399155227(Intercept)\n",
       ":   469.117111145995(Intercept)\n",
       ":   538.948089047593(Intercept)\n",
       ":   572.317708857785(Intercept)\n",
       ":   523.981227136317(Intercept)\n",
       ":   454.604659212623(Intercept)\n",
       ":   675.270410764103(Intercept)\n",
       ":   559.050973795536(Intercept)\n",
       ":   463.894286717229(Intercept)\n",
       ":   549.620652312396(Intercept)\n",
       ":   458.830440970809(Intercept)\n",
       ":   585.45623704278(Intercept)\n",
       ":   498.043025408413(Intercept)\n",
       ":   566.132384770191(Intercept)\n",
       ":   518.73709379441(Intercept)\n",
       ":   499.924794565699(Intercept)\n",
       ":   653.322300129687(Intercept)\n",
       ":   635.019311832173(Intercept)\n",
       ":   539.450719558175(Intercept)\n",
       ":   703.285692008274(Intercept)\n",
       ":   448.488691424609(Intercept)\n",
       ":   613.259798607799(Intercept)\n",
       ":   870.539005950016(Intercept)\n",
       ":   390.409239472777(Intercept)\n",
       ":   469.896652624026(Intercept)\n",
       ":   515.91545068139(Intercept)\n",
       ":   542.520006099379(Intercept)\n",
       ":   834.253620182145(Intercept)\n",
       ":   612.857003624402(Intercept)\n",
       ":   604.397545108261(Intercept)\n",
       ":   468.645968199597(Intercept)\n",
       ":   554.350863418869(Intercept)\n",
       ":   504.293771500996(Intercept)\n",
       ":   576.052498528386(Intercept)\n",
       ":   438.525194611208(Intercept)\n",
       ":   524.887817454339(Intercept)\n",
       ":   428.732651955834(Intercept)\n",
       ":   533.679278420795(Intercept)\n",
       ":   852.981522311337(Intercept)\n",
       ":   531.866352192457(Intercept)\n",
       ":   486.706513243077(Intercept)\n",
       ":   438.497239041715(Intercept)\n",
       ":   689.009874173192(Intercept)\n",
       ":   550.457839758776(Intercept)\n",
       ":   584.47026433847(Intercept)\n",
       ":   609.549214583543(Intercept)\n",
       ":   510.082745536945(Intercept)\n",
       ":   518.992140000082(Intercept)\n",
       ":   599.371307080791(Intercept)\n",
       ":   800.053485645988(Intercept)\n",
       ":   505.379325890202(Intercept)\n",
       ":   492.50969716421(Intercept)\n",
       ":   354.345388523756(Intercept)\n",
       ":   743.703842215942(Intercept)\n",
       ":   528.134183373367(Intercept)\n",
       ":   492.076991875978(Intercept)\n",
       ":   445.168347063025(Intercept)\n",
       ":   509.381352270587(Intercept)\n",
       ":   435.811901555613(Intercept)\n",
       ":   527.661311554472(Intercept)\n",
       ":   461.13998027843(Intercept)\n",
       ":   484.149847467968(Intercept)\n",
       ":   651.919722548952\n",
       "\n"
      ],
      "text/plain": [
       "(Intercept) (Intercept) (Intercept) (Intercept) (Intercept) (Intercept) \n",
       "   598.5258    644.0770    576.8080    917.9777    551.6018    484.7978 \n",
       "(Intercept) (Intercept) (Intercept) (Intercept) (Intercept) (Intercept) \n",
       "   475.4451    515.4921    521.6647    605.1807    388.4301    420.9655 \n",
       "(Intercept) (Intercept) (Intercept) (Intercept) (Intercept) (Intercept) \n",
       "   451.0546    596.8696    686.9982    347.7834    472.2959    631.4396 \n",
       "(Intercept) (Intercept) (Intercept) (Intercept) (Intercept) (Intercept) \n",
       "   568.0956    440.0401    469.7841    555.6093    526.0888    475.1205 \n",
       "(Intercept) (Intercept) (Intercept) (Intercept) (Intercept) (Intercept) \n",
       "   536.7933    724.2329    723.2109    636.2695    643.8519    607.0846 \n",
       "(Intercept) (Intercept) (Intercept) (Intercept) (Intercept) (Intercept) \n",
       "   528.5795    549.8217    531.3688    512.0511    483.8682    713.6031 \n",
       "(Intercept) (Intercept) (Intercept) (Intercept) (Intercept) (Intercept) \n",
       "   460.0240    469.1171    538.9481    572.3177    523.9812    454.6047 \n",
       "(Intercept) (Intercept) (Intercept) (Intercept) (Intercept) (Intercept) \n",
       "   675.2704    559.0510    463.8943    549.6207    458.8304    585.4562 \n",
       "(Intercept) (Intercept) (Intercept) (Intercept) (Intercept) (Intercept) \n",
       "   498.0430    566.1324    518.7371    499.9248    653.3223    635.0193 \n",
       "(Intercept) (Intercept) (Intercept) (Intercept) (Intercept) (Intercept) \n",
       "   539.4507    703.2857    448.4887    613.2598    870.5390    390.4092 \n",
       "(Intercept) (Intercept) (Intercept) (Intercept) (Intercept) (Intercept) \n",
       "   469.8967    515.9155    542.5200    834.2536    612.8570    604.3975 \n",
       "(Intercept) (Intercept) (Intercept) (Intercept) (Intercept) (Intercept) \n",
       "   468.6460    554.3509    504.2938    576.0525    438.5252    524.8878 \n",
       "(Intercept) (Intercept) (Intercept) (Intercept) (Intercept) (Intercept) \n",
       "   428.7327    533.6793    852.9815    531.8664    486.7065    438.4972 \n",
       "(Intercept) (Intercept) (Intercept) (Intercept) (Intercept) (Intercept) \n",
       "   689.0099    550.4578    584.4703    609.5492    510.0827    518.9921 \n",
       "(Intercept) (Intercept) (Intercept) (Intercept) (Intercept) (Intercept) \n",
       "   599.3713    800.0535    505.3793    492.5097    354.3454    743.7038 \n",
       "(Intercept) (Intercept) (Intercept) (Intercept) (Intercept) (Intercept) \n",
       "   528.1342    492.0770    445.1683    509.3814    435.8119    527.6613 \n",
       "(Intercept) (Intercept) (Intercept) \n",
       "   461.1400    484.1498    651.9197 "
      ]
     },
     "metadata": {},
     "output_type": "display_data"
    },
    {
     "data": {
      "text/html": [
       "<style>\n",
       ".dl-inline {width: auto; margin:0; padding: 0}\n",
       ".dl-inline>dt, .dl-inline>dd {float: none; width: auto; display: inline-block}\n",
       ".dl-inline>dt::after {content: \":\\0020\"; padding-right: .5ex}\n",
       ".dl-inline>dt:not(:first-of-type) {padding-left: .5ex}\n",
       "</style><dl class=dl-inline><dt>Length</dt><dd>13.9417794585987</dd><dt>Length</dt><dd>31.5779200068746</dd><dt>Length</dt><dd>49.9094136492688</dd><dt>Length</dt><dd>39.3845018637966</dd><dt>Length</dt><dd>11.191613729665</dd><dt>Length</dt><dd>36.9377761220962</dd><dt>Length</dt><dd>33.3572479231876</dd><dt>Length</dt><dd>31.2629747164072</dd><dt>Length</dt><dd>31.4051331031481</dd><dt>Length</dt><dd>30.3669951812818</dd><dt>Length</dt><dd>17.8822967344057</dd><dt>Length</dt><dd>33.8471349666903</dd><dt>Length</dt><dd>39.3050374547107</dd><dt>Length</dt><dd>32.7326389828948</dd><dt>Length</dt><dd>41.1965444234404</dd><dt>Length</dt><dd>39.886670134116</dd><dt>Length</dt><dd>15.3105233628726</dd><dt>Length</dt><dd>27.617072024916</dd><dt>Length</dt><dd>78.5238687466025</dd><dt>Length</dt><dd>16.697641724524</dd><dt>Length</dt><dd>27.1632757191147</dd><dt>Length</dt><dd>24.9029415083797</dd><dt>Length</dt><dd>18.6945719415892</dd><dt>Length</dt><dd>22.6498145908677</dd><dt>Length</dt><dd>11.3077559801114</dd><dt>Length</dt><dd>16.0065698986862</dd><dt>Length</dt><dd>18.6605102853702</dd><dt>Length</dt><dd>25.3013465237703</dd><dt>Length</dt><dd>48.8584321708959</dd><dt>Length</dt><dd>7.57749871343912</dd><dt>Length</dt><dd>8.74011208678902</dd><dt>Length</dt><dd>80.2003679641235</dd><dt>Length</dt><dd>29.1112887618495</dd><dt>Length</dt><dd>29.5275339719612</dd><dt>Length</dt><dd>22.7004288999912</dd><dt>Length</dt><dd>63.8007757459393</dd><dt>Length</dt><dd>40.4561985216473</dd><dt>Length</dt><dd>6.05549160169536</dd><dt>Length</dt><dd>24.2419209953691</dd><dt>Length</dt><dd>32.6191051589299</dd><dt>Length</dt><dd>30.1183362175345</dd><dt>Length</dt><dd>44.298832257896</dd><dt>Length</dt><dd>54.0828691388691</dd><dt>Length</dt><dd>27.7087586881822</dd><dt>Length</dt><dd>29.1186216213341</dd><dt>Length</dt><dd>46.6144413301057</dd><dt>Length</dt><dd>39.493917465931</dd><dt>Length</dt><dd>7.49899463476658</dd><dt>Length</dt><dd>48.6082518890579</dd><dt>Length</dt><dd>33.5842749350417</dd><dt>Length</dt><dd>21.5750971103742</dd><dt>Length</dt><dd>10.0618615763944</dd><dt>Length</dt><dd>24.3000624216366</dd><dt>Length</dt><dd>6.29006960101951</dd><dt>Length</dt><dd>113.370231710123</dd><dt>Length</dt><dd>7.01521199714412</dd><dt>Length</dt><dd>44.8410236001823</dd><dt>Length</dt><dd>22.6248461541027</dd><dt>Length</dt><dd>65.4526860845956</dd><dt>Length</dt><dd>50.8478202735949</dd><dt>Length</dt><dd>28.5956521804946</dd><dt>Length</dt><dd>8.03278778318216</dd><dt>Length</dt><dd>8.83951553503672</dd><dt>Length</dt><dd>22.6916128331259</dd><dt>Length</dt><dd>30.8289525781988</dd><dt>Length</dt><dd>10.0923355790431</dd><dt>Length</dt><dd>14.8509071508429</dd><dt>Length</dt><dd>18.6408622411815</dd><dt>Length</dt><dd>21.6908292594604</dd><dt>Length</dt><dd>11.3928406140372</dd><dt>Length</dt><dd>77.6025364088128</dd><dt>Length</dt><dd>14.0388549558355</dd><dt>Length</dt><dd>16.4063016604698</dd><dt>Length</dt><dd>12.6963048752776</dd><dt>Length</dt><dd>42.5864521722974</dd><dt>Length</dt><dd>39.2337804632314</dd><dt>Length</dt><dd>19.3016193607284</dd><dt>Length</dt><dd>20.4320278365109</dd><dt>Length</dt><dd>19.5962454699815</dd><dt>Length</dt><dd>12.6679409864312</dd><dt>Length</dt><dd>23.7868861234571</dd><dt>Length</dt><dd>42.6260573835859</dd><dt>Length</dt><dd>26.7762697668735</dd><dt>Length</dt><dd>13.9020007646234</dd><dt>Length</dt><dd>22.6929561841375</dd><dt>Length</dt><dd>33.2803112142874</dd><dt>Length</dt><dd>18.7532496310059</dd><dt>Length</dt><dd>19.9594232135898</dd><dt>Length</dt><dd>10.8277155541926</dd><dt>Length</dt><dd>16.7372370623326</dd><dt>Length</dt><dd>34.2514726719035</dd><dt>Length</dt><dd>12.0950162728876</dd><dt>Length</dt><dd>26.7438993273188</dd><dt>Length</dt><dd>36.0449070432452</dd><dt>Length</dt><dd>15.1984361739711</dd><dt>Length</dt><dd>20.4368738478405</dd><dt>Length</dt><dd>48.4688589050241</dd><dt>Length</dt><dd>8.71704697986577</dd><dt>Length</dt><dd>10.6941984363108</dd></dl>\n"
      ],
      "text/latex": [
       "\\begin{description*}\n",
       "\\item[Length] 13.9417794585987\n",
       "\\item[Length] 31.5779200068746\n",
       "\\item[Length] 49.9094136492688\n",
       "\\item[Length] 39.3845018637966\n",
       "\\item[Length] 11.191613729665\n",
       "\\item[Length] 36.9377761220962\n",
       "\\item[Length] 33.3572479231876\n",
       "\\item[Length] 31.2629747164072\n",
       "\\item[Length] 31.4051331031481\n",
       "\\item[Length] 30.3669951812818\n",
       "\\item[Length] 17.8822967344057\n",
       "\\item[Length] 33.8471349666903\n",
       "\\item[Length] 39.3050374547107\n",
       "\\item[Length] 32.7326389828948\n",
       "\\item[Length] 41.1965444234404\n",
       "\\item[Length] 39.886670134116\n",
       "\\item[Length] 15.3105233628726\n",
       "\\item[Length] 27.617072024916\n",
       "\\item[Length] 78.5238687466025\n",
       "\\item[Length] 16.697641724524\n",
       "\\item[Length] 27.1632757191147\n",
       "\\item[Length] 24.9029415083797\n",
       "\\item[Length] 18.6945719415892\n",
       "\\item[Length] 22.6498145908677\n",
       "\\item[Length] 11.3077559801114\n",
       "\\item[Length] 16.0065698986862\n",
       "\\item[Length] 18.6605102853702\n",
       "\\item[Length] 25.3013465237703\n",
       "\\item[Length] 48.8584321708959\n",
       "\\item[Length] 7.57749871343912\n",
       "\\item[Length] 8.74011208678902\n",
       "\\item[Length] 80.2003679641235\n",
       "\\item[Length] 29.1112887618495\n",
       "\\item[Length] 29.5275339719612\n",
       "\\item[Length] 22.7004288999912\n",
       "\\item[Length] 63.8007757459393\n",
       "\\item[Length] 40.4561985216473\n",
       "\\item[Length] 6.05549160169536\n",
       "\\item[Length] 24.2419209953691\n",
       "\\item[Length] 32.6191051589299\n",
       "\\item[Length] 30.1183362175345\n",
       "\\item[Length] 44.298832257896\n",
       "\\item[Length] 54.0828691388691\n",
       "\\item[Length] 27.7087586881822\n",
       "\\item[Length] 29.1186216213341\n",
       "\\item[Length] 46.6144413301057\n",
       "\\item[Length] 39.493917465931\n",
       "\\item[Length] 7.49899463476658\n",
       "\\item[Length] 48.6082518890579\n",
       "\\item[Length] 33.5842749350417\n",
       "\\item[Length] 21.5750971103742\n",
       "\\item[Length] 10.0618615763944\n",
       "\\item[Length] 24.3000624216366\n",
       "\\item[Length] 6.29006960101951\n",
       "\\item[Length] 113.370231710123\n",
       "\\item[Length] 7.01521199714412\n",
       "\\item[Length] 44.8410236001823\n",
       "\\item[Length] 22.6248461541027\n",
       "\\item[Length] 65.4526860845956\n",
       "\\item[Length] 50.8478202735949\n",
       "\\item[Length] 28.5956521804946\n",
       "\\item[Length] 8.03278778318216\n",
       "\\item[Length] 8.83951553503672\n",
       "\\item[Length] 22.6916128331259\n",
       "\\item[Length] 30.8289525781988\n",
       "\\item[Length] 10.0923355790431\n",
       "\\item[Length] 14.8509071508429\n",
       "\\item[Length] 18.6408622411815\n",
       "\\item[Length] 21.6908292594604\n",
       "\\item[Length] 11.3928406140372\n",
       "\\item[Length] 77.6025364088128\n",
       "\\item[Length] 14.0388549558355\n",
       "\\item[Length] 16.4063016604698\n",
       "\\item[Length] 12.6963048752776\n",
       "\\item[Length] 42.5864521722974\n",
       "\\item[Length] 39.2337804632314\n",
       "\\item[Length] 19.3016193607284\n",
       "\\item[Length] 20.4320278365109\n",
       "\\item[Length] 19.5962454699815\n",
       "\\item[Length] 12.6679409864312\n",
       "\\item[Length] 23.7868861234571\n",
       "\\item[Length] 42.6260573835859\n",
       "\\item[Length] 26.7762697668735\n",
       "\\item[Length] 13.9020007646234\n",
       "\\item[Length] 22.6929561841375\n",
       "\\item[Length] 33.2803112142874\n",
       "\\item[Length] 18.7532496310059\n",
       "\\item[Length] 19.9594232135898\n",
       "\\item[Length] 10.8277155541926\n",
       "\\item[Length] 16.7372370623326\n",
       "\\item[Length] 34.2514726719035\n",
       "\\item[Length] 12.0950162728876\n",
       "\\item[Length] 26.7438993273188\n",
       "\\item[Length] 36.0449070432452\n",
       "\\item[Length] 15.1984361739711\n",
       "\\item[Length] 20.4368738478405\n",
       "\\item[Length] 48.4688589050241\n",
       "\\item[Length] 8.71704697986577\n",
       "\\item[Length] 10.6941984363108\n",
       "\\end{description*}\n"
      ],
      "text/markdown": [
       "Length\n",
       ":   13.9417794585987Length\n",
       ":   31.5779200068746Length\n",
       ":   49.9094136492688Length\n",
       ":   39.3845018637966Length\n",
       ":   11.191613729665Length\n",
       ":   36.9377761220962Length\n",
       ":   33.3572479231876Length\n",
       ":   31.2629747164072Length\n",
       ":   31.4051331031481Length\n",
       ":   30.3669951812818Length\n",
       ":   17.8822967344057Length\n",
       ":   33.8471349666903Length\n",
       ":   39.3050374547107Length\n",
       ":   32.7326389828948Length\n",
       ":   41.1965444234404Length\n",
       ":   39.886670134116Length\n",
       ":   15.3105233628726Length\n",
       ":   27.617072024916Length\n",
       ":   78.5238687466025Length\n",
       ":   16.697641724524Length\n",
       ":   27.1632757191147Length\n",
       ":   24.9029415083797Length\n",
       ":   18.6945719415892Length\n",
       ":   22.6498145908677Length\n",
       ":   11.3077559801114Length\n",
       ":   16.0065698986862Length\n",
       ":   18.6605102853702Length\n",
       ":   25.3013465237703Length\n",
       ":   48.8584321708959Length\n",
       ":   7.57749871343912Length\n",
       ":   8.74011208678902Length\n",
       ":   80.2003679641235Length\n",
       ":   29.1112887618495Length\n",
       ":   29.5275339719612Length\n",
       ":   22.7004288999912Length\n",
       ":   63.8007757459393Length\n",
       ":   40.4561985216473Length\n",
       ":   6.05549160169536Length\n",
       ":   24.2419209953691Length\n",
       ":   32.6191051589299Length\n",
       ":   30.1183362175345Length\n",
       ":   44.298832257896Length\n",
       ":   54.0828691388691Length\n",
       ":   27.7087586881822Length\n",
       ":   29.1186216213341Length\n",
       ":   46.6144413301057Length\n",
       ":   39.493917465931Length\n",
       ":   7.49899463476658Length\n",
       ":   48.6082518890579Length\n",
       ":   33.5842749350417Length\n",
       ":   21.5750971103742Length\n",
       ":   10.0618615763944Length\n",
       ":   24.3000624216366Length\n",
       ":   6.29006960101951Length\n",
       ":   113.370231710123Length\n",
       ":   7.01521199714412Length\n",
       ":   44.8410236001823Length\n",
       ":   22.6248461541027Length\n",
       ":   65.4526860845956Length\n",
       ":   50.8478202735949Length\n",
       ":   28.5956521804946Length\n",
       ":   8.03278778318216Length\n",
       ":   8.83951553503672Length\n",
       ":   22.6916128331259Length\n",
       ":   30.8289525781988Length\n",
       ":   10.0923355790431Length\n",
       ":   14.8509071508429Length\n",
       ":   18.6408622411815Length\n",
       ":   21.6908292594604Length\n",
       ":   11.3928406140372Length\n",
       ":   77.6025364088128Length\n",
       ":   14.0388549558355Length\n",
       ":   16.4063016604698Length\n",
       ":   12.6963048752776Length\n",
       ":   42.5864521722974Length\n",
       ":   39.2337804632314Length\n",
       ":   19.3016193607284Length\n",
       ":   20.4320278365109Length\n",
       ":   19.5962454699815Length\n",
       ":   12.6679409864312Length\n",
       ":   23.7868861234571Length\n",
       ":   42.6260573835859Length\n",
       ":   26.7762697668735Length\n",
       ":   13.9020007646234Length\n",
       ":   22.6929561841375Length\n",
       ":   33.2803112142874Length\n",
       ":   18.7532496310059Length\n",
       ":   19.9594232135898Length\n",
       ":   10.8277155541926Length\n",
       ":   16.7372370623326Length\n",
       ":   34.2514726719035Length\n",
       ":   12.0950162728876Length\n",
       ":   26.7438993273188Length\n",
       ":   36.0449070432452Length\n",
       ":   15.1984361739711Length\n",
       ":   20.4368738478405Length\n",
       ":   48.4688589050241Length\n",
       ":   8.71704697986577Length\n",
       ":   10.6941984363108\n",
       "\n"
      ],
      "text/plain": [
       "    Length     Length     Length     Length     Length     Length     Length \n",
       " 13.941779  31.577920  49.909414  39.384502  11.191614  36.937776  33.357248 \n",
       "    Length     Length     Length     Length     Length     Length     Length \n",
       " 31.262975  31.405133  30.366995  17.882297  33.847135  39.305037  32.732639 \n",
       "    Length     Length     Length     Length     Length     Length     Length \n",
       " 41.196544  39.886670  15.310523  27.617072  78.523869  16.697642  27.163276 \n",
       "    Length     Length     Length     Length     Length     Length     Length \n",
       " 24.902942  18.694572  22.649815  11.307756  16.006570  18.660510  25.301347 \n",
       "    Length     Length     Length     Length     Length     Length     Length \n",
       " 48.858432   7.577499   8.740112  80.200368  29.111289  29.527534  22.700429 \n",
       "    Length     Length     Length     Length     Length     Length     Length \n",
       " 63.800776  40.456199   6.055492  24.241921  32.619105  30.118336  44.298832 \n",
       "    Length     Length     Length     Length     Length     Length     Length \n",
       " 54.082869  27.708759  29.118622  46.614441  39.493917   7.498995  48.608252 \n",
       "    Length     Length     Length     Length     Length     Length     Length \n",
       " 33.584275  21.575097  10.061862  24.300062   6.290070 113.370232   7.015212 \n",
       "    Length     Length     Length     Length     Length     Length     Length \n",
       " 44.841024  22.624846  65.452686  50.847820  28.595652   8.032788   8.839516 \n",
       "    Length     Length     Length     Length     Length     Length     Length \n",
       " 22.691613  30.828953  10.092336  14.850907  18.640862  21.690829  11.392841 \n",
       "    Length     Length     Length     Length     Length     Length     Length \n",
       " 77.602536  14.038855  16.406302  12.696305  42.586452  39.233780  19.301619 \n",
       "    Length     Length     Length     Length     Length     Length     Length \n",
       " 20.432028  19.596245  12.667941  23.786886  42.626057  26.776270  13.902001 \n",
       "    Length     Length     Length     Length     Length     Length     Length \n",
       " 22.692956  33.280311  18.753250  19.959423  10.827716  16.737237  34.251473 \n",
       "    Length     Length     Length     Length     Length     Length     Length \n",
       " 12.095016  26.743899  36.044907  15.198436  20.436874  48.468859   8.717047 \n",
       "    Length \n",
       " 10.694198 "
      ]
     },
     "metadata": {},
     "output_type": "display_data"
    }
   ],
   "source": [
    "sub_intercepts\n",
    "sub_slopes"
   ]
  },
  {
   "cell_type": "markdown",
   "id": "international-builder",
   "metadata": {},
   "source": [
    "Let's combine `sub_ids`, `sub_intercepts` and `sub_slopes` in a new data.frame with 3 columns named `id`, `intercept` and `slope` that correspond to each of these variables. The data.frame should have 99 rows, one row for each subject. Assign the result to a new variable called `sub_lm_coefs` and show it's contents:"
   ]
  },
  {
   "cell_type": "code",
   "execution_count": 11,
   "id": "excited-corner",
   "metadata": {
    "tags": []
   },
   "outputs": [
    {
     "data": {
      "text/html": [
       "<table class=\"dataframe\">\n",
       "<caption>A data.frame: 99 × 3</caption>\n",
       "<thead>\n",
       "\t<tr><th scope=col>id</th><th scope=col>intercept</th><th scope=col>slope</th></tr>\n",
       "\t<tr><th scope=col>&lt;fct&gt;</th><th scope=col>&lt;dbl&gt;</th><th scope=col>&lt;dbl&gt;</th></tr>\n",
       "</thead>\n",
       "<tbody>\n",
       "\t<tr><td>85 </td><td>598.5258</td><td>13.941779</td></tr>\n",
       "\t<tr><td>21 </td><td>644.0770</td><td>31.577920</td></tr>\n",
       "\t<tr><td>29 </td><td>576.8080</td><td>49.909414</td></tr>\n",
       "\t<tr><td>51 </td><td>917.9777</td><td>39.384502</td></tr>\n",
       "\t<tr><td>83 </td><td>551.6018</td><td>11.191614</td></tr>\n",
       "\t<tr><td>86 </td><td>484.7978</td><td>36.937776</td></tr>\n",
       "\t<tr><td>64 </td><td>475.4451</td><td>33.357248</td></tr>\n",
       "\t<tr><td>57 </td><td>515.4921</td><td>31.262975</td></tr>\n",
       "\t<tr><td>48 </td><td>521.6647</td><td>31.405133</td></tr>\n",
       "\t<tr><td>43 </td><td>605.1807</td><td>30.366995</td></tr>\n",
       "\t<tr><td>55 </td><td>388.4301</td><td>17.882297</td></tr>\n",
       "\t<tr><td>49 </td><td>420.9655</td><td>33.847135</td></tr>\n",
       "\t<tr><td>39 </td><td>451.0546</td><td>39.305037</td></tr>\n",
       "\t<tr><td>38 </td><td>596.8696</td><td>32.732639</td></tr>\n",
       "\t<tr><td>95 </td><td>686.9982</td><td>41.196544</td></tr>\n",
       "\t<tr><td>94 </td><td>347.7834</td><td>39.886670</td></tr>\n",
       "\t<tr><td>93 </td><td>472.2959</td><td>15.310523</td></tr>\n",
       "\t<tr><td>77 </td><td>631.4396</td><td>27.617072</td></tr>\n",
       "\t<tr><td>8  </td><td>568.0956</td><td>78.523869</td></tr>\n",
       "\t<tr><td>14 </td><td>440.0401</td><td>16.697642</td></tr>\n",
       "\t<tr><td>52 </td><td>469.7841</td><td>27.163276</td></tr>\n",
       "\t<tr><td>100</td><td>555.6093</td><td>24.902942</td></tr>\n",
       "\t<tr><td>92 </td><td>526.0888</td><td>18.694572</td></tr>\n",
       "\t<tr><td>99 </td><td>475.1205</td><td>22.649815</td></tr>\n",
       "\t<tr><td>98 </td><td>536.7933</td><td>11.307756</td></tr>\n",
       "\t<tr><td>91 </td><td>724.2329</td><td>16.006570</td></tr>\n",
       "\t<tr><td>90 </td><td>723.2109</td><td>18.660510</td></tr>\n",
       "\t<tr><td>89 </td><td>636.2695</td><td>25.301347</td></tr>\n",
       "\t<tr><td>88 </td><td>643.8519</td><td>48.858432</td></tr>\n",
       "\t<tr><td>87 </td><td>607.0846</td><td> 7.577499</td></tr>\n",
       "\t<tr><td>...</td><td>...</td><td>...</td></tr>\n",
       "\t<tr><td>15</td><td>576.0525</td><td>11.392841</td></tr>\n",
       "\t<tr><td>13</td><td>438.5252</td><td>77.602536</td></tr>\n",
       "\t<tr><td>12</td><td>524.8878</td><td>14.038855</td></tr>\n",
       "\t<tr><td>11</td><td>428.7327</td><td>16.406302</td></tr>\n",
       "\t<tr><td>9 </td><td>533.6793</td><td>12.696305</td></tr>\n",
       "\t<tr><td>7 </td><td>852.9815</td><td>42.586452</td></tr>\n",
       "\t<tr><td>6 </td><td>531.8664</td><td>39.233780</td></tr>\n",
       "\t<tr><td>5 </td><td>486.7065</td><td>19.301619</td></tr>\n",
       "\t<tr><td>4 </td><td>438.4972</td><td>20.432028</td></tr>\n",
       "\t<tr><td>2 </td><td>689.0099</td><td>19.596245</td></tr>\n",
       "\t<tr><td>37</td><td>550.4578</td><td>12.667941</td></tr>\n",
       "\t<tr><td>36</td><td>584.4703</td><td>23.786886</td></tr>\n",
       "\t<tr><td>35</td><td>609.5492</td><td>42.626057</td></tr>\n",
       "\t<tr><td>34</td><td>510.0827</td><td>26.776270</td></tr>\n",
       "\t<tr><td>33</td><td>518.9921</td><td>13.902001</td></tr>\n",
       "\t<tr><td>32</td><td>599.3713</td><td>22.692956</td></tr>\n",
       "\t<tr><td>31</td><td>800.0535</td><td>33.280311</td></tr>\n",
       "\t<tr><td>30</td><td>505.3793</td><td>18.753250</td></tr>\n",
       "\t<tr><td>58</td><td>492.5097</td><td>19.959423</td></tr>\n",
       "\t<tr><td>56</td><td>354.3454</td><td>10.827716</td></tr>\n",
       "\t<tr><td>54</td><td>743.7038</td><td>16.737237</td></tr>\n",
       "\t<tr><td>53</td><td>528.1342</td><td>34.251473</td></tr>\n",
       "\t<tr><td>50</td><td>492.0770</td><td>12.095016</td></tr>\n",
       "\t<tr><td>47</td><td>445.1683</td><td>26.743899</td></tr>\n",
       "\t<tr><td>46</td><td>509.3814</td><td>36.044907</td></tr>\n",
       "\t<tr><td>45</td><td>435.8119</td><td>15.198436</td></tr>\n",
       "\t<tr><td>44</td><td>527.6613</td><td>20.436874</td></tr>\n",
       "\t<tr><td>42</td><td>461.1400</td><td>48.468859</td></tr>\n",
       "\t<tr><td>41</td><td>484.1498</td><td> 8.717047</td></tr>\n",
       "\t<tr><td>40</td><td>651.9197</td><td>10.694198</td></tr>\n",
       "</tbody>\n",
       "</table>\n"
      ],
      "text/latex": [
       "A data.frame: 99 × 3\n",
       "\\begin{tabular}{lll}\n",
       " id & intercept & slope\\\\\n",
       " <fct> & <dbl> & <dbl>\\\\\n",
       "\\hline\n",
       "\t 85  & 598.5258 & 13.941779\\\\\n",
       "\t 21  & 644.0770 & 31.577920\\\\\n",
       "\t 29  & 576.8080 & 49.909414\\\\\n",
       "\t 51  & 917.9777 & 39.384502\\\\\n",
       "\t 83  & 551.6018 & 11.191614\\\\\n",
       "\t 86  & 484.7978 & 36.937776\\\\\n",
       "\t 64  & 475.4451 & 33.357248\\\\\n",
       "\t 57  & 515.4921 & 31.262975\\\\\n",
       "\t 48  & 521.6647 & 31.405133\\\\\n",
       "\t 43  & 605.1807 & 30.366995\\\\\n",
       "\t 55  & 388.4301 & 17.882297\\\\\n",
       "\t 49  & 420.9655 & 33.847135\\\\\n",
       "\t 39  & 451.0546 & 39.305037\\\\\n",
       "\t 38  & 596.8696 & 32.732639\\\\\n",
       "\t 95  & 686.9982 & 41.196544\\\\\n",
       "\t 94  & 347.7834 & 39.886670\\\\\n",
       "\t 93  & 472.2959 & 15.310523\\\\\n",
       "\t 77  & 631.4396 & 27.617072\\\\\n",
       "\t 8   & 568.0956 & 78.523869\\\\\n",
       "\t 14  & 440.0401 & 16.697642\\\\\n",
       "\t 52  & 469.7841 & 27.163276\\\\\n",
       "\t 100 & 555.6093 & 24.902942\\\\\n",
       "\t 92  & 526.0888 & 18.694572\\\\\n",
       "\t 99  & 475.1205 & 22.649815\\\\\n",
       "\t 98  & 536.7933 & 11.307756\\\\\n",
       "\t 91  & 724.2329 & 16.006570\\\\\n",
       "\t 90  & 723.2109 & 18.660510\\\\\n",
       "\t 89  & 636.2695 & 25.301347\\\\\n",
       "\t 88  & 643.8519 & 48.858432\\\\\n",
       "\t 87  & 607.0846 &  7.577499\\\\\n",
       "\t ... & ... & ...\\\\\n",
       "\t 15 & 576.0525 & 11.392841\\\\\n",
       "\t 13 & 438.5252 & 77.602536\\\\\n",
       "\t 12 & 524.8878 & 14.038855\\\\\n",
       "\t 11 & 428.7327 & 16.406302\\\\\n",
       "\t 9  & 533.6793 & 12.696305\\\\\n",
       "\t 7  & 852.9815 & 42.586452\\\\\n",
       "\t 6  & 531.8664 & 39.233780\\\\\n",
       "\t 5  & 486.7065 & 19.301619\\\\\n",
       "\t 4  & 438.4972 & 20.432028\\\\\n",
       "\t 2  & 689.0099 & 19.596245\\\\\n",
       "\t 37 & 550.4578 & 12.667941\\\\\n",
       "\t 36 & 584.4703 & 23.786886\\\\\n",
       "\t 35 & 609.5492 & 42.626057\\\\\n",
       "\t 34 & 510.0827 & 26.776270\\\\\n",
       "\t 33 & 518.9921 & 13.902001\\\\\n",
       "\t 32 & 599.3713 & 22.692956\\\\\n",
       "\t 31 & 800.0535 & 33.280311\\\\\n",
       "\t 30 & 505.3793 & 18.753250\\\\\n",
       "\t 58 & 492.5097 & 19.959423\\\\\n",
       "\t 56 & 354.3454 & 10.827716\\\\\n",
       "\t 54 & 743.7038 & 16.737237\\\\\n",
       "\t 53 & 528.1342 & 34.251473\\\\\n",
       "\t 50 & 492.0770 & 12.095016\\\\\n",
       "\t 47 & 445.1683 & 26.743899\\\\\n",
       "\t 46 & 509.3814 & 36.044907\\\\\n",
       "\t 45 & 435.8119 & 15.198436\\\\\n",
       "\t 44 & 527.6613 & 20.436874\\\\\n",
       "\t 42 & 461.1400 & 48.468859\\\\\n",
       "\t 41 & 484.1498 &  8.717047\\\\\n",
       "\t 40 & 651.9197 & 10.694198\\\\\n",
       "\\end{tabular}\n"
      ],
      "text/markdown": [
       "\n",
       "A data.frame: 99 × 3\n",
       "\n",
       "| id &lt;fct&gt; | intercept &lt;dbl&gt; | slope &lt;dbl&gt; |\n",
       "|---|---|---|\n",
       "| 85  | 598.5258 | 13.941779 |\n",
       "| 21  | 644.0770 | 31.577920 |\n",
       "| 29  | 576.8080 | 49.909414 |\n",
       "| 51  | 917.9777 | 39.384502 |\n",
       "| 83  | 551.6018 | 11.191614 |\n",
       "| 86  | 484.7978 | 36.937776 |\n",
       "| 64  | 475.4451 | 33.357248 |\n",
       "| 57  | 515.4921 | 31.262975 |\n",
       "| 48  | 521.6647 | 31.405133 |\n",
       "| 43  | 605.1807 | 30.366995 |\n",
       "| 55  | 388.4301 | 17.882297 |\n",
       "| 49  | 420.9655 | 33.847135 |\n",
       "| 39  | 451.0546 | 39.305037 |\n",
       "| 38  | 596.8696 | 32.732639 |\n",
       "| 95  | 686.9982 | 41.196544 |\n",
       "| 94  | 347.7834 | 39.886670 |\n",
       "| 93  | 472.2959 | 15.310523 |\n",
       "| 77  | 631.4396 | 27.617072 |\n",
       "| 8   | 568.0956 | 78.523869 |\n",
       "| 14  | 440.0401 | 16.697642 |\n",
       "| 52  | 469.7841 | 27.163276 |\n",
       "| 100 | 555.6093 | 24.902942 |\n",
       "| 92  | 526.0888 | 18.694572 |\n",
       "| 99  | 475.1205 | 22.649815 |\n",
       "| 98  | 536.7933 | 11.307756 |\n",
       "| 91  | 724.2329 | 16.006570 |\n",
       "| 90  | 723.2109 | 18.660510 |\n",
       "| 89  | 636.2695 | 25.301347 |\n",
       "| 88  | 643.8519 | 48.858432 |\n",
       "| 87  | 607.0846 |  7.577499 |\n",
       "| ... | ... | ... |\n",
       "| 15 | 576.0525 | 11.392841 |\n",
       "| 13 | 438.5252 | 77.602536 |\n",
       "| 12 | 524.8878 | 14.038855 |\n",
       "| 11 | 428.7327 | 16.406302 |\n",
       "| 9  | 533.6793 | 12.696305 |\n",
       "| 7  | 852.9815 | 42.586452 |\n",
       "| 6  | 531.8664 | 39.233780 |\n",
       "| 5  | 486.7065 | 19.301619 |\n",
       "| 4  | 438.4972 | 20.432028 |\n",
       "| 2  | 689.0099 | 19.596245 |\n",
       "| 37 | 550.4578 | 12.667941 |\n",
       "| 36 | 584.4703 | 23.786886 |\n",
       "| 35 | 609.5492 | 42.626057 |\n",
       "| 34 | 510.0827 | 26.776270 |\n",
       "| 33 | 518.9921 | 13.902001 |\n",
       "| 32 | 599.3713 | 22.692956 |\n",
       "| 31 | 800.0535 | 33.280311 |\n",
       "| 30 | 505.3793 | 18.753250 |\n",
       "| 58 | 492.5097 | 19.959423 |\n",
       "| 56 | 354.3454 | 10.827716 |\n",
       "| 54 | 743.7038 | 16.737237 |\n",
       "| 53 | 528.1342 | 34.251473 |\n",
       "| 50 | 492.0770 | 12.095016 |\n",
       "| 47 | 445.1683 | 26.743899 |\n",
       "| 46 | 509.3814 | 36.044907 |\n",
       "| 45 | 435.8119 | 15.198436 |\n",
       "| 44 | 527.6613 | 20.436874 |\n",
       "| 42 | 461.1400 | 48.468859 |\n",
       "| 41 | 484.1498 |  8.717047 |\n",
       "| 40 | 651.9197 | 10.694198 |\n",
       "\n"
      ],
      "text/plain": [
       "    id  intercept slope    \n",
       "1   85  598.5258  13.941779\n",
       "2   21  644.0770  31.577920\n",
       "3   29  576.8080  49.909414\n",
       "4   51  917.9777  39.384502\n",
       "5   83  551.6018  11.191614\n",
       "6   86  484.7978  36.937776\n",
       "7   64  475.4451  33.357248\n",
       "8   57  515.4921  31.262975\n",
       "9   48  521.6647  31.405133\n",
       "10  43  605.1807  30.366995\n",
       "11  55  388.4301  17.882297\n",
       "12  49  420.9655  33.847135\n",
       "13  39  451.0546  39.305037\n",
       "14  38  596.8696  32.732639\n",
       "15  95  686.9982  41.196544\n",
       "16  94  347.7834  39.886670\n",
       "17  93  472.2959  15.310523\n",
       "18  77  631.4396  27.617072\n",
       "19  8   568.0956  78.523869\n",
       "20  14  440.0401  16.697642\n",
       "21  52  469.7841  27.163276\n",
       "22  100 555.6093  24.902942\n",
       "23  92  526.0888  18.694572\n",
       "24  99  475.1205  22.649815\n",
       "25  98  536.7933  11.307756\n",
       "26  91  724.2329  16.006570\n",
       "27  90  723.2109  18.660510\n",
       "28  89  636.2695  25.301347\n",
       "29  88  643.8519  48.858432\n",
       "30  87  607.0846   7.577499\n",
       "... ... ...       ...      \n",
       "70  15  576.0525  11.392841\n",
       "71  13  438.5252  77.602536\n",
       "72  12  524.8878  14.038855\n",
       "73  11  428.7327  16.406302\n",
       "74  9   533.6793  12.696305\n",
       "75  7   852.9815  42.586452\n",
       "76  6   531.8664  39.233780\n",
       "77  5   486.7065  19.301619\n",
       "78  4   438.4972  20.432028\n",
       "79  2   689.0099  19.596245\n",
       "80  37  550.4578  12.667941\n",
       "81  36  584.4703  23.786886\n",
       "82  35  609.5492  42.626057\n",
       "83  34  510.0827  26.776270\n",
       "84  33  518.9921  13.902001\n",
       "85  32  599.3713  22.692956\n",
       "86  31  800.0535  33.280311\n",
       "87  30  505.3793  18.753250\n",
       "88  58  492.5097  19.959423\n",
       "89  56  354.3454  10.827716\n",
       "90  54  743.7038  16.737237\n",
       "91  53  528.1342  34.251473\n",
       "92  50  492.0770  12.095016\n",
       "93  47  445.1683  26.743899\n",
       "94  46  509.3814  36.044907\n",
       "95  45  435.8119  15.198436\n",
       "96  44  527.6613  20.436874\n",
       "97  42  461.1400  48.468859\n",
       "98  41  484.1498   8.717047\n",
       "99  40  651.9197  10.694198"
      ]
     },
     "metadata": {},
     "output_type": "display_data"
    }
   ],
   "source": [
    "sub_lm_coefs <-data.frame(id=sub_ids, intercept=sub_intercepts, slope=sub_slopes)\n",
    "sub_lm_coefs"
   ]
  },
  {
   "cell_type": "markdown",
   "id": "right-dominican",
   "metadata": {},
   "source": [
    "Use the `arrange()` command from the `tidyverse` package to sort the data frame first by the intercept and then by the slope. Answer the following questions:\n",
    "- which subject has the slowest and which has the fastest intercept?\n",
    "- which subject has the steepest and the least steep slope? Explain their slope values in terms of how word length affects RTs\n",
    "- are there any subject for which Length affects RTs negatively?"
   ]
  },
  {
   "cell_type": "code",
   "execution_count": 12,
   "id": "quick-interaction",
   "metadata": {
    "tags": []
   },
   "outputs": [
    {
     "data": {
      "text/html": [
       "<table class=\"dataframe\">\n",
       "<caption>A data.frame: 99 × 3</caption>\n",
       "<thead>\n",
       "\t<tr><th scope=col>id</th><th scope=col>intercept</th><th scope=col>slope</th></tr>\n",
       "\t<tr><th scope=col>&lt;fct&gt;</th><th scope=col>&lt;dbl&gt;</th><th scope=col>&lt;dbl&gt;</th></tr>\n",
       "</thead>\n",
       "<tbody>\n",
       "\t<tr><td>94</td><td>347.7834</td><td>39.886670</td></tr>\n",
       "\t<tr><td>56</td><td>354.3454</td><td>10.827716</td></tr>\n",
       "\t<tr><td>55</td><td>388.4301</td><td>17.882297</td></tr>\n",
       "\t<tr><td>26</td><td>390.4092</td><td>50.847820</td></tr>\n",
       "\t<tr><td>49</td><td>420.9655</td><td>33.847135</td></tr>\n",
       "\t<tr><td>11</td><td>428.7327</td><td>16.406302</td></tr>\n",
       "\t<tr><td>45</td><td>435.8119</td><td>15.198436</td></tr>\n",
       "\t<tr><td>4 </td><td>438.4972</td><td>20.432028</td></tr>\n",
       "\t<tr><td>13</td><td>438.5252</td><td>77.602536</td></tr>\n",
       "\t<tr><td>14</td><td>440.0401</td><td>16.697642</td></tr>\n",
       "\t<tr><td>47</td><td>445.1683</td><td>26.743899</td></tr>\n",
       "\t<tr><td>60</td><td>448.4887</td><td>44.841024</td></tr>\n",
       "\t<tr><td>39</td><td>451.0546</td><td>39.305037</td></tr>\n",
       "\t<tr><td>79</td><td>454.6047</td><td>44.298832</td></tr>\n",
       "\t<tr><td>73</td><td>458.8304</td><td>39.493917</td></tr>\n",
       "\t<tr><td>59</td><td>460.0240</td><td>40.456199</td></tr>\n",
       "\t<tr><td>42</td><td>461.1400</td><td>48.468859</td></tr>\n",
       "\t<tr><td>75</td><td>463.8943</td><td>29.118622</td></tr>\n",
       "\t<tr><td>18</td><td>468.6460</td><td>14.850907</td></tr>\n",
       "\t<tr><td>1 </td><td>469.1171</td><td> 6.055492</td></tr>\n",
       "\t<tr><td>52</td><td>469.7841</td><td>27.163276</td></tr>\n",
       "\t<tr><td>25</td><td>469.8967</td><td>28.595652</td></tr>\n",
       "\t<tr><td>93</td><td>472.2959</td><td>15.310523</td></tr>\n",
       "\t<tr><td>99</td><td>475.1205</td><td>22.649815</td></tr>\n",
       "\t<tr><td>64</td><td>475.4451</td><td>33.357248</td></tr>\n",
       "\t<tr><td>97</td><td>483.8682</td><td>22.700429</td></tr>\n",
       "\t<tr><td>41</td><td>484.1498</td><td> 8.717047</td></tr>\n",
       "\t<tr><td>86</td><td>484.7978</td><td>36.937776</td></tr>\n",
       "\t<tr><td>5 </td><td>486.7065</td><td>19.301619</td></tr>\n",
       "\t<tr><td>50</td><td>492.0770</td><td>12.095016</td></tr>\n",
       "\t<tr><td>...</td><td>...</td><td>...</td></tr>\n",
       "\t<tr><td>72</td><td>585.4562</td><td> 7.498995</td></tr>\n",
       "\t<tr><td>38</td><td>596.8696</td><td>32.732639</td></tr>\n",
       "\t<tr><td>85</td><td>598.5258</td><td>13.941779</td></tr>\n",
       "\t<tr><td>32</td><td>599.3713</td><td>22.692956</td></tr>\n",
       "\t<tr><td>19</td><td>604.3975</td><td>10.092336</td></tr>\n",
       "\t<tr><td>43</td><td>605.1807</td><td>30.366995</td></tr>\n",
       "\t<tr><td>87</td><td>607.0846</td><td> 7.577499</td></tr>\n",
       "\t<tr><td>35</td><td>609.5492</td><td>42.626057</td></tr>\n",
       "\t<tr><td>20</td><td>612.8570</td><td>30.828953</td></tr>\n",
       "\t<tr><td>28</td><td>613.2598</td><td>22.624846</td></tr>\n",
       "\t<tr><td>77</td><td>631.4396</td><td>27.617072</td></tr>\n",
       "\t<tr><td>63</td><td>635.0193</td><td> 6.290070</td></tr>\n",
       "\t<tr><td>89</td><td>636.2695</td><td>25.301347</td></tr>\n",
       "\t<tr><td>88</td><td>643.8519</td><td>48.858432</td></tr>\n",
       "\t<tr><td>21</td><td>644.0770</td><td>31.577920</td></tr>\n",
       "\t<tr><td>40</td><td>651.9197</td><td>10.694198</td></tr>\n",
       "\t<tr><td>65</td><td>653.3223</td><td>24.300062</td></tr>\n",
       "\t<tr><td>78</td><td>675.2704</td><td>54.082869</td></tr>\n",
       "\t<tr><td>95</td><td>686.9982</td><td>41.196544</td></tr>\n",
       "\t<tr><td>2 </td><td>689.0099</td><td>19.596245</td></tr>\n",
       "\t<tr><td>61</td><td>703.2857</td><td> 7.015212</td></tr>\n",
       "\t<tr><td>96</td><td>713.6031</td><td>63.800776</td></tr>\n",
       "\t<tr><td>90</td><td>723.2109</td><td>18.660510</td></tr>\n",
       "\t<tr><td>91</td><td>724.2329</td><td>16.006570</td></tr>\n",
       "\t<tr><td>54</td><td>743.7038</td><td>16.737237</td></tr>\n",
       "\t<tr><td>31</td><td>800.0535</td><td>33.280311</td></tr>\n",
       "\t<tr><td>22</td><td>834.2536</td><td>22.691613</td></tr>\n",
       "\t<tr><td>7 </td><td>852.9815</td><td>42.586452</td></tr>\n",
       "\t<tr><td>27</td><td>870.5390</td><td>65.452686</td></tr>\n",
       "\t<tr><td>51</td><td>917.9777</td><td>39.384502</td></tr>\n",
       "</tbody>\n",
       "</table>\n"
      ],
      "text/latex": [
       "A data.frame: 99 × 3\n",
       "\\begin{tabular}{lll}\n",
       " id & intercept & slope\\\\\n",
       " <fct> & <dbl> & <dbl>\\\\\n",
       "\\hline\n",
       "\t 94 & 347.7834 & 39.886670\\\\\n",
       "\t 56 & 354.3454 & 10.827716\\\\\n",
       "\t 55 & 388.4301 & 17.882297\\\\\n",
       "\t 26 & 390.4092 & 50.847820\\\\\n",
       "\t 49 & 420.9655 & 33.847135\\\\\n",
       "\t 11 & 428.7327 & 16.406302\\\\\n",
       "\t 45 & 435.8119 & 15.198436\\\\\n",
       "\t 4  & 438.4972 & 20.432028\\\\\n",
       "\t 13 & 438.5252 & 77.602536\\\\\n",
       "\t 14 & 440.0401 & 16.697642\\\\\n",
       "\t 47 & 445.1683 & 26.743899\\\\\n",
       "\t 60 & 448.4887 & 44.841024\\\\\n",
       "\t 39 & 451.0546 & 39.305037\\\\\n",
       "\t 79 & 454.6047 & 44.298832\\\\\n",
       "\t 73 & 458.8304 & 39.493917\\\\\n",
       "\t 59 & 460.0240 & 40.456199\\\\\n",
       "\t 42 & 461.1400 & 48.468859\\\\\n",
       "\t 75 & 463.8943 & 29.118622\\\\\n",
       "\t 18 & 468.6460 & 14.850907\\\\\n",
       "\t 1  & 469.1171 &  6.055492\\\\\n",
       "\t 52 & 469.7841 & 27.163276\\\\\n",
       "\t 25 & 469.8967 & 28.595652\\\\\n",
       "\t 93 & 472.2959 & 15.310523\\\\\n",
       "\t 99 & 475.1205 & 22.649815\\\\\n",
       "\t 64 & 475.4451 & 33.357248\\\\\n",
       "\t 97 & 483.8682 & 22.700429\\\\\n",
       "\t 41 & 484.1498 &  8.717047\\\\\n",
       "\t 86 & 484.7978 & 36.937776\\\\\n",
       "\t 5  & 486.7065 & 19.301619\\\\\n",
       "\t 50 & 492.0770 & 12.095016\\\\\n",
       "\t ... & ... & ...\\\\\n",
       "\t 72 & 585.4562 &  7.498995\\\\\n",
       "\t 38 & 596.8696 & 32.732639\\\\\n",
       "\t 85 & 598.5258 & 13.941779\\\\\n",
       "\t 32 & 599.3713 & 22.692956\\\\\n",
       "\t 19 & 604.3975 & 10.092336\\\\\n",
       "\t 43 & 605.1807 & 30.366995\\\\\n",
       "\t 87 & 607.0846 &  7.577499\\\\\n",
       "\t 35 & 609.5492 & 42.626057\\\\\n",
       "\t 20 & 612.8570 & 30.828953\\\\\n",
       "\t 28 & 613.2598 & 22.624846\\\\\n",
       "\t 77 & 631.4396 & 27.617072\\\\\n",
       "\t 63 & 635.0193 &  6.290070\\\\\n",
       "\t 89 & 636.2695 & 25.301347\\\\\n",
       "\t 88 & 643.8519 & 48.858432\\\\\n",
       "\t 21 & 644.0770 & 31.577920\\\\\n",
       "\t 40 & 651.9197 & 10.694198\\\\\n",
       "\t 65 & 653.3223 & 24.300062\\\\\n",
       "\t 78 & 675.2704 & 54.082869\\\\\n",
       "\t 95 & 686.9982 & 41.196544\\\\\n",
       "\t 2  & 689.0099 & 19.596245\\\\\n",
       "\t 61 & 703.2857 &  7.015212\\\\\n",
       "\t 96 & 713.6031 & 63.800776\\\\\n",
       "\t 90 & 723.2109 & 18.660510\\\\\n",
       "\t 91 & 724.2329 & 16.006570\\\\\n",
       "\t 54 & 743.7038 & 16.737237\\\\\n",
       "\t 31 & 800.0535 & 33.280311\\\\\n",
       "\t 22 & 834.2536 & 22.691613\\\\\n",
       "\t 7  & 852.9815 & 42.586452\\\\\n",
       "\t 27 & 870.5390 & 65.452686\\\\\n",
       "\t 51 & 917.9777 & 39.384502\\\\\n",
       "\\end{tabular}\n"
      ],
      "text/markdown": [
       "\n",
       "A data.frame: 99 × 3\n",
       "\n",
       "| id &lt;fct&gt; | intercept &lt;dbl&gt; | slope &lt;dbl&gt; |\n",
       "|---|---|---|\n",
       "| 94 | 347.7834 | 39.886670 |\n",
       "| 56 | 354.3454 | 10.827716 |\n",
       "| 55 | 388.4301 | 17.882297 |\n",
       "| 26 | 390.4092 | 50.847820 |\n",
       "| 49 | 420.9655 | 33.847135 |\n",
       "| 11 | 428.7327 | 16.406302 |\n",
       "| 45 | 435.8119 | 15.198436 |\n",
       "| 4  | 438.4972 | 20.432028 |\n",
       "| 13 | 438.5252 | 77.602536 |\n",
       "| 14 | 440.0401 | 16.697642 |\n",
       "| 47 | 445.1683 | 26.743899 |\n",
       "| 60 | 448.4887 | 44.841024 |\n",
       "| 39 | 451.0546 | 39.305037 |\n",
       "| 79 | 454.6047 | 44.298832 |\n",
       "| 73 | 458.8304 | 39.493917 |\n",
       "| 59 | 460.0240 | 40.456199 |\n",
       "| 42 | 461.1400 | 48.468859 |\n",
       "| 75 | 463.8943 | 29.118622 |\n",
       "| 18 | 468.6460 | 14.850907 |\n",
       "| 1  | 469.1171 |  6.055492 |\n",
       "| 52 | 469.7841 | 27.163276 |\n",
       "| 25 | 469.8967 | 28.595652 |\n",
       "| 93 | 472.2959 | 15.310523 |\n",
       "| 99 | 475.1205 | 22.649815 |\n",
       "| 64 | 475.4451 | 33.357248 |\n",
       "| 97 | 483.8682 | 22.700429 |\n",
       "| 41 | 484.1498 |  8.717047 |\n",
       "| 86 | 484.7978 | 36.937776 |\n",
       "| 5  | 486.7065 | 19.301619 |\n",
       "| 50 | 492.0770 | 12.095016 |\n",
       "| ... | ... | ... |\n",
       "| 72 | 585.4562 |  7.498995 |\n",
       "| 38 | 596.8696 | 32.732639 |\n",
       "| 85 | 598.5258 | 13.941779 |\n",
       "| 32 | 599.3713 | 22.692956 |\n",
       "| 19 | 604.3975 | 10.092336 |\n",
       "| 43 | 605.1807 | 30.366995 |\n",
       "| 87 | 607.0846 |  7.577499 |\n",
       "| 35 | 609.5492 | 42.626057 |\n",
       "| 20 | 612.8570 | 30.828953 |\n",
       "| 28 | 613.2598 | 22.624846 |\n",
       "| 77 | 631.4396 | 27.617072 |\n",
       "| 63 | 635.0193 |  6.290070 |\n",
       "| 89 | 636.2695 | 25.301347 |\n",
       "| 88 | 643.8519 | 48.858432 |\n",
       "| 21 | 644.0770 | 31.577920 |\n",
       "| 40 | 651.9197 | 10.694198 |\n",
       "| 65 | 653.3223 | 24.300062 |\n",
       "| 78 | 675.2704 | 54.082869 |\n",
       "| 95 | 686.9982 | 41.196544 |\n",
       "| 2  | 689.0099 | 19.596245 |\n",
       "| 61 | 703.2857 |  7.015212 |\n",
       "| 96 | 713.6031 | 63.800776 |\n",
       "| 90 | 723.2109 | 18.660510 |\n",
       "| 91 | 724.2329 | 16.006570 |\n",
       "| 54 | 743.7038 | 16.737237 |\n",
       "| 31 | 800.0535 | 33.280311 |\n",
       "| 22 | 834.2536 | 22.691613 |\n",
       "| 7  | 852.9815 | 42.586452 |\n",
       "| 27 | 870.5390 | 65.452686 |\n",
       "| 51 | 917.9777 | 39.384502 |\n",
       "\n"
      ],
      "text/plain": [
       "    id  intercept slope    \n",
       "1   94  347.7834  39.886670\n",
       "2   56  354.3454  10.827716\n",
       "3   55  388.4301  17.882297\n",
       "4   26  390.4092  50.847820\n",
       "5   49  420.9655  33.847135\n",
       "6   11  428.7327  16.406302\n",
       "7   45  435.8119  15.198436\n",
       "8   4   438.4972  20.432028\n",
       "9   13  438.5252  77.602536\n",
       "10  14  440.0401  16.697642\n",
       "11  47  445.1683  26.743899\n",
       "12  60  448.4887  44.841024\n",
       "13  39  451.0546  39.305037\n",
       "14  79  454.6047  44.298832\n",
       "15  73  458.8304  39.493917\n",
       "16  59  460.0240  40.456199\n",
       "17  42  461.1400  48.468859\n",
       "18  75  463.8943  29.118622\n",
       "19  18  468.6460  14.850907\n",
       "20  1   469.1171   6.055492\n",
       "21  52  469.7841  27.163276\n",
       "22  25  469.8967  28.595652\n",
       "23  93  472.2959  15.310523\n",
       "24  99  475.1205  22.649815\n",
       "25  64  475.4451  33.357248\n",
       "26  97  483.8682  22.700429\n",
       "27  41  484.1498   8.717047\n",
       "28  86  484.7978  36.937776\n",
       "29  5   486.7065  19.301619\n",
       "30  50  492.0770  12.095016\n",
       "... ... ...       ...      \n",
       "70  72  585.4562   7.498995\n",
       "71  38  596.8696  32.732639\n",
       "72  85  598.5258  13.941779\n",
       "73  32  599.3713  22.692956\n",
       "74  19  604.3975  10.092336\n",
       "75  43  605.1807  30.366995\n",
       "76  87  607.0846   7.577499\n",
       "77  35  609.5492  42.626057\n",
       "78  20  612.8570  30.828953\n",
       "79  28  613.2598  22.624846\n",
       "80  77  631.4396  27.617072\n",
       "81  63  635.0193   6.290070\n",
       "82  89  636.2695  25.301347\n",
       "83  88  643.8519  48.858432\n",
       "84  21  644.0770  31.577920\n",
       "85  40  651.9197  10.694198\n",
       "86  65  653.3223  24.300062\n",
       "87  78  675.2704  54.082869\n",
       "88  95  686.9982  41.196544\n",
       "89  2   689.0099  19.596245\n",
       "90  61  703.2857   7.015212\n",
       "91  96  713.6031  63.800776\n",
       "92  90  723.2109  18.660510\n",
       "93  91  724.2329  16.006570\n",
       "94  54  743.7038  16.737237\n",
       "95  31  800.0535  33.280311\n",
       "96  22  834.2536  22.691613\n",
       "97  7   852.9815  42.586452\n",
       "98  27  870.5390  65.452686\n",
       "99  51  917.9777  39.384502"
      ]
     },
     "metadata": {},
     "output_type": "display_data"
    }
   ],
   "source": [
    "arrange(sub_lm_coefs, intercept) "
   ]
  },
  {
   "cell_type": "markdown",
   "id": "certain-current",
   "metadata": {},
   "source": [
    "> ID94 has the fastest intercept with 347.78ms and ID51 the slowest intercept with 919.97ms."
   ]
  },
  {
   "cell_type": "code",
   "execution_count": 13,
   "id": "tropical-baptist",
   "metadata": {
    "tags": []
   },
   "outputs": [
    {
     "name": "stderr",
     "output_type": "stream",
     "text": [
      "No summary function supplied, defaulting to `mean_se()\n",
      "\n",
      "Warning message:\n",
      "\"Removed 4 rows containing missing values (geom_pointrange).\"\n"
     ]
    },
    {
     "data": {
      "image/png": "[encoded data removed]",
      "text/plain": [
       "plot without title"
      ]
     },
     "metadata": {
      "image/png": {
       "height": 420,
       "width": 420
      }
     },
     "output_type": "display_data"
    }
   ],
   "source": [
    "included_subjects = c(51, 94)\n",
    "filter(ldtword, Sub_ID %in% included_subjects) %>%\n",
    "ggplot(aes(Length, D_RT, color=Sub_ID)) +\n",
    "stat_summary() +\n",
    "geom_smooth(method='lm', se=F)"
   ]
  },
  {
   "cell_type": "code",
   "execution_count": 14,
   "id": "restricted-medline",
   "metadata": {
    "tags": []
   },
   "outputs": [
    {
     "data": {
      "text/html": [
       "<table class=\"dataframe\">\n",
       "<caption>A data.frame: 99 × 3</caption>\n",
       "<thead>\n",
       "\t<tr><th scope=col>id</th><th scope=col>intercept</th><th scope=col>slope</th></tr>\n",
       "\t<tr><th scope=col>&lt;fct&gt;</th><th scope=col>&lt;dbl&gt;</th><th scope=col>&lt;dbl&gt;</th></tr>\n",
       "</thead>\n",
       "<tbody>\n",
       "\t<tr><td>1 </td><td>469.1171</td><td> 6.055492</td></tr>\n",
       "\t<tr><td>63</td><td>635.0193</td><td> 6.290070</td></tr>\n",
       "\t<tr><td>61</td><td>703.2857</td><td> 7.015212</td></tr>\n",
       "\t<tr><td>72</td><td>585.4562</td><td> 7.498995</td></tr>\n",
       "\t<tr><td>87</td><td>607.0846</td><td> 7.577499</td></tr>\n",
       "\t<tr><td>24</td><td>515.9155</td><td> 8.032788</td></tr>\n",
       "\t<tr><td>41</td><td>484.1498</td><td> 8.717047</td></tr>\n",
       "\t<tr><td>84</td><td>528.5795</td><td> 8.740112</td></tr>\n",
       "\t<tr><td>23</td><td>542.5200</td><td> 8.839516</td></tr>\n",
       "\t<tr><td>66</td><td>499.9248</td><td>10.061862</td></tr>\n",
       "\t<tr><td>19</td><td>604.3975</td><td>10.092336</td></tr>\n",
       "\t<tr><td>40</td><td>651.9197</td><td>10.694198</td></tr>\n",
       "\t<tr><td>56</td><td>354.3454</td><td>10.827716</td></tr>\n",
       "\t<tr><td>83</td><td>551.6018</td><td>11.191614</td></tr>\n",
       "\t<tr><td>98</td><td>536.7933</td><td>11.307756</td></tr>\n",
       "\t<tr><td>15</td><td>576.0525</td><td>11.392841</td></tr>\n",
       "\t<tr><td>50</td><td>492.0770</td><td>12.095016</td></tr>\n",
       "\t<tr><td>37</td><td>550.4578</td><td>12.667941</td></tr>\n",
       "\t<tr><td>9 </td><td>533.6793</td><td>12.696305</td></tr>\n",
       "\t<tr><td>33</td><td>518.9921</td><td>13.902001</td></tr>\n",
       "\t<tr><td>85</td><td>598.5258</td><td>13.941779</td></tr>\n",
       "\t<tr><td>12</td><td>524.8878</td><td>14.038855</td></tr>\n",
       "\t<tr><td>18</td><td>468.6460</td><td>14.850907</td></tr>\n",
       "\t<tr><td>45</td><td>435.8119</td><td>15.198436</td></tr>\n",
       "\t<tr><td>93</td><td>472.2959</td><td>15.310523</td></tr>\n",
       "\t<tr><td>91</td><td>724.2329</td><td>16.006570</td></tr>\n",
       "\t<tr><td>11</td><td>428.7327</td><td>16.406302</td></tr>\n",
       "\t<tr><td>14</td><td>440.0401</td><td>16.697642</td></tr>\n",
       "\t<tr><td>54</td><td>743.7038</td><td>16.737237</td></tr>\n",
       "\t<tr><td>55</td><td>388.4301</td><td>17.882297</td></tr>\n",
       "\t<tr><td>...</td><td>...</td><td>...</td></tr>\n",
       "\t<tr><td>64</td><td>475.4451</td><td> 33.35725</td></tr>\n",
       "\t<tr><td>69</td><td>566.1324</td><td> 33.58427</td></tr>\n",
       "\t<tr><td>49</td><td>420.9655</td><td> 33.84713</td></tr>\n",
       "\t<tr><td>53</td><td>528.1342</td><td> 34.25147</td></tr>\n",
       "\t<tr><td>46</td><td>509.3814</td><td> 36.04491</td></tr>\n",
       "\t<tr><td>86</td><td>484.7978</td><td> 36.93778</td></tr>\n",
       "\t<tr><td>6 </td><td>531.8664</td><td> 39.23378</td></tr>\n",
       "\t<tr><td>39</td><td>451.0546</td><td> 39.30504</td></tr>\n",
       "\t<tr><td>51</td><td>917.9777</td><td> 39.38450</td></tr>\n",
       "\t<tr><td>73</td><td>458.8304</td><td> 39.49392</td></tr>\n",
       "\t<tr><td>94</td><td>347.7834</td><td> 39.88667</td></tr>\n",
       "\t<tr><td>59</td><td>460.0240</td><td> 40.45620</td></tr>\n",
       "\t<tr><td>95</td><td>686.9982</td><td> 41.19654</td></tr>\n",
       "\t<tr><td>7 </td><td>852.9815</td><td> 42.58645</td></tr>\n",
       "\t<tr><td>35</td><td>609.5492</td><td> 42.62606</td></tr>\n",
       "\t<tr><td>79</td><td>454.6047</td><td> 44.29883</td></tr>\n",
       "\t<tr><td>60</td><td>448.4887</td><td> 44.84102</td></tr>\n",
       "\t<tr><td>74</td><td>549.6207</td><td> 46.61444</td></tr>\n",
       "\t<tr><td>42</td><td>461.1400</td><td> 48.46886</td></tr>\n",
       "\t<tr><td>71</td><td>498.0430</td><td> 48.60825</td></tr>\n",
       "\t<tr><td>88</td><td>643.8519</td><td> 48.85843</td></tr>\n",
       "\t<tr><td>29</td><td>576.8080</td><td> 49.90941</td></tr>\n",
       "\t<tr><td>26</td><td>390.4092</td><td> 50.84782</td></tr>\n",
       "\t<tr><td>78</td><td>675.2704</td><td> 54.08287</td></tr>\n",
       "\t<tr><td>96</td><td>713.6031</td><td> 63.80078</td></tr>\n",
       "\t<tr><td>27</td><td>870.5390</td><td> 65.45269</td></tr>\n",
       "\t<tr><td>13</td><td>438.5252</td><td> 77.60254</td></tr>\n",
       "\t<tr><td>8 </td><td>568.0956</td><td> 78.52387</td></tr>\n",
       "\t<tr><td>82</td><td>549.8217</td><td> 80.20037</td></tr>\n",
       "\t<tr><td>62</td><td>539.4507</td><td>113.37023</td></tr>\n",
       "</tbody>\n",
       "</table>\n"
      ],
      "text/latex": [
       "A data.frame: 99 × 3\n",
       "\\begin{tabular}{lll}\n",
       " id & intercept & slope\\\\\n",
       " <fct> & <dbl> & <dbl>\\\\\n",
       "\\hline\n",
       "\t 1  & 469.1171 &  6.055492\\\\\n",
       "\t 63 & 635.0193 &  6.290070\\\\\n",
       "\t 61 & 703.2857 &  7.015212\\\\\n",
       "\t 72 & 585.4562 &  7.498995\\\\\n",
       "\t 87 & 607.0846 &  7.577499\\\\\n",
       "\t 24 & 515.9155 &  8.032788\\\\\n",
       "\t 41 & 484.1498 &  8.717047\\\\\n",
       "\t 84 & 528.5795 &  8.740112\\\\\n",
       "\t 23 & 542.5200 &  8.839516\\\\\n",
       "\t 66 & 499.9248 & 10.061862\\\\\n",
       "\t 19 & 604.3975 & 10.092336\\\\\n",
       "\t 40 & 651.9197 & 10.694198\\\\\n",
       "\t 56 & 354.3454 & 10.827716\\\\\n",
       "\t 83 & 551.6018 & 11.191614\\\\\n",
       "\t 98 & 536.7933 & 11.307756\\\\\n",
       "\t 15 & 576.0525 & 11.392841\\\\\n",
       "\t 50 & 492.0770 & 12.095016\\\\\n",
       "\t 37 & 550.4578 & 12.667941\\\\\n",
       "\t 9  & 533.6793 & 12.696305\\\\\n",
       "\t 33 & 518.9921 & 13.902001\\\\\n",
       "\t 85 & 598.5258 & 13.941779\\\\\n",
       "\t 12 & 524.8878 & 14.038855\\\\\n",
       "\t 18 & 468.6460 & 14.850907\\\\\n",
       "\t 45 & 435.8119 & 15.198436\\\\\n",
       "\t 93 & 472.2959 & 15.310523\\\\\n",
       "\t 91 & 724.2329 & 16.006570\\\\\n",
       "\t 11 & 428.7327 & 16.406302\\\\\n",
       "\t 14 & 440.0401 & 16.697642\\\\\n",
       "\t 54 & 743.7038 & 16.737237\\\\\n",
       "\t 55 & 388.4301 & 17.882297\\\\\n",
       "\t ... & ... & ...\\\\\n",
       "\t 64 & 475.4451 &  33.35725\\\\\n",
       "\t 69 & 566.1324 &  33.58427\\\\\n",
       "\t 49 & 420.9655 &  33.84713\\\\\n",
       "\t 53 & 528.1342 &  34.25147\\\\\n",
       "\t 46 & 509.3814 &  36.04491\\\\\n",
       "\t 86 & 484.7978 &  36.93778\\\\\n",
       "\t 6  & 531.8664 &  39.23378\\\\\n",
       "\t 39 & 451.0546 &  39.30504\\\\\n",
       "\t 51 & 917.9777 &  39.38450\\\\\n",
       "\t 73 & 458.8304 &  39.49392\\\\\n",
       "\t 94 & 347.7834 &  39.88667\\\\\n",
       "\t 59 & 460.0240 &  40.45620\\\\\n",
       "\t 95 & 686.9982 &  41.19654\\\\\n",
       "\t 7  & 852.9815 &  42.58645\\\\\n",
       "\t 35 & 609.5492 &  42.62606\\\\\n",
       "\t 79 & 454.6047 &  44.29883\\\\\n",
       "\t 60 & 448.4887 &  44.84102\\\\\n",
       "\t 74 & 549.6207 &  46.61444\\\\\n",
       "\t 42 & 461.1400 &  48.46886\\\\\n",
       "\t 71 & 498.0430 &  48.60825\\\\\n",
       "\t 88 & 643.8519 &  48.85843\\\\\n",
       "\t 29 & 576.8080 &  49.90941\\\\\n",
       "\t 26 & 390.4092 &  50.84782\\\\\n",
       "\t 78 & 675.2704 &  54.08287\\\\\n",
       "\t 96 & 713.6031 &  63.80078\\\\\n",
       "\t 27 & 870.5390 &  65.45269\\\\\n",
       "\t 13 & 438.5252 &  77.60254\\\\\n",
       "\t 8  & 568.0956 &  78.52387\\\\\n",
       "\t 82 & 549.8217 &  80.20037\\\\\n",
       "\t 62 & 539.4507 & 113.37023\\\\\n",
       "\\end{tabular}\n"
      ],
      "text/markdown": [
       "\n",
       "A data.frame: 99 × 3\n",
       "\n",
       "| id &lt;fct&gt; | intercept &lt;dbl&gt; | slope &lt;dbl&gt; |\n",
       "|---|---|---|\n",
       "| 1  | 469.1171 |  6.055492 |\n",
       "| 63 | 635.0193 |  6.290070 |\n",
       "| 61 | 703.2857 |  7.015212 |\n",
       "| 72 | 585.4562 |  7.498995 |\n",
       "| 87 | 607.0846 |  7.577499 |\n",
       "| 24 | 515.9155 |  8.032788 |\n",
       "| 41 | 484.1498 |  8.717047 |\n",
       "| 84 | 528.5795 |  8.740112 |\n",
       "| 23 | 542.5200 |  8.839516 |\n",
       "| 66 | 499.9248 | 10.061862 |\n",
       "| 19 | 604.3975 | 10.092336 |\n",
       "| 40 | 651.9197 | 10.694198 |\n",
       "| 56 | 354.3454 | 10.827716 |\n",
       "| 83 | 551.6018 | 11.191614 |\n",
       "| 98 | 536.7933 | 11.307756 |\n",
       "| 15 | 576.0525 | 11.392841 |\n",
       "| 50 | 492.0770 | 12.095016 |\n",
       "| 37 | 550.4578 | 12.667941 |\n",
       "| 9  | 533.6793 | 12.696305 |\n",
       "| 33 | 518.9921 | 13.902001 |\n",
       "| 85 | 598.5258 | 13.941779 |\n",
       "| 12 | 524.8878 | 14.038855 |\n",
       "| 18 | 468.6460 | 14.850907 |\n",
       "| 45 | 435.8119 | 15.198436 |\n",
       "| 93 | 472.2959 | 15.310523 |\n",
       "| 91 | 724.2329 | 16.006570 |\n",
       "| 11 | 428.7327 | 16.406302 |\n",
       "| 14 | 440.0401 | 16.697642 |\n",
       "| 54 | 743.7038 | 16.737237 |\n",
       "| 55 | 388.4301 | 17.882297 |\n",
       "| ... | ... | ... |\n",
       "| 64 | 475.4451 |  33.35725 |\n",
       "| 69 | 566.1324 |  33.58427 |\n",
       "| 49 | 420.9655 |  33.84713 |\n",
       "| 53 | 528.1342 |  34.25147 |\n",
       "| 46 | 509.3814 |  36.04491 |\n",
       "| 86 | 484.7978 |  36.93778 |\n",
       "| 6  | 531.8664 |  39.23378 |\n",
       "| 39 | 451.0546 |  39.30504 |\n",
       "| 51 | 917.9777 |  39.38450 |\n",
       "| 73 | 458.8304 |  39.49392 |\n",
       "| 94 | 347.7834 |  39.88667 |\n",
       "| 59 | 460.0240 |  40.45620 |\n",
       "| 95 | 686.9982 |  41.19654 |\n",
       "| 7  | 852.9815 |  42.58645 |\n",
       "| 35 | 609.5492 |  42.62606 |\n",
       "| 79 | 454.6047 |  44.29883 |\n",
       "| 60 | 448.4887 |  44.84102 |\n",
       "| 74 | 549.6207 |  46.61444 |\n",
       "| 42 | 461.1400 |  48.46886 |\n",
       "| 71 | 498.0430 |  48.60825 |\n",
       "| 88 | 643.8519 |  48.85843 |\n",
       "| 29 | 576.8080 |  49.90941 |\n",
       "| 26 | 390.4092 |  50.84782 |\n",
       "| 78 | 675.2704 |  54.08287 |\n",
       "| 96 | 713.6031 |  63.80078 |\n",
       "| 27 | 870.5390 |  65.45269 |\n",
       "| 13 | 438.5252 |  77.60254 |\n",
       "| 8  | 568.0956 |  78.52387 |\n",
       "| 82 | 549.8217 |  80.20037 |\n",
       "| 62 | 539.4507 | 113.37023 |\n",
       "\n"
      ],
      "text/plain": [
       "    id  intercept slope    \n",
       "1   1   469.1171   6.055492\n",
       "2   63  635.0193   6.290070\n",
       "3   61  703.2857   7.015212\n",
       "4   72  585.4562   7.498995\n",
       "5   87  607.0846   7.577499\n",
       "6   24  515.9155   8.032788\n",
       "7   41  484.1498   8.717047\n",
       "8   84  528.5795   8.740112\n",
       "9   23  542.5200   8.839516\n",
       "10  66  499.9248  10.061862\n",
       "11  19  604.3975  10.092336\n",
       "12  40  651.9197  10.694198\n",
       "13  56  354.3454  10.827716\n",
       "14  83  551.6018  11.191614\n",
       "15  98  536.7933  11.307756\n",
       "16  15  576.0525  11.392841\n",
       "17  50  492.0770  12.095016\n",
       "18  37  550.4578  12.667941\n",
       "19  9   533.6793  12.696305\n",
       "20  33  518.9921  13.902001\n",
       "21  85  598.5258  13.941779\n",
       "22  12  524.8878  14.038855\n",
       "23  18  468.6460  14.850907\n",
       "24  45  435.8119  15.198436\n",
       "25  93  472.2959  15.310523\n",
       "26  91  724.2329  16.006570\n",
       "27  11  428.7327  16.406302\n",
       "28  14  440.0401  16.697642\n",
       "29  54  743.7038  16.737237\n",
       "30  55  388.4301  17.882297\n",
       "... ... ...       ...      \n",
       "70  64  475.4451   33.35725\n",
       "71  69  566.1324   33.58427\n",
       "72  49  420.9655   33.84713\n",
       "73  53  528.1342   34.25147\n",
       "74  46  509.3814   36.04491\n",
       "75  86  484.7978   36.93778\n",
       "76  6   531.8664   39.23378\n",
       "77  39  451.0546   39.30504\n",
       "78  51  917.9777   39.38450\n",
       "79  73  458.8304   39.49392\n",
       "80  94  347.7834   39.88667\n",
       "81  59  460.0240   40.45620\n",
       "82  95  686.9982   41.19654\n",
       "83  7   852.9815   42.58645\n",
       "84  35  609.5492   42.62606\n",
       "85  79  454.6047   44.29883\n",
       "86  60  448.4887   44.84102\n",
       "87  74  549.6207   46.61444\n",
       "88  42  461.1400   48.46886\n",
       "89  71  498.0430   48.60825\n",
       "90  88  643.8519   48.85843\n",
       "91  29  576.8080   49.90941\n",
       "92  26  390.4092   50.84782\n",
       "93  78  675.2704   54.08287\n",
       "94  96  713.6031   63.80078\n",
       "95  27  870.5390   65.45269\n",
       "96  13  438.5252   77.60254\n",
       "97  8   568.0956   78.52387\n",
       "98  82  549.8217   80.20037\n",
       "99  62  539.4507  113.37023"
      ]
     },
     "metadata": {},
     "output_type": "display_data"
    }
   ],
   "source": [
    "arrange(sub_lm_coefs, slope)"
   ]
  },
  {
   "cell_type": "markdown",
   "id": "compliant-chemistry",
   "metadata": {},
   "source": [
    "> Subject with the ID62 has the steepest slope with 113.37023ms and ID1 has the least steep slope with 6.055492ms. When the word length increases by 1 length, the RT increases in subject ID62 by 113.37ms and by subject ID1 by 6.05ms. \n",
    "> There aren't any subject for which Lenght affects RTs negatively (you can see this also in plot above with all the subjects)."
   ]
  },
  {
   "cell_type": "code",
   "execution_count": 15,
   "id": "current-documentary",
   "metadata": {
    "tags": []
   },
   "outputs": [
    {
     "name": "stderr",
     "output_type": "stream",
     "text": [
      "No summary function supplied, defaulting to `mean_se()\n",
      "\n",
      "Warning message:\n",
      "\"Removed 4 rows containing missing values (geom_pointrange).\"\n"
     ]
    },
    {
     "data": {
      "image/png": "[encoded data removed]",
      "text/plain": [
       "plot without title"
      ]
     },
     "metadata": {
      "image/png": {
       "height": 420,
       "width": 420
      }
     },
     "output_type": "display_data"
    }
   ],
   "source": [
    "included_subjects = c(1, 62)\n",
    "filter(ldtword, Sub_ID %in% included_subjects) %>%\n",
    "ggplot(aes(Length, D_RT, color=Sub_ID)) +\n",
    "stat_summary() +\n",
    "geom_smooth(method='lm', se=F)"
   ]
  },
  {
   "cell_type": "markdown",
   "id": "spiritual-pursuit",
   "metadata": {},
   "source": [
    "Make 3 plots:\n",
    "- A histogram of the intercepts for each participant\n",
    "- A histogram of the slopess for each participant\n",
    "- A scatterplot of the relationship between intercepts and slopes for each participant"
   ]
  },
  {
   "cell_type": "code",
   "execution_count": 16,
   "id": "primary-health",
   "metadata": {
    "tags": []
   },
   "outputs": [
    {
     "name": "stderr",
     "output_type": "stream",
     "text": [
      "`stat_bin()` using `bins = 30`. Pick better value with `binwidth`.\n",
      "\n",
      "`stat_bin()` using `bins = 30`. Pick better value with `binwidth`.\n",
      "\n"
     ]
    },
    {
     "data": {
      "image/png": "[encoded data removed]",
      "text/plain": [
       "plot without title"
      ]
     },
     "metadata": {
      "image/png": {
       "height": 420,
       "width": 420
      }
     },
     "output_type": "display_data"
    },
    {
     "data": {
      "image/png": "[encoded data removed]",
      "text/plain": [
       "plot without title"
      ]
     },
     "metadata": {
      "image/png": {
       "height": 420,
       "width": 420
      }
     },
     "output_type": "display_data"
    },
    {
     "data": {
      "image/png": "[encoded data removed]",
      "text/plain": [
       "plot without title"
      ]
     },
     "metadata": {
      "image/png": {
       "height": 420,
       "width": 420
      }
     },
     "output_type": "display_data"
    }
   ],
   "source": [
    "sub_lm_coefs %>% \n",
    "ggplot(aes(x=intercept, fill=id)) +\n",
    "geom_histogram()\n",
    "\n",
    "sub_lm_coefs %>% \n",
    "ggplot(aes(x=slope, fill=id)) +\n",
    "geom_histogram()\n",
    "\n",
    "sub_lm_coefs %>%\n",
    "ggplot(aes(intercept, slope)) +\n",
    "geom_point() "
   ]
  },
  {
   "cell_type": "code",
   "execution_count": 17,
   "id": "distinguished-jefferson",
   "metadata": {},
   "outputs": [
    {
     "name": "stderr",
     "output_type": "stream",
     "text": [
      "`stat_bin()` using `bins = 30`. Pick better value with `binwidth`.\n",
      "\n",
      "`stat_bin()` using `bins = 30`. Pick better value with `binwidth`.\n",
      "\n"
     ]
    },
    {
     "data": {
      "image/png": "[encoded data removed]",
      "text/plain": [
       "plot without title"
      ]
     },
     "metadata": {
      "image/png": {
       "height": 420,
       "width": 420
      }
     },
     "output_type": "display_data"
    },
    {
     "name": "stderr",
     "output_type": "stream",
     "text": [
      "`geom_smooth()` using method = 'loess' and formula 'y ~ x'\n",
      "\n"
     ]
    },
    {
     "data": {
      "image/png": "[encoded data removed]",
      "text/plain": [
       "plot without title"
      ]
     },
     "metadata": {
      "image/png": {
       "height": 420,
       "width": 420
      }
     },
     "output_type": "display_data"
    },
    {
     "data": {
      "image/png": "[encoded data removed]",
      "text/plain": [
       "plot without title"
      ]
     },
     "metadata": {
      "image/png": {
       "height": 420,
       "width": 420
      }
     },
     "output_type": "display_data"
    }
   ],
   "source": [
    "sub_lm_coefs %>% \n",
    "ggplot(aes(x=intercept)) +\n",
    "geom_histogram(color='black', fill='white')\n",
    "\n",
    "sub_lm_coefs %>% \n",
    "ggplot(aes(x=slope)) +\n",
    "geom_histogram(color='black', fill='white')\n",
    "\n",
    "sub_lm_coefs %>%\n",
    "ggplot(aes(intercept, slope)) +\n",
    "geom_point() +\n",
    "geom_smooth()"
   ]
  },
  {
   "cell_type": "markdown",
   "id": "dependent-replica",
   "metadata": {},
   "source": [
    "Are the intercepts and slopes normally distributed across subjects?"
   ]
  },
  {
   "cell_type": "markdown",
   "id": "international-smile",
   "metadata": {},
   "source": [
    "> No, both are not normally distributed, they both have a right skewed distribution across subjects."
   ]
  },
  {
   "cell_type": "markdown",
   "id": "younger-scratch",
   "metadata": {},
   "source": [
    "Are the intercept and slope for each subject correlated? That is, if the subject is overall slower in the task, are they more strongly affected by the word length property?"
   ]
  },
  {
   "cell_type": "code",
   "execution_count": 18,
   "id": "adolescent-edition",
   "metadata": {
    "tags": []
   },
   "outputs": [
    {
     "data": {
      "text/plain": [
       "\n",
       "\tPearson's product-moment correlation\n",
       "\n",
       "data:  sub_lm_coefs$intercept and sub_lm_coefs$slope\n",
       "t = 0.77277, df = 97, p-value = 0.4415\n",
       "alternative hypothesis: true correlation is not equal to 0\n",
       "95 percent confidence interval:\n",
       " -0.1210587  0.2714427\n",
       "sample estimates:\n",
       "       cor \n",
       "0.07822247 \n"
      ]
     },
     "metadata": {},
     "output_type": "display_data"
    }
   ],
   "source": [
    "cor.test(sub_lm_coefs$intercept, sub_lm_coefs$slope)"
   ]
  },
  {
   "cell_type": "markdown",
   "id": "perfect-bishop",
   "metadata": {
    "tags": []
   },
   "source": [
    "> The intercept and slope do not seem to be correlated, so the subject does not seem to be affected by the word length."
   ]
  },
  {
   "cell_type": "markdown",
   "id": "affecting-animal",
   "metadata": {
    "tags": []
   },
   "source": [
    "What is the mean intercept and slope over all participants?"
   ]
  },
  {
   "cell_type": "code",
   "execution_count": 19,
   "id": "further-meter",
   "metadata": {
    "tags": []
   },
   "outputs": [
    {
     "data": {
      "text/html": [
       "651.919722548952"
      ],
      "text/latex": [
       "651.919722548952"
      ],
      "text/markdown": [
       "651.919722548952"
      ],
      "text/plain": [
       "[1] 651.9197"
      ]
     },
     "metadata": {},
     "output_type": "display_data"
    },
    {
     "data": {
      "text/html": [
       "10.6941984363108"
      ],
      "text/latex": [
       "10.6941984363108"
      ],
      "text/markdown": [
       "10.6941984363108"
      ],
      "text/plain": [
       "[1] 10.6942"
      ]
     },
     "metadata": {},
     "output_type": "display_data"
    }
   ],
   "source": [
    "mean(intercept)\n",
    "mean(slope)"
   ]
  },
  {
   "cell_type": "markdown",
   "id": "viral-firmware",
   "metadata": {
    "tags": []
   },
   "source": [
    "#### Part 4: Fit a mixed-effects regression to the data"
   ]
  },
  {
   "cell_type": "markdown",
   "id": "virgin-scotland",
   "metadata": {
    "tags": []
   },
   "source": [
    "We just fit a separate regression model to the data from each participant, ignoring the data from other participants. This accounts for individual differences, but it has several drawbacks:\n",
    "- it is not easy to test directly whether overall the effect of word length has an effect of RTs. The fact that all subjects showed positive slopes is an indication that this effect is overall present, but we need a more systematic way to do this\n",
    "- in fitting the data of each subject, we completely ignore data from other subjects. Even though individual differences are expected, it is also reasonable to expect that people cognitive processes are similar. Thus, we are throwing away a lot of data when doing this, because we assume that one participants' parameters are not informed by data from other participants. Since we have a limited number of observations per participant, the individual parameter estimates will be more noise and more easily affected by outliers. This can lead to a biased estimation.\n",
    "\n",
    "Both of these drawbacks can be overcome by fitting a mixture effects regression, which is a compromise between completely pooling the data, which ignores individual differences (e.g., Homework 4), and the completely separate regression for each participant, which ignores commonalities between participants and throws away data."
   ]
  },
  {
   "cell_type": "markdown",
   "id": "raising-civilization",
   "metadata": {
    "tags": []
   },
   "source": [
    "First, install and load the `lme4` package, which allows us to fit mixed effects regressions:"
   ]
  },
  {
   "cell_type": "code",
   "execution_count": 20,
   "id": "static-sierra",
   "metadata": {
    "tags": []
   },
   "outputs": [
    {
     "name": "stderr",
     "output_type": "stream",
     "text": [
      "Installing package into 'C:/Users/Jini/Documents/R/win-library/3.6'\n",
      "(as 'lib' is unspecified)\n",
      "\n"
     ]
    },
    {
     "name": "stdout",
     "output_type": "stream",
     "text": [
      "package 'lme4' successfully unpacked and MD5 sums checked\n",
      "\n",
      "The downloaded binary packages are in\n",
      "\tC:\\Users\\Jini\\AppData\\Local\\Temp\\RtmpQ1TsmQ\\downloaded_packages\n"
     ]
    },
    {
     "name": "stderr",
     "output_type": "stream",
     "text": [
      "Warning message:\n",
      "\"package 'lme4' was built under R version 3.6.3\"\n",
      "Loading required package: Matrix\n",
      "\n",
      "\n",
      "Attaching package: 'Matrix'\n",
      "\n",
      "\n",
      "The following objects are masked from 'package:tidyr':\n",
      "\n",
      "    expand, pack, unpack\n",
      "\n",
      "\n"
     ]
    }
   ],
   "source": [
    "install.packages('lme4')\n",
    "library(lme4)"
   ]
  },
  {
   "cell_type": "markdown",
   "id": "previous-sheet",
   "metadata": {
    "tags": []
   },
   "source": [
    "Now, use the `lmer()` command to fit a simple mixed-effects linear regression model with only random intercepts for each participant (consult the tutorials you read last week for how to do this. This should be a basic regression of D_RT with only an intercept. You can use the formula `D_RT ~ 1 + (1|Sub_ID)`. Save the output to a variable called `mixed_ml0` and use the `summary()` command to display the results"
   ]
  },
  {
   "cell_type": "code",
   "execution_count": 21,
   "id": "eleven-departure",
   "metadata": {
    "tags": []
   },
   "outputs": [
    {
     "data": {
      "text/plain": [
       "Linear mixed model fit by REML ['lmerMod']\n",
       "Formula: D_RT ~ 1 + (1 | Sub_ID)\n",
       "   Data: ldtword\n",
       "\n",
       "REML criterion at convergence: 518736.2\n",
       "\n",
       "Scaled residuals: \n",
       "    Min      1Q  Median      3Q     Max \n",
       "-3.1054 -0.4849 -0.1790  0.2266 10.3937 \n",
       "\n",
       "Random effects:\n",
       " Groups   Name        Variance Std.Dev.\n",
       " Sub_ID   (Intercept)  28990   170.3   \n",
       " Residual             105643   325.0   \n",
       "Number of obs: 35978, groups:  Sub_ID, 99\n",
       "\n",
       "Fixed effects:\n",
       "            Estimate Std. Error t value\n",
       "(Intercept)    749.1       17.2   43.56"
      ]
     },
     "metadata": {},
     "output_type": "display_data"
    }
   ],
   "source": [
    "mixed_ml0 <-lmer(D_RT ~ 1 + (1|Sub_ID), data = ldtword)\n",
    "summary(mixed_ml0)"
   ]
  },
  {
   "cell_type": "markdown",
   "id": "hearing-variety",
   "metadata": {
    "tags": []
   },
   "source": [
    "This simple model does not have predictors. In this case, the Intercept is merely the mean RTs overall, or what we would expect the RTs to be if all predictors are set to their mean value.\n",
    "\n",
    "Now, let's add the effect of word length as a fixed effect to the formula. Save the results to a variable `mixed_ml1` and use `summary(mixed_ml1)` to display the results"
   ]
  },
  {
   "cell_type": "code",
   "execution_count": 22,
   "id": "precious-scheme",
   "metadata": {
    "tags": []
   },
   "outputs": [
    {
     "data": {
      "text/plain": [
       "Linear mixed model fit by REML ['lmerMod']\n",
       "Formula: D_RT ~ Length + (1 | Sub_ID)\n",
       "   Data: ldtword\n",
       "\n",
       "REML criterion at convergence: 517301.2\n",
       "\n",
       "Scaled residuals: \n",
       "    Min      1Q  Median      3Q     Max \n",
       "-3.1864 -0.4869 -0.1754  0.2305 10.5000 \n",
       "\n",
       "Random effects:\n",
       " Groups   Name        Variance Std.Dev.\n",
       " Sub_ID   (Intercept)  29082   170.5   \n",
       " Residual             101507   318.6   \n",
       "Number of obs: 35978, groups:  Sub_ID, 99\n",
       "\n",
       "Fixed effects:\n",
       "            Estimate Std. Error t value\n",
       "(Intercept) 555.0728    17.9537   30.92\n",
       "Length       28.3131     0.7403   38.25\n",
       "\n",
       "Correlation of Fixed Effects:\n",
       "       (Intr)\n",
       "Length -0.283"
      ]
     },
     "metadata": {},
     "output_type": "display_data"
    }
   ],
   "source": [
    "mixed_ml1 <-lmer(D_RT ~ Length + (1|Sub_ID), data = ldtword)\n",
    "summary(mixed_ml1)"
   ]
  },
  {
   "cell_type": "markdown",
   "id": "alpine-season",
   "metadata": {
    "tags": []
   },
   "source": [
    "What are the overall intercept and slope for Length? How do you interpret these values?"
   ]
  },
  {
   "cell_type": "markdown",
   "id": "confirmed-remark",
   "metadata": {
    "tags": []
   },
   "source": [
    "> The overall intercept for Length is 555.07ms and the slope is 28.31ms. The overall RT is 555.07ms when the word length is set to their mean value. When the word length increases by 1 then the mean RT increases on average by 28.31ms."
   ]
  },
  {
   "cell_type": "markdown",
   "id": "standard-point",
   "metadata": {
    "tags": []
   },
   "source": [
    "As you notice, there are no p-values in this output. We can use the command \"anova(mixed_ml0, mixed_ml1) to perform a likelihood ratio test, and to use the Aikaike Information Criterion (AIC) to see if the mixed_ml1 model fits the data better than the mixed_ml0 model:"
   ]
  },
  {
   "cell_type": "code",
   "execution_count": 23,
   "id": "apart-transport",
   "metadata": {
    "tags": []
   },
   "outputs": [
    {
     "name": "stderr",
     "output_type": "stream",
     "text": [
      "refitting model(s) with ML (instead of REML)\n",
      "\n"
     ]
    },
    {
     "data": {
      "text/html": [
       "<table class=\"dataframe\">\n",
       "<caption>A anova: 2 × 8</caption>\n",
       "<thead>\n",
       "\t<tr><th></th><th scope=col>npar</th><th scope=col>AIC</th><th scope=col>BIC</th><th scope=col>logLik</th><th scope=col>deviance</th><th scope=col>Chisq</th><th scope=col>Df</th><th scope=col>Pr(&gt;Chisq)</th></tr>\n",
       "\t<tr><th></th><th scope=col>&lt;dbl&gt;</th><th scope=col>&lt;dbl&gt;</th><th scope=col>&lt;dbl&gt;</th><th scope=col>&lt;dbl&gt;</th><th scope=col>&lt;dbl&gt;</th><th scope=col>&lt;dbl&gt;</th><th scope=col>&lt;dbl&gt;</th><th scope=col>&lt;dbl&gt;</th></tr>\n",
       "</thead>\n",
       "<tbody>\n",
       "\t<tr><th scope=row>mixed_ml0</th><td>3</td><td>518749.7</td><td>518775.2</td><td>-259371.9</td><td>518743.7</td><td>      NA</td><td>NA</td><td>           NA</td></tr>\n",
       "\t<tr><th scope=row>mixed_ml1</th><td>4</td><td>517318.0</td><td>517351.9</td><td>-258655.0</td><td>517310.0</td><td>1433.755</td><td> 1</td><td>9.716528e-314</td></tr>\n",
       "</tbody>\n",
       "</table>\n"
      ],
      "text/latex": [
       "A anova: 2 × 8\n",
       "\\begin{tabular}{r|llllllll}\n",
       "  & npar & AIC & BIC & logLik & deviance & Chisq & Df & Pr(>Chisq)\\\\\n",
       "  & <dbl> & <dbl> & <dbl> & <dbl> & <dbl> & <dbl> & <dbl> & <dbl>\\\\\n",
       "\\hline\n",
       "\tmixed\\_ml0 & 3 & 518749.7 & 518775.2 & -259371.9 & 518743.7 &       NA & NA &            NA\\\\\n",
       "\tmixed\\_ml1 & 4 & 517318.0 & 517351.9 & -258655.0 & 517310.0 & 1433.755 &  1 & 9.716528e-314\\\\\n",
       "\\end{tabular}\n"
      ],
      "text/markdown": [
       "\n",
       "A anova: 2 × 8\n",
       "\n",
       "| <!--/--> | npar &lt;dbl&gt; | AIC &lt;dbl&gt; | BIC &lt;dbl&gt; | logLik &lt;dbl&gt; | deviance &lt;dbl&gt; | Chisq &lt;dbl&gt; | Df &lt;dbl&gt; | Pr(&gt;Chisq) &lt;dbl&gt; |\n",
       "|---|---|---|---|---|---|---|---|---|\n",
       "| mixed_ml0 | 3 | 518749.7 | 518775.2 | -259371.9 | 518743.7 |       NA | NA |            NA |\n",
       "| mixed_ml1 | 4 | 517318.0 | 517351.9 | -258655.0 | 517310.0 | 1433.755 |  1 | 9.716528e-314 |\n",
       "\n"
      ],
      "text/plain": [
       "          npar AIC      BIC      logLik    deviance Chisq    Df Pr(>Chisq)   \n",
       "mixed_ml0 3    518749.7 518775.2 -259371.9 518743.7       NA NA            NA\n",
       "mixed_ml1 4    517318.0 517351.9 -258655.0 517310.0 1433.755  1 9.716528e-314"
      ]
     },
     "metadata": {},
     "output_type": "display_data"
    }
   ],
   "source": [
    "anova(mixed_ml0, mixed_ml1)"
   ]
  },
  {
   "cell_type": "markdown",
   "id": "adaptive-match",
   "metadata": {
    "tags": []
   },
   "source": [
    "You see that the output has two rows, one for each model. The `npar` column shows the number of parameters in the model. The AIC and BIC columns show two different indices of model fit. The best fitting model is the one with the lowest AIC. If the more complex model (ml1) has an AIC that is lower by more than 2 than the next best fitting model, we can conclude that including the Length variable improves the model. The table also provides a p-value (in scientific number notation) for the comparison between models. In this case, mixed_ml1 fits significantly better than the mixed_ml0, so word length improves the model fit and should be kept."
   ]
  },
  {
   "cell_type": "markdown",
   "id": "protecting-journalism",
   "metadata": {
    "tags": []
   },
   "source": [
    "We have only fit random intercepts for each subject, which assumes that each subject has a different baseline of RTs, but that each subject is affected similarly by word Length. You can extract the random effect parameters for each subject with the following command:"
   ]
  },
  {
   "cell_type": "code",
   "execution_count": 24,
   "id": "angry-cigarette",
   "metadata": {
    "tags": []
   },
   "outputs": [
    {
     "data": {
      "text/html": [
       "<table class=\"dataframe\">\n",
       "<caption>A data.frame: 99 × 2</caption>\n",
       "<thead>\n",
       "\t<tr><th></th><th scope=col>intercept</th><th scope=col>slope</th></tr>\n",
       "\t<tr><th></th><th scope=col>&lt;dbl&gt;</th><th scope=col>&lt;dbl&gt;</th></tr>\n",
       "</thead>\n",
       "<tbody>\n",
       "\t<tr><th scope=row>1</th><td> 316.7377</td><td>28.31307</td></tr>\n",
       "\t<tr><th scope=row>2</th><td> 629.7282</td><td>28.31307</td></tr>\n",
       "\t<tr><th scope=row>3</th><td> 511.6176</td><td>28.31307</td></tr>\n",
       "\t<tr><th scope=row>4</th><td> 386.3402</td><td>28.31307</td></tr>\n",
       "\t<tr><th scope=row>5</th><td> 424.8326</td><td>28.31307</td></tr>\n",
       "\t<tr><th scope=row>6</th><td> 605.3286</td><td>28.31307</td></tr>\n",
       "\t<tr><th scope=row>7</th><td> 948.2089</td><td>28.31307</td></tr>\n",
       "\t<tr><th scope=row>8</th><td> 920.7357</td><td>28.31307</td></tr>\n",
       "\t<tr><th scope=row>9</th><td> 427.7914</td><td>28.31307</td></tr>\n",
       "\t<tr><th scope=row>11</th><td> 350.1633</td><td>28.31307</td></tr>\n",
       "\t<tr><th scope=row>12</th><td> 427.2925</td><td>28.31307</td></tr>\n",
       "\t<tr><th scope=row>13</th><td> 773.9638</td><td>28.31307</td></tr>\n",
       "\t<tr><th scope=row>14</th><td> 361.3099</td><td>28.31307</td></tr>\n",
       "\t<tr><th scope=row>15</th><td> 463.3100</td><td>28.31307</td></tr>\n",
       "\t<tr><th scope=row>16</th><td> 460.2758</td><td>28.31307</td></tr>\n",
       "\t<tr><th scope=row>17</th><td> 489.2684</td><td>28.31307</td></tr>\n",
       "\t<tr><th scope=row>18</th><td> 374.8472</td><td>28.31307</td></tr>\n",
       "\t<tr><th scope=row>19</th><td> 479.3616</td><td>28.31307</td></tr>\n",
       "\t<tr><th scope=row>20</th><td> 629.1808</td><td>28.31307</td></tr>\n",
       "\t<tr><th scope=row>21</th><td> 665.2908</td><td>28.31307</td></tr>\n",
       "\t<tr><th scope=row>22</th><td> 792.9551</td><td>28.31307</td></tr>\n",
       "\t<tr><th scope=row>23</th><td> 411.6333</td><td>28.31307</td></tr>\n",
       "\t<tr><th scope=row>24</th><td> 382.2822</td><td>28.31307</td></tr>\n",
       "\t<tr><th scope=row>25</th><td> 472.6018</td><td>28.31307</td></tr>\n",
       "\t<tr><th scope=row>26</th><td> 543.1628</td><td>28.31307</td></tr>\n",
       "\t<tr><th scope=row>27</th><td>1116.7851</td><td>28.31307</td></tr>\n",
       "\t<tr><th scope=row>28</th><td> 574.1601</td><td>28.31307</td></tr>\n",
       "\t<tr><th scope=row>29</th><td> 722.9907</td><td>28.31307</td></tr>\n",
       "\t<tr><th scope=row>30</th><td> 438.1443</td><td>28.31307</td></tr>\n",
       "\t<tr><th scope=row>31</th><td> 830.9948</td><td>28.31307</td></tr>\n",
       "\t<tr><th scope=row>...</th><td>...</td><td>...</td></tr>\n",
       "\t<tr><th scope=row>71</th><td>638.0474</td><td>28.31307</td></tr>\n",
       "\t<tr><th scope=row>72</th><td>442.8545</td><td>28.31307</td></tr>\n",
       "\t<tr><th scope=row>73</th><td>533.9263</td><td>28.31307</td></tr>\n",
       "\t<tr><th scope=row>74</th><td>674.0532</td><td>28.31307</td></tr>\n",
       "\t<tr><th scope=row>75</th><td>470.1215</td><td>28.31307</td></tr>\n",
       "\t<tr><th scope=row>76</th><td>554.8751</td><td>28.31307</td></tr>\n",
       "\t<tr><th scope=row>77</th><td>626.0147</td><td>28.31307</td></tr>\n",
       "\t<tr><th scope=row>78</th><td>852.3132</td><td>28.31307</td></tr>\n",
       "\t<tr><th scope=row>79</th><td>563.9324</td><td>28.31307</td></tr>\n",
       "\t<tr><th scope=row>80</th><td>536.4664</td><td>28.31307</td></tr>\n",
       "\t<tr><th scope=row>81</th><td>600.8335</td><td>28.31307</td></tr>\n",
       "\t<tr><th scope=row>82</th><td>890.8542</td><td>28.31307</td></tr>\n",
       "\t<tr><th scope=row>83</th><td>429.6257</td><td>28.31307</td></tr>\n",
       "\t<tr><th scope=row>84</th><td>400.8502</td><td>28.31307</td></tr>\n",
       "\t<tr><th scope=row>85</th><td>501.2886</td><td>28.31307</td></tr>\n",
       "\t<tr><th scope=row>86</th><td>545.6706</td><td>28.31307</td></tr>\n",
       "\t<tr><th scope=row>87</th><td>462.4672</td><td>28.31307</td></tr>\n",
       "\t<tr><th scope=row>88</th><td>783.6281</td><td>28.31307</td></tr>\n",
       "\t<tr><th scope=row>89</th><td>615.4885</td><td>28.31307</td></tr>\n",
       "\t<tr><th scope=row>90</th><td>655.9545</td><td>28.31307</td></tr>\n",
       "\t<tr><th scope=row>91</th><td>638.8521</td><td>28.31307</td></tr>\n",
       "\t<tr><th scope=row>92</th><td>460.0972</td><td>28.31307</td></tr>\n",
       "\t<tr><th scope=row>93</th><td>382.7559</td><td>28.31307</td></tr>\n",
       "\t<tr><th scope=row>94</th><td>428.1914</td><td>28.31307</td></tr>\n",
       "\t<tr><th scope=row>95</th><td>771.2275</td><td>28.31307</td></tr>\n",
       "\t<tr><th scope=row>96</th><td>955.5801</td><td>28.31307</td></tr>\n",
       "\t<tr><th scope=row>97</th><td>445.8180</td><td>28.31307</td></tr>\n",
       "\t<tr><th scope=row>98</th><td>421.3572</td><td>28.31307</td></tr>\n",
       "\t<tr><th scope=row>99</th><td>438.0725</td><td>28.31307</td></tr>\n",
       "\t<tr><th scope=row>100</th><td>532.7866</td><td>28.31307</td></tr>\n",
       "</tbody>\n",
       "</table>\n"
      ],
      "text/latex": [
       "A data.frame: 99 × 2\n",
       "\\begin{tabular}{r|ll}\n",
       "  & intercept & slope\\\\\n",
       "  & <dbl> & <dbl>\\\\\n",
       "\\hline\n",
       "\t1 &  316.7377 & 28.31307\\\\\n",
       "\t2 &  629.7282 & 28.31307\\\\\n",
       "\t3 &  511.6176 & 28.31307\\\\\n",
       "\t4 &  386.3402 & 28.31307\\\\\n",
       "\t5 &  424.8326 & 28.31307\\\\\n",
       "\t6 &  605.3286 & 28.31307\\\\\n",
       "\t7 &  948.2089 & 28.31307\\\\\n",
       "\t8 &  920.7357 & 28.31307\\\\\n",
       "\t9 &  427.7914 & 28.31307\\\\\n",
       "\t11 &  350.1633 & 28.31307\\\\\n",
       "\t12 &  427.2925 & 28.31307\\\\\n",
       "\t13 &  773.9638 & 28.31307\\\\\n",
       "\t14 &  361.3099 & 28.31307\\\\\n",
       "\t15 &  463.3100 & 28.31307\\\\\n",
       "\t16 &  460.2758 & 28.31307\\\\\n",
       "\t17 &  489.2684 & 28.31307\\\\\n",
       "\t18 &  374.8472 & 28.31307\\\\\n",
       "\t19 &  479.3616 & 28.31307\\\\\n",
       "\t20 &  629.1808 & 28.31307\\\\\n",
       "\t21 &  665.2908 & 28.31307\\\\\n",
       "\t22 &  792.9551 & 28.31307\\\\\n",
       "\t23 &  411.6333 & 28.31307\\\\\n",
       "\t24 &  382.2822 & 28.31307\\\\\n",
       "\t25 &  472.6018 & 28.31307\\\\\n",
       "\t26 &  543.1628 & 28.31307\\\\\n",
       "\t27 & 1116.7851 & 28.31307\\\\\n",
       "\t28 &  574.1601 & 28.31307\\\\\n",
       "\t29 &  722.9907 & 28.31307\\\\\n",
       "\t30 &  438.1443 & 28.31307\\\\\n",
       "\t31 &  830.9948 & 28.31307\\\\\n",
       "\t... & ... & ...\\\\\n",
       "\t71 & 638.0474 & 28.31307\\\\\n",
       "\t72 & 442.8545 & 28.31307\\\\\n",
       "\t73 & 533.9263 & 28.31307\\\\\n",
       "\t74 & 674.0532 & 28.31307\\\\\n",
       "\t75 & 470.1215 & 28.31307\\\\\n",
       "\t76 & 554.8751 & 28.31307\\\\\n",
       "\t77 & 626.0147 & 28.31307\\\\\n",
       "\t78 & 852.3132 & 28.31307\\\\\n",
       "\t79 & 563.9324 & 28.31307\\\\\n",
       "\t80 & 536.4664 & 28.31307\\\\\n",
       "\t81 & 600.8335 & 28.31307\\\\\n",
       "\t82 & 890.8542 & 28.31307\\\\\n",
       "\t83 & 429.6257 & 28.31307\\\\\n",
       "\t84 & 400.8502 & 28.31307\\\\\n",
       "\t85 & 501.2886 & 28.31307\\\\\n",
       "\t86 & 545.6706 & 28.31307\\\\\n",
       "\t87 & 462.4672 & 28.31307\\\\\n",
       "\t88 & 783.6281 & 28.31307\\\\\n",
       "\t89 & 615.4885 & 28.31307\\\\\n",
       "\t90 & 655.9545 & 28.31307\\\\\n",
       "\t91 & 638.8521 & 28.31307\\\\\n",
       "\t92 & 460.0972 & 28.31307\\\\\n",
       "\t93 & 382.7559 & 28.31307\\\\\n",
       "\t94 & 428.1914 & 28.31307\\\\\n",
       "\t95 & 771.2275 & 28.31307\\\\\n",
       "\t96 & 955.5801 & 28.31307\\\\\n",
       "\t97 & 445.8180 & 28.31307\\\\\n",
       "\t98 & 421.3572 & 28.31307\\\\\n",
       "\t99 & 438.0725 & 28.31307\\\\\n",
       "\t100 & 532.7866 & 28.31307\\\\\n",
       "\\end{tabular}\n"
      ],
      "text/markdown": [
       "\n",
       "A data.frame: 99 × 2\n",
       "\n",
       "| <!--/--> | intercept &lt;dbl&gt; | slope &lt;dbl&gt; |\n",
       "|---|---|---|\n",
       "| 1 |  316.7377 | 28.31307 |\n",
       "| 2 |  629.7282 | 28.31307 |\n",
       "| 3 |  511.6176 | 28.31307 |\n",
       "| 4 |  386.3402 | 28.31307 |\n",
       "| 5 |  424.8326 | 28.31307 |\n",
       "| 6 |  605.3286 | 28.31307 |\n",
       "| 7 |  948.2089 | 28.31307 |\n",
       "| 8 |  920.7357 | 28.31307 |\n",
       "| 9 |  427.7914 | 28.31307 |\n",
       "| 11 |  350.1633 | 28.31307 |\n",
       "| 12 |  427.2925 | 28.31307 |\n",
       "| 13 |  773.9638 | 28.31307 |\n",
       "| 14 |  361.3099 | 28.31307 |\n",
       "| 15 |  463.3100 | 28.31307 |\n",
       "| 16 |  460.2758 | 28.31307 |\n",
       "| 17 |  489.2684 | 28.31307 |\n",
       "| 18 |  374.8472 | 28.31307 |\n",
       "| 19 |  479.3616 | 28.31307 |\n",
       "| 20 |  629.1808 | 28.31307 |\n",
       "| 21 |  665.2908 | 28.31307 |\n",
       "| 22 |  792.9551 | 28.31307 |\n",
       "| 23 |  411.6333 | 28.31307 |\n",
       "| 24 |  382.2822 | 28.31307 |\n",
       "| 25 |  472.6018 | 28.31307 |\n",
       "| 26 |  543.1628 | 28.31307 |\n",
       "| 27 | 1116.7851 | 28.31307 |\n",
       "| 28 |  574.1601 | 28.31307 |\n",
       "| 29 |  722.9907 | 28.31307 |\n",
       "| 30 |  438.1443 | 28.31307 |\n",
       "| 31 |  830.9948 | 28.31307 |\n",
       "| ... | ... | ... |\n",
       "| 71 | 638.0474 | 28.31307 |\n",
       "| 72 | 442.8545 | 28.31307 |\n",
       "| 73 | 533.9263 | 28.31307 |\n",
       "| 74 | 674.0532 | 28.31307 |\n",
       "| 75 | 470.1215 | 28.31307 |\n",
       "| 76 | 554.8751 | 28.31307 |\n",
       "| 77 | 626.0147 | 28.31307 |\n",
       "| 78 | 852.3132 | 28.31307 |\n",
       "| 79 | 563.9324 | 28.31307 |\n",
       "| 80 | 536.4664 | 28.31307 |\n",
       "| 81 | 600.8335 | 28.31307 |\n",
       "| 82 | 890.8542 | 28.31307 |\n",
       "| 83 | 429.6257 | 28.31307 |\n",
       "| 84 | 400.8502 | 28.31307 |\n",
       "| 85 | 501.2886 | 28.31307 |\n",
       "| 86 | 545.6706 | 28.31307 |\n",
       "| 87 | 462.4672 | 28.31307 |\n",
       "| 88 | 783.6281 | 28.31307 |\n",
       "| 89 | 615.4885 | 28.31307 |\n",
       "| 90 | 655.9545 | 28.31307 |\n",
       "| 91 | 638.8521 | 28.31307 |\n",
       "| 92 | 460.0972 | 28.31307 |\n",
       "| 93 | 382.7559 | 28.31307 |\n",
       "| 94 | 428.1914 | 28.31307 |\n",
       "| 95 | 771.2275 | 28.31307 |\n",
       "| 96 | 955.5801 | 28.31307 |\n",
       "| 97 | 445.8180 | 28.31307 |\n",
       "| 98 | 421.3572 | 28.31307 |\n",
       "| 99 | 438.0725 | 28.31307 |\n",
       "| 100 | 532.7866 | 28.31307 |\n",
       "\n"
      ],
      "text/plain": [
       "    intercept slope   \n",
       "1    316.7377 28.31307\n",
       "2    629.7282 28.31307\n",
       "3    511.6176 28.31307\n",
       "4    386.3402 28.31307\n",
       "5    424.8326 28.31307\n",
       "6    605.3286 28.31307\n",
       "7    948.2089 28.31307\n",
       "8    920.7357 28.31307\n",
       "9    427.7914 28.31307\n",
       "11   350.1633 28.31307\n",
       "12   427.2925 28.31307\n",
       "13   773.9638 28.31307\n",
       "14   361.3099 28.31307\n",
       "15   463.3100 28.31307\n",
       "16   460.2758 28.31307\n",
       "17   489.2684 28.31307\n",
       "18   374.8472 28.31307\n",
       "19   479.3616 28.31307\n",
       "20   629.1808 28.31307\n",
       "21   665.2908 28.31307\n",
       "22   792.9551 28.31307\n",
       "23   411.6333 28.31307\n",
       "24   382.2822 28.31307\n",
       "25   472.6018 28.31307\n",
       "26   543.1628 28.31307\n",
       "27  1116.7851 28.31307\n",
       "28   574.1601 28.31307\n",
       "29   722.9907 28.31307\n",
       "30   438.1443 28.31307\n",
       "31   830.9948 28.31307\n",
       "... ...       ...     \n",
       "71  638.0474  28.31307\n",
       "72  442.8545  28.31307\n",
       "73  533.9263  28.31307\n",
       "74  674.0532  28.31307\n",
       "75  470.1215  28.31307\n",
       "76  554.8751  28.31307\n",
       "77  626.0147  28.31307\n",
       "78  852.3132  28.31307\n",
       "79  563.9324  28.31307\n",
       "80  536.4664  28.31307\n",
       "81  600.8335  28.31307\n",
       "82  890.8542  28.31307\n",
       "83  429.6257  28.31307\n",
       "84  400.8502  28.31307\n",
       "85  501.2886  28.31307\n",
       "86  545.6706  28.31307\n",
       "87  462.4672  28.31307\n",
       "88  783.6281  28.31307\n",
       "89  615.4885  28.31307\n",
       "90  655.9545  28.31307\n",
       "91  638.8521  28.31307\n",
       "92  460.0972  28.31307\n",
       "93  382.7559  28.31307\n",
       "94  428.1914  28.31307\n",
       "95  771.2275  28.31307\n",
       "96  955.5801  28.31307\n",
       "97  445.8180  28.31307\n",
       "98  421.3572  28.31307\n",
       "99  438.0725  28.31307\n",
       "100 532.7866  28.31307"
      ]
     },
     "metadata": {},
     "output_type": "display_data"
    }
   ],
   "source": [
    "ml1_coefs <- coef(mixed_ml1)$Sub_ID\n",
    "names(ml1_coefs) <- c('intercept','slope')\n",
    "ml1_coefs"
   ]
  },
  {
   "cell_type": "markdown",
   "id": "consistent-story",
   "metadata": {
    "tags": []
   },
   "source": [
    "This table is similar to the one we constructed manually from the separate regressions; however, the slope is the same for all participants. Let's fit the model again, this time by including random slopes for Length. You can do that with the formula `D_RT ~ Length + (Length|Sub_ID)`. Save the result to the `mixed_ml2` variable and show the results using `summary()`"
   ]
  },
  {
   "cell_type": "code",
   "execution_count": 25,
   "id": "other-wisconsin",
   "metadata": {
    "tags": []
   },
   "outputs": [
    {
     "data": {
      "text/plain": [
       "Linear mixed model fit by REML ['lmerMod']\n",
       "Formula: D_RT ~ Length + (Length | Sub_ID)\n",
       "   Data: ldtword\n",
       "\n",
       "REML criterion at convergence: 516889.8\n",
       "\n",
       "Scaled residuals: \n",
       "    Min      1Q  Median      3Q     Max \n",
       "-3.4823 -0.4734 -0.1762  0.2231 10.5560 \n",
       "\n",
       "Random effects:\n",
       " Groups   Name        Variance Std.Dev. Corr\n",
       " Sub_ID   (Intercept)   8728.8  93.43       \n",
       "          Length         277.2  16.65   0.34\n",
       " Residual             100109.4 316.40       \n",
       "Number of obs: 35978, groups:  Sub_ID, 99\n",
       "\n",
       "Fixed effects:\n",
       "            Estimate Std. Error t value\n",
       "(Intercept)  553.482     10.791   51.29\n",
       "Length        28.560      1.828   15.62\n",
       "\n",
       "Correlation of Fixed Effects:\n",
       "       (Intr)\n",
       "Length 0.085 "
      ]
     },
     "metadata": {},
     "output_type": "display_data"
    }
   ],
   "source": [
    "mixed_ml2 <-lmer(D_RT ~ Length + (Length|Sub_ID), data=ldtword)\n",
    "summary(mixed_ml2)"
   ]
  },
  {
   "cell_type": "markdown",
   "id": "respective-isaac",
   "metadata": {
    "tags": []
   },
   "source": [
    "What are the overall intercept and slope for Length? Have they changed much relative to the model without a random slope?"
   ]
  },
  {
   "cell_type": "markdown",
   "id": "absolute-paris",
   "metadata": {
    "tags": []
   },
   "source": [
    "> The overall intercept for Length is 553.48 and the slope is 28.56. They have not changed much to the model without the random slope."
   ]
  },
  {
   "cell_type": "markdown",
   "id": "chicken-delicious",
   "metadata": {
    "tags": []
   },
   "source": [
    "You can use the `anova()` command again to test whether the random effect improves the model fit:"
   ]
  },
  {
   "cell_type": "code",
   "execution_count": 26,
   "id": "recorded-chancellor",
   "metadata": {
    "tags": []
   },
   "outputs": [
    {
     "name": "stderr",
     "output_type": "stream",
     "text": [
      "refitting model(s) with ML (instead of REML)\n",
      "\n"
     ]
    },
    {
     "data": {
      "text/html": [
       "<table class=\"dataframe\">\n",
       "<caption>A anova: 3 × 8</caption>\n",
       "<thead>\n",
       "\t<tr><th></th><th scope=col>npar</th><th scope=col>AIC</th><th scope=col>BIC</th><th scope=col>logLik</th><th scope=col>deviance</th><th scope=col>Chisq</th><th scope=col>Df</th><th scope=col>Pr(&gt;Chisq)</th></tr>\n",
       "\t<tr><th></th><th scope=col>&lt;dbl&gt;</th><th scope=col>&lt;dbl&gt;</th><th scope=col>&lt;dbl&gt;</th><th scope=col>&lt;dbl&gt;</th><th scope=col>&lt;dbl&gt;</th><th scope=col>&lt;dbl&gt;</th><th scope=col>&lt;dbl&gt;</th><th scope=col>&lt;dbl&gt;</th></tr>\n",
       "</thead>\n",
       "<tbody>\n",
       "\t<tr><th scope=row>mixed_ml0</th><td>3</td><td>518749.7</td><td>518775.2</td><td>-259371.9</td><td>518743.7</td><td>       NA</td><td>NA</td><td>           NA</td></tr>\n",
       "\t<tr><th scope=row>mixed_ml1</th><td>4</td><td>517318.0</td><td>517351.9</td><td>-258655.0</td><td>517310.0</td><td>1433.7548</td><td> 1</td><td>9.716528e-314</td></tr>\n",
       "\t<tr><th scope=row>mixed_ml2</th><td>6</td><td>516911.4</td><td>516962.4</td><td>-258449.7</td><td>516899.4</td><td> 410.5322</td><td> 2</td><td> 7.146141e-90</td></tr>\n",
       "</tbody>\n",
       "</table>\n"
      ],
      "text/latex": [
       "A anova: 3 × 8\n",
       "\\begin{tabular}{r|llllllll}\n",
       "  & npar & AIC & BIC & logLik & deviance & Chisq & Df & Pr(>Chisq)\\\\\n",
       "  & <dbl> & <dbl> & <dbl> & <dbl> & <dbl> & <dbl> & <dbl> & <dbl>\\\\\n",
       "\\hline\n",
       "\tmixed\\_ml0 & 3 & 518749.7 & 518775.2 & -259371.9 & 518743.7 &        NA & NA &            NA\\\\\n",
       "\tmixed\\_ml1 & 4 & 517318.0 & 517351.9 & -258655.0 & 517310.0 & 1433.7548 &  1 & 9.716528e-314\\\\\n",
       "\tmixed\\_ml2 & 6 & 516911.4 & 516962.4 & -258449.7 & 516899.4 &  410.5322 &  2 &  7.146141e-90\\\\\n",
       "\\end{tabular}\n"
      ],
      "text/markdown": [
       "\n",
       "A anova: 3 × 8\n",
       "\n",
       "| <!--/--> | npar &lt;dbl&gt; | AIC &lt;dbl&gt; | BIC &lt;dbl&gt; | logLik &lt;dbl&gt; | deviance &lt;dbl&gt; | Chisq &lt;dbl&gt; | Df &lt;dbl&gt; | Pr(&gt;Chisq) &lt;dbl&gt; |\n",
       "|---|---|---|---|---|---|---|---|---|\n",
       "| mixed_ml0 | 3 | 518749.7 | 518775.2 | -259371.9 | 518743.7 |        NA | NA |            NA |\n",
       "| mixed_ml1 | 4 | 517318.0 | 517351.9 | -258655.0 | 517310.0 | 1433.7548 |  1 | 9.716528e-314 |\n",
       "| mixed_ml2 | 6 | 516911.4 | 516962.4 | -258449.7 | 516899.4 |  410.5322 |  2 |  7.146141e-90 |\n",
       "\n"
      ],
      "text/plain": [
       "          npar AIC      BIC      logLik    deviance Chisq     Df Pr(>Chisq)   \n",
       "mixed_ml0 3    518749.7 518775.2 -259371.9 518743.7        NA NA            NA\n",
       "mixed_ml1 4    517318.0 517351.9 -258655.0 517310.0 1433.7548  1 9.716528e-314\n",
       "mixed_ml2 6    516911.4 516962.4 -258449.7 516899.4  410.5322  2  7.146141e-90"
      ]
     },
     "metadata": {},
     "output_type": "display_data"
    }
   ],
   "source": [
    "anova(mixed_ml0, mixed_ml1, mixed_ml2)"
   ]
  },
  {
   "cell_type": "markdown",
   "id": "electoral-traffic",
   "metadata": {
    "tags": []
   },
   "source": [
    "Now, finally, let us extract the random effects from this model, and compare them to the separate intercept and slopes we fit to each participant in the previous part. First, use the `coef()` command on the final model, and save the output to a variable called `mixed_lm_coefs`. Repeat all steps I showed you above in order to rename the columns with more useful names"
   ]
  },
  {
   "cell_type": "code",
   "execution_count": 27,
   "id": "surgical-break",
   "metadata": {
    "tags": []
   },
   "outputs": [
    {
     "data": {
      "text/html": [
       "<table class=\"dataframe\">\n",
       "<caption>A data.frame: 99 × 2</caption>\n",
       "<thead>\n",
       "\t<tr><th></th><th scope=col>intercept_lm</th><th scope=col>slope_lm</th></tr>\n",
       "\t<tr><th></th><th scope=col>&lt;dbl&gt;</th><th scope=col>&lt;dbl&gt;</th></tr>\n",
       "</thead>\n",
       "<tbody>\n",
       "\t<tr><th scope=row>1</th><td>463.2894</td><td> 7.148121</td></tr>\n",
       "\t<tr><th scope=row>2</th><td>642.5158</td><td>26.002231</td></tr>\n",
       "\t<tr><th scope=row>3</th><td>537.3889</td><td>24.513066</td></tr>\n",
       "\t<tr><th scope=row>4</th><td>456.8131</td><td>18.114820</td></tr>\n",
       "\t<tr><th scope=row>5</th><td>492.8140</td><td>18.652682</td></tr>\n",
       "\t<tr><th scope=row>6</th><td>550.4832</td><td>36.576596</td></tr>\n",
       "\t<tr><th scope=row>7</th><td>789.4494</td><td>50.779813</td></tr>\n",
       "\t<tr><th scope=row>8</th><td>626.1566</td><td>70.376563</td></tr>\n",
       "\t<tr><th scope=row>9</th><td>518.7866</td><td>14.910488</td></tr>\n",
       "\t<tr><th scope=row>11</th><td>445.4585</td><td>14.359352</td></tr>\n",
       "\t<tr><th scope=row>12</th><td>514.9488</td><td>15.542940</td></tr>\n",
       "\t<tr><th scope=row>13</th><td>530.5028</td><td>64.626339</td></tr>\n",
       "\t<tr><th scope=row>14</th><td>455.3522</td><td>14.857631</td></tr>\n",
       "\t<tr><th scope=row>15</th><td>550.1348</td><td>15.131547</td></tr>\n",
       "\t<tr><th scope=row>16</th><td>508.7955</td><td>21.201516</td></tr>\n",
       "\t<tr><th scope=row>17</th><td>542.3804</td><td>20.375440</td></tr>\n",
       "\t<tr><th scope=row>18</th><td>474.3905</td><td>14.328218</td></tr>\n",
       "\t<tr><th scope=row>19</th><td>568.9619</td><td>15.017474</td></tr>\n",
       "\t<tr><th scope=row>20</th><td>599.2799</td><td>32.601677</td></tr>\n",
       "\t<tr><th scope=row>21</th><td>623.4308</td><td>34.281140</td></tr>\n",
       "\t<tr><th scope=row>22</th><td>758.1269</td><td>32.664959</td></tr>\n",
       "\t<tr><th scope=row>23</th><td>521.1291</td><td>11.993089</td></tr>\n",
       "\t<tr><th scope=row>24</th><td>498.8170</td><td>10.707217</td></tr>\n",
       "\t<tr><th scope=row>25</th><td>491.0744</td><td>25.739996</td></tr>\n",
       "\t<tr><th scope=row>26</th><td>459.9271</td><td>41.210270</td></tr>\n",
       "\t<tr><th scope=row>27</th><td>832.7235</td><td>69.839866</td></tr>\n",
       "\t<tr><th scope=row>28</th><td>589.5047</td><td>25.869504</td></tr>\n",
       "\t<tr><th scope=row>29</th><td>595.4597</td><td>47.152079</td></tr>\n",
       "\t<tr><th scope=row>30</th><td>505.9493</td><td>18.814030</td></tr>\n",
       "\t<tr><th scope=row>31</th><td>736.1283</td><td>41.802850</td></tr>\n",
       "\t<tr><th scope=row>...</th><td>...</td><td>...</td></tr>\n",
       "\t<tr><th scope=row>71</th><td>536.0329</td><td>43.37461</td></tr>\n",
       "\t<tr><th scope=row>72</th><td>549.1122</td><td>12.62305</td></tr>\n",
       "\t<tr><th scope=row>73</th><td>501.7307</td><td>33.43742</td></tr>\n",
       "\t<tr><th scope=row>74</th><td>574.4797</td><td>43.03770</td></tr>\n",
       "\t<tr><th scope=row>75</th><td>486.7152</td><td>26.05646</td></tr>\n",
       "\t<tr><th scope=row>76</th><td>556.4983</td><td>28.05636</td></tr>\n",
       "\t<tr><th scope=row>77</th><td>610.0028</td><td>30.48228</td></tr>\n",
       "\t<tr><th scope=row>78</th><td>674.9070</td><td>53.76228</td></tr>\n",
       "\t<tr><th scope=row>79</th><td>502.1102</td><td>37.72255</td></tr>\n",
       "\t<tr><th scope=row>80</th><td>532.9614</td><td>28.90519</td></tr>\n",
       "\t<tr><th scope=row>81</th><td>572.4799</td><td>32.54014</td></tr>\n",
       "\t<tr><th scope=row>82</th><td>617.2330</td><td>70.12839</td></tr>\n",
       "\t<tr><th scope=row>83</th><td>532.3896</td><td>13.82980</td></tr>\n",
       "\t<tr><th scope=row>84</th><td>511.3886</td><td>11.39262</td></tr>\n",
       "\t<tr><th scope=row>85</th><td>570.0612</td><td>17.94362</td></tr>\n",
       "\t<tr><th scope=row>86</th><td>513.5472</td><td>33.10872</td></tr>\n",
       "\t<tr><th scope=row>87</th><td>567.8795</td><td>12.94474</td></tr>\n",
       "\t<tr><th scope=row>88</th><td>645.6961</td><td>48.30480</td></tr>\n",
       "\t<tr><th scope=row>89</th><td>610.8838</td><td>28.77418</td></tr>\n",
       "\t<tr><th scope=row>90</th><td>665.2226</td><td>26.44475</td></tr>\n",
       "\t<tr><th scope=row>91</th><td>663.5418</td><td>24.23626</td></tr>\n",
       "\t<tr><th scope=row>92</th><td>521.0592</td><td>19.49330</td></tr>\n",
       "\t<tr><th scope=row>93</th><td>477.2052</td><td>14.86525</td></tr>\n",
       "\t<tr><th scope=row>94</th><td>421.1060</td><td>29.91816</td></tr>\n",
       "\t<tr><th scope=row>95</th><td>668.2221</td><td>43.54869</td></tr>\n",
       "\t<tr><th scope=row>96</th><td>715.5465</td><td>63.01492</td></tr>\n",
       "\t<tr><th scope=row>97</th><td>494.8213</td><td>21.34303</td></tr>\n",
       "\t<tr><th scope=row>98</th><td>520.0753</td><td>13.76883</td></tr>\n",
       "\t<tr><th scope=row>99</th><td>487.9200</td><td>21.00766</td></tr>\n",
       "\t<tr><th scope=row>100</th><td>550.7338</td><td>25.60927</td></tr>\n",
       "</tbody>\n",
       "</table>\n"
      ],
      "text/latex": [
       "A data.frame: 99 × 2\n",
       "\\begin{tabular}{r|ll}\n",
       "  & intercept\\_lm & slope\\_lm\\\\\n",
       "  & <dbl> & <dbl>\\\\\n",
       "\\hline\n",
       "\t1 & 463.2894 &  7.148121\\\\\n",
       "\t2 & 642.5158 & 26.002231\\\\\n",
       "\t3 & 537.3889 & 24.513066\\\\\n",
       "\t4 & 456.8131 & 18.114820\\\\\n",
       "\t5 & 492.8140 & 18.652682\\\\\n",
       "\t6 & 550.4832 & 36.576596\\\\\n",
       "\t7 & 789.4494 & 50.779813\\\\\n",
       "\t8 & 626.1566 & 70.376563\\\\\n",
       "\t9 & 518.7866 & 14.910488\\\\\n",
       "\t11 & 445.4585 & 14.359352\\\\\n",
       "\t12 & 514.9488 & 15.542940\\\\\n",
       "\t13 & 530.5028 & 64.626339\\\\\n",
       "\t14 & 455.3522 & 14.857631\\\\\n",
       "\t15 & 550.1348 & 15.131547\\\\\n",
       "\t16 & 508.7955 & 21.201516\\\\\n",
       "\t17 & 542.3804 & 20.375440\\\\\n",
       "\t18 & 474.3905 & 14.328218\\\\\n",
       "\t19 & 568.9619 & 15.017474\\\\\n",
       "\t20 & 599.2799 & 32.601677\\\\\n",
       "\t21 & 623.4308 & 34.281140\\\\\n",
       "\t22 & 758.1269 & 32.664959\\\\\n",
       "\t23 & 521.1291 & 11.993089\\\\\n",
       "\t24 & 498.8170 & 10.707217\\\\\n",
       "\t25 & 491.0744 & 25.739996\\\\\n",
       "\t26 & 459.9271 & 41.210270\\\\\n",
       "\t27 & 832.7235 & 69.839866\\\\\n",
       "\t28 & 589.5047 & 25.869504\\\\\n",
       "\t29 & 595.4597 & 47.152079\\\\\n",
       "\t30 & 505.9493 & 18.814030\\\\\n",
       "\t31 & 736.1283 & 41.802850\\\\\n",
       "\t... & ... & ...\\\\\n",
       "\t71 & 536.0329 & 43.37461\\\\\n",
       "\t72 & 549.1122 & 12.62305\\\\\n",
       "\t73 & 501.7307 & 33.43742\\\\\n",
       "\t74 & 574.4797 & 43.03770\\\\\n",
       "\t75 & 486.7152 & 26.05646\\\\\n",
       "\t76 & 556.4983 & 28.05636\\\\\n",
       "\t77 & 610.0028 & 30.48228\\\\\n",
       "\t78 & 674.9070 & 53.76228\\\\\n",
       "\t79 & 502.1102 & 37.72255\\\\\n",
       "\t80 & 532.9614 & 28.90519\\\\\n",
       "\t81 & 572.4799 & 32.54014\\\\\n",
       "\t82 & 617.2330 & 70.12839\\\\\n",
       "\t83 & 532.3896 & 13.82980\\\\\n",
       "\t84 & 511.3886 & 11.39262\\\\\n",
       "\t85 & 570.0612 & 17.94362\\\\\n",
       "\t86 & 513.5472 & 33.10872\\\\\n",
       "\t87 & 567.8795 & 12.94474\\\\\n",
       "\t88 & 645.6961 & 48.30480\\\\\n",
       "\t89 & 610.8838 & 28.77418\\\\\n",
       "\t90 & 665.2226 & 26.44475\\\\\n",
       "\t91 & 663.5418 & 24.23626\\\\\n",
       "\t92 & 521.0592 & 19.49330\\\\\n",
       "\t93 & 477.2052 & 14.86525\\\\\n",
       "\t94 & 421.1060 & 29.91816\\\\\n",
       "\t95 & 668.2221 & 43.54869\\\\\n",
       "\t96 & 715.5465 & 63.01492\\\\\n",
       "\t97 & 494.8213 & 21.34303\\\\\n",
       "\t98 & 520.0753 & 13.76883\\\\\n",
       "\t99 & 487.9200 & 21.00766\\\\\n",
       "\t100 & 550.7338 & 25.60927\\\\\n",
       "\\end{tabular}\n"
      ],
      "text/markdown": [
       "\n",
       "A data.frame: 99 × 2\n",
       "\n",
       "| <!--/--> | intercept_lm &lt;dbl&gt; | slope_lm &lt;dbl&gt; |\n",
       "|---|---|---|\n",
       "| 1 | 463.2894 |  7.148121 |\n",
       "| 2 | 642.5158 | 26.002231 |\n",
       "| 3 | 537.3889 | 24.513066 |\n",
       "| 4 | 456.8131 | 18.114820 |\n",
       "| 5 | 492.8140 | 18.652682 |\n",
       "| 6 | 550.4832 | 36.576596 |\n",
       "| 7 | 789.4494 | 50.779813 |\n",
       "| 8 | 626.1566 | 70.376563 |\n",
       "| 9 | 518.7866 | 14.910488 |\n",
       "| 11 | 445.4585 | 14.359352 |\n",
       "| 12 | 514.9488 | 15.542940 |\n",
       "| 13 | 530.5028 | 64.626339 |\n",
       "| 14 | 455.3522 | 14.857631 |\n",
       "| 15 | 550.1348 | 15.131547 |\n",
       "| 16 | 508.7955 | 21.201516 |\n",
       "| 17 | 542.3804 | 20.375440 |\n",
       "| 18 | 474.3905 | 14.328218 |\n",
       "| 19 | 568.9619 | 15.017474 |\n",
       "| 20 | 599.2799 | 32.601677 |\n",
       "| 21 | 623.4308 | 34.281140 |\n",
       "| 22 | 758.1269 | 32.664959 |\n",
       "| 23 | 521.1291 | 11.993089 |\n",
       "| 24 | 498.8170 | 10.707217 |\n",
       "| 25 | 491.0744 | 25.739996 |\n",
       "| 26 | 459.9271 | 41.210270 |\n",
       "| 27 | 832.7235 | 69.839866 |\n",
       "| 28 | 589.5047 | 25.869504 |\n",
       "| 29 | 595.4597 | 47.152079 |\n",
       "| 30 | 505.9493 | 18.814030 |\n",
       "| 31 | 736.1283 | 41.802850 |\n",
       "| ... | ... | ... |\n",
       "| 71 | 536.0329 | 43.37461 |\n",
       "| 72 | 549.1122 | 12.62305 |\n",
       "| 73 | 501.7307 | 33.43742 |\n",
       "| 74 | 574.4797 | 43.03770 |\n",
       "| 75 | 486.7152 | 26.05646 |\n",
       "| 76 | 556.4983 | 28.05636 |\n",
       "| 77 | 610.0028 | 30.48228 |\n",
       "| 78 | 674.9070 | 53.76228 |\n",
       "| 79 | 502.1102 | 37.72255 |\n",
       "| 80 | 532.9614 | 28.90519 |\n",
       "| 81 | 572.4799 | 32.54014 |\n",
       "| 82 | 617.2330 | 70.12839 |\n",
       "| 83 | 532.3896 | 13.82980 |\n",
       "| 84 | 511.3886 | 11.39262 |\n",
       "| 85 | 570.0612 | 17.94362 |\n",
       "| 86 | 513.5472 | 33.10872 |\n",
       "| 87 | 567.8795 | 12.94474 |\n",
       "| 88 | 645.6961 | 48.30480 |\n",
       "| 89 | 610.8838 | 28.77418 |\n",
       "| 90 | 665.2226 | 26.44475 |\n",
       "| 91 | 663.5418 | 24.23626 |\n",
       "| 92 | 521.0592 | 19.49330 |\n",
       "| 93 | 477.2052 | 14.86525 |\n",
       "| 94 | 421.1060 | 29.91816 |\n",
       "| 95 | 668.2221 | 43.54869 |\n",
       "| 96 | 715.5465 | 63.01492 |\n",
       "| 97 | 494.8213 | 21.34303 |\n",
       "| 98 | 520.0753 | 13.76883 |\n",
       "| 99 | 487.9200 | 21.00766 |\n",
       "| 100 | 550.7338 | 25.60927 |\n",
       "\n"
      ],
      "text/plain": [
       "    intercept_lm slope_lm \n",
       "1   463.2894      7.148121\n",
       "2   642.5158     26.002231\n",
       "3   537.3889     24.513066\n",
       "4   456.8131     18.114820\n",
       "5   492.8140     18.652682\n",
       "6   550.4832     36.576596\n",
       "7   789.4494     50.779813\n",
       "8   626.1566     70.376563\n",
       "9   518.7866     14.910488\n",
       "11  445.4585     14.359352\n",
       "12  514.9488     15.542940\n",
       "13  530.5028     64.626339\n",
       "14  455.3522     14.857631\n",
       "15  550.1348     15.131547\n",
       "16  508.7955     21.201516\n",
       "17  542.3804     20.375440\n",
       "18  474.3905     14.328218\n",
       "19  568.9619     15.017474\n",
       "20  599.2799     32.601677\n",
       "21  623.4308     34.281140\n",
       "22  758.1269     32.664959\n",
       "23  521.1291     11.993089\n",
       "24  498.8170     10.707217\n",
       "25  491.0744     25.739996\n",
       "26  459.9271     41.210270\n",
       "27  832.7235     69.839866\n",
       "28  589.5047     25.869504\n",
       "29  595.4597     47.152079\n",
       "30  505.9493     18.814030\n",
       "31  736.1283     41.802850\n",
       "... ...          ...      \n",
       "71  536.0329     43.37461 \n",
       "72  549.1122     12.62305 \n",
       "73  501.7307     33.43742 \n",
       "74  574.4797     43.03770 \n",
       "75  486.7152     26.05646 \n",
       "76  556.4983     28.05636 \n",
       "77  610.0028     30.48228 \n",
       "78  674.9070     53.76228 \n",
       "79  502.1102     37.72255 \n",
       "80  532.9614     28.90519 \n",
       "81  572.4799     32.54014 \n",
       "82  617.2330     70.12839 \n",
       "83  532.3896     13.82980 \n",
       "84  511.3886     11.39262 \n",
       "85  570.0612     17.94362 \n",
       "86  513.5472     33.10872 \n",
       "87  567.8795     12.94474 \n",
       "88  645.6961     48.30480 \n",
       "89  610.8838     28.77418 \n",
       "90  665.2226     26.44475 \n",
       "91  663.5418     24.23626 \n",
       "92  521.0592     19.49330 \n",
       "93  477.2052     14.86525 \n",
       "94  421.1060     29.91816 \n",
       "95  668.2221     43.54869 \n",
       "96  715.5465     63.01492 \n",
       "97  494.8213     21.34303 \n",
       "98  520.0753     13.76883 \n",
       "99  487.9200     21.00766 \n",
       "100 550.7338     25.60927 "
      ]
     },
     "metadata": {},
     "output_type": "display_data"
    }
   ],
   "source": [
    "mixed_lm_coefs <- coef(mixed_ml2)$Sub_ID\n",
    "names(mixed_lm_coefs) <- c('intercept_lm','slope_lm')\n",
    "mixed_lm_coefs"
   ]
  },
  {
   "cell_type": "markdown",
   "id": "intensive-variance",
   "metadata": {
    "tags": []
   },
   "source": [
    "Repeat the plots we made in the previous part, this time using the mixed-effects random effects:\n",
    "- A histogram of the intercepts for each participant\n",
    "- A histogram of the slopess for each participant\n",
    "- A scatterplot of the relationship between intercepts and slopes for each participant"
   ]
  },
  {
   "cell_type": "code",
   "execution_count": 30,
   "id": "paperback-worker",
   "metadata": {
    "tags": []
   },
   "outputs": [
    {
     "name": "stderr",
     "output_type": "stream",
     "text": [
      "`stat_bin()` using `bins = 30`. Pick better value with `binwidth`.\n",
      "\n",
      "`stat_bin()` using `bins = 30`. Pick better value with `binwidth`.\n",
      "\n"
     ]
    },
    {
     "data": {
      "image/png": "[encoded data removed]",
      "text/plain": [
       "plot without title"
      ]
     },
     "metadata": {
      "image/png": {
       "height": 420,
       "width": 420
      }
     },
     "output_type": "display_data"
    },
    {
     "name": "stderr",
     "output_type": "stream",
     "text": [
      "`geom_smooth()` using method = 'loess' and formula 'y ~ x'\n",
      "\n"
     ]
    },
    {
     "data": {
      "image/png": "[encoded data removed]",
      "text/plain": [
       "plot without title"
      ]
     },
     "metadata": {
      "image/png": {
       "height": 420,
       "width": 420
      }
     },
     "output_type": "display_data"
    },
    {
     "data": {
      "image/png": "[encoded data removed]",
      "text/plain": [
       "plot without title"
      ]
     },
     "metadata": {
      "image/png": {
       "height": 420,
       "width": 420
      }
     },
     "output_type": "display_data"
    }
   ],
   "source": [
    "mixed_lm_coefs %>% \n",
    "ggplot(aes(x=intercept_lm)) +\n",
    "geom_histogram(color='black', fill='white')\n",
    "\n",
    "mixed_lm_coefs %>% \n",
    "ggplot(aes(x=slope_lm)) +\n",
    "geom_histogram(color='black', fill='white')\n",
    "\n",
    "mixed_lm_coefs %>%\n",
    "ggplot(aes(intercept_lm, slope_lm)) +\n",
    "geom_point() +\n",
    "geom_smooth()"
   ]
  },
  {
   "cell_type": "markdown",
   "id": "younger-creation",
   "metadata": {},
   "source": [
    "What differences do you notice relative to the plots for the separately fit regressions? Pay attention to the values on the x-axis for the histograms. Why do you think these differences occur?"
   ]
  },
  {
   "cell_type": "markdown",
   "id": "identical-stevens",
   "metadata": {},
   "source": [
    "> Compared to the plots above, these here tend to have less skewness and seem to be more 'normally' distributed, because this model includes random slopes for Length."
   ]
  },
  {
   "cell_type": "markdown",
   "id": "committed-wagon",
   "metadata": {},
   "source": [
    "In the next couple of plots, I'm plotting the parameter estimates from the mixed effects model relative to the parameter estimates from the separate by-subject regressions. Each dot is a participant. The black line represents a diagonal on which parameter estimates would be equal in the two models - points under the diagonal have smaller parameter estimates in the mixed-effects model. Points above the diagonal have a larger parameter estimates in the mixed-effects regression relative to the separate by-subject regressions. What are the main patterns you notice in these plots? Can those patterns help you answer the previous question?"
   ]
  },
  {
   "cell_type": "code",
   "execution_count": 29,
   "id": "adjusted-router",
   "metadata": {},
   "outputs": [
    {
     "data": {
      "image/png": "[encoded data removed]",
      "text/plain": [
       "plot without title"
      ]
     },
     "metadata": {
      "image/png": {
       "height": 420,
       "width": 420
      }
     },
     "output_type": "display_data"
    },
    {
     "data": {
      "image/png": "[encoded data removed]",
      "text/plain": [
       "plot without title"
      ]
     },
     "metadata": {
      "image/png": {
       "height": 420,
       "width": 420
      }
     },
     "output_type": "display_data"
    }
   ],
   "source": [
    "sub_lm_coefs <- arrange(sub_lm_coefs, id)\n",
    "both_coefs <- bind_cols(sub_lm_coefs, mixed_lm_coefs)\n",
    "names(both_coefs) <- c('id','intercept_separate','slope_separate', 'intercept_mixed','slope_mixed')\n",
    "\n",
    "ggplot(both_coefs, aes(intercept_separate, intercept_mixed)) +\n",
    "    geom_point() +\n",
    "    geom_abline(intercept=0, slope=1) +\n",
    "    coord_cartesian(xlim=c(300,1000), ylim=c(300, 1000))\n",
    "\n",
    "\n",
    "ggplot(both_coefs, aes(slope_separate, slope_mixed)) +\n",
    "    geom_point() +\n",
    "    geom_abline(intercept=0, slope=1) \n"
   ]
  },
  {
   "cell_type": "markdown",
   "id": "plastic-discrimination",
   "metadata": {},
   "source": [
    "> The distribution of the points are mostly around the regression line, but not exactly on the line, which may indicate, they are not perfecty 'normally' distributed. In the plot with the slopes most of the points are gathered in the bottom left and less along the regression line up -similar to the histogram. Also the intercepts show similar distribution of the points as the histogram for the intercept. "
   ]
  }
 ],
 "metadata": {
  "kernelspec": {
   "display_name": "R",
   "language": "R",
   "name": "ir"
  },
  "language_info": {
   "codemirror_mode": "r",
   "file_extension": ".r",
   "mimetype": "text/x-r-source",
   "name": "R",
   "pygments_lexer": "r",
   "version": "3.6.1"
  }
 },
 "nbformat": 4,
 "nbformat_minor": 5
}
